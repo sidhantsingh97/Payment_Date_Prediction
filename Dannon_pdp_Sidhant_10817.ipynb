{
 "cells": [
  {
   "cell_type": "markdown",
   "metadata": {},
   "source": [
    "Now that we are already done with exploratory data analysis we move onto the feature engineering followed by feature selection and then we will train our model accordingly."
   ]
  },
  {
   "cell_type": "code",
   "execution_count": 1,
   "metadata": {},
   "outputs": [
    {
     "name": "stderr",
     "output_type": "stream",
     "text": [
      "C:\\ProgramData\\Anaconda3\\lib\\site-packages\\IPython\\core\\interactiveshell.py:3049: DtypeWarning: Columns (44,45,48,55,56,82,93,94,104,112,113,115,120,145,167,175,181,183,190,194,207,210,211,236,245) have mixed types. Specify dtype option on import or set low_memory=False.\n",
      "  interactivity=interactivity, compiler=compiler, result=result)\n"
     ]
    },
    {
     "data": {
      "text/plain": [
       "(599998, 257)"
      ]
     },
     "execution_count": 1,
     "metadata": {},
     "output_type": "execute_result"
    }
   ],
   "source": [
    "#code to read the csv file of Dannon Data into the dataframe named as 'data'\n",
    "import pandas as pd\n",
    "data=pd.read_csv(r\"C:\\Users\\KIIT_Intern\\Desktop\\Ml_1st year\\Dannon Data\\DannonData.csv\")\n",
    "#code to check the shape of 'data' dataframe.\n",
    "data.shape"
   ]
  },
  {
   "cell_type": "markdown",
   "metadata": {},
   "source": [
    "# code to check the columns which are completely null."
   ]
  },
  {
   "cell_type": "code",
   "execution_count": 2,
   "metadata": {},
   "outputs": [
    {
     "data": {
      "text/plain": [
       "['retailer_provider_datatype_id',\n",
       " 'document_line_number',\n",
       " 'branch',\n",
       " 'gl_account_number',\n",
       " 'division',\n",
       " 'customer_number2',\n",
       " 'order_number',\n",
       " 'order_type',\n",
       " 'order_date',\n",
       " 'order_date_norm',\n",
       " 'invoice_date',\n",
       " 'invoice_date_norm',\n",
       " 'po_date',\n",
       " 'po_date_norm',\n",
       " 'orig_number',\n",
       " 'ship_date',\n",
       " 'ship_date_norm',\n",
       " 'ship_to',\n",
       " 'shipment_number',\n",
       " 'reason_desc',\n",
       " 'deduction_case_id',\n",
       " 'chargeback_number',\n",
       " 'analyst',\n",
       " 'zip_code',\n",
       " 'remarks',\n",
       " 'accessed_date',\n",
       " 'exported_date',\n",
       " 'cust_field',\n",
       " 'account_amount_currency',\n",
       " 'reference_key3',\n",
       " 'reference_key4',\n",
       " 'reference_key5',\n",
       " 'customer_id',\n",
       " 'alternate_customer_id',\n",
       " 'cust_hdr_field2',\n",
       " 'discount_granted',\n",
       " 'discount_due_date_norm',\n",
       " 'gl_indicator',\n",
       " 'payment_method',\n",
       " 'no_invoice_trans',\n",
       " 'dunning_block',\n",
       " 'dunning_key',\n",
       " 'dunning_area',\n",
       " 'document_status',\n",
       " 'ship_type',\n",
       " 'handling_unit_number',\n",
       " 'document_type',\n",
       " 'discount_due_date',\n",
       " 'job_id_temp',\n",
       " 'invoice_amount_doc_currency',\n",
       " 'invoice_amount_doc_currency_norm',\n",
       " 'reference_key7',\n",
       " 'reference_key8',\n",
       " 'reference_key9',\n",
       " 'reference_key10',\n",
       " 'reference_key11',\n",
       " 'reference_key12',\n",
       " 'tax_amt',\n",
       " 'frt_amt',\n",
       " 'fsc_amt',\n",
       " 'pcd_amt',\n",
       " 'bill_to',\n",
       " 'grace_days',\n",
       " 'amount_document_currency',\n",
       " 'fk_doc_type',\n",
       " 'invoice_type',\n",
       " 'elastic_search_doc_id',\n",
       " 'amount_doc_curr_norm',\n",
       " 'open_amt_comp_code_norm',\n",
       " 'comp_code_currency',\n",
       " 'inv_amt_comp_code_norm',\n",
       " 'open_amt_global_norm',\n",
       " 'global_currency',\n",
       " 'inv_amt_global_norm',\n",
       " 'fk_doc_header_id',\n",
       " 'fk_strategy_id',\n",
       " 'document_number_norm.1',\n",
       " 'inv_amt_global_norm.1',\n",
       " 'open_amt_global_norm.1',\n",
       " 'global_currency.1',\n",
       " 'reference_doc_number.1',\n",
       " 'sales_invoice_number_norm',\n",
       " 'invoice_date.1',\n",
       " 'reference_key1.1',\n",
       " 'reference_key2.1',\n",
       " 'reference_key3.1',\n",
       " 'reference_key4.1',\n",
       " 'reference_key5.1',\n",
       " 'decimal_field1',\n",
       " 'decimal_field2',\n",
       " 'decimal_field3',\n",
       " 'decimal_field4',\n",
       " 'decimal_field5',\n",
       " 'local_currency',\n",
       " 'dual_currency',\n",
       " 'customer_actual_open_amount',\n",
       " 'dual_actual_open_amount',\n",
       " 'dual_current_open_amount',\n",
       " 'disputed_amount',\n",
       " 'valid_disputed_amount',\n",
       " 'fk_map_reason_code_account_rad_id',\n",
       " 'latest_task',\n",
       " 'cash_projection_date',\n",
       " 'dunning_block.1',\n",
       " 'reference_key6.1',\n",
       " 'reference_key7.1',\n",
       " 'reference_key8.1',\n",
       " 'reference_key9.1',\n",
       " 'reference_key10.1',\n",
       " 'reference_key11.1',\n",
       " 'reference_key12.1',\n",
       " 'reference_key15',\n",
       " 'retainage_amount',\n",
       " 'first_payment_date',\n",
       " 'last_payment_date',\n",
       " 'isValid_dispute',\n",
       " 'dispute_status',\n",
       " 'reference_key13',\n",
       " 'reference_key14',\n",
       " 'date_field1',\n",
       " 'decimal_field6',\n",
       " 'date_field2']"
      ]
     },
     "execution_count": 2,
     "metadata": {},
     "output_type": "execute_result"
    }
   ],
   "source": [
    "[col for col in data.columns if data[col].isnull().sum() ==599998]"
   ]
  },
  {
   "cell_type": "code",
   "execution_count": 3,
   "metadata": {},
   "outputs": [],
   "source": [
    "#Dropping the columns which are completely null.\n",
    "data.drop(['retailer_provider_datatype_id',\n",
    " 'document_line_number',\n",
    " 'branch',\n",
    " 'gl_account_number',\n",
    " 'division',\n",
    " 'customer_number2',\n",
    " 'order_number',\n",
    " 'order_type',\n",
    " 'order_date',\n",
    " 'order_date_norm',\n",
    " 'invoice_date',\n",
    " 'invoice_date_norm',\n",
    " 'po_date',\n",
    " 'po_date_norm',\n",
    " 'orig_number',\n",
    " 'ship_date',\n",
    " 'ship_date_norm',\n",
    " 'ship_to',\n",
    " 'shipment_number',\n",
    " 'reason_desc',\n",
    " 'deduction_case_id',\n",
    " 'chargeback_number',\n",
    " 'analyst',\n",
    " 'zip_code',\n",
    " 'remarks',\n",
    " 'accessed_date',\n",
    " 'exported_date',\n",
    " 'cust_field',\n",
    " 'account_amount_currency',\n",
    " 'reference_key3',\n",
    " 'reference_key4',\n",
    " 'reference_key5',\n",
    " 'customer_id',\n",
    " 'alternate_customer_id',\n",
    " 'cust_hdr_field2',\n",
    " 'discount_granted',\n",
    " 'discount_due_date_norm',\n",
    " 'gl_indicator',\n",
    " 'payment_method',\n",
    " 'no_invoice_trans',\n",
    " 'dunning_block',\n",
    " 'dunning_key',\n",
    " 'dunning_area',\n",
    " 'document_status',\n",
    " 'ship_type',\n",
    " 'handling_unit_number',\n",
    " 'document_type',\n",
    " 'discount_due_date',\n",
    " 'job_id_temp',\n",
    " 'invoice_amount_doc_currency',\n",
    " 'invoice_amount_doc_currency_norm',\n",
    " 'reference_key7',\n",
    " 'reference_key8',\n",
    " 'reference_key9',\n",
    " 'reference_key10',\n",
    " 'reference_key11',\n",
    " 'reference_key12',\n",
    " 'tax_amt',\n",
    " 'frt_amt',\n",
    " 'fsc_amt',\n",
    " 'pcd_amt',\n",
    " 'bill_to',\n",
    " 'grace_days',\n",
    " 'amount_document_currency',\n",
    " 'fk_doc_type',\n",
    " 'invoice_type',\n",
    " 'elastic_search_doc_id',\n",
    " 'amount_doc_curr_norm',\n",
    " 'open_amt_comp_code_norm',\n",
    " 'comp_code_currency',\n",
    " 'inv_amt_comp_code_norm',\n",
    " 'open_amt_global_norm',\n",
    " 'global_currency',\n",
    " 'inv_amt_global_norm',\n",
    " 'fk_doc_header_id',\n",
    " 'fk_strategy_id',\n",
    " 'document_number_norm.1',\n",
    " 'inv_amt_global_norm.1',\n",
    " 'open_amt_global_norm.1',\n",
    " 'global_currency.1',\n",
    " 'reference_doc_number.1',\n",
    " 'sales_invoice_number_norm',\n",
    " 'invoice_date.1',\n",
    " 'reference_key1.1',\n",
    " 'reference_key2.1',\n",
    " 'reference_key3.1',\n",
    " 'reference_key4.1',\n",
    " 'reference_key5.1',\n",
    " 'decimal_field1',\n",
    " 'decimal_field2',\n",
    " 'decimal_field3',\n",
    " 'decimal_field4',\n",
    " 'decimal_field5',\n",
    " 'local_currency',\n",
    " 'dual_currency',\n",
    " 'customer_actual_open_amount',\n",
    " 'dual_actual_open_amount',\n",
    " 'dual_current_open_amount',\n",
    " 'disputed_amount',\n",
    " 'valid_disputed_amount',\n",
    " 'fk_map_reason_code_account_rad_id',\n",
    " 'latest_task',\n",
    " 'cash_projection_date',\n",
    " 'dunning_block.1',\n",
    " 'reference_key6.1',\n",
    " 'reference_key7.1',\n",
    " 'reference_key8.1',\n",
    " 'reference_key9.1',\n",
    " 'reference_key10.1',\n",
    " 'reference_key11.1',\n",
    " 'reference_key12.1',\n",
    " 'reference_key15',\n",
    " 'retainage_amount',\n",
    " 'first_payment_date',\n",
    " 'last_payment_date',\n",
    " 'isValid_dispute',\n",
    " 'dispute_status',\n",
    " 'reference_key13',\n",
    " 'reference_key14',\n",
    " 'date_field1',\n",
    " 'decimal_field6',\n",
    " 'date_field2'],axis=1,inplace=True)"
   ]
  },
  {
   "cell_type": "code",
   "execution_count": 4,
   "metadata": {},
   "outputs": [
    {
     "data": {
      "text/plain": [
       "(599998, 135)"
      ]
     },
     "execution_count": 4,
     "metadata": {},
     "output_type": "execute_result"
    }
   ],
   "source": [
    "#checking the shape of the 'data' dataframe.\n",
    "data.shape"
   ]
  },
  {
   "cell_type": "code",
   "execution_count": 5,
   "metadata": {},
   "outputs": [
    {
     "data": {
      "text/plain": [
       "Index(['acct_doc_header_id', 'account_id', 'provider_datatype_id',\n",
       "       'fk_file_id', 'acct_doc_type_id', 'job_id', 'error_code_id',\n",
       "       'document_number', 'document_number_norm', 'company_code',\n",
       "       ...\n",
       "       'create_user.1', 'create_time.1', 'update_user.1', 'update_time.1',\n",
       "       'update_date.1', 'create_date.1', 'is_escalated', 'hasAttachment',\n",
       "       'escalated_to', 'company_code.1'],\n",
       "      dtype='object', length=135)"
      ]
     },
     "execution_count": 5,
     "metadata": {},
     "output_type": "execute_result"
    }
   ],
   "source": [
    "#to check the columns of the data dataframe\n",
    "data.columns"
   ]
  },
  {
   "cell_type": "markdown",
   "metadata": {},
   "source": [
    "# Function to find duplicate columns"
   ]
  },
  {
   "cell_type": "code",
   "execution_count": 6,
   "metadata": {},
   "outputs": [],
   "source": [
    "def getDuplicateColumns(df):\n",
    "\n",
    "    duplicateColumnNames = set()\n",
    "\n",
    "    for x in range(df.shape[1]):\n",
    "\n",
    "        col = df.iloc[:, x]\n",
    "# Iterate over all the columns in DataFrame from (x+1)th index till end\n",
    "        for y in range(x + 1, df.shape[1]):\n",
    "# Select column at yth index.\n",
    "            otherCol = df.iloc[:, y]\n",
    "# Check if two columns at x 7 y index are equal\n",
    "            if col.equals(otherCol):\n",
    "               print(df.columns.values[x],df.columns.values[y])\n",
    "               duplicateColumnNames.add(df.columns.values[y])\n",
    "    return list(duplicateColumnNames)"
   ]
  },
  {
   "cell_type": "code",
   "execution_count": null,
   "metadata": {},
   "outputs": [],
   "source": [
    "dup=getDuplicateColumns(data)\n",
    "dup"
   ]
  },
  {
   "cell_type": "code",
   "execution_count": 7,
   "metadata": {},
   "outputs": [],
   "source": [
    "#to drop columns that are completely duplicate\n",
    "data.drop([\"acct_doc_header_id\",\"fk_account_id\",\"fk_customer_map_id\",\"account_id\",\"fk_file_id\",\"acct_doc_type_id\",\"posting_key\",\"posting_key.1\",\"document_number\",\"document_number.1\",\"company_code.1\",\"fiscal_year.1\",\"doctype.1\",\"customer_number\",\"document_date.1\",\"posting_key\",\"posting_key.1\",\"due_date.1\",\"invoice_number\",\"sales_invoice_number\",\"invoice_amount\",\"actual_open_amount\",\"local_actual_open_amount\",\"open_amount\",\"local_current_open_amount\",\"valid_open_amount\",\"currency\",\"customer_currency\",\"assignment_id\",\"payment_terms.1\",\"reason_code_name\",\"reference\",\"reference.1\",\"accessed\",\"exported\",\"cash_discount_percent2\",\"cash_discount_local_curr\",\"last_dunned\",\"dunning_level\",\"cash_discount_doc_curr_norm\",\"hasAttachment\",\"no_line_item_acct\",\"no_line_item_acct.1\",\"debit_credit_indicator.1\",\"debit_credit_indicator\",\"amount_doc_currency\",\"current_dispute_amount\",\"reference_key_line_item.1\",\"item_text.1\",\"current_dispute_amount\",\"open_amount.1\"],axis=1,inplace=True)"
   ]
  },
  {
   "cell_type": "code",
   "execution_count": 8,
   "metadata": {},
   "outputs": [
    {
     "data": {
      "text/plain": [
       "(599998, 87)"
      ]
     },
     "execution_count": 8,
     "metadata": {},
     "output_type": "execute_result"
    }
   ],
   "source": [
    "data.shape"
   ]
  },
  {
   "cell_type": "code",
   "execution_count": 9,
   "metadata": {},
   "outputs": [
    {
     "data": {
      "text/plain": [
       "Index(['provider_datatype_id', 'job_id', 'error_code_id',\n",
       "       'document_number_norm', 'company_code', 'fiscal_year', 'doctype',\n",
       "       'customer_number_norm', 'customer_name', 'document_date',\n",
       "       'document_date_norm', 'posting_date', 'posting_date_norm',\n",
       "       'baseline_date', 'baseline_date_norm', 'due_date', 'due_date_norm',\n",
       "       'invoice_number_norm', 'invoice_amount_norm', 'open_amount_norm',\n",
       "       'amount_currency', 'po_number', 'po_number_norm', 'payment_terms',\n",
       "       'business_area', 'clearing_date', 'clearing_date_norm',\n",
       "       'clearing_document', 'reason_code', 'status_code', 'create_user',\n",
       "       'create_date', 'create_time', 'update_user', 'update_date',\n",
       "       'update_time', 'note', 'source', 'discount_granted_norm', 'isOpen',\n",
       "       'reference_doc_number', 'cash_discount1', 'cash_discount2',\n",
       "       'cash_discount_percent1', 'cash_discount_doc_curr', 'payment_block_key',\n",
       "       'reference_key1', 'reference_key2', 'credit_control_area',\n",
       "       'reference_key_line_item', 'amt_cash_disc', 'item_text',\n",
       "       'current_dispute_amount_norm', 'document_creation_date',\n",
       "       'document_creation_date_norm', 'ref_number', 'identifier_key',\n",
       "       'reference_key6', 'fk_agent_source_system_id',\n",
       "       'reference_doc_number_norm', 'cms_doc_header_id',\n",
       "       'fk_customer_map_id.1', 'strategy_aging_bucket_id', 'document_id',\n",
       "       'baseline_date.1', 'paid_amount', 'paid_date', 'dayspast_due',\n",
       "       'fk_document_type_id', 'current_open_amount', 'isOpen.1',\n",
       "       'document_file_path', 'days_to_pay', 'invoice_age', 'latest_notes',\n",
       "       'fk_agent_source_system_id.1', 'po_number.1', 'assignment_id.1',\n",
       "       'latest_user_action', 'create_user.1', 'create_time.1', 'update_user.1',\n",
       "       'update_time.1', 'update_date.1', 'create_date.1', 'is_escalated',\n",
       "       'escalated_to'],\n",
       "      dtype='object')"
      ]
     },
     "execution_count": 9,
     "metadata": {},
     "output_type": "execute_result"
    }
   ],
   "source": [
    "data.columns"
   ]
  },
  {
   "cell_type": "markdown",
   "metadata": {},
   "source": [
    "Now we need to drop those columns which are not necessary like we can drop date if normalised date columns is present.\n",
    "Also we can drop the internal columns of high radius present in our dataset."
   ]
  },
  {
   "cell_type": "code",
   "execution_count": 11,
   "metadata": {},
   "outputs": [],
   "source": [
    "data.drop([\"error_code_id\",\"document_date\",\"posting_date\",\"baseline_date\",\"due_date\",\"po_number\",\"clearing_date\",\"create_user\",\"create_date\",\"create_time\",\"update_user\",\"update_date\",\"update_time\",\"note\",\"discount_granted_norm\",\"cash_discount_doc_curr\",\"reference_key_line_item\",\"document_creation_date\",\"fk_agent_source_system_id\",\"baseline_date.1\",\"isOpen.1\",\"document_file_path\",\"latest_notes\",\"fk_agent_source_system_id.1\",\"po_number.1\",\"assignment_id.1\",\"create_user.1\",\"create_time.1\",\"update_user.1\",\"update_time.1\",\"update_date.1\",\"create_date.1\",\"escalated_to\"],inplace=True,axis=1)"
   ]
  },
  {
   "cell_type": "code",
   "execution_count": 12,
   "metadata": {},
   "outputs": [
    {
     "data": {
      "text/plain": [
       "(599998, 54)"
      ]
     },
     "execution_count": 12,
     "metadata": {},
     "output_type": "execute_result"
    }
   ],
   "source": [
    "data.shape"
   ]
  },
  {
   "cell_type": "markdown",
   "metadata": {},
   "source": [
    "#  Sorting the data according to document date norm"
   ]
  },
  {
   "cell_type": "markdown",
   "metadata": {},
   "source": [
    "Now after dropping the unnecessary columns we need to sort the data according to document date norm so that while training our model ,our model does not learn the future values and predict the past.This will not result in a good model.\n",
    "Our model should be able to train from the past data and should be ablee to predict the future.Thus we have sorted our data."
   ]
  },
  {
   "cell_type": "code",
   "execution_count": 13,
   "metadata": {},
   "outputs": [],
   "source": [
    "data.sort_values('document_date_norm',ascending=True,inplace=True)"
   ]
  },
  {
   "cell_type": "code",
   "execution_count": 14,
   "metadata": {},
   "outputs": [
    {
     "data": {
      "text/plain": [
       "Index(['provider_datatype_id', 'job_id', 'document_number_norm',\n",
       "       'company_code', 'fiscal_year', 'doctype', 'customer_number_norm',\n",
       "       'customer_name', 'document_date_norm', 'posting_date_norm',\n",
       "       'baseline_date_norm', 'due_date_norm', 'invoice_number_norm',\n",
       "       'invoice_amount_norm', 'open_amount_norm', 'amount_currency',\n",
       "       'po_number_norm', 'payment_terms', 'business_area',\n",
       "       'clearing_date_norm', 'clearing_document', 'reason_code', 'status_code',\n",
       "       'source', 'isOpen', 'reference_doc_number', 'cash_discount1',\n",
       "       'cash_discount2', 'cash_discount_percent1', 'payment_block_key',\n",
       "       'reference_key1', 'reference_key2', 'credit_control_area',\n",
       "       'amt_cash_disc', 'item_text', 'current_dispute_amount_norm',\n",
       "       'document_creation_date_norm', 'ref_number', 'identifier_key',\n",
       "       'reference_key6', 'reference_doc_number_norm', 'cms_doc_header_id',\n",
       "       'fk_customer_map_id.1', 'strategy_aging_bucket_id', 'document_id',\n",
       "       'paid_amount', 'paid_date', 'dayspast_due', 'fk_document_type_id',\n",
       "       'current_open_amount', 'days_to_pay', 'invoice_age',\n",
       "       'latest_user_action', 'is_escalated'],\n",
       "      dtype='object')"
      ]
     },
     "execution_count": 14,
     "metadata": {},
     "output_type": "execute_result"
    }
   ],
   "source": [
    "data.columns"
   ]
  },
  {
   "cell_type": "code",
   "execution_count": 15,
   "metadata": {},
   "outputs": [
    {
     "name": "stdout",
     "output_type": "stream",
     "text": [
      "(599998, 54)\n"
     ]
    },
    {
     "data": {
      "text/plain": [
       "(599997, 54)"
      ]
     },
     "execution_count": 15,
     "metadata": {},
     "output_type": "execute_result"
    }
   ],
   "source": [
    "print(data.shape)\n",
    "data.drop(data.loc[data['document_id']==558649790].index,axis=0,inplace=True)\n",
    "data.shape"
   ]
  },
  {
   "cell_type": "code",
   "execution_count": 16,
   "metadata": {},
   "outputs": [],
   "source": [
    "#command to convert the dates from object to datetime format.\n",
    "data['due_date_norm']=pd.to_datetime(data['due_date_norm'])\n",
    "data['baseline_date_norm']=pd.to_datetime(data['baseline_date_norm'])\n",
    "data['clearing_date_norm']=pd.to_datetime(data['clearing_date_norm'])"
   ]
  },
  {
   "cell_type": "code",
   "execution_count": 17,
   "metadata": {},
   "outputs": [],
   "source": [
    "#command to convert the dates from object to datetime format.\n",
    "data['document_date_norm']=pd.to_datetime(data['document_date_norm'])"
   ]
  },
  {
   "cell_type": "code",
   "execution_count": 18,
   "metadata": {},
   "outputs": [
    {
     "data": {
      "text/plain": [
       "36455"
      ]
     },
     "execution_count": 18,
     "metadata": {},
     "output_type": "execute_result"
    }
   ],
   "source": [
    "#to check total no of null values in the 'clearing_date_norm' column.\n",
    "data['clearing_date_norm'].isnull().sum()"
   ]
  },
  {
   "cell_type": "markdown",
   "metadata": {},
   "source": [
    "Now we have divided our dannon data into two dataframe.\n",
    "1.First dataframe consists of the data records that are closed.(i.e the invoices whose clearing_date_norm is not null)."
   ]
  },
  {
   "cell_type": "code",
   "execution_count": 19,
   "metadata": {},
   "outputs": [],
   "source": [
    "#closed_data consists of the data that area closed\n",
    "closed_data=data[~data['clearing_date_norm'].isnull()]"
   ]
  },
  {
   "cell_type": "code",
   "execution_count": 20,
   "metadata": {},
   "outputs": [
    {
     "data": {
      "text/plain": [
       "(563542, 54)"
      ]
     },
     "execution_count": 20,
     "metadata": {},
     "output_type": "execute_result"
    }
   ],
   "source": [
    "closed_data.shape"
   ]
  },
  {
   "cell_type": "code",
   "execution_count": 21,
   "metadata": {},
   "outputs": [
    {
     "data": {
      "text/plain": [
       "Index(['provider_datatype_id', 'job_id', 'document_number_norm',\n",
       "       'company_code', 'fiscal_year', 'doctype', 'customer_number_norm',\n",
       "       'customer_name', 'document_date_norm', 'posting_date_norm',\n",
       "       'baseline_date_norm', 'due_date_norm', 'invoice_number_norm',\n",
       "       'invoice_amount_norm', 'open_amount_norm', 'amount_currency',\n",
       "       'po_number_norm', 'payment_terms', 'business_area',\n",
       "       'clearing_date_norm', 'clearing_document', 'reason_code', 'status_code',\n",
       "       'source', 'isOpen', 'reference_doc_number', 'cash_discount1',\n",
       "       'cash_discount2', 'cash_discount_percent1', 'payment_block_key',\n",
       "       'reference_key1', 'reference_key2', 'credit_control_area',\n",
       "       'amt_cash_disc', 'item_text', 'current_dispute_amount_norm',\n",
       "       'document_creation_date_norm', 'ref_number', 'identifier_key',\n",
       "       'reference_key6', 'reference_doc_number_norm', 'cms_doc_header_id',\n",
       "       'fk_customer_map_id.1', 'strategy_aging_bucket_id', 'document_id',\n",
       "       'paid_amount', 'paid_date', 'dayspast_due', 'fk_document_type_id',\n",
       "       'current_open_amount', 'days_to_pay', 'invoice_age',\n",
       "       'latest_user_action', 'is_escalated'],\n",
       "      dtype='object')"
      ]
     },
     "execution_count": 21,
     "metadata": {},
     "output_type": "execute_result"
    }
   ],
   "source": [
    "closed_data.columns"
   ]
  },
  {
   "cell_type": "code",
   "execution_count": 22,
   "metadata": {},
   "outputs": [
    {
     "name": "stderr",
     "output_type": "stream",
     "text": [
      "C:\\ProgramData\\Anaconda3\\lib\\site-packages\\ipykernel_launcher.py:2: SettingWithCopyWarning: \n",
      "A value is trying to be set on a copy of a slice from a DataFrame.\n",
      "Try using .loc[row_indexer,col_indexer] = value instead\n",
      "\n",
      "See the caveats in the documentation: http://pandas.pydata.org/pandas-docs/stable/indexing.html#indexing-view-versus-copy\n",
      "  \n",
      "C:\\ProgramData\\Anaconda3\\lib\\site-packages\\ipykernel_launcher.py:3: SettingWithCopyWarning: \n",
      "A value is trying to be set on a copy of a slice from a DataFrame.\n",
      "Try using .loc[row_indexer,col_indexer] = value instead\n",
      "\n",
      "See the caveats in the documentation: http://pandas.pydata.org/pandas-docs/stable/indexing.html#indexing-view-versus-copy\n",
      "  This is separate from the ipykernel package so we can avoid doing imports until\n",
      "C:\\ProgramData\\Anaconda3\\lib\\site-packages\\ipykernel_launcher.py:4: SettingWithCopyWarning: \n",
      "A value is trying to be set on a copy of a slice from a DataFrame.\n",
      "Try using .loc[row_indexer,col_indexer] = value instead\n",
      "\n",
      "See the caveats in the documentation: http://pandas.pydata.org/pandas-docs/stable/indexing.html#indexing-view-versus-copy\n",
      "  after removing the cwd from sys.path.\n"
     ]
    }
   ],
   "source": [
    "#command to convert the dates from object to datetime format.\n",
    "closed_data['clearing_date_norm']=pd.to_datetime(closed_data['clearing_date_norm'])\n",
    "closed_data['due_date_norm']=pd.to_datetime(closed_data['due_date_norm'])\n",
    "closed_data['delay']=(closed_data['clearing_date_norm']-closed_data['due_date_norm']).dt.days"
   ]
  },
  {
   "cell_type": "markdown",
   "metadata": {},
   "source": [
    "# Splitting the data in (70%), Validatiion(20%) and Test(10%)"
   ]
  },
  {
   "cell_type": "markdown",
   "metadata": {},
   "source": [
    "Taking the top 70% data out of the closed data as train data."
   ]
  },
  {
   "cell_type": "code",
   "execution_count": 23,
   "metadata": {},
   "outputs": [],
   "source": [
    "#taking a closed_train dataframe in which we have put 70% of our data from 'closed_data' dataframe\n",
    "#Aloso we have taken the first 70% percent of the data because from the head we have taken 70% of the data for training.\n",
    "closed_train = closed_data.head(int(len(closed_data)*(0.7)))"
   ]
  },
  {
   "cell_type": "code",
   "execution_count": 24,
   "metadata": {},
   "outputs": [
    {
     "data": {
      "text/html": [
       "<div>\n",
       "<style scoped>\n",
       "    .dataframe tbody tr th:only-of-type {\n",
       "        vertical-align: middle;\n",
       "    }\n",
       "\n",
       "    .dataframe tbody tr th {\n",
       "        vertical-align: top;\n",
       "    }\n",
       "\n",
       "    .dataframe thead th {\n",
       "        text-align: right;\n",
       "    }\n",
       "</style>\n",
       "<table border=\"1\" class=\"dataframe\">\n",
       "  <thead>\n",
       "    <tr style=\"text-align: right;\">\n",
       "      <th></th>\n",
       "      <th>provider_datatype_id</th>\n",
       "      <th>job_id</th>\n",
       "      <th>document_number_norm</th>\n",
       "      <th>company_code</th>\n",
       "      <th>fiscal_year</th>\n",
       "      <th>doctype</th>\n",
       "      <th>customer_number_norm</th>\n",
       "      <th>customer_name</th>\n",
       "      <th>document_date_norm</th>\n",
       "      <th>posting_date_norm</th>\n",
       "      <th>...</th>\n",
       "      <th>paid_amount</th>\n",
       "      <th>paid_date</th>\n",
       "      <th>dayspast_due</th>\n",
       "      <th>fk_document_type_id</th>\n",
       "      <th>current_open_amount</th>\n",
       "      <th>days_to_pay</th>\n",
       "      <th>invoice_age</th>\n",
       "      <th>latest_user_action</th>\n",
       "      <th>is_escalated</th>\n",
       "      <th>delay</th>\n",
       "    </tr>\n",
       "  </thead>\n",
       "  <tbody>\n",
       "    <tr>\n",
       "      <th>26552</th>\n",
       "      <td>2854</td>\n",
       "      <td>101092573</td>\n",
       "      <td>8101267763</td>\n",
       "      <td>30</td>\n",
       "      <td>2019</td>\n",
       "      <td>D1</td>\n",
       "      <td>450009504</td>\n",
       "      <td>GORDON FOODSERVICE GRAND RAPID - A/</td>\n",
       "      <td>2019-06-18</td>\n",
       "      <td>6/18/2019</td>\n",
       "      <td>...</td>\n",
       "      <td>31565.16</td>\n",
       "      <td>7/2/2019 0:00</td>\n",
       "      <td>2</td>\n",
       "      <td>963.0</td>\n",
       "      <td>0.0</td>\n",
       "      <td>14</td>\n",
       "      <td>15</td>\n",
       "      <td>NaN</td>\n",
       "      <td>0</td>\n",
       "      <td>1</td>\n",
       "    </tr>\n",
       "    <tr>\n",
       "      <th>26553</th>\n",
       "      <td>2854</td>\n",
       "      <td>101197323</td>\n",
       "      <td>8101267778</td>\n",
       "      <td>30</td>\n",
       "      <td>2019</td>\n",
       "      <td>D1</td>\n",
       "      <td>450009504</td>\n",
       "      <td>GORDON FOODSERVICE GRAND RAPID - A/</td>\n",
       "      <td>2019-06-18</td>\n",
       "      <td>6/18/2019</td>\n",
       "      <td>...</td>\n",
       "      <td>22034.08</td>\n",
       "      <td>7/10/2019 0:00</td>\n",
       "      <td>10</td>\n",
       "      <td>963.0</td>\n",
       "      <td>0.0</td>\n",
       "      <td>22</td>\n",
       "      <td>23</td>\n",
       "      <td>NaN</td>\n",
       "      <td>0</td>\n",
       "      <td>9</td>\n",
       "    </tr>\n",
       "    <tr>\n",
       "      <th>26555</th>\n",
       "      <td>2854</td>\n",
       "      <td>101092573</td>\n",
       "      <td>8101267780</td>\n",
       "      <td>30</td>\n",
       "      <td>2019</td>\n",
       "      <td>D1</td>\n",
       "      <td>450009504</td>\n",
       "      <td>GORDON FOODSERVICE GRAND RAPID - A/</td>\n",
       "      <td>2019-06-18</td>\n",
       "      <td>6/18/2019</td>\n",
       "      <td>...</td>\n",
       "      <td>9690.12</td>\n",
       "      <td>7/2/2019 0:00</td>\n",
       "      <td>2</td>\n",
       "      <td>963.0</td>\n",
       "      <td>0.0</td>\n",
       "      <td>14</td>\n",
       "      <td>15</td>\n",
       "      <td>NaN</td>\n",
       "      <td>0</td>\n",
       "      <td>1</td>\n",
       "    </tr>\n",
       "    <tr>\n",
       "      <th>189442</th>\n",
       "      <td>2854</td>\n",
       "      <td>102720888</td>\n",
       "      <td>8101267641</td>\n",
       "      <td>30</td>\n",
       "      <td>2019</td>\n",
       "      <td>D1</td>\n",
       "      <td>450019870</td>\n",
       "      <td>PRICESMART  - A/P</td>\n",
       "      <td>2019-06-18</td>\n",
       "      <td>6/18/2019</td>\n",
       "      <td>...</td>\n",
       "      <td>27660.00</td>\n",
       "      <td>7/18/2019 0:00</td>\n",
       "      <td>5</td>\n",
       "      <td>963.0</td>\n",
       "      <td>0.0</td>\n",
       "      <td>30</td>\n",
       "      <td>35</td>\n",
       "      <td>Invoice Level Payment Commitment</td>\n",
       "      <td>0</td>\n",
       "      <td>0</td>\n",
       "    </tr>\n",
       "    <tr>\n",
       "      <th>189441</th>\n",
       "      <td>2854</td>\n",
       "      <td>102720888</td>\n",
       "      <td>8101267640</td>\n",
       "      <td>30</td>\n",
       "      <td>2019</td>\n",
       "      <td>D1</td>\n",
       "      <td>450019870</td>\n",
       "      <td>PRICESMART  - A/P</td>\n",
       "      <td>2019-06-18</td>\n",
       "      <td>6/18/2019</td>\n",
       "      <td>...</td>\n",
       "      <td>27660.00</td>\n",
       "      <td>7/18/2019 0:00</td>\n",
       "      <td>5</td>\n",
       "      <td>963.0</td>\n",
       "      <td>0.0</td>\n",
       "      <td>30</td>\n",
       "      <td>35</td>\n",
       "      <td>Invoice Level Payment Commitment</td>\n",
       "      <td>0</td>\n",
       "      <td>0</td>\n",
       "    </tr>\n",
       "  </tbody>\n",
       "</table>\n",
       "<p>5 rows × 55 columns</p>\n",
       "</div>"
      ],
      "text/plain": [
       "        provider_datatype_id     job_id  document_number_norm  company_code  \\\n",
       "26552                   2854  101092573            8101267763            30   \n",
       "26553                   2854  101197323            8101267778            30   \n",
       "26555                   2854  101092573            8101267780            30   \n",
       "189442                  2854  102720888            8101267641            30   \n",
       "189441                  2854  102720888            8101267640            30   \n",
       "\n",
       "        fiscal_year doctype  customer_number_norm  \\\n",
       "26552          2019      D1             450009504   \n",
       "26553          2019      D1             450009504   \n",
       "26555          2019      D1             450009504   \n",
       "189442         2019      D1             450019870   \n",
       "189441         2019      D1             450019870   \n",
       "\n",
       "                              customer_name document_date_norm  \\\n",
       "26552   GORDON FOODSERVICE GRAND RAPID - A/         2019-06-18   \n",
       "26553   GORDON FOODSERVICE GRAND RAPID - A/         2019-06-18   \n",
       "26555   GORDON FOODSERVICE GRAND RAPID - A/         2019-06-18   \n",
       "189442                    PRICESMART  - A/P         2019-06-18   \n",
       "189441                    PRICESMART  - A/P         2019-06-18   \n",
       "\n",
       "       posting_date_norm  ... paid_amount       paid_date  dayspast_due  \\\n",
       "26552          6/18/2019  ...    31565.16   7/2/2019 0:00             2   \n",
       "26553          6/18/2019  ...    22034.08  7/10/2019 0:00            10   \n",
       "26555          6/18/2019  ...     9690.12   7/2/2019 0:00             2   \n",
       "189442         6/18/2019  ...    27660.00  7/18/2019 0:00             5   \n",
       "189441         6/18/2019  ...    27660.00  7/18/2019 0:00             5   \n",
       "\n",
       "        fk_document_type_id  current_open_amount days_to_pay invoice_age  \\\n",
       "26552                 963.0                  0.0          14          15   \n",
       "26553                 963.0                  0.0          22          23   \n",
       "26555                 963.0                  0.0          14          15   \n",
       "189442                963.0                  0.0          30          35   \n",
       "189441                963.0                  0.0          30          35   \n",
       "\n",
       "                      latest_user_action  is_escalated delay  \n",
       "26552                                NaN             0     1  \n",
       "26553                                NaN             0     9  \n",
       "26555                                NaN             0     1  \n",
       "189442  Invoice Level Payment Commitment             0     0  \n",
       "189441  Invoice Level Payment Commitment             0     0  \n",
       "\n",
       "[5 rows x 55 columns]"
      ]
     },
     "execution_count": 24,
     "metadata": {},
     "output_type": "execute_result"
    }
   ],
   "source": [
    "#checking the last columns of the closed_train dataframe \n",
    "closed_train.tail()"
   ]
  },
  {
   "cell_type": "code",
   "execution_count": 25,
   "metadata": {},
   "outputs": [],
   "source": [
    "#to toad the lower 30 percentage of the data in a dataframe 'lowerdata' which will be used for testing purpose.\n",
    "lowerdata = closed_data.tail(int(len(closed_data)*(0.3)))"
   ]
  },
  {
   "cell_type": "code",
   "execution_count": 26,
   "metadata": {},
   "outputs": [],
   "source": [
    "#taking 20% of the data left as our validation set..\n",
    "closed_validation = lowerdata.head(int(len(lowerdata)*(0.7))+1)"
   ]
  },
  {
   "cell_type": "code",
   "execution_count": 27,
   "metadata": {},
   "outputs": [],
   "source": [
    "#and the rest 10% as our test set\n",
    "closed_test = lowerdata.tail(int(len(lowerdata)*(0.3)))"
   ]
  },
  {
   "cell_type": "markdown",
   "metadata": {},
   "source": [
    "calculating delay for train and then accordingly populating the validate and test."
   ]
  },
  {
   "cell_type": "code",
   "execution_count": 28,
   "metadata": {},
   "outputs": [
    {
     "data": {
      "text/html": [
       "<div>\n",
       "<style scoped>\n",
       "    .dataframe tbody tr th:only-of-type {\n",
       "        vertical-align: middle;\n",
       "    }\n",
       "\n",
       "    .dataframe tbody tr th {\n",
       "        vertical-align: top;\n",
       "    }\n",
       "\n",
       "    .dataframe thead th {\n",
       "        text-align: right;\n",
       "    }\n",
       "</style>\n",
       "<table border=\"1\" class=\"dataframe\">\n",
       "  <thead>\n",
       "    <tr style=\"text-align: right;\">\n",
       "      <th></th>\n",
       "      <th>fk_customer_map_id.1</th>\n",
       "      <th>delay</th>\n",
       "    </tr>\n",
       "  </thead>\n",
       "  <tbody>\n",
       "    <tr>\n",
       "      <th>0</th>\n",
       "      <td>527270</td>\n",
       "      <td>4.423913</td>\n",
       "    </tr>\n",
       "    <tr>\n",
       "      <th>1</th>\n",
       "      <td>527272</td>\n",
       "      <td>19.533333</td>\n",
       "    </tr>\n",
       "    <tr>\n",
       "      <th>2</th>\n",
       "      <td>527275</td>\n",
       "      <td>11.262500</td>\n",
       "    </tr>\n",
       "    <tr>\n",
       "      <th>3</th>\n",
       "      <td>527285</td>\n",
       "      <td>3.444444</td>\n",
       "    </tr>\n",
       "    <tr>\n",
       "      <th>4</th>\n",
       "      <td>527294</td>\n",
       "      <td>7.012048</td>\n",
       "    </tr>\n",
       "  </tbody>\n",
       "</table>\n",
       "</div>"
      ],
      "text/plain": [
       "   fk_customer_map_id.1      delay\n",
       "0                527270   4.423913\n",
       "1                527272  19.533333\n",
       "2                527275  11.262500\n",
       "3                527285   3.444444\n",
       "4                527294   7.012048"
      ]
     },
     "execution_count": 28,
     "metadata": {},
     "output_type": "execute_result"
    }
   ],
   "source": [
    "#Grouping the delay according to 'fk_customer_map_id.1' to uniquely identify the customer and then to find the mean delay.\n",
    "grp_mean_delay = closed_train.groupby(['fk_customer_map_id.1']).agg({'delay':'mean'}).reset_index()\n",
    "grp_mean_delay.head()"
   ]
  },
  {
   "cell_type": "code",
   "execution_count": 29,
   "metadata": {},
   "outputs": [],
   "source": [
    "#to merge the mean dealy from the 'grp_mean_delay' dataframe in to the closed_train dataframe\n",
    "grp_mean_delay.columns = ['fk_customer_map_id.1','mean_delay']\n",
    "closed_train = pd.merge(closed_train,grp_mean_delay,how='left',on='fk_customer_map_id.1')"
   ]
  },
  {
   "cell_type": "code",
   "execution_count": 30,
   "metadata": {},
   "outputs": [
    {
     "data": {
      "text/html": [
       "<div>\n",
       "<style scoped>\n",
       "    .dataframe tbody tr th:only-of-type {\n",
       "        vertical-align: middle;\n",
       "    }\n",
       "\n",
       "    .dataframe tbody tr th {\n",
       "        vertical-align: top;\n",
       "    }\n",
       "\n",
       "    .dataframe thead th {\n",
       "        text-align: right;\n",
       "    }\n",
       "</style>\n",
       "<table border=\"1\" class=\"dataframe\">\n",
       "  <thead>\n",
       "    <tr style=\"text-align: right;\">\n",
       "      <th></th>\n",
       "      <th>provider_datatype_id</th>\n",
       "      <th>job_id</th>\n",
       "      <th>document_number_norm</th>\n",
       "      <th>company_code</th>\n",
       "      <th>fiscal_year</th>\n",
       "      <th>doctype</th>\n",
       "      <th>customer_number_norm</th>\n",
       "      <th>customer_name</th>\n",
       "      <th>document_date_norm</th>\n",
       "      <th>posting_date_norm</th>\n",
       "      <th>...</th>\n",
       "      <th>paid_date</th>\n",
       "      <th>dayspast_due</th>\n",
       "      <th>fk_document_type_id</th>\n",
       "      <th>current_open_amount</th>\n",
       "      <th>days_to_pay</th>\n",
       "      <th>invoice_age</th>\n",
       "      <th>latest_user_action</th>\n",
       "      <th>is_escalated</th>\n",
       "      <th>delay</th>\n",
       "      <th>mean_delay</th>\n",
       "    </tr>\n",
       "  </thead>\n",
       "  <tbody>\n",
       "    <tr>\n",
       "      <th>0</th>\n",
       "      <td>2854</td>\n",
       "      <td>94980606</td>\n",
       "      <td>8130234277</td>\n",
       "      <td>54</td>\n",
       "      <td>2018</td>\n",
       "      <td>D1</td>\n",
       "      <td>450025165</td>\n",
       "      <td>WAKEFERN FOOD CORPORATION</td>\n",
       "      <td>2018-01-01</td>\n",
       "      <td>1/1/2018</td>\n",
       "      <td>...</td>\n",
       "      <td>2/5/2018 0:00</td>\n",
       "      <td>22</td>\n",
       "      <td>963.0</td>\n",
       "      <td>0.0</td>\n",
       "      <td>35</td>\n",
       "      <td>37</td>\n",
       "      <td>NaN</td>\n",
       "      <td>0</td>\n",
       "      <td>20</td>\n",
       "      <td>16.392638</td>\n",
       "    </tr>\n",
       "  </tbody>\n",
       "</table>\n",
       "<p>1 rows × 56 columns</p>\n",
       "</div>"
      ],
      "text/plain": [
       "   provider_datatype_id    job_id  document_number_norm  company_code  \\\n",
       "0                  2854  94980606            8130234277            54   \n",
       "\n",
       "   fiscal_year doctype  customer_number_norm              customer_name  \\\n",
       "0         2018      D1             450025165  WAKEFERN FOOD CORPORATION   \n",
       "\n",
       "  document_date_norm posting_date_norm  ...      paid_date dayspast_due  \\\n",
       "0         2018-01-01          1/1/2018  ...  2/5/2018 0:00           22   \n",
       "\n",
       "   fk_document_type_id  current_open_amount  days_to_pay invoice_age  \\\n",
       "0                963.0                  0.0           35          37   \n",
       "\n",
       "  latest_user_action is_escalated  delay mean_delay  \n",
       "0                NaN            0     20  16.392638  \n",
       "\n",
       "[1 rows x 56 columns]"
      ]
     },
     "execution_count": 30,
     "metadata": {},
     "output_type": "execute_result"
    }
   ],
   "source": [
    "closed_train.head(1)"
   ]
  },
  {
   "cell_type": "code",
   "execution_count": 31,
   "metadata": {},
   "outputs": [
    {
     "data": {
      "text/plain": [
       "20"
      ]
     },
     "execution_count": 31,
     "metadata": {},
     "output_type": "execute_result"
    }
   ],
   "source": [
    "#merging the grp mean delay for the closed_validation dataframe. \n",
    "closed_validation = pd.merge(closed_validation,grp_mean_delay,how='left',on='fk_customer_map_id.1')\n",
    "closed_validation['mean_delay'].isnull().sum()"
   ]
  },
  {
   "cell_type": "code",
   "execution_count": 32,
   "metadata": {},
   "outputs": [],
   "source": [
    "#calculating the mean of the mean_delay to populate the mean_delay for closed validation dataframe where there is null values \n",
    "#which means the customer is new.\n",
    "mean_for_null = closed_train['mean_delay'].mean()"
   ]
  },
  {
   "cell_type": "code",
   "execution_count": 33,
   "metadata": {},
   "outputs": [
    {
     "data": {
      "text/plain": [
       "0"
      ]
     },
     "execution_count": 33,
     "metadata": {},
     "output_type": "execute_result"
    }
   ],
   "source": [
    "#filling those places where there is null values with mean of the mean_delay.\n",
    "closed_validation['mean_delay'].fillna(mean_for_null,inplace=True)\n",
    "closed_validation['mean_delay'].isnull().sum()"
   ]
  },
  {
   "cell_type": "code",
   "execution_count": 34,
   "metadata": {},
   "outputs": [
    {
     "data": {
      "text/plain": [
       "0"
      ]
     },
     "execution_count": 34,
     "metadata": {},
     "output_type": "execute_result"
    }
   ],
   "source": [
    "#merging the grp_mean_delay dataframe with the closed_test dataframe.\n",
    "closed_test = pd.merge(closed_test,grp_mean_delay,how='left',on='fk_customer_map_id.1')\n",
    "closed_test['mean_delay'].fillna(mean_for_null,inplace=True)\n",
    "closed_test['mean_delay'].isnull().sum()"
   ]
  },
  {
   "cell_type": "markdown",
   "metadata": {},
   "source": [
    "# MAKING NEW FEATURES"
   ]
  },
  {
   "cell_type": "markdown",
   "metadata": {},
   "source": [
    "# 1.customer invoice amount mean(cust_invoice_amt_mean)"
   ]
  },
  {
   "cell_type": "code",
   "execution_count": 35,
   "metadata": {},
   "outputs": [
    {
     "data": {
      "text/html": [
       "<div>\n",
       "<style scoped>\n",
       "    .dataframe tbody tr th:only-of-type {\n",
       "        vertical-align: middle;\n",
       "    }\n",
       "\n",
       "    .dataframe tbody tr th {\n",
       "        vertical-align: top;\n",
       "    }\n",
       "\n",
       "    .dataframe thead th {\n",
       "        text-align: right;\n",
       "    }\n",
       "</style>\n",
       "<table border=\"1\" class=\"dataframe\">\n",
       "  <thead>\n",
       "    <tr style=\"text-align: right;\">\n",
       "      <th></th>\n",
       "      <th>fk_customer_map_id.1</th>\n",
       "      <th>invoice_amount_norm</th>\n",
       "    </tr>\n",
       "  </thead>\n",
       "  <tbody>\n",
       "    <tr>\n",
       "      <th>0</th>\n",
       "      <td>527270</td>\n",
       "      <td>60687.717152</td>\n",
       "    </tr>\n",
       "    <tr>\n",
       "      <th>1</th>\n",
       "      <td>527272</td>\n",
       "      <td>13992.487667</td>\n",
       "    </tr>\n",
       "    <tr>\n",
       "      <th>2</th>\n",
       "      <td>527275</td>\n",
       "      <td>27901.794812</td>\n",
       "    </tr>\n",
       "    <tr>\n",
       "      <th>3</th>\n",
       "      <td>527285</td>\n",
       "      <td>63518.651111</td>\n",
       "    </tr>\n",
       "    <tr>\n",
       "      <th>4</th>\n",
       "      <td>527294</td>\n",
       "      <td>7056.011566</td>\n",
       "    </tr>\n",
       "  </tbody>\n",
       "</table>\n",
       "</div>"
      ],
      "text/plain": [
       "   fk_customer_map_id.1  invoice_amount_norm\n",
       "0                527270         60687.717152\n",
       "1                527272         13992.487667\n",
       "2                527275         27901.794812\n",
       "3                527285         63518.651111\n",
       "4                527294          7056.011566"
      ]
     },
     "execution_count": 35,
     "metadata": {},
     "output_type": "execute_result"
    }
   ],
   "source": [
    "#grouping the train data according to fk_customer_map_id.1 and then finding the mean of invoice_amount_norm  for each customer.\n",
    "group_inv_mean = closed_train.groupby(['fk_customer_map_id.1']).agg({'invoice_amount_norm':'mean'}).reset_index()\n",
    "group_inv_mean.head()"
   ]
  },
  {
   "cell_type": "code",
   "execution_count": 37,
   "metadata": {},
   "outputs": [],
   "source": [
    "#merging the group_inv_mean dataframe with closed train data frame.\n",
    "group_inv_mean.columns = ['fk_customer_map_id.1','cust_invoice_amt_mean']\n",
    "closed_train = pd.merge(closed_train,group_inv_mean,how='left',on='fk_customer_map_id.1')"
   ]
  },
  {
   "cell_type": "code",
   "execution_count": 38,
   "metadata": {},
   "outputs": [
    {
     "data": {
      "text/plain": [
       "20"
      ]
     },
     "execution_count": 38,
     "metadata": {},
     "output_type": "execute_result"
    }
   ],
   "source": [
    "#merging the group_inv_mean dataframe with closed validation data frame.\n",
    "closed_validation = pd.merge(closed_validation,group_inv_mean,how='left',on='fk_customer_map_id.1')\n",
    "closed_validation['cust_invoice_amt_mean'].isnull().sum()"
   ]
  },
  {
   "cell_type": "code",
   "execution_count": 39,
   "metadata": {},
   "outputs": [],
   "source": [
    "# finding the mean of the mean of customer invoice amount to fill in those places where there are null values in closed validation data frame.\n",
    "mean_for_null1 = closed_train['cust_invoice_amt_mean'].mean()"
   ]
  },
  {
   "cell_type": "code",
   "execution_count": 40,
   "metadata": {},
   "outputs": [
    {
     "data": {
      "text/plain": [
       "0"
      ]
     },
     "execution_count": 40,
     "metadata": {},
     "output_type": "execute_result"
    }
   ],
   "source": [
    "#filling those places where there are null values for cust_invoice_amt_mean column in closed_validation data frame\n",
    "closed_validation['cust_invoice_amt_mean'].fillna(mean_for_null1,inplace=True)\n",
    "closed_validation['cust_invoice_amt_mean'].isnull().sum()"
   ]
  },
  {
   "cell_type": "code",
   "execution_count": 41,
   "metadata": {},
   "outputs": [
    {
     "data": {
      "text/plain": [
       "0"
      ]
     },
     "execution_count": 41,
     "metadata": {},
     "output_type": "execute_result"
    }
   ],
   "source": [
    "#merging the group_inv_mean dataframe with closed test data frame.\n",
    "closed_test = pd.merge(closed_test,group_inv_mean,how='left',on='fk_customer_map_id.1')\n",
    "closed_test['cust_invoice_amt_mean'].fillna(mean_for_null1,inplace=True)\n",
    "closed_test['cust_invoice_amt_mean'].isnull().sum()"
   ]
  },
  {
   "cell_type": "code",
   "execution_count": 42,
   "metadata": {},
   "outputs": [
    {
     "data": {
      "text/html": [
       "<div>\n",
       "<style scoped>\n",
       "    .dataframe tbody tr th:only-of-type {\n",
       "        vertical-align: middle;\n",
       "    }\n",
       "\n",
       "    .dataframe tbody tr th {\n",
       "        vertical-align: top;\n",
       "    }\n",
       "\n",
       "    .dataframe thead th {\n",
       "        text-align: right;\n",
       "    }\n",
       "</style>\n",
       "<table border=\"1\" class=\"dataframe\">\n",
       "  <thead>\n",
       "    <tr style=\"text-align: right;\">\n",
       "      <th></th>\n",
       "      <th>provider_datatype_id</th>\n",
       "      <th>job_id</th>\n",
       "      <th>document_number_norm</th>\n",
       "      <th>company_code</th>\n",
       "      <th>fiscal_year</th>\n",
       "      <th>doctype</th>\n",
       "      <th>customer_number_norm</th>\n",
       "      <th>customer_name</th>\n",
       "      <th>document_date_norm</th>\n",
       "      <th>posting_date_norm</th>\n",
       "      <th>...</th>\n",
       "      <th>dayspast_due</th>\n",
       "      <th>fk_document_type_id</th>\n",
       "      <th>current_open_amount</th>\n",
       "      <th>days_to_pay</th>\n",
       "      <th>invoice_age</th>\n",
       "      <th>latest_user_action</th>\n",
       "      <th>is_escalated</th>\n",
       "      <th>delay</th>\n",
       "      <th>mean_delay</th>\n",
       "      <th>cust_invoice_amt_mean</th>\n",
       "    </tr>\n",
       "  </thead>\n",
       "  <tbody>\n",
       "    <tr>\n",
       "      <th>0</th>\n",
       "      <td>2854</td>\n",
       "      <td>94980606</td>\n",
       "      <td>8130234277</td>\n",
       "      <td>54</td>\n",
       "      <td>2018</td>\n",
       "      <td>D1</td>\n",
       "      <td>450025165</td>\n",
       "      <td>WAKEFERN FOOD CORPORATION</td>\n",
       "      <td>2018-01-01</td>\n",
       "      <td>1/1/2018</td>\n",
       "      <td>...</td>\n",
       "      <td>22</td>\n",
       "      <td>963.0</td>\n",
       "      <td>0.0</td>\n",
       "      <td>35</td>\n",
       "      <td>37</td>\n",
       "      <td>NaN</td>\n",
       "      <td>0</td>\n",
       "      <td>20</td>\n",
       "      <td>16.392638</td>\n",
       "      <td>47557.140736</td>\n",
       "    </tr>\n",
       "    <tr>\n",
       "      <th>1</th>\n",
       "      <td>2854</td>\n",
       "      <td>94795561</td>\n",
       "      <td>8142554343</td>\n",
       "      <td>34</td>\n",
       "      <td>2018</td>\n",
       "      <td>D1</td>\n",
       "      <td>450016881</td>\n",
       "      <td>B- FCL WEST</td>\n",
       "      <td>2018-01-01</td>\n",
       "      <td>1/1/2018</td>\n",
       "      <td>...</td>\n",
       "      <td>4</td>\n",
       "      <td>963.0</td>\n",
       "      <td>0.0</td>\n",
       "      <td>17</td>\n",
       "      <td>21</td>\n",
       "      <td>Correspondence Bulk:Multiple Past Due Invoices</td>\n",
       "      <td>0</td>\n",
       "      <td>0</td>\n",
       "      <td>4.319235</td>\n",
       "      <td>616.265491</td>\n",
       "    </tr>\n",
       "  </tbody>\n",
       "</table>\n",
       "<p>2 rows × 57 columns</p>\n",
       "</div>"
      ],
      "text/plain": [
       "   provider_datatype_id    job_id  document_number_norm  company_code  \\\n",
       "0                  2854  94980606            8130234277            54   \n",
       "1                  2854  94795561            8142554343            34   \n",
       "\n",
       "   fiscal_year doctype  customer_number_norm              customer_name  \\\n",
       "0         2018      D1             450025165  WAKEFERN FOOD CORPORATION   \n",
       "1         2018      D1             450016881                B- FCL WEST   \n",
       "\n",
       "  document_date_norm posting_date_norm  ... dayspast_due fk_document_type_id  \\\n",
       "0         2018-01-01          1/1/2018  ...           22               963.0   \n",
       "1         2018-01-01          1/1/2018  ...            4               963.0   \n",
       "\n",
       "   current_open_amount  days_to_pay  invoice_age  \\\n",
       "0                  0.0           35           37   \n",
       "1                  0.0           17           21   \n",
       "\n",
       "                               latest_user_action is_escalated delay  \\\n",
       "0                                             NaN            0    20   \n",
       "1  Correspondence Bulk:Multiple Past Due Invoices            0     0   \n",
       "\n",
       "   mean_delay cust_invoice_amt_mean  \n",
       "0   16.392638          47557.140736  \n",
       "1    4.319235            616.265491  \n",
       "\n",
       "[2 rows x 57 columns]"
      ]
     },
     "execution_count": 42,
     "metadata": {},
     "output_type": "execute_result"
    }
   ],
   "source": [
    "closed_train.head(2)"
   ]
  },
  {
   "cell_type": "code",
   "execution_count": 43,
   "metadata": {},
   "outputs": [
    {
     "data": {
      "text/html": [
       "<div>\n",
       "<style scoped>\n",
       "    .dataframe tbody tr th:only-of-type {\n",
       "        vertical-align: middle;\n",
       "    }\n",
       "\n",
       "    .dataframe tbody tr th {\n",
       "        vertical-align: top;\n",
       "    }\n",
       "\n",
       "    .dataframe thead th {\n",
       "        text-align: right;\n",
       "    }\n",
       "</style>\n",
       "<table border=\"1\" class=\"dataframe\">\n",
       "  <thead>\n",
       "    <tr style=\"text-align: right;\">\n",
       "      <th></th>\n",
       "      <th>provider_datatype_id</th>\n",
       "      <th>job_id</th>\n",
       "      <th>document_number_norm</th>\n",
       "      <th>company_code</th>\n",
       "      <th>fiscal_year</th>\n",
       "      <th>doctype</th>\n",
       "      <th>customer_number_norm</th>\n",
       "      <th>customer_name</th>\n",
       "      <th>document_date_norm</th>\n",
       "      <th>posting_date_norm</th>\n",
       "      <th>...</th>\n",
       "      <th>dayspast_due</th>\n",
       "      <th>fk_document_type_id</th>\n",
       "      <th>current_open_amount</th>\n",
       "      <th>days_to_pay</th>\n",
       "      <th>invoice_age</th>\n",
       "      <th>latest_user_action</th>\n",
       "      <th>is_escalated</th>\n",
       "      <th>delay</th>\n",
       "      <th>mean_delay</th>\n",
       "      <th>cust_invoice_amt_mean</th>\n",
       "    </tr>\n",
       "  </thead>\n",
       "  <tbody>\n",
       "    <tr>\n",
       "      <th>0</th>\n",
       "      <td>2854</td>\n",
       "      <td>101197323</td>\n",
       "      <td>8101267569</td>\n",
       "      <td>30</td>\n",
       "      <td>2019</td>\n",
       "      <td>D1</td>\n",
       "      <td>450009362</td>\n",
       "      <td>C&amp;S WHOLESALE GROCERS - A/P</td>\n",
       "      <td>2019-06-18</td>\n",
       "      <td>6/18/2019</td>\n",
       "      <td>...</td>\n",
       "      <td>8</td>\n",
       "      <td>963.0</td>\n",
       "      <td>0.0</td>\n",
       "      <td>20</td>\n",
       "      <td>23</td>\n",
       "      <td>NaN</td>\n",
       "      <td>0</td>\n",
       "      <td>5</td>\n",
       "      <td>4.364101</td>\n",
       "      <td>47017.699724</td>\n",
       "    </tr>\n",
       "    <tr>\n",
       "      <th>1</th>\n",
       "      <td>2854</td>\n",
       "      <td>104831838</td>\n",
       "      <td>8101268201</td>\n",
       "      <td>30</td>\n",
       "      <td>2019</td>\n",
       "      <td>D1</td>\n",
       "      <td>450009504</td>\n",
       "      <td>GORDON FOODSERVICE GRAND RAPID - A/</td>\n",
       "      <td>2019-06-18</td>\n",
       "      <td>6/18/2019</td>\n",
       "      <td>...</td>\n",
       "      <td>36</td>\n",
       "      <td>963.0</td>\n",
       "      <td>0.0</td>\n",
       "      <td>45</td>\n",
       "      <td>49</td>\n",
       "      <td>NaN</td>\n",
       "      <td>0</td>\n",
       "      <td>32</td>\n",
       "      <td>8.123793</td>\n",
       "      <td>23008.303916</td>\n",
       "    </tr>\n",
       "  </tbody>\n",
       "</table>\n",
       "<p>2 rows × 57 columns</p>\n",
       "</div>"
      ],
      "text/plain": [
       "   provider_datatype_id     job_id  document_number_norm  company_code  \\\n",
       "0                  2854  101197323            8101267569            30   \n",
       "1                  2854  104831838            8101268201            30   \n",
       "\n",
       "   fiscal_year doctype  customer_number_norm  \\\n",
       "0         2019      D1             450009362   \n",
       "1         2019      D1             450009504   \n",
       "\n",
       "                         customer_name document_date_norm posting_date_norm  \\\n",
       "0          C&S WHOLESALE GROCERS - A/P         2019-06-18         6/18/2019   \n",
       "1  GORDON FOODSERVICE GRAND RAPID - A/         2019-06-18         6/18/2019   \n",
       "\n",
       "   ... dayspast_due fk_document_type_id  current_open_amount  days_to_pay  \\\n",
       "0  ...            8               963.0                  0.0           20   \n",
       "1  ...           36               963.0                  0.0           45   \n",
       "\n",
       "   invoice_age latest_user_action is_escalated delay  mean_delay  \\\n",
       "0           23                NaN            0     5    4.364101   \n",
       "1           49                NaN            0    32    8.123793   \n",
       "\n",
       "  cust_invoice_amt_mean  \n",
       "0          47017.699724  \n",
       "1          23008.303916  \n",
       "\n",
       "[2 rows x 57 columns]"
      ]
     },
     "execution_count": 43,
     "metadata": {},
     "output_type": "execute_result"
    }
   ],
   "source": [
    "closed_validation.head(2)"
   ]
  },
  {
   "cell_type": "code",
   "execution_count": 44,
   "metadata": {},
   "outputs": [
    {
     "data": {
      "text/html": [
       "<div>\n",
       "<style scoped>\n",
       "    .dataframe tbody tr th:only-of-type {\n",
       "        vertical-align: middle;\n",
       "    }\n",
       "\n",
       "    .dataframe tbody tr th {\n",
       "        vertical-align: top;\n",
       "    }\n",
       "\n",
       "    .dataframe thead th {\n",
       "        text-align: right;\n",
       "    }\n",
       "</style>\n",
       "<table border=\"1\" class=\"dataframe\">\n",
       "  <thead>\n",
       "    <tr style=\"text-align: right;\">\n",
       "      <th></th>\n",
       "      <th>provider_datatype_id</th>\n",
       "      <th>job_id</th>\n",
       "      <th>document_number_norm</th>\n",
       "      <th>company_code</th>\n",
       "      <th>fiscal_year</th>\n",
       "      <th>doctype</th>\n",
       "      <th>customer_number_norm</th>\n",
       "      <th>customer_name</th>\n",
       "      <th>document_date_norm</th>\n",
       "      <th>posting_date_norm</th>\n",
       "      <th>...</th>\n",
       "      <th>dayspast_due</th>\n",
       "      <th>fk_document_type_id</th>\n",
       "      <th>current_open_amount</th>\n",
       "      <th>days_to_pay</th>\n",
       "      <th>invoice_age</th>\n",
       "      <th>latest_user_action</th>\n",
       "      <th>is_escalated</th>\n",
       "      <th>delay</th>\n",
       "      <th>mean_delay</th>\n",
       "      <th>cust_invoice_amt_mean</th>\n",
       "    </tr>\n",
       "  </thead>\n",
       "  <tbody>\n",
       "    <tr>\n",
       "      <th>0</th>\n",
       "      <td>2854</td>\n",
       "      <td>97380990</td>\n",
       "      <td>8142632785</td>\n",
       "      <td>34</td>\n",
       "      <td>2018</td>\n",
       "      <td>D1</td>\n",
       "      <td>450020083</td>\n",
       "      <td>B- SHOPPERS DRUG MART WEST</td>\n",
       "      <td>2018-08-03</td>\n",
       "      <td>8/3/2018</td>\n",
       "      <td>...</td>\n",
       "      <td>16</td>\n",
       "      <td>963.0</td>\n",
       "      <td>0.0</td>\n",
       "      <td>28</td>\n",
       "      <td>31</td>\n",
       "      <td>Correspondence Email:Multiple Past Due Invoices</td>\n",
       "      <td>0</td>\n",
       "      <td>13</td>\n",
       "      <td>18.782807</td>\n",
       "      <td>160.787581</td>\n",
       "    </tr>\n",
       "    <tr>\n",
       "      <th>1</th>\n",
       "      <td>2854</td>\n",
       "      <td>97380990</td>\n",
       "      <td>8142632853</td>\n",
       "      <td>34</td>\n",
       "      <td>2018</td>\n",
       "      <td>D1</td>\n",
       "      <td>450020083</td>\n",
       "      <td>B- SHOPPERS DRUG MART WEST</td>\n",
       "      <td>2018-08-03</td>\n",
       "      <td>8/3/2018</td>\n",
       "      <td>...</td>\n",
       "      <td>16</td>\n",
       "      <td>963.0</td>\n",
       "      <td>0.0</td>\n",
       "      <td>28</td>\n",
       "      <td>31</td>\n",
       "      <td>Correspondence Email:Multiple Past Due Invoices</td>\n",
       "      <td>0</td>\n",
       "      <td>13</td>\n",
       "      <td>18.782807</td>\n",
       "      <td>160.787581</td>\n",
       "    </tr>\n",
       "  </tbody>\n",
       "</table>\n",
       "<p>2 rows × 57 columns</p>\n",
       "</div>"
      ],
      "text/plain": [
       "   provider_datatype_id    job_id  document_number_norm  company_code  \\\n",
       "0                  2854  97380990            8142632785            34   \n",
       "1                  2854  97380990            8142632853            34   \n",
       "\n",
       "   fiscal_year doctype  customer_number_norm               customer_name  \\\n",
       "0         2018      D1             450020083  B- SHOPPERS DRUG MART WEST   \n",
       "1         2018      D1             450020083  B- SHOPPERS DRUG MART WEST   \n",
       "\n",
       "  document_date_norm posting_date_norm  ... dayspast_due fk_document_type_id  \\\n",
       "0         2018-08-03          8/3/2018  ...           16               963.0   \n",
       "1         2018-08-03          8/3/2018  ...           16               963.0   \n",
       "\n",
       "   current_open_amount  days_to_pay  invoice_age  \\\n",
       "0                  0.0           28           31   \n",
       "1                  0.0           28           31   \n",
       "\n",
       "                                latest_user_action is_escalated delay  \\\n",
       "0  Correspondence Email:Multiple Past Due Invoices            0    13   \n",
       "1  Correspondence Email:Multiple Past Due Invoices            0    13   \n",
       "\n",
       "   mean_delay cust_invoice_amt_mean  \n",
       "0   18.782807            160.787581  \n",
       "1   18.782807            160.787581  \n",
       "\n",
       "[2 rows x 57 columns]"
      ]
     },
     "execution_count": 44,
     "metadata": {},
     "output_type": "execute_result"
    }
   ],
   "source": [
    "closed_test.head(2)"
   ]
  },
  {
   "cell_type": "markdown",
   "metadata": {},
   "source": [
    "# 2.Expected day to pay(Expected_to pay)"
   ]
  },
  {
   "cell_type": "markdown",
   "metadata": {},
   "source": [
    "Making new feature expected to pay which refers to the duration of days in which the customer is suppose to clear the invoice."
   ]
  },
  {
   "cell_type": "code",
   "execution_count": 45,
   "metadata": {},
   "outputs": [],
   "source": [
    "closed_train['Expected_to pay']=(closed_train['due_date_norm']-closed_train['baseline_date_norm']).dt.days"
   ]
  },
  {
   "cell_type": "code",
   "execution_count": 46,
   "metadata": {},
   "outputs": [],
   "source": [
    "closed_validation['Expected_to pay']=(closed_train['due_date_norm']-closed_train['baseline_date_norm']).dt.days"
   ]
  },
  {
   "cell_type": "code",
   "execution_count": 47,
   "metadata": {},
   "outputs": [],
   "source": [
    "closed_test['Expected_to pay']=(closed_train['due_date_norm']-closed_train['baseline_date_norm']).dt.days"
   ]
  },
  {
   "cell_type": "markdown",
   "metadata": {},
   "source": [
    "# 3. Calculating the month and day of the week from due date norm"
   ]
  },
  {
   "cell_type": "code",
   "execution_count": 48,
   "metadata": {},
   "outputs": [],
   "source": [
    "closed_train['due_date_week']=pd.to_datetime(closed_train['due_date_norm']).dt.dayofweek\n",
    "closed_train['due_date_month']=pd.to_datetime(closed_train['due_date_norm']).dt.month\n",
    "closed_validation['due_date_week']=pd.to_datetime(closed_validation['due_date_norm']).dt.dayofweek\n",
    "closed_validation['due_date_month']=pd.to_datetime(closed_validation['due_date_norm']).dt.month\n",
    "closed_test['due_date_week']=pd.to_datetime(closed_test['due_date_norm']).dt.dayofweek\n",
    "closed_test['due_date_month']=pd.to_datetime(closed_test['due_date_norm']).dt.month"
   ]
  },
  {
   "cell_type": "code",
   "execution_count": 49,
   "metadata": {},
   "outputs": [
    {
     "data": {
      "text/plain": [
       "Index(['provider_datatype_id', 'job_id', 'document_number_norm',\n",
       "       'company_code', 'fiscal_year', 'doctype', 'customer_number_norm',\n",
       "       'customer_name', 'document_date_norm', 'posting_date_norm',\n",
       "       'baseline_date_norm', 'due_date_norm', 'invoice_number_norm',\n",
       "       'invoice_amount_norm', 'open_amount_norm', 'amount_currency',\n",
       "       'po_number_norm', 'payment_terms', 'business_area',\n",
       "       'clearing_date_norm', 'clearing_document', 'reason_code', 'status_code',\n",
       "       'source', 'isOpen', 'reference_doc_number', 'cash_discount1',\n",
       "       'cash_discount2', 'cash_discount_percent1', 'payment_block_key',\n",
       "       'reference_key1', 'reference_key2', 'credit_control_area',\n",
       "       'amt_cash_disc', 'item_text', 'current_dispute_amount_norm',\n",
       "       'document_creation_date_norm', 'ref_number', 'identifier_key',\n",
       "       'reference_key6', 'reference_doc_number_norm', 'cms_doc_header_id',\n",
       "       'fk_customer_map_id.1', 'strategy_aging_bucket_id', 'document_id',\n",
       "       'paid_amount', 'paid_date', 'dayspast_due', 'fk_document_type_id',\n",
       "       'current_open_amount', 'days_to_pay', 'invoice_age',\n",
       "       'latest_user_action', 'is_escalated', 'delay', 'mean_delay',\n",
       "       'cust_invoice_amt_mean', 'Expected_to pay', 'due_date_week',\n",
       "       'due_date_month'],\n",
       "      dtype='object')"
      ]
     },
     "execution_count": 49,
     "metadata": {},
     "output_type": "execute_result"
    }
   ],
   "source": [
    "closed_train.columns"
   ]
  },
  {
   "cell_type": "code",
   "execution_count": 50,
   "metadata": {},
   "outputs": [
    {
     "data": {
      "text/plain": [
       "<matplotlib.axes._subplots.AxesSubplot at 0x28ab96d98d0>"
      ]
     },
     "execution_count": 50,
     "metadata": {},
     "output_type": "execute_result"
    }
   ],
   "source": [
    "import matplotlib.pyplot as plt\n",
    "import pylab \n",
    "import scipy.stats as stats\n",
    "import seaborn as sns\n",
    "\n",
    "df1 = closed_train.groupby('payment_terms').agg({'Expected_to pay':'mean'})\n",
    "df1.reset_index(inplace=True)\n",
    "df1.sort_values(by='Expected_to pay',inplace=True)\n",
    "plt.figure(figsize=(15,12))\n",
    "sns.barplot(x='payment_terms',y='Expected_to pay',data=df1)"
   ]
  },
  {
   "cell_type": "code",
   "execution_count": 51,
   "metadata": {},
   "outputs": [
    {
     "data": {
      "text/plain": [
       "15    201599\n",
       "20     70196\n",
       "60     37473\n",
       "30     31709\n",
       "13     31075\n",
       "10      7237\n",
       "0       6190\n",
       "23      5321\n",
       "17      1030\n",
       "25       887\n",
       "35       813\n",
       "45       350\n",
       "40       218\n",
       "90       175\n",
       "31       154\n",
       "36        36\n",
       "21        16\n",
       "Name: Expected_to pay, dtype: int64"
      ]
     },
     "execution_count": 51,
     "metadata": {},
     "output_type": "execute_result"
    }
   ],
   "source": [
    "closed_train['Expected_to pay'].value_counts()"
   ]
  },
  {
   "cell_type": "markdown",
   "metadata": {},
   "source": [
    "From the above graph we can observe that payment terms coincide with the expected days to pay i.e for CN90 expected days are 90 so we can conclude that they are highly coorelated.so we can use any one of them as a feature.i am goin with expected days to pay."
   ]
  },
  {
   "cell_type": "markdown",
   "metadata": {},
   "source": [
    "# 4.Amount Category Feature(amount_category_encoded)"
   ]
  },
  {
   "cell_type": "markdown",
   "metadata": {},
   "source": [
    "We have created a new feature amount_cattegory on invoice_amount_norm where the customers are divided in to category \n",
    "of various groups based on their invoice amount norm."
   ]
  },
  {
   "cell_type": "code",
   "execution_count": 53,
   "metadata": {},
   "outputs": [],
   "source": [
    "closed_train['amount_category'] = closed_train['invoice_amount_norm'].apply(lambda x: '<25k' if x<25000 else('25k-75k' if x<75000 else('75k-125k' if x<125000 else'125k')))"
   ]
  },
  {
   "cell_type": "code",
   "execution_count": 54,
   "metadata": {},
   "outputs": [],
   "source": [
    "closed_validation['amount_category'] = closed_validation['invoice_amount_norm'].apply(lambda x: '<25k' if x<25000 else('25k-75k' if x<75000 else('75k-125k' if x<125000 else'125k')))"
   ]
  },
  {
   "cell_type": "code",
   "execution_count": 55,
   "metadata": {},
   "outputs": [],
   "source": [
    "closed_test['amount_category'] = closed_test['invoice_amount_norm'].apply(lambda x: '<25k' if x<25000 else('25k-75k' if x<75000 else('75k-125k' if x<125000 else'125k')))"
   ]
  },
  {
   "cell_type": "code",
   "execution_count": 56,
   "metadata": {},
   "outputs": [
    {
     "data": {
      "text/plain": [
       "0"
      ]
     },
     "execution_count": 56,
     "metadata": {},
     "output_type": "execute_result"
    }
   ],
   "source": [
    "closed_train['amount_category'].isnull().sum()"
   ]
  },
  {
   "cell_type": "code",
   "execution_count": 57,
   "metadata": {},
   "outputs": [
    {
     "data": {
      "text/plain": [
       "0"
      ]
     },
     "execution_count": 57,
     "metadata": {},
     "output_type": "execute_result"
    }
   ],
   "source": [
    "closed_train['amount_category'].isnull().sum()"
   ]
  },
  {
   "cell_type": "code",
   "execution_count": 58,
   "metadata": {},
   "outputs": [
    {
     "data": {
      "text/plain": [
       "0"
      ]
     },
     "execution_count": 58,
     "metadata": {},
     "output_type": "execute_result"
    }
   ],
   "source": [
    "closed_test['amount_category'].isnull().sum()"
   ]
  },
  {
   "cell_type": "markdown",
   "metadata": {},
   "source": [
    "Now in order to use this as a feature we have label encoded the above amount_category. "
   ]
  },
  {
   "cell_type": "code",
   "execution_count": 59,
   "metadata": {},
   "outputs": [],
   "source": [
    "closed_train['amount_category_encoded'] = closed_train['invoice_amount_norm'].apply(lambda x: 0 if x<25000 else(1 if x<75000 else(2 if x<125000 else 3)))"
   ]
  },
  {
   "cell_type": "code",
   "execution_count": 60,
   "metadata": {},
   "outputs": [],
   "source": [
    "closed_validation['amount_category_encoded'] = closed_validation['invoice_amount_norm'].apply(lambda x: 0 if x<25000 else(1 if x<75000 else(2 if x<125000 else 3)))"
   ]
  },
  {
   "cell_type": "code",
   "execution_count": 61,
   "metadata": {},
   "outputs": [],
   "source": [
    "closed_test['amount_category_encoded'] = closed_train['invoice_amount_norm'].apply(lambda x: 0 if x<25000 else(1 if x<75000 else(2 if x<125000 else 3)))"
   ]
  },
  {
   "cell_type": "code",
   "execution_count": 63,
   "metadata": {},
   "outputs": [
    {
     "data": {
      "text/plain": [
       "D1    388201\n",
       "DR      6271\n",
       "D2         7\n",
       "Name: doctype, dtype: int64"
      ]
     },
     "execution_count": 63,
     "metadata": {},
     "output_type": "execute_result"
    }
   ],
   "source": [
    "closed_train['doctype'].value_counts()"
   ]
  },
  {
   "cell_type": "code",
   "execution_count": 64,
   "metadata": {},
   "outputs": [
    {
     "data": {
      "text/plain": [
       "16655.10    964\n",
       "23740.50    318\n",
       "21980.64    312\n",
       "5966.40     285\n",
       "47649.17    272\n",
       "4439.25     261\n",
       "1638.56     254\n",
       "18727.80    252\n",
       "3277.12     246\n",
       "2495.35     221\n",
       "7398.75     220\n",
       "3030.05     209\n",
       "1870.31     198\n",
       "5919.00     190\n",
       "2457.84     190\n",
       "1247.68     189\n",
       "1527.82     189\n",
       "53221.39    184\n",
       "16464.00    175\n",
       "47656.22    167\n",
       "819.28      151\n",
       "2139.84     150\n",
       "4915.68     145\n",
       "8949.60     145\n",
       "13601.25    145\n",
       "181.12      144\n",
       "25137.00    144\n",
       "8878.50     143\n",
       "4474.80     141\n",
       "4096.40     140\n",
       "           ... \n",
       "765.96        1\n",
       "37461.64      1\n",
       "5645.71       1\n",
       "8554.70       1\n",
       "59580.83      1\n",
       "4680.33       1\n",
       "22596.41      1\n",
       "14894.02      1\n",
       "12229.13      1\n",
       "14929.98      1\n",
       "6963.81       1\n",
       "12801.50      1\n",
       "1243.66       1\n",
       "464.49        1\n",
       "7012.18       1\n",
       "24459.01      1\n",
       "55232.03      1\n",
       "267.35        1\n",
       "75629.97      1\n",
       "48918.77      1\n",
       "424.49        1\n",
       "388.46        1\n",
       "67749.40      1\n",
       "55233.03      1\n",
       "3971.84       1\n",
       "53556.50      1\n",
       "90349.61      1\n",
       "42672.30      1\n",
       "55244.65      1\n",
       "23294.22      1\n",
       "Name: current_dispute_amount_norm, Length: 237284, dtype: int64"
      ]
     },
     "execution_count": 64,
     "metadata": {},
     "output_type": "execute_result"
    }
   ],
   "source": [
    "closed_train['current_dispute_amount_norm'].value_counts()"
   ]
  },
  {
   "cell_type": "code",
   "execution_count": 65,
   "metadata": {},
   "outputs": [
    {
     "data": {
      "text/plain": [
       "Index(['provider_datatype_id', 'job_id', 'document_number_norm',\n",
       "       'company_code', 'fiscal_year', 'doctype', 'customer_number_norm',\n",
       "       'customer_name', 'document_date_norm', 'posting_date_norm',\n",
       "       'baseline_date_norm', 'due_date_norm', 'invoice_number_norm',\n",
       "       'invoice_amount_norm', 'open_amount_norm', 'amount_currency',\n",
       "       'po_number_norm', 'payment_terms', 'business_area',\n",
       "       'clearing_date_norm', 'clearing_document', 'reason_code', 'status_code',\n",
       "       'source', 'isOpen', 'reference_doc_number', 'cash_discount1',\n",
       "       'cash_discount2', 'cash_discount_percent1', 'payment_block_key',\n",
       "       'reference_key1', 'reference_key2', 'credit_control_area',\n",
       "       'amt_cash_disc', 'item_text', 'current_dispute_amount_norm',\n",
       "       'document_creation_date_norm', 'ref_number', 'identifier_key',\n",
       "       'reference_key6', 'reference_doc_number_norm', 'cms_doc_header_id',\n",
       "       'fk_customer_map_id.1', 'strategy_aging_bucket_id', 'document_id',\n",
       "       'paid_amount', 'paid_date', 'dayspast_due', 'fk_document_type_id',\n",
       "       'current_open_amount', 'days_to_pay', 'invoice_age',\n",
       "       'latest_user_action', 'is_escalated', 'delay', 'mean_delay',\n",
       "       'cust_invoice_amt_mean', 'Expected_to pay', 'due_date_week',\n",
       "       'due_date_month', 'amount_category', 'amount_category_encoded'],\n",
       "      dtype='object')"
      ]
     },
     "execution_count": 65,
     "metadata": {},
     "output_type": "execute_result"
    }
   ],
   "source": [
    "closed_train.columns"
   ]
  },
  {
   "cell_type": "markdown",
   "metadata": {},
   "source": [
    "# 5.Delay ratio(delay_ratio):It is the ratio between the number of invoices that got delayed by the total number of invoices."
   ]
  },
  {
   "cell_type": "code",
   "execution_count": 66,
   "metadata": {},
   "outputs": [],
   "source": [
    "#selecting rows where delay is greater than zero.\n",
    "closed_train_pos_delay = closed_train[closed_train['delay'] > 0]"
   ]
  },
  {
   "cell_type": "code",
   "execution_count": 67,
   "metadata": {},
   "outputs": [
    {
     "data": {
      "text/html": [
       "<div>\n",
       "<style scoped>\n",
       "    .dataframe tbody tr th:only-of-type {\n",
       "        vertical-align: middle;\n",
       "    }\n",
       "\n",
       "    .dataframe tbody tr th {\n",
       "        vertical-align: top;\n",
       "    }\n",
       "\n",
       "    .dataframe thead th {\n",
       "        text-align: right;\n",
       "    }\n",
       "</style>\n",
       "<table border=\"1\" class=\"dataframe\">\n",
       "  <thead>\n",
       "    <tr style=\"text-align: right;\">\n",
       "      <th></th>\n",
       "      <th>fk_customer_map_id.1</th>\n",
       "      <th>delay</th>\n",
       "    </tr>\n",
       "  </thead>\n",
       "  <tbody>\n",
       "    <tr>\n",
       "      <th>0</th>\n",
       "      <td>527270</td>\n",
       "      <td>460</td>\n",
       "    </tr>\n",
       "    <tr>\n",
       "      <th>1</th>\n",
       "      <td>527272</td>\n",
       "      <td>30</td>\n",
       "    </tr>\n",
       "    <tr>\n",
       "      <th>2</th>\n",
       "      <td>527275</td>\n",
       "      <td>154</td>\n",
       "    </tr>\n",
       "    <tr>\n",
       "      <th>3</th>\n",
       "      <td>527285</td>\n",
       "      <td>9</td>\n",
       "    </tr>\n",
       "    <tr>\n",
       "      <th>4</th>\n",
       "      <td>527294</td>\n",
       "      <td>82</td>\n",
       "    </tr>\n",
       "  </tbody>\n",
       "</table>\n",
       "</div>"
      ],
      "text/plain": [
       "   fk_customer_map_id.1  delay\n",
       "0                527270    460\n",
       "1                527272     30\n",
       "2                527275    154\n",
       "3                527285      9\n",
       "4                527294     82"
      ]
     },
     "execution_count": 67,
     "metadata": {},
     "output_type": "execute_result"
    }
   ],
   "source": [
    "#grouping on the basis of 'fk_customer_map_id.1' from closed_train_pos_delay dataframe.\n",
    "grp_pos_delay_count = closed_train_pos_delay.groupby(['fk_customer_map_id.1']).agg({'delay':'count'}).reset_index()\n",
    "grp_pos_delay_count.head()"
   ]
  },
  {
   "cell_type": "code",
   "execution_count": 68,
   "metadata": {},
   "outputs": [
    {
     "data": {
      "text/html": [
       "<div>\n",
       "<style scoped>\n",
       "    .dataframe tbody tr th:only-of-type {\n",
       "        vertical-align: middle;\n",
       "    }\n",
       "\n",
       "    .dataframe tbody tr th {\n",
       "        vertical-align: top;\n",
       "    }\n",
       "\n",
       "    .dataframe thead th {\n",
       "        text-align: right;\n",
       "    }\n",
       "</style>\n",
       "<table border=\"1\" class=\"dataframe\">\n",
       "  <thead>\n",
       "    <tr style=\"text-align: right;\">\n",
       "      <th></th>\n",
       "      <th>fk_customer_map_id.1</th>\n",
       "      <th>delay</th>\n",
       "    </tr>\n",
       "  </thead>\n",
       "  <tbody>\n",
       "    <tr>\n",
       "      <th>0</th>\n",
       "      <td>527270</td>\n",
       "      <td>460</td>\n",
       "    </tr>\n",
       "    <tr>\n",
       "      <th>1</th>\n",
       "      <td>527272</td>\n",
       "      <td>30</td>\n",
       "    </tr>\n",
       "    <tr>\n",
       "      <th>2</th>\n",
       "      <td>527275</td>\n",
       "      <td>160</td>\n",
       "    </tr>\n",
       "    <tr>\n",
       "      <th>3</th>\n",
       "      <td>527285</td>\n",
       "      <td>9</td>\n",
       "    </tr>\n",
       "    <tr>\n",
       "      <th>4</th>\n",
       "      <td>527294</td>\n",
       "      <td>83</td>\n",
       "    </tr>\n",
       "  </tbody>\n",
       "</table>\n",
       "</div>"
      ],
      "text/plain": [
       "   fk_customer_map_id.1  delay\n",
       "0                527270    460\n",
       "1                527272     30\n",
       "2                527275    160\n",
       "3                527285      9\n",
       "4                527294     83"
      ]
     },
     "execution_count": 68,
     "metadata": {},
     "output_type": "execute_result"
    }
   ],
   "source": [
    "#grouping on the basis of 'fk_customer_map_id.1' from closed_train dataframe.\n",
    "grp_total_delay_count = closed_train.groupby(['fk_customer_map_id.1']).agg({'delay':'count'}).reset_index()\n",
    "grp_total_delay_count.head()"
   ]
  },
  {
   "cell_type": "code",
   "execution_count": 69,
   "metadata": {},
   "outputs": [
    {
     "data": {
      "text/html": [
       "<div>\n",
       "<style scoped>\n",
       "    .dataframe tbody tr th:only-of-type {\n",
       "        vertical-align: middle;\n",
       "    }\n",
       "\n",
       "    .dataframe tbody tr th {\n",
       "        vertical-align: top;\n",
       "    }\n",
       "\n",
       "    .dataframe thead th {\n",
       "        text-align: right;\n",
       "    }\n",
       "</style>\n",
       "<table border=\"1\" class=\"dataframe\">\n",
       "  <thead>\n",
       "    <tr style=\"text-align: right;\">\n",
       "      <th></th>\n",
       "      <th>fk_customer_map_id.1</th>\n",
       "      <th>total_delay</th>\n",
       "    </tr>\n",
       "  </thead>\n",
       "  <tbody>\n",
       "    <tr>\n",
       "      <th>0</th>\n",
       "      <td>527270</td>\n",
       "      <td>460</td>\n",
       "    </tr>\n",
       "    <tr>\n",
       "      <th>1</th>\n",
       "      <td>527272</td>\n",
       "      <td>30</td>\n",
       "    </tr>\n",
       "    <tr>\n",
       "      <th>2</th>\n",
       "      <td>527275</td>\n",
       "      <td>160</td>\n",
       "    </tr>\n",
       "    <tr>\n",
       "      <th>3</th>\n",
       "      <td>527285</td>\n",
       "      <td>9</td>\n",
       "    </tr>\n",
       "    <tr>\n",
       "      <th>4</th>\n",
       "      <td>527294</td>\n",
       "      <td>83</td>\n",
       "    </tr>\n",
       "    <tr>\n",
       "      <th>5</th>\n",
       "      <td>527329</td>\n",
       "      <td>262</td>\n",
       "    </tr>\n",
       "    <tr>\n",
       "      <th>6</th>\n",
       "      <td>527341</td>\n",
       "      <td>215</td>\n",
       "    </tr>\n",
       "    <tr>\n",
       "      <th>7</th>\n",
       "      <td>527342</td>\n",
       "      <td>135</td>\n",
       "    </tr>\n",
       "    <tr>\n",
       "      <th>8</th>\n",
       "      <td>527343</td>\n",
       "      <td>23</td>\n",
       "    </tr>\n",
       "    <tr>\n",
       "      <th>9</th>\n",
       "      <td>527344</td>\n",
       "      <td>95</td>\n",
       "    </tr>\n",
       "    <tr>\n",
       "      <th>10</th>\n",
       "      <td>527345</td>\n",
       "      <td>302</td>\n",
       "    </tr>\n",
       "    <tr>\n",
       "      <th>11</th>\n",
       "      <td>527347</td>\n",
       "      <td>102</td>\n",
       "    </tr>\n",
       "    <tr>\n",
       "      <th>12</th>\n",
       "      <td>527348</td>\n",
       "      <td>1627</td>\n",
       "    </tr>\n",
       "    <tr>\n",
       "      <th>13</th>\n",
       "      <td>527360</td>\n",
       "      <td>42</td>\n",
       "    </tr>\n",
       "    <tr>\n",
       "      <th>14</th>\n",
       "      <td>527365</td>\n",
       "      <td>90</td>\n",
       "    </tr>\n",
       "    <tr>\n",
       "      <th>15</th>\n",
       "      <td>527366</td>\n",
       "      <td>179</td>\n",
       "    </tr>\n",
       "    <tr>\n",
       "      <th>16</th>\n",
       "      <td>527371</td>\n",
       "      <td>1</td>\n",
       "    </tr>\n",
       "    <tr>\n",
       "      <th>17</th>\n",
       "      <td>527388</td>\n",
       "      <td>600</td>\n",
       "    </tr>\n",
       "    <tr>\n",
       "      <th>18</th>\n",
       "      <td>527391</td>\n",
       "      <td>141</td>\n",
       "    </tr>\n",
       "    <tr>\n",
       "      <th>19</th>\n",
       "      <td>527392</td>\n",
       "      <td>251</td>\n",
       "    </tr>\n",
       "    <tr>\n",
       "      <th>20</th>\n",
       "      <td>527400</td>\n",
       "      <td>9198</td>\n",
       "    </tr>\n",
       "    <tr>\n",
       "      <th>21</th>\n",
       "      <td>527401</td>\n",
       "      <td>351</td>\n",
       "    </tr>\n",
       "    <tr>\n",
       "      <th>22</th>\n",
       "      <td>527407</td>\n",
       "      <td>1</td>\n",
       "    </tr>\n",
       "    <tr>\n",
       "      <th>23</th>\n",
       "      <td>527408</td>\n",
       "      <td>384</td>\n",
       "    </tr>\n",
       "    <tr>\n",
       "      <th>24</th>\n",
       "      <td>527409</td>\n",
       "      <td>525</td>\n",
       "    </tr>\n",
       "    <tr>\n",
       "      <th>25</th>\n",
       "      <td>527412</td>\n",
       "      <td>92</td>\n",
       "    </tr>\n",
       "    <tr>\n",
       "      <th>26</th>\n",
       "      <td>527422</td>\n",
       "      <td>15</td>\n",
       "    </tr>\n",
       "    <tr>\n",
       "      <th>27</th>\n",
       "      <td>527425</td>\n",
       "      <td>14</td>\n",
       "    </tr>\n",
       "    <tr>\n",
       "      <th>28</th>\n",
       "      <td>527465</td>\n",
       "      <td>4</td>\n",
       "    </tr>\n",
       "    <tr>\n",
       "      <th>29</th>\n",
       "      <td>527467</td>\n",
       "      <td>17</td>\n",
       "    </tr>\n",
       "    <tr>\n",
       "      <th>...</th>\n",
       "      <td>...</td>\n",
       "      <td>...</td>\n",
       "    </tr>\n",
       "    <tr>\n",
       "      <th>685</th>\n",
       "      <td>102581954</td>\n",
       "      <td>6</td>\n",
       "    </tr>\n",
       "    <tr>\n",
       "      <th>686</th>\n",
       "      <td>102581976</td>\n",
       "      <td>117</td>\n",
       "    </tr>\n",
       "    <tr>\n",
       "      <th>687</th>\n",
       "      <td>102581984</td>\n",
       "      <td>2</td>\n",
       "    </tr>\n",
       "    <tr>\n",
       "      <th>688</th>\n",
       "      <td>102581987</td>\n",
       "      <td>41</td>\n",
       "    </tr>\n",
       "    <tr>\n",
       "      <th>689</th>\n",
       "      <td>102581996</td>\n",
       "      <td>48</td>\n",
       "    </tr>\n",
       "    <tr>\n",
       "      <th>690</th>\n",
       "      <td>102582016</td>\n",
       "      <td>9</td>\n",
       "    </tr>\n",
       "    <tr>\n",
       "      <th>691</th>\n",
       "      <td>102582020</td>\n",
       "      <td>60</td>\n",
       "    </tr>\n",
       "    <tr>\n",
       "      <th>692</th>\n",
       "      <td>102582028</td>\n",
       "      <td>1</td>\n",
       "    </tr>\n",
       "    <tr>\n",
       "      <th>693</th>\n",
       "      <td>102582029</td>\n",
       "      <td>1</td>\n",
       "    </tr>\n",
       "    <tr>\n",
       "      <th>694</th>\n",
       "      <td>102582030</td>\n",
       "      <td>1</td>\n",
       "    </tr>\n",
       "    <tr>\n",
       "      <th>695</th>\n",
       "      <td>102582031</td>\n",
       "      <td>1</td>\n",
       "    </tr>\n",
       "    <tr>\n",
       "      <th>696</th>\n",
       "      <td>102582035</td>\n",
       "      <td>683</td>\n",
       "    </tr>\n",
       "    <tr>\n",
       "      <th>697</th>\n",
       "      <td>102582036</td>\n",
       "      <td>25</td>\n",
       "    </tr>\n",
       "    <tr>\n",
       "      <th>698</th>\n",
       "      <td>102582039</td>\n",
       "      <td>14</td>\n",
       "    </tr>\n",
       "    <tr>\n",
       "      <th>699</th>\n",
       "      <td>102583655</td>\n",
       "      <td>104</td>\n",
       "    </tr>\n",
       "    <tr>\n",
       "      <th>700</th>\n",
       "      <td>102583657</td>\n",
       "      <td>2</td>\n",
       "    </tr>\n",
       "    <tr>\n",
       "      <th>701</th>\n",
       "      <td>102583669</td>\n",
       "      <td>316</td>\n",
       "    </tr>\n",
       "    <tr>\n",
       "      <th>702</th>\n",
       "      <td>102583675</td>\n",
       "      <td>4</td>\n",
       "    </tr>\n",
       "    <tr>\n",
       "      <th>703</th>\n",
       "      <td>102583676</td>\n",
       "      <td>49</td>\n",
       "    </tr>\n",
       "    <tr>\n",
       "      <th>704</th>\n",
       "      <td>102583679</td>\n",
       "      <td>38</td>\n",
       "    </tr>\n",
       "    <tr>\n",
       "      <th>705</th>\n",
       "      <td>102583681</td>\n",
       "      <td>5</td>\n",
       "    </tr>\n",
       "    <tr>\n",
       "      <th>706</th>\n",
       "      <td>102583697</td>\n",
       "      <td>26</td>\n",
       "    </tr>\n",
       "    <tr>\n",
       "      <th>707</th>\n",
       "      <td>102583702</td>\n",
       "      <td>18</td>\n",
       "    </tr>\n",
       "    <tr>\n",
       "      <th>708</th>\n",
       "      <td>102583703</td>\n",
       "      <td>18</td>\n",
       "    </tr>\n",
       "    <tr>\n",
       "      <th>709</th>\n",
       "      <td>102583706</td>\n",
       "      <td>36</td>\n",
       "    </tr>\n",
       "    <tr>\n",
       "      <th>710</th>\n",
       "      <td>102583707</td>\n",
       "      <td>30</td>\n",
       "    </tr>\n",
       "    <tr>\n",
       "      <th>711</th>\n",
       "      <td>102583708</td>\n",
       "      <td>1359</td>\n",
       "    </tr>\n",
       "    <tr>\n",
       "      <th>712</th>\n",
       "      <td>102583709</td>\n",
       "      <td>68</td>\n",
       "    </tr>\n",
       "    <tr>\n",
       "      <th>713</th>\n",
       "      <td>102583715</td>\n",
       "      <td>792</td>\n",
       "    </tr>\n",
       "    <tr>\n",
       "      <th>714</th>\n",
       "      <td>102583716</td>\n",
       "      <td>1211</td>\n",
       "    </tr>\n",
       "  </tbody>\n",
       "</table>\n",
       "<p>715 rows × 2 columns</p>\n",
       "</div>"
      ],
      "text/plain": [
       "     fk_customer_map_id.1  total_delay\n",
       "0                  527270          460\n",
       "1                  527272           30\n",
       "2                  527275          160\n",
       "3                  527285            9\n",
       "4                  527294           83\n",
       "5                  527329          262\n",
       "6                  527341          215\n",
       "7                  527342          135\n",
       "8                  527343           23\n",
       "9                  527344           95\n",
       "10                 527345          302\n",
       "11                 527347          102\n",
       "12                 527348         1627\n",
       "13                 527360           42\n",
       "14                 527365           90\n",
       "15                 527366          179\n",
       "16                 527371            1\n",
       "17                 527388          600\n",
       "18                 527391          141\n",
       "19                 527392          251\n",
       "20                 527400         9198\n",
       "21                 527401          351\n",
       "22                 527407            1\n",
       "23                 527408          384\n",
       "24                 527409          525\n",
       "25                 527412           92\n",
       "26                 527422           15\n",
       "27                 527425           14\n",
       "28                 527465            4\n",
       "29                 527467           17\n",
       "..                    ...          ...\n",
       "685             102581954            6\n",
       "686             102581976          117\n",
       "687             102581984            2\n",
       "688             102581987           41\n",
       "689             102581996           48\n",
       "690             102582016            9\n",
       "691             102582020           60\n",
       "692             102582028            1\n",
       "693             102582029            1\n",
       "694             102582030            1\n",
       "695             102582031            1\n",
       "696             102582035          683\n",
       "697             102582036           25\n",
       "698             102582039           14\n",
       "699             102583655          104\n",
       "700             102583657            2\n",
       "701             102583669          316\n",
       "702             102583675            4\n",
       "703             102583676           49\n",
       "704             102583679           38\n",
       "705             102583681            5\n",
       "706             102583697           26\n",
       "707             102583702           18\n",
       "708             102583703           18\n",
       "709             102583706           36\n",
       "710             102583707           30\n",
       "711             102583708         1359\n",
       "712             102583709           68\n",
       "713             102583715          792\n",
       "714             102583716         1211\n",
       "\n",
       "[715 rows x 2 columns]"
      ]
     },
     "execution_count": 69,
     "metadata": {},
     "output_type": "execute_result"
    }
   ],
   "source": [
    "#renaming the delay columns in grp_pos_delay_count and grp_total_delay_count dataframes.\n",
    "grp_pos_delay_count.rename(columns = {'delay':'positive_delay'})\n",
    "grp_total_delay_count.rename(columns = {'delay':'total_delay'})"
   ]
  },
  {
   "cell_type": "code",
   "execution_count": 70,
   "metadata": {},
   "outputs": [],
   "source": [
    "# merging the grp_pos_delay_count dateframe to grp_total_delay_count.\n",
    "grp_pos_delay_count.columns = ['fk_customer_map_id.1','positive_delay']\n",
    "grp_total_delay_count = pd.merge(grp_total_delay_count,grp_pos_delay_count,how='left',on='fk_customer_map_id.1')"
   ]
  },
  {
   "cell_type": "code",
   "execution_count": 71,
   "metadata": {},
   "outputs": [
    {
     "data": {
      "text/html": [
       "<div>\n",
       "<style scoped>\n",
       "    .dataframe tbody tr th:only-of-type {\n",
       "        vertical-align: middle;\n",
       "    }\n",
       "\n",
       "    .dataframe tbody tr th {\n",
       "        vertical-align: top;\n",
       "    }\n",
       "\n",
       "    .dataframe thead th {\n",
       "        text-align: right;\n",
       "    }\n",
       "</style>\n",
       "<table border=\"1\" class=\"dataframe\">\n",
       "  <thead>\n",
       "    <tr style=\"text-align: right;\">\n",
       "      <th></th>\n",
       "      <th>fk_customer_map_id.1</th>\n",
       "      <th>delay</th>\n",
       "      <th>positive_delay</th>\n",
       "    </tr>\n",
       "  </thead>\n",
       "  <tbody>\n",
       "    <tr>\n",
       "      <th>0</th>\n",
       "      <td>527270</td>\n",
       "      <td>460</td>\n",
       "      <td>460.0</td>\n",
       "    </tr>\n",
       "    <tr>\n",
       "      <th>1</th>\n",
       "      <td>527272</td>\n",
       "      <td>30</td>\n",
       "      <td>30.0</td>\n",
       "    </tr>\n",
       "    <tr>\n",
       "      <th>2</th>\n",
       "      <td>527275</td>\n",
       "      <td>160</td>\n",
       "      <td>154.0</td>\n",
       "    </tr>\n",
       "    <tr>\n",
       "      <th>3</th>\n",
       "      <td>527285</td>\n",
       "      <td>9</td>\n",
       "      <td>9.0</td>\n",
       "    </tr>\n",
       "    <tr>\n",
       "      <th>4</th>\n",
       "      <td>527294</td>\n",
       "      <td>83</td>\n",
       "      <td>82.0</td>\n",
       "    </tr>\n",
       "  </tbody>\n",
       "</table>\n",
       "</div>"
      ],
      "text/plain": [
       "   fk_customer_map_id.1  delay  positive_delay\n",
       "0                527270    460           460.0\n",
       "1                527272     30            30.0\n",
       "2                527275    160           154.0\n",
       "3                527285      9             9.0\n",
       "4                527294     83            82.0"
      ]
     },
     "execution_count": 71,
     "metadata": {},
     "output_type": "execute_result"
    }
   ],
   "source": [
    "grp_total_delay_count.head()"
   ]
  },
  {
   "cell_type": "code",
   "execution_count": 72,
   "metadata": {},
   "outputs": [],
   "source": [
    "# filling those places whrere thaere is null values with 0 because the null places will have 0 dealy\n",
    "grp_total_delay_count.fillna(value={'positive_delay':0},inplace=True)"
   ]
  },
  {
   "cell_type": "code",
   "execution_count": 73,
   "metadata": {},
   "outputs": [],
   "source": [
    "grp_total_delay_count['delay']= grp_total_delay_count['positive_delay']/grp_total_delay_count['delay']\n"
   ]
  },
  {
   "cell_type": "code",
   "execution_count": 74,
   "metadata": {},
   "outputs": [
    {
     "data": {
      "text/html": [
       "<div>\n",
       "<style scoped>\n",
       "    .dataframe tbody tr th:only-of-type {\n",
       "        vertical-align: middle;\n",
       "    }\n",
       "\n",
       "    .dataframe tbody tr th {\n",
       "        vertical-align: top;\n",
       "    }\n",
       "\n",
       "    .dataframe thead th {\n",
       "        text-align: right;\n",
       "    }\n",
       "</style>\n",
       "<table border=\"1\" class=\"dataframe\">\n",
       "  <thead>\n",
       "    <tr style=\"text-align: right;\">\n",
       "      <th></th>\n",
       "      <th>fk_customer_map_id.1</th>\n",
       "      <th>delay</th>\n",
       "      <th>positive_delay</th>\n",
       "    </tr>\n",
       "  </thead>\n",
       "  <tbody>\n",
       "    <tr>\n",
       "      <th>0</th>\n",
       "      <td>527270</td>\n",
       "      <td>1.000000</td>\n",
       "      <td>460.0</td>\n",
       "    </tr>\n",
       "    <tr>\n",
       "      <th>1</th>\n",
       "      <td>527272</td>\n",
       "      <td>1.000000</td>\n",
       "      <td>30.0</td>\n",
       "    </tr>\n",
       "    <tr>\n",
       "      <th>2</th>\n",
       "      <td>527275</td>\n",
       "      <td>0.962500</td>\n",
       "      <td>154.0</td>\n",
       "    </tr>\n",
       "    <tr>\n",
       "      <th>3</th>\n",
       "      <td>527285</td>\n",
       "      <td>1.000000</td>\n",
       "      <td>9.0</td>\n",
       "    </tr>\n",
       "    <tr>\n",
       "      <th>4</th>\n",
       "      <td>527294</td>\n",
       "      <td>0.987952</td>\n",
       "      <td>82.0</td>\n",
       "    </tr>\n",
       "  </tbody>\n",
       "</table>\n",
       "</div>"
      ],
      "text/plain": [
       "   fk_customer_map_id.1     delay  positive_delay\n",
       "0                527270  1.000000           460.0\n",
       "1                527272  1.000000            30.0\n",
       "2                527275  0.962500           154.0\n",
       "3                527285  1.000000             9.0\n",
       "4                527294  0.987952            82.0"
      ]
     },
     "execution_count": 74,
     "metadata": {},
     "output_type": "execute_result"
    }
   ],
   "source": [
    "grp_total_delay_count.head()"
   ]
  },
  {
   "cell_type": "code",
   "execution_count": 75,
   "metadata": {},
   "outputs": [
    {
     "data": {
      "text/html": [
       "<div>\n",
       "<style scoped>\n",
       "    .dataframe tbody tr th:only-of-type {\n",
       "        vertical-align: middle;\n",
       "    }\n",
       "\n",
       "    .dataframe tbody tr th {\n",
       "        vertical-align: top;\n",
       "    }\n",
       "\n",
       "    .dataframe thead th {\n",
       "        text-align: right;\n",
       "    }\n",
       "</style>\n",
       "<table border=\"1\" class=\"dataframe\">\n",
       "  <thead>\n",
       "    <tr style=\"text-align: right;\">\n",
       "      <th></th>\n",
       "      <th>fk_customer_map_id.1</th>\n",
       "      <th>delay_ratio</th>\n",
       "      <th>positive_delay</th>\n",
       "    </tr>\n",
       "  </thead>\n",
       "  <tbody>\n",
       "    <tr>\n",
       "      <th>0</th>\n",
       "      <td>527270</td>\n",
       "      <td>1.000000</td>\n",
       "      <td>460.0</td>\n",
       "    </tr>\n",
       "    <tr>\n",
       "      <th>1</th>\n",
       "      <td>527272</td>\n",
       "      <td>1.000000</td>\n",
       "      <td>30.0</td>\n",
       "    </tr>\n",
       "    <tr>\n",
       "      <th>2</th>\n",
       "      <td>527275</td>\n",
       "      <td>0.962500</td>\n",
       "      <td>154.0</td>\n",
       "    </tr>\n",
       "    <tr>\n",
       "      <th>3</th>\n",
       "      <td>527285</td>\n",
       "      <td>1.000000</td>\n",
       "      <td>9.0</td>\n",
       "    </tr>\n",
       "    <tr>\n",
       "      <th>4</th>\n",
       "      <td>527294</td>\n",
       "      <td>0.987952</td>\n",
       "      <td>82.0</td>\n",
       "    </tr>\n",
       "    <tr>\n",
       "      <th>5</th>\n",
       "      <td>527329</td>\n",
       "      <td>0.851145</td>\n",
       "      <td>223.0</td>\n",
       "    </tr>\n",
       "    <tr>\n",
       "      <th>6</th>\n",
       "      <td>527341</td>\n",
       "      <td>0.520930</td>\n",
       "      <td>112.0</td>\n",
       "    </tr>\n",
       "    <tr>\n",
       "      <th>7</th>\n",
       "      <td>527342</td>\n",
       "      <td>0.992593</td>\n",
       "      <td>134.0</td>\n",
       "    </tr>\n",
       "    <tr>\n",
       "      <th>8</th>\n",
       "      <td>527343</td>\n",
       "      <td>1.000000</td>\n",
       "      <td>23.0</td>\n",
       "    </tr>\n",
       "    <tr>\n",
       "      <th>9</th>\n",
       "      <td>527344</td>\n",
       "      <td>1.000000</td>\n",
       "      <td>95.0</td>\n",
       "    </tr>\n",
       "    <tr>\n",
       "      <th>10</th>\n",
       "      <td>527345</td>\n",
       "      <td>0.738411</td>\n",
       "      <td>223.0</td>\n",
       "    </tr>\n",
       "    <tr>\n",
       "      <th>11</th>\n",
       "      <td>527347</td>\n",
       "      <td>1.000000</td>\n",
       "      <td>102.0</td>\n",
       "    </tr>\n",
       "    <tr>\n",
       "      <th>12</th>\n",
       "      <td>527348</td>\n",
       "      <td>0.993854</td>\n",
       "      <td>1617.0</td>\n",
       "    </tr>\n",
       "    <tr>\n",
       "      <th>13</th>\n",
       "      <td>527360</td>\n",
       "      <td>1.000000</td>\n",
       "      <td>42.0</td>\n",
       "    </tr>\n",
       "    <tr>\n",
       "      <th>14</th>\n",
       "      <td>527365</td>\n",
       "      <td>1.000000</td>\n",
       "      <td>90.0</td>\n",
       "    </tr>\n",
       "    <tr>\n",
       "      <th>15</th>\n",
       "      <td>527366</td>\n",
       "      <td>0.916201</td>\n",
       "      <td>164.0</td>\n",
       "    </tr>\n",
       "    <tr>\n",
       "      <th>16</th>\n",
       "      <td>527371</td>\n",
       "      <td>1.000000</td>\n",
       "      <td>1.0</td>\n",
       "    </tr>\n",
       "    <tr>\n",
       "      <th>17</th>\n",
       "      <td>527388</td>\n",
       "      <td>0.990000</td>\n",
       "      <td>594.0</td>\n",
       "    </tr>\n",
       "    <tr>\n",
       "      <th>18</th>\n",
       "      <td>527391</td>\n",
       "      <td>0.992908</td>\n",
       "      <td>140.0</td>\n",
       "    </tr>\n",
       "    <tr>\n",
       "      <th>19</th>\n",
       "      <td>527392</td>\n",
       "      <td>0.390438</td>\n",
       "      <td>98.0</td>\n",
       "    </tr>\n",
       "    <tr>\n",
       "      <th>20</th>\n",
       "      <td>527400</td>\n",
       "      <td>0.952490</td>\n",
       "      <td>8761.0</td>\n",
       "    </tr>\n",
       "    <tr>\n",
       "      <th>21</th>\n",
       "      <td>527401</td>\n",
       "      <td>0.313390</td>\n",
       "      <td>110.0</td>\n",
       "    </tr>\n",
       "    <tr>\n",
       "      <th>22</th>\n",
       "      <td>527407</td>\n",
       "      <td>1.000000</td>\n",
       "      <td>1.0</td>\n",
       "    </tr>\n",
       "    <tr>\n",
       "      <th>23</th>\n",
       "      <td>527408</td>\n",
       "      <td>0.593750</td>\n",
       "      <td>228.0</td>\n",
       "    </tr>\n",
       "    <tr>\n",
       "      <th>24</th>\n",
       "      <td>527409</td>\n",
       "      <td>0.994286</td>\n",
       "      <td>522.0</td>\n",
       "    </tr>\n",
       "    <tr>\n",
       "      <th>25</th>\n",
       "      <td>527412</td>\n",
       "      <td>0.989130</td>\n",
       "      <td>91.0</td>\n",
       "    </tr>\n",
       "    <tr>\n",
       "      <th>26</th>\n",
       "      <td>527422</td>\n",
       "      <td>1.000000</td>\n",
       "      <td>15.0</td>\n",
       "    </tr>\n",
       "    <tr>\n",
       "      <th>27</th>\n",
       "      <td>527425</td>\n",
       "      <td>0.928571</td>\n",
       "      <td>13.0</td>\n",
       "    </tr>\n",
       "    <tr>\n",
       "      <th>28</th>\n",
       "      <td>527465</td>\n",
       "      <td>1.000000</td>\n",
       "      <td>4.0</td>\n",
       "    </tr>\n",
       "    <tr>\n",
       "      <th>29</th>\n",
       "      <td>527467</td>\n",
       "      <td>1.000000</td>\n",
       "      <td>17.0</td>\n",
       "    </tr>\n",
       "    <tr>\n",
       "      <th>...</th>\n",
       "      <td>...</td>\n",
       "      <td>...</td>\n",
       "      <td>...</td>\n",
       "    </tr>\n",
       "    <tr>\n",
       "      <th>685</th>\n",
       "      <td>102581954</td>\n",
       "      <td>1.000000</td>\n",
       "      <td>6.0</td>\n",
       "    </tr>\n",
       "    <tr>\n",
       "      <th>686</th>\n",
       "      <td>102581976</td>\n",
       "      <td>0.538462</td>\n",
       "      <td>63.0</td>\n",
       "    </tr>\n",
       "    <tr>\n",
       "      <th>687</th>\n",
       "      <td>102581984</td>\n",
       "      <td>1.000000</td>\n",
       "      <td>2.0</td>\n",
       "    </tr>\n",
       "    <tr>\n",
       "      <th>688</th>\n",
       "      <td>102581987</td>\n",
       "      <td>1.000000</td>\n",
       "      <td>41.0</td>\n",
       "    </tr>\n",
       "    <tr>\n",
       "      <th>689</th>\n",
       "      <td>102581996</td>\n",
       "      <td>0.770833</td>\n",
       "      <td>37.0</td>\n",
       "    </tr>\n",
       "    <tr>\n",
       "      <th>690</th>\n",
       "      <td>102582016</td>\n",
       "      <td>1.000000</td>\n",
       "      <td>9.0</td>\n",
       "    </tr>\n",
       "    <tr>\n",
       "      <th>691</th>\n",
       "      <td>102582020</td>\n",
       "      <td>1.000000</td>\n",
       "      <td>60.0</td>\n",
       "    </tr>\n",
       "    <tr>\n",
       "      <th>692</th>\n",
       "      <td>102582028</td>\n",
       "      <td>1.000000</td>\n",
       "      <td>1.0</td>\n",
       "    </tr>\n",
       "    <tr>\n",
       "      <th>693</th>\n",
       "      <td>102582029</td>\n",
       "      <td>1.000000</td>\n",
       "      <td>1.0</td>\n",
       "    </tr>\n",
       "    <tr>\n",
       "      <th>694</th>\n",
       "      <td>102582030</td>\n",
       "      <td>1.000000</td>\n",
       "      <td>1.0</td>\n",
       "    </tr>\n",
       "    <tr>\n",
       "      <th>695</th>\n",
       "      <td>102582031</td>\n",
       "      <td>1.000000</td>\n",
       "      <td>1.0</td>\n",
       "    </tr>\n",
       "    <tr>\n",
       "      <th>696</th>\n",
       "      <td>102582035</td>\n",
       "      <td>0.988287</td>\n",
       "      <td>675.0</td>\n",
       "    </tr>\n",
       "    <tr>\n",
       "      <th>697</th>\n",
       "      <td>102582036</td>\n",
       "      <td>1.000000</td>\n",
       "      <td>25.0</td>\n",
       "    </tr>\n",
       "    <tr>\n",
       "      <th>698</th>\n",
       "      <td>102582039</td>\n",
       "      <td>1.000000</td>\n",
       "      <td>14.0</td>\n",
       "    </tr>\n",
       "    <tr>\n",
       "      <th>699</th>\n",
       "      <td>102583655</td>\n",
       "      <td>0.240385</td>\n",
       "      <td>25.0</td>\n",
       "    </tr>\n",
       "    <tr>\n",
       "      <th>700</th>\n",
       "      <td>102583657</td>\n",
       "      <td>0.000000</td>\n",
       "      <td>0.0</td>\n",
       "    </tr>\n",
       "    <tr>\n",
       "      <th>701</th>\n",
       "      <td>102583669</td>\n",
       "      <td>0.332278</td>\n",
       "      <td>105.0</td>\n",
       "    </tr>\n",
       "    <tr>\n",
       "      <th>702</th>\n",
       "      <td>102583675</td>\n",
       "      <td>0.000000</td>\n",
       "      <td>0.0</td>\n",
       "    </tr>\n",
       "    <tr>\n",
       "      <th>703</th>\n",
       "      <td>102583676</td>\n",
       "      <td>0.959184</td>\n",
       "      <td>47.0</td>\n",
       "    </tr>\n",
       "    <tr>\n",
       "      <th>704</th>\n",
       "      <td>102583679</td>\n",
       "      <td>1.000000</td>\n",
       "      <td>38.0</td>\n",
       "    </tr>\n",
       "    <tr>\n",
       "      <th>705</th>\n",
       "      <td>102583681</td>\n",
       "      <td>1.000000</td>\n",
       "      <td>5.0</td>\n",
       "    </tr>\n",
       "    <tr>\n",
       "      <th>706</th>\n",
       "      <td>102583697</td>\n",
       "      <td>1.000000</td>\n",
       "      <td>26.0</td>\n",
       "    </tr>\n",
       "    <tr>\n",
       "      <th>707</th>\n",
       "      <td>102583702</td>\n",
       "      <td>0.333333</td>\n",
       "      <td>6.0</td>\n",
       "    </tr>\n",
       "    <tr>\n",
       "      <th>708</th>\n",
       "      <td>102583703</td>\n",
       "      <td>1.000000</td>\n",
       "      <td>18.0</td>\n",
       "    </tr>\n",
       "    <tr>\n",
       "      <th>709</th>\n",
       "      <td>102583706</td>\n",
       "      <td>1.000000</td>\n",
       "      <td>36.0</td>\n",
       "    </tr>\n",
       "    <tr>\n",
       "      <th>710</th>\n",
       "      <td>102583707</td>\n",
       "      <td>1.000000</td>\n",
       "      <td>30.0</td>\n",
       "    </tr>\n",
       "    <tr>\n",
       "      <th>711</th>\n",
       "      <td>102583708</td>\n",
       "      <td>0.979397</td>\n",
       "      <td>1331.0</td>\n",
       "    </tr>\n",
       "    <tr>\n",
       "      <th>712</th>\n",
       "      <td>102583709</td>\n",
       "      <td>1.000000</td>\n",
       "      <td>68.0</td>\n",
       "    </tr>\n",
       "    <tr>\n",
       "      <th>713</th>\n",
       "      <td>102583715</td>\n",
       "      <td>0.968434</td>\n",
       "      <td>767.0</td>\n",
       "    </tr>\n",
       "    <tr>\n",
       "      <th>714</th>\n",
       "      <td>102583716</td>\n",
       "      <td>0.936416</td>\n",
       "      <td>1134.0</td>\n",
       "    </tr>\n",
       "  </tbody>\n",
       "</table>\n",
       "<p>715 rows × 3 columns</p>\n",
       "</div>"
      ],
      "text/plain": [
       "     fk_customer_map_id.1  delay_ratio  positive_delay\n",
       "0                  527270     1.000000           460.0\n",
       "1                  527272     1.000000            30.0\n",
       "2                  527275     0.962500           154.0\n",
       "3                  527285     1.000000             9.0\n",
       "4                  527294     0.987952            82.0\n",
       "5                  527329     0.851145           223.0\n",
       "6                  527341     0.520930           112.0\n",
       "7                  527342     0.992593           134.0\n",
       "8                  527343     1.000000            23.0\n",
       "9                  527344     1.000000            95.0\n",
       "10                 527345     0.738411           223.0\n",
       "11                 527347     1.000000           102.0\n",
       "12                 527348     0.993854          1617.0\n",
       "13                 527360     1.000000            42.0\n",
       "14                 527365     1.000000            90.0\n",
       "15                 527366     0.916201           164.0\n",
       "16                 527371     1.000000             1.0\n",
       "17                 527388     0.990000           594.0\n",
       "18                 527391     0.992908           140.0\n",
       "19                 527392     0.390438            98.0\n",
       "20                 527400     0.952490          8761.0\n",
       "21                 527401     0.313390           110.0\n",
       "22                 527407     1.000000             1.0\n",
       "23                 527408     0.593750           228.0\n",
       "24                 527409     0.994286           522.0\n",
       "25                 527412     0.989130            91.0\n",
       "26                 527422     1.000000            15.0\n",
       "27                 527425     0.928571            13.0\n",
       "28                 527465     1.000000             4.0\n",
       "29                 527467     1.000000            17.0\n",
       "..                    ...          ...             ...\n",
       "685             102581954     1.000000             6.0\n",
       "686             102581976     0.538462            63.0\n",
       "687             102581984     1.000000             2.0\n",
       "688             102581987     1.000000            41.0\n",
       "689             102581996     0.770833            37.0\n",
       "690             102582016     1.000000             9.0\n",
       "691             102582020     1.000000            60.0\n",
       "692             102582028     1.000000             1.0\n",
       "693             102582029     1.000000             1.0\n",
       "694             102582030     1.000000             1.0\n",
       "695             102582031     1.000000             1.0\n",
       "696             102582035     0.988287           675.0\n",
       "697             102582036     1.000000            25.0\n",
       "698             102582039     1.000000            14.0\n",
       "699             102583655     0.240385            25.0\n",
       "700             102583657     0.000000             0.0\n",
       "701             102583669     0.332278           105.0\n",
       "702             102583675     0.000000             0.0\n",
       "703             102583676     0.959184            47.0\n",
       "704             102583679     1.000000            38.0\n",
       "705             102583681     1.000000             5.0\n",
       "706             102583697     1.000000            26.0\n",
       "707             102583702     0.333333             6.0\n",
       "708             102583703     1.000000            18.0\n",
       "709             102583706     1.000000            36.0\n",
       "710             102583707     1.000000            30.0\n",
       "711             102583708     0.979397          1331.0\n",
       "712             102583709     1.000000            68.0\n",
       "713             102583715     0.968434           767.0\n",
       "714             102583716     0.936416          1134.0\n",
       "\n",
       "[715 rows x 3 columns]"
      ]
     },
     "execution_count": 75,
     "metadata": {},
     "output_type": "execute_result"
    }
   ],
   "source": [
    "grp_total_delay_count.rename(columns = {'delay':'delay_ratio'})"
   ]
  },
  {
   "cell_type": "code",
   "execution_count": 76,
   "metadata": {},
   "outputs": [],
   "source": [
    "#dropping positive_delay column from the grp_total_delay_count dataframe.\n",
    "grp_total_delay_count.drop('positive_delay',axis=1,inplace=True)"
   ]
  },
  {
   "cell_type": "code",
   "execution_count": 77,
   "metadata": {},
   "outputs": [],
   "source": [
    "# merging the grp_total_delay_count dateframe to closed_train.\n",
    "grp_total_delay_count.columns = ['fk_customer_map_id.1','delay_ratio']\n",
    "closed_train = pd.merge(closed_train,grp_total_delay_count,how='left',on='fk_customer_map_id.1')"
   ]
  },
  {
   "cell_type": "code",
   "execution_count": 78,
   "metadata": {},
   "outputs": [],
   "source": [
    "# merging the grp_total_delay_count dateframe to closed_train.\n",
    "grp_total_delay_count.columns = ['fk_customer_map_id.1','delay_ratio']\n",
    "closed_validation = pd.merge(closed_validation,grp_total_delay_count,how='left',on='fk_customer_map_id.1')"
   ]
  },
  {
   "cell_type": "code",
   "execution_count": 79,
   "metadata": {},
   "outputs": [
    {
     "data": {
      "text/plain": [
       "20"
      ]
     },
     "execution_count": 79,
     "metadata": {},
     "output_type": "execute_result"
    }
   ],
   "source": [
    "closed_validation['delay_ratio'].isnull().sum()"
   ]
  },
  {
   "cell_type": "code",
   "execution_count": 80,
   "metadata": {},
   "outputs": [],
   "source": [
    "# finding the mean of the mean of delay_ratio to fill in those places where there are null values in closed validation data frame.\n",
    "mean_for_null1 = grp_total_delay_count['delay_ratio'].mean()"
   ]
  },
  {
   "cell_type": "code",
   "execution_count": 81,
   "metadata": {},
   "outputs": [
    {
     "data": {
      "text/plain": [
       "0"
      ]
     },
     "execution_count": 81,
     "metadata": {},
     "output_type": "execute_result"
    }
   ],
   "source": [
    "#filling those places where there are null values for delay_ratio column in closed_validation data frame\n",
    "closed_validation['delay_ratio'].fillna(mean_for_null1,inplace=True)\n",
    "closed_validation['delay_ratio'].isnull().sum()"
   ]
  },
  {
   "cell_type": "code",
   "execution_count": 82,
   "metadata": {},
   "outputs": [],
   "source": [
    "# merging the grp_total_delay_count dateframe to closed_train.\n",
    "grp_total_delay_count.columns = ['fk_customer_map_id.1','delay_ratio']\n",
    "closed_test = pd.merge(closed_test,grp_total_delay_count,how='left',on='fk_customer_map_id.1')"
   ]
  },
  {
   "cell_type": "code",
   "execution_count": 83,
   "metadata": {},
   "outputs": [
    {
     "data": {
      "text/plain": [
       "8"
      ]
     },
     "execution_count": 83,
     "metadata": {},
     "output_type": "execute_result"
    }
   ],
   "source": [
    "closed_test['delay_ratio'].isnull().sum()"
   ]
  },
  {
   "cell_type": "code",
   "execution_count": 84,
   "metadata": {},
   "outputs": [
    {
     "data": {
      "text/plain": [
       "0"
      ]
     },
     "execution_count": 84,
     "metadata": {},
     "output_type": "execute_result"
    }
   ],
   "source": [
    "#filling those places where there are null values for delay_ratio column in closed_validation data frame\n",
    "closed_test['delay_ratio'].fillna(mean_for_null1,inplace=True)\n",
    "closed_test['delay_ratio'].isnull().sum()"
   ]
  },
  {
   "cell_type": "code",
   "execution_count": 88,
   "metadata": {},
   "outputs": [
    {
     "data": {
      "text/html": [
       "<div>\n",
       "<style scoped>\n",
       "    .dataframe tbody tr th:only-of-type {\n",
       "        vertical-align: middle;\n",
       "    }\n",
       "\n",
       "    .dataframe tbody tr th {\n",
       "        vertical-align: top;\n",
       "    }\n",
       "\n",
       "    .dataframe thead th {\n",
       "        text-align: right;\n",
       "    }\n",
       "</style>\n",
       "<table border=\"1\" class=\"dataframe\">\n",
       "  <thead>\n",
       "    <tr style=\"text-align: right;\">\n",
       "      <th></th>\n",
       "      <th>provider_datatype_id</th>\n",
       "      <th>job_id</th>\n",
       "      <th>document_number_norm</th>\n",
       "      <th>company_code</th>\n",
       "      <th>fiscal_year</th>\n",
       "      <th>doctype</th>\n",
       "      <th>customer_number_norm</th>\n",
       "      <th>customer_name</th>\n",
       "      <th>document_date_norm</th>\n",
       "      <th>posting_date_norm</th>\n",
       "      <th>...</th>\n",
       "      <th>is_escalated</th>\n",
       "      <th>delay</th>\n",
       "      <th>mean_delay</th>\n",
       "      <th>cust_invoice_amt_mean</th>\n",
       "      <th>Expected_to pay</th>\n",
       "      <th>due_date_week</th>\n",
       "      <th>due_date_month</th>\n",
       "      <th>amount_category</th>\n",
       "      <th>amount_category_encoded</th>\n",
       "      <th>delay_ratio</th>\n",
       "    </tr>\n",
       "  </thead>\n",
       "  <tbody>\n",
       "    <tr>\n",
       "      <th>0</th>\n",
       "      <td>2854</td>\n",
       "      <td>97380990</td>\n",
       "      <td>8142632785</td>\n",
       "      <td>34</td>\n",
       "      <td>2018</td>\n",
       "      <td>D1</td>\n",
       "      <td>450020083</td>\n",
       "      <td>B- SHOPPERS DRUG MART WEST</td>\n",
       "      <td>2018-08-03</td>\n",
       "      <td>8/3/2018</td>\n",
       "      <td>...</td>\n",
       "      <td>0</td>\n",
       "      <td>13</td>\n",
       "      <td>18.782807</td>\n",
       "      <td>160.787581</td>\n",
       "      <td>15</td>\n",
       "      <td>5</td>\n",
       "      <td>8</td>\n",
       "      <td>&lt;25k</td>\n",
       "      <td>1</td>\n",
       "      <td>0.984844</td>\n",
       "    </tr>\n",
       "  </tbody>\n",
       "</table>\n",
       "<p>1 rows × 63 columns</p>\n",
       "</div>"
      ],
      "text/plain": [
       "   provider_datatype_id    job_id  document_number_norm  company_code  \\\n",
       "0                  2854  97380990            8142632785            34   \n",
       "\n",
       "   fiscal_year doctype  customer_number_norm               customer_name  \\\n",
       "0         2018      D1             450020083  B- SHOPPERS DRUG MART WEST   \n",
       "\n",
       "  document_date_norm posting_date_norm  ... is_escalated delay  mean_delay  \\\n",
       "0         2018-08-03          8/3/2018  ...            0    13   18.782807   \n",
       "\n",
       "   cust_invoice_amt_mean  Expected_to pay due_date_week due_date_month  \\\n",
       "0             160.787581               15             5              8   \n",
       "\n",
       "  amount_category  amount_category_encoded delay_ratio  \n",
       "0            <25k                        1    0.984844  \n",
       "\n",
       "[1 rows x 63 columns]"
      ]
     },
     "execution_count": 88,
     "metadata": {},
     "output_type": "execute_result"
    }
   ],
   "source": [
    "closed_test.head(1)"
   ]
  },
  {
   "cell_type": "markdown",
   "metadata": {},
   "source": [
    "# 6.Delay sum ratio(invoice_amount_norm_ratio)"
   ]
  },
  {
   "cell_type": "markdown",
   "metadata": {},
   "source": [
    "It is the sum of invoice amounts of delayed invoices by the sum of (actual_open_amount) of the total number of invoices."
   ]
  },
  {
   "cell_type": "code",
   "execution_count": 89,
   "metadata": {},
   "outputs": [],
   "source": [
    "#selecting rows where delay is greater than zero.\n",
    "closed_train_pos_delay = closed_train[closed_train['delay'] > 0]"
   ]
  },
  {
   "cell_type": "code",
   "execution_count": 117,
   "metadata": {},
   "outputs": [
    {
     "data": {
      "text/plain": [
       "715"
      ]
     },
     "execution_count": 117,
     "metadata": {},
     "output_type": "execute_result"
    }
   ],
   "source": [
    "closed_train['fk_customer_map_id.1'].nunique()"
   ]
  },
  {
   "cell_type": "code",
   "execution_count": 116,
   "metadata": {},
   "outputs": [
    {
     "data": {
      "text/plain": [
       "707"
      ]
     },
     "execution_count": 116,
     "metadata": {},
     "output_type": "execute_result"
    }
   ],
   "source": [
    "closed_train_pos_delay['fk_customer_map_id.1'].nunique()"
   ]
  },
  {
   "cell_type": "code",
   "execution_count": 90,
   "metadata": {},
   "outputs": [
    {
     "data": {
      "text/html": [
       "<div>\n",
       "<style scoped>\n",
       "    .dataframe tbody tr th:only-of-type {\n",
       "        vertical-align: middle;\n",
       "    }\n",
       "\n",
       "    .dataframe tbody tr th {\n",
       "        vertical-align: top;\n",
       "    }\n",
       "\n",
       "    .dataframe thead th {\n",
       "        text-align: right;\n",
       "    }\n",
       "</style>\n",
       "<table border=\"1\" class=\"dataframe\">\n",
       "  <thead>\n",
       "    <tr style=\"text-align: right;\">\n",
       "      <th></th>\n",
       "      <th>fk_customer_map_id.1</th>\n",
       "      <th>invoice_amount_norm</th>\n",
       "    </tr>\n",
       "  </thead>\n",
       "  <tbody>\n",
       "    <tr>\n",
       "      <th>0</th>\n",
       "      <td>527270</td>\n",
       "      <td>60687.717152</td>\n",
       "    </tr>\n",
       "    <tr>\n",
       "      <th>1</th>\n",
       "      <td>527272</td>\n",
       "      <td>13992.487667</td>\n",
       "    </tr>\n",
       "    <tr>\n",
       "      <th>2</th>\n",
       "      <td>527275</td>\n",
       "      <td>27759.573831</td>\n",
       "    </tr>\n",
       "    <tr>\n",
       "      <th>3</th>\n",
       "      <td>527285</td>\n",
       "      <td>63518.651111</td>\n",
       "    </tr>\n",
       "    <tr>\n",
       "      <th>4</th>\n",
       "      <td>527294</td>\n",
       "      <td>7105.680000</td>\n",
       "    </tr>\n",
       "  </tbody>\n",
       "</table>\n",
       "</div>"
      ],
      "text/plain": [
       "   fk_customer_map_id.1  invoice_amount_norm\n",
       "0                527270         60687.717152\n",
       "1                527272         13992.487667\n",
       "2                527275         27759.573831\n",
       "3                527285         63518.651111\n",
       "4                527294          7105.680000"
      ]
     },
     "execution_count": 90,
     "metadata": {},
     "output_type": "execute_result"
    }
   ],
   "source": [
    "grp_pos_inv_amt = closed_train_pos_delay.groupby(['fk_customer_map_id.1']).agg({'invoice_amount_norm':'mean'}).reset_index()\n",
    "grp_pos_inv_amt.head()"
   ]
  },
  {
   "cell_type": "code",
   "execution_count": 91,
   "metadata": {},
   "outputs": [
    {
     "data": {
      "text/html": [
       "<div>\n",
       "<style scoped>\n",
       "    .dataframe tbody tr th:only-of-type {\n",
       "        vertical-align: middle;\n",
       "    }\n",
       "\n",
       "    .dataframe tbody tr th {\n",
       "        vertical-align: top;\n",
       "    }\n",
       "\n",
       "    .dataframe thead th {\n",
       "        text-align: right;\n",
       "    }\n",
       "</style>\n",
       "<table border=\"1\" class=\"dataframe\">\n",
       "  <thead>\n",
       "    <tr style=\"text-align: right;\">\n",
       "      <th></th>\n",
       "      <th>fk_customer_map_id.1</th>\n",
       "      <th>invoice_amount_norm</th>\n",
       "    </tr>\n",
       "  </thead>\n",
       "  <tbody>\n",
       "    <tr>\n",
       "      <th>0</th>\n",
       "      <td>527270</td>\n",
       "      <td>60687.717152</td>\n",
       "    </tr>\n",
       "    <tr>\n",
       "      <th>1</th>\n",
       "      <td>527272</td>\n",
       "      <td>13992.487667</td>\n",
       "    </tr>\n",
       "    <tr>\n",
       "      <th>2</th>\n",
       "      <td>527275</td>\n",
       "      <td>27901.794812</td>\n",
       "    </tr>\n",
       "    <tr>\n",
       "      <th>3</th>\n",
       "      <td>527285</td>\n",
       "      <td>63518.651111</td>\n",
       "    </tr>\n",
       "    <tr>\n",
       "      <th>4</th>\n",
       "      <td>527294</td>\n",
       "      <td>7056.011566</td>\n",
       "    </tr>\n",
       "  </tbody>\n",
       "</table>\n",
       "</div>"
      ],
      "text/plain": [
       "   fk_customer_map_id.1  invoice_amount_norm\n",
       "0                527270         60687.717152\n",
       "1                527272         13992.487667\n",
       "2                527275         27901.794812\n",
       "3                527285         63518.651111\n",
       "4                527294          7056.011566"
      ]
     },
     "execution_count": 91,
     "metadata": {},
     "output_type": "execute_result"
    }
   ],
   "source": [
    "grp_total_inv_amt = closed_train.groupby(['fk_customer_map_id.1']).agg({'invoice_amount_norm':'mean'}).reset_index()\n",
    "grp_total_inv_amt.head()"
   ]
  },
  {
   "cell_type": "code",
   "execution_count": 92,
   "metadata": {},
   "outputs": [
    {
     "data": {
      "text/html": [
       "<div>\n",
       "<style scoped>\n",
       "    .dataframe tbody tr th:only-of-type {\n",
       "        vertical-align: middle;\n",
       "    }\n",
       "\n",
       "    .dataframe tbody tr th {\n",
       "        vertical-align: top;\n",
       "    }\n",
       "\n",
       "    .dataframe thead th {\n",
       "        text-align: right;\n",
       "    }\n",
       "</style>\n",
       "<table border=\"1\" class=\"dataframe\">\n",
       "  <thead>\n",
       "    <tr style=\"text-align: right;\">\n",
       "      <th></th>\n",
       "      <th>fk_customer_map_id.1</th>\n",
       "      <th>invoice_amount_norm</th>\n",
       "    </tr>\n",
       "  </thead>\n",
       "  <tbody>\n",
       "    <tr>\n",
       "      <th>0</th>\n",
       "      <td>527270</td>\n",
       "      <td>60687.717152</td>\n",
       "    </tr>\n",
       "  </tbody>\n",
       "</table>\n",
       "</div>"
      ],
      "text/plain": [
       "   fk_customer_map_id.1  invoice_amount_norm\n",
       "0                527270         60687.717152"
      ]
     },
     "execution_count": 92,
     "metadata": {},
     "output_type": "execute_result"
    }
   ],
   "source": [
    "grp_pos_inv_amt.rename(columns = {'invoice_amount_norm':'positive_invoice_amount_norm'})\n",
    "grp_pos_inv_amt.head(1)"
   ]
  },
  {
   "cell_type": "code",
   "execution_count": 93,
   "metadata": {},
   "outputs": [
    {
     "data": {
      "text/html": [
       "<div>\n",
       "<style scoped>\n",
       "    .dataframe tbody tr th:only-of-type {\n",
       "        vertical-align: middle;\n",
       "    }\n",
       "\n",
       "    .dataframe tbody tr th {\n",
       "        vertical-align: top;\n",
       "    }\n",
       "\n",
       "    .dataframe thead th {\n",
       "        text-align: right;\n",
       "    }\n",
       "</style>\n",
       "<table border=\"1\" class=\"dataframe\">\n",
       "  <thead>\n",
       "    <tr style=\"text-align: right;\">\n",
       "      <th></th>\n",
       "      <th>fk_customer_map_id.1</th>\n",
       "      <th>invoice_amount_norm</th>\n",
       "    </tr>\n",
       "  </thead>\n",
       "  <tbody>\n",
       "    <tr>\n",
       "      <th>0</th>\n",
       "      <td>527270</td>\n",
       "      <td>60687.717152</td>\n",
       "    </tr>\n",
       "  </tbody>\n",
       "</table>\n",
       "</div>"
      ],
      "text/plain": [
       "   fk_customer_map_id.1  invoice_amount_norm\n",
       "0                527270         60687.717152"
      ]
     },
     "execution_count": 93,
     "metadata": {},
     "output_type": "execute_result"
    }
   ],
   "source": [
    "grp_total_inv_amt.rename(columns = {'invoice_amount_norm':'total_invoice_amount_norm'})\n",
    "grp_total_inv_amt.head(1)"
   ]
  },
  {
   "cell_type": "code",
   "execution_count": 94,
   "metadata": {},
   "outputs": [],
   "source": [
    "grp_total_inv_amt['invoice_amount_norm']= grp_pos_inv_amt['invoice_amount_norm']/grp_total_inv_amt['invoice_amount_norm']"
   ]
  },
  {
   "cell_type": "code",
   "execution_count": 95,
   "metadata": {},
   "outputs": [
    {
     "data": {
      "text/html": [
       "<div>\n",
       "<style scoped>\n",
       "    .dataframe tbody tr th:only-of-type {\n",
       "        vertical-align: middle;\n",
       "    }\n",
       "\n",
       "    .dataframe tbody tr th {\n",
       "        vertical-align: top;\n",
       "    }\n",
       "\n",
       "    .dataframe thead th {\n",
       "        text-align: right;\n",
       "    }\n",
       "</style>\n",
       "<table border=\"1\" class=\"dataframe\">\n",
       "  <thead>\n",
       "    <tr style=\"text-align: right;\">\n",
       "      <th></th>\n",
       "      <th>fk_customer_map_id.1</th>\n",
       "      <th>invoice_amount_norm</th>\n",
       "    </tr>\n",
       "  </thead>\n",
       "  <tbody>\n",
       "    <tr>\n",
       "      <th>0</th>\n",
       "      <td>527270</td>\n",
       "      <td>1.0</td>\n",
       "    </tr>\n",
       "  </tbody>\n",
       "</table>\n",
       "</div>"
      ],
      "text/plain": [
       "   fk_customer_map_id.1  invoice_amount_norm\n",
       "0                527270                  1.0"
      ]
     },
     "execution_count": 95,
     "metadata": {},
     "output_type": "execute_result"
    }
   ],
   "source": [
    "grp_total_inv_amt.head(1)"
   ]
  },
  {
   "cell_type": "code",
   "execution_count": 96,
   "metadata": {},
   "outputs": [
    {
     "data": {
      "text/html": [
       "<div>\n",
       "<style scoped>\n",
       "    .dataframe tbody tr th:only-of-type {\n",
       "        vertical-align: middle;\n",
       "    }\n",
       "\n",
       "    .dataframe tbody tr th {\n",
       "        vertical-align: top;\n",
       "    }\n",
       "\n",
       "    .dataframe thead th {\n",
       "        text-align: right;\n",
       "    }\n",
       "</style>\n",
       "<table border=\"1\" class=\"dataframe\">\n",
       "  <thead>\n",
       "    <tr style=\"text-align: right;\">\n",
       "      <th></th>\n",
       "      <th>fk_customer_map_id.1</th>\n",
       "      <th>invoice_amount_norm_ratio</th>\n",
       "    </tr>\n",
       "  </thead>\n",
       "  <tbody>\n",
       "    <tr>\n",
       "      <th>0</th>\n",
       "      <td>527270</td>\n",
       "      <td>1.000000</td>\n",
       "    </tr>\n",
       "    <tr>\n",
       "      <th>1</th>\n",
       "      <td>527272</td>\n",
       "      <td>1.000000</td>\n",
       "    </tr>\n",
       "    <tr>\n",
       "      <th>2</th>\n",
       "      <td>527275</td>\n",
       "      <td>0.994903</td>\n",
       "    </tr>\n",
       "    <tr>\n",
       "      <th>3</th>\n",
       "      <td>527285</td>\n",
       "      <td>1.000000</td>\n",
       "    </tr>\n",
       "    <tr>\n",
       "      <th>4</th>\n",
       "      <td>527294</td>\n",
       "      <td>1.007039</td>\n",
       "    </tr>\n",
       "    <tr>\n",
       "      <th>5</th>\n",
       "      <td>527329</td>\n",
       "      <td>0.992317</td>\n",
       "    </tr>\n",
       "    <tr>\n",
       "      <th>6</th>\n",
       "      <td>527341</td>\n",
       "      <td>0.948647</td>\n",
       "    </tr>\n",
       "    <tr>\n",
       "      <th>7</th>\n",
       "      <td>527342</td>\n",
       "      <td>1.007326</td>\n",
       "    </tr>\n",
       "    <tr>\n",
       "      <th>8</th>\n",
       "      <td>527343</td>\n",
       "      <td>1.000000</td>\n",
       "    </tr>\n",
       "    <tr>\n",
       "      <th>9</th>\n",
       "      <td>527344</td>\n",
       "      <td>1.000000</td>\n",
       "    </tr>\n",
       "    <tr>\n",
       "      <th>10</th>\n",
       "      <td>527345</td>\n",
       "      <td>0.916223</td>\n",
       "    </tr>\n",
       "    <tr>\n",
       "      <th>11</th>\n",
       "      <td>527347</td>\n",
       "      <td>1.000000</td>\n",
       "    </tr>\n",
       "    <tr>\n",
       "      <th>12</th>\n",
       "      <td>527348</td>\n",
       "      <td>0.999801</td>\n",
       "    </tr>\n",
       "    <tr>\n",
       "      <th>13</th>\n",
       "      <td>527360</td>\n",
       "      <td>1.000000</td>\n",
       "    </tr>\n",
       "    <tr>\n",
       "      <th>14</th>\n",
       "      <td>527365</td>\n",
       "      <td>1.000000</td>\n",
       "    </tr>\n",
       "    <tr>\n",
       "      <th>15</th>\n",
       "      <td>527366</td>\n",
       "      <td>1.004131</td>\n",
       "    </tr>\n",
       "    <tr>\n",
       "      <th>16</th>\n",
       "      <td>527371</td>\n",
       "      <td>1.000000</td>\n",
       "    </tr>\n",
       "    <tr>\n",
       "      <th>17</th>\n",
       "      <td>527388</td>\n",
       "      <td>0.996742</td>\n",
       "    </tr>\n",
       "    <tr>\n",
       "      <th>18</th>\n",
       "      <td>527391</td>\n",
       "      <td>1.007024</td>\n",
       "    </tr>\n",
       "    <tr>\n",
       "      <th>19</th>\n",
       "      <td>527392</td>\n",
       "      <td>1.005629</td>\n",
       "    </tr>\n",
       "    <tr>\n",
       "      <th>20</th>\n",
       "      <td>527400</td>\n",
       "      <td>1.005949</td>\n",
       "    </tr>\n",
       "    <tr>\n",
       "      <th>21</th>\n",
       "      <td>527401</td>\n",
       "      <td>1.054391</td>\n",
       "    </tr>\n",
       "    <tr>\n",
       "      <th>22</th>\n",
       "      <td>527407</td>\n",
       "      <td>1.000000</td>\n",
       "    </tr>\n",
       "    <tr>\n",
       "      <th>23</th>\n",
       "      <td>527408</td>\n",
       "      <td>0.933822</td>\n",
       "    </tr>\n",
       "    <tr>\n",
       "      <th>24</th>\n",
       "      <td>527409</td>\n",
       "      <td>1.000342</td>\n",
       "    </tr>\n",
       "    <tr>\n",
       "      <th>25</th>\n",
       "      <td>527412</td>\n",
       "      <td>0.990411</td>\n",
       "    </tr>\n",
       "    <tr>\n",
       "      <th>26</th>\n",
       "      <td>527422</td>\n",
       "      <td>1.000000</td>\n",
       "    </tr>\n",
       "    <tr>\n",
       "      <th>27</th>\n",
       "      <td>527425</td>\n",
       "      <td>0.964455</td>\n",
       "    </tr>\n",
       "    <tr>\n",
       "      <th>28</th>\n",
       "      <td>527465</td>\n",
       "      <td>1.000000</td>\n",
       "    </tr>\n",
       "    <tr>\n",
       "      <th>29</th>\n",
       "      <td>527467</td>\n",
       "      <td>1.000000</td>\n",
       "    </tr>\n",
       "    <tr>\n",
       "      <th>...</th>\n",
       "      <td>...</td>\n",
       "      <td>...</td>\n",
       "    </tr>\n",
       "    <tr>\n",
       "      <th>685</th>\n",
       "      <td>102581954</td>\n",
       "      <td>0.341488</td>\n",
       "    </tr>\n",
       "    <tr>\n",
       "      <th>686</th>\n",
       "      <td>102581976</td>\n",
       "      <td>5.322423</td>\n",
       "    </tr>\n",
       "    <tr>\n",
       "      <th>687</th>\n",
       "      <td>102581984</td>\n",
       "      <td>0.830448</td>\n",
       "    </tr>\n",
       "    <tr>\n",
       "      <th>688</th>\n",
       "      <td>102581987</td>\n",
       "      <td>4.670929</td>\n",
       "    </tr>\n",
       "    <tr>\n",
       "      <th>689</th>\n",
       "      <td>102581996</td>\n",
       "      <td>3.434672</td>\n",
       "    </tr>\n",
       "    <tr>\n",
       "      <th>690</th>\n",
       "      <td>102582016</td>\n",
       "      <td>5.010425</td>\n",
       "    </tr>\n",
       "    <tr>\n",
       "      <th>691</th>\n",
       "      <td>102582020</td>\n",
       "      <td>1.536711</td>\n",
       "    </tr>\n",
       "    <tr>\n",
       "      <th>692</th>\n",
       "      <td>102582028</td>\n",
       "      <td>0.021437</td>\n",
       "    </tr>\n",
       "    <tr>\n",
       "      <th>693</th>\n",
       "      <td>102582029</td>\n",
       "      <td>2.480580</td>\n",
       "    </tr>\n",
       "    <tr>\n",
       "      <th>694</th>\n",
       "      <td>102582030</td>\n",
       "      <td>1.710550</td>\n",
       "    </tr>\n",
       "    <tr>\n",
       "      <th>695</th>\n",
       "      <td>102582031</td>\n",
       "      <td>0.699112</td>\n",
       "    </tr>\n",
       "    <tr>\n",
       "      <th>696</th>\n",
       "      <td>102582035</td>\n",
       "      <td>0.463278</td>\n",
       "    </tr>\n",
       "    <tr>\n",
       "      <th>697</th>\n",
       "      <td>102582036</td>\n",
       "      <td>2.971772</td>\n",
       "    </tr>\n",
       "    <tr>\n",
       "      <th>698</th>\n",
       "      <td>102582039</td>\n",
       "      <td>20.228265</td>\n",
       "    </tr>\n",
       "    <tr>\n",
       "      <th>699</th>\n",
       "      <td>102583655</td>\n",
       "      <td>0.092100</td>\n",
       "    </tr>\n",
       "    <tr>\n",
       "      <th>700</th>\n",
       "      <td>102583657</td>\n",
       "      <td>0.191168</td>\n",
       "    </tr>\n",
       "    <tr>\n",
       "      <th>701</th>\n",
       "      <td>102583669</td>\n",
       "      <td>0.234655</td>\n",
       "    </tr>\n",
       "    <tr>\n",
       "      <th>702</th>\n",
       "      <td>102583675</td>\n",
       "      <td>0.338307</td>\n",
       "    </tr>\n",
       "    <tr>\n",
       "      <th>703</th>\n",
       "      <td>102583676</td>\n",
       "      <td>1.753136</td>\n",
       "    </tr>\n",
       "    <tr>\n",
       "      <th>704</th>\n",
       "      <td>102583679</td>\n",
       "      <td>2.352895</td>\n",
       "    </tr>\n",
       "    <tr>\n",
       "      <th>705</th>\n",
       "      <td>102583681</td>\n",
       "      <td>2.744741</td>\n",
       "    </tr>\n",
       "    <tr>\n",
       "      <th>706</th>\n",
       "      <td>102583697</td>\n",
       "      <td>3.510371</td>\n",
       "    </tr>\n",
       "    <tr>\n",
       "      <th>707</th>\n",
       "      <td>102583702</td>\n",
       "      <td>NaN</td>\n",
       "    </tr>\n",
       "    <tr>\n",
       "      <th>708</th>\n",
       "      <td>102583703</td>\n",
       "      <td>NaN</td>\n",
       "    </tr>\n",
       "    <tr>\n",
       "      <th>709</th>\n",
       "      <td>102583706</td>\n",
       "      <td>NaN</td>\n",
       "    </tr>\n",
       "    <tr>\n",
       "      <th>710</th>\n",
       "      <td>102583707</td>\n",
       "      <td>NaN</td>\n",
       "    </tr>\n",
       "    <tr>\n",
       "      <th>711</th>\n",
       "      <td>102583708</td>\n",
       "      <td>NaN</td>\n",
       "    </tr>\n",
       "    <tr>\n",
       "      <th>712</th>\n",
       "      <td>102583709</td>\n",
       "      <td>NaN</td>\n",
       "    </tr>\n",
       "    <tr>\n",
       "      <th>713</th>\n",
       "      <td>102583715</td>\n",
       "      <td>NaN</td>\n",
       "    </tr>\n",
       "    <tr>\n",
       "      <th>714</th>\n",
       "      <td>102583716</td>\n",
       "      <td>NaN</td>\n",
       "    </tr>\n",
       "  </tbody>\n",
       "</table>\n",
       "<p>715 rows × 2 columns</p>\n",
       "</div>"
      ],
      "text/plain": [
       "     fk_customer_map_id.1  invoice_amount_norm_ratio\n",
       "0                  527270                   1.000000\n",
       "1                  527272                   1.000000\n",
       "2                  527275                   0.994903\n",
       "3                  527285                   1.000000\n",
       "4                  527294                   1.007039\n",
       "5                  527329                   0.992317\n",
       "6                  527341                   0.948647\n",
       "7                  527342                   1.007326\n",
       "8                  527343                   1.000000\n",
       "9                  527344                   1.000000\n",
       "10                 527345                   0.916223\n",
       "11                 527347                   1.000000\n",
       "12                 527348                   0.999801\n",
       "13                 527360                   1.000000\n",
       "14                 527365                   1.000000\n",
       "15                 527366                   1.004131\n",
       "16                 527371                   1.000000\n",
       "17                 527388                   0.996742\n",
       "18                 527391                   1.007024\n",
       "19                 527392                   1.005629\n",
       "20                 527400                   1.005949\n",
       "21                 527401                   1.054391\n",
       "22                 527407                   1.000000\n",
       "23                 527408                   0.933822\n",
       "24                 527409                   1.000342\n",
       "25                 527412                   0.990411\n",
       "26                 527422                   1.000000\n",
       "27                 527425                   0.964455\n",
       "28                 527465                   1.000000\n",
       "29                 527467                   1.000000\n",
       "..                    ...                        ...\n",
       "685             102581954                   0.341488\n",
       "686             102581976                   5.322423\n",
       "687             102581984                   0.830448\n",
       "688             102581987                   4.670929\n",
       "689             102581996                   3.434672\n",
       "690             102582016                   5.010425\n",
       "691             102582020                   1.536711\n",
       "692             102582028                   0.021437\n",
       "693             102582029                   2.480580\n",
       "694             102582030                   1.710550\n",
       "695             102582031                   0.699112\n",
       "696             102582035                   0.463278\n",
       "697             102582036                   2.971772\n",
       "698             102582039                  20.228265\n",
       "699             102583655                   0.092100\n",
       "700             102583657                   0.191168\n",
       "701             102583669                   0.234655\n",
       "702             102583675                   0.338307\n",
       "703             102583676                   1.753136\n",
       "704             102583679                   2.352895\n",
       "705             102583681                   2.744741\n",
       "706             102583697                   3.510371\n",
       "707             102583702                        NaN\n",
       "708             102583703                        NaN\n",
       "709             102583706                        NaN\n",
       "710             102583707                        NaN\n",
       "711             102583708                        NaN\n",
       "712             102583709                        NaN\n",
       "713             102583715                        NaN\n",
       "714             102583716                        NaN\n",
       "\n",
       "[715 rows x 2 columns]"
      ]
     },
     "execution_count": 96,
     "metadata": {},
     "output_type": "execute_result"
    }
   ],
   "source": [
    "grp_total_inv_amt.rename(columns = {'invoice_amount_norm':'invoice_amount_norm_ratio'})"
   ]
  },
  {
   "cell_type": "code",
   "execution_count": 97,
   "metadata": {},
   "outputs": [],
   "source": [
    "grp_total_inv_amt.fillna(value={'invoice_amount_norm_ratio':0},inplace=True)"
   ]
  },
  {
   "cell_type": "code",
   "execution_count": 98,
   "metadata": {},
   "outputs": [],
   "source": [
    "grp_total_inv_amt.columns = ['fk_customer_map_id.1','invoice_amount_norm_ratio']\n",
    "closed_train = pd.merge(closed_train,grp_total_inv_amt,how='left',on='fk_customer_map_id.1')"
   ]
  },
  {
   "cell_type": "code",
   "execution_count": 99,
   "metadata": {},
   "outputs": [
    {
     "data": {
      "text/plain": [
       "3532"
      ]
     },
     "execution_count": 99,
     "metadata": {},
     "output_type": "execute_result"
    }
   ],
   "source": [
    "closed_train['invoice_amount_norm_ratio'].isnull().sum()"
   ]
  },
  {
   "cell_type": "code",
   "execution_count": 100,
   "metadata": {},
   "outputs": [],
   "source": [
    "closed_train.fillna(value={'invoice_amount_norm_ratio':0},inplace=True)"
   ]
  },
  {
   "cell_type": "code",
   "execution_count": 101,
   "metadata": {},
   "outputs": [],
   "source": [
    "grp_total_inv_amt.columns = ['fk_customer_map_id.1','invoice_amount_norm_ratio']\n",
    "closed_validation = pd.merge(closed_validation,grp_total_inv_amt,how='left',on='fk_customer_map_id.1')"
   ]
  },
  {
   "cell_type": "code",
   "execution_count": 102,
   "metadata": {},
   "outputs": [
    {
     "data": {
      "text/plain": [
       "667"
      ]
     },
     "execution_count": 102,
     "metadata": {},
     "output_type": "execute_result"
    }
   ],
   "source": [
    "closed_validation['invoice_amount_norm_ratio'].isnull().sum()"
   ]
  },
  {
   "cell_type": "code",
   "execution_count": 103,
   "metadata": {},
   "outputs": [],
   "source": [
    "closed_validation.fillna(value={'invoice_amount_norm_ratio':0},inplace=True)"
   ]
  },
  {
   "cell_type": "code",
   "execution_count": 104,
   "metadata": {},
   "outputs": [],
   "source": [
    "grp_total_inv_amt.columns = ['fk_customer_map_id.1','invoice_amount_norm_ratio']\n",
    "closed_test = pd.merge(closed_test,grp_total_inv_amt,how='left',on='fk_customer_map_id.1')"
   ]
  },
  {
   "cell_type": "code",
   "execution_count": 106,
   "metadata": {},
   "outputs": [
    {
     "data": {
      "text/plain": [
       "52"
      ]
     },
     "execution_count": 106,
     "metadata": {},
     "output_type": "execute_result"
    }
   ],
   "source": [
    "closed_test['invoice_amount_norm_ratio'].isnull().sum()"
   ]
  },
  {
   "cell_type": "code",
   "execution_count": 107,
   "metadata": {},
   "outputs": [],
   "source": [
    "closed_validation.fillna(value={'invoice_amount_norm_ratio':0},inplace=True)"
   ]
  },
  {
   "cell_type": "markdown",
   "metadata": {},
   "source": [
    "# 7.CUST AVG DELAY:(mean_positive_delay)"
   ]
  },
  {
   "cell_type": "markdown",
   "metadata": {},
   "source": [
    "# Average delay of delayed payments at a customer level."
   ]
  },
  {
   "cell_type": "code",
   "execution_count": 108,
   "metadata": {},
   "outputs": [],
   "source": [
    "closed_train_pos_delay = closed_train[closed_train['delay'] > 0]"
   ]
  },
  {
   "cell_type": "code",
   "execution_count": 109,
   "metadata": {},
   "outputs": [
    {
     "data": {
      "text/html": [
       "<div>\n",
       "<style scoped>\n",
       "    .dataframe tbody tr th:only-of-type {\n",
       "        vertical-align: middle;\n",
       "    }\n",
       "\n",
       "    .dataframe tbody tr th {\n",
       "        vertical-align: top;\n",
       "    }\n",
       "\n",
       "    .dataframe thead th {\n",
       "        text-align: right;\n",
       "    }\n",
       "</style>\n",
       "<table border=\"1\" class=\"dataframe\">\n",
       "  <thead>\n",
       "    <tr style=\"text-align: right;\">\n",
       "      <th></th>\n",
       "      <th>fk_customer_map_id.1</th>\n",
       "      <th>delay</th>\n",
       "    </tr>\n",
       "  </thead>\n",
       "  <tbody>\n",
       "    <tr>\n",
       "      <th>0</th>\n",
       "      <td>527270</td>\n",
       "      <td>4.423913</td>\n",
       "    </tr>\n",
       "    <tr>\n",
       "      <th>1</th>\n",
       "      <td>527272</td>\n",
       "      <td>19.533333</td>\n",
       "    </tr>\n",
       "    <tr>\n",
       "      <th>2</th>\n",
       "      <td>527275</td>\n",
       "      <td>11.727273</td>\n",
       "    </tr>\n",
       "    <tr>\n",
       "      <th>3</th>\n",
       "      <td>527285</td>\n",
       "      <td>3.444444</td>\n",
       "    </tr>\n",
       "    <tr>\n",
       "      <th>4</th>\n",
       "      <td>527294</td>\n",
       "      <td>7.109756</td>\n",
       "    </tr>\n",
       "  </tbody>\n",
       "</table>\n",
       "</div>"
      ],
      "text/plain": [
       "   fk_customer_map_id.1      delay\n",
       "0                527270   4.423913\n",
       "1                527272  19.533333\n",
       "2                527275  11.727273\n",
       "3                527285   3.444444\n",
       "4                527294   7.109756"
      ]
     },
     "execution_count": 109,
     "metadata": {},
     "output_type": "execute_result"
    }
   ],
   "source": [
    "grp_mean_pos_delay = closed_train_pos_delay.groupby(['fk_customer_map_id.1']).agg({'delay':'mean'}).reset_index()\n",
    "grp_mean_pos_delay.head()"
   ]
  },
  {
   "cell_type": "code",
   "execution_count": 110,
   "metadata": {},
   "outputs": [],
   "source": [
    "grp_mean_pos_delay=grp_mean_pos_delay.rename(columns = {'delay':'mean_positive_delay'})"
   ]
  },
  {
   "cell_type": "code",
   "execution_count": 111,
   "metadata": {},
   "outputs": [
    {
     "data": {
      "text/html": [
       "<div>\n",
       "<style scoped>\n",
       "    .dataframe tbody tr th:only-of-type {\n",
       "        vertical-align: middle;\n",
       "    }\n",
       "\n",
       "    .dataframe tbody tr th {\n",
       "        vertical-align: top;\n",
       "    }\n",
       "\n",
       "    .dataframe thead th {\n",
       "        text-align: right;\n",
       "    }\n",
       "</style>\n",
       "<table border=\"1\" class=\"dataframe\">\n",
       "  <thead>\n",
       "    <tr style=\"text-align: right;\">\n",
       "      <th></th>\n",
       "      <th>fk_customer_map_id.1</th>\n",
       "      <th>mean_positive_delay</th>\n",
       "    </tr>\n",
       "  </thead>\n",
       "  <tbody>\n",
       "    <tr>\n",
       "      <th>0</th>\n",
       "      <td>527270</td>\n",
       "      <td>4.423913</td>\n",
       "    </tr>\n",
       "  </tbody>\n",
       "</table>\n",
       "</div>"
      ],
      "text/plain": [
       "   fk_customer_map_id.1  mean_positive_delay\n",
       "0                527270             4.423913"
      ]
     },
     "execution_count": 111,
     "metadata": {},
     "output_type": "execute_result"
    }
   ],
   "source": [
    "grp_mean_pos_delay.head(1)"
   ]
  },
  {
   "cell_type": "code",
   "execution_count": 112,
   "metadata": {},
   "outputs": [],
   "source": [
    "grp_mean_pos_delay.columns = ['fk_customer_map_id.1','mean_positive_delay']\n",
    "closed_train = pd.merge(closed_train,grp_mean_pos_delay,how='left',on='fk_customer_map_id.1')"
   ]
  },
  {
   "cell_type": "code",
   "execution_count": 113,
   "metadata": {},
   "outputs": [],
   "source": [
    "closed_train.fillna(value={'mean_positive_delay':0},inplace=True)"
   ]
  },
  {
   "cell_type": "code",
   "execution_count": 123,
   "metadata": {},
   "outputs": [],
   "source": [
    "grp_mean_pos_delay.columns = ['fk_customer_map_id.1','mean_positive_delay']\n",
    "closed_validation = pd.merge(closed_validation,grp_mean_pos_delay,how='left',on='fk_customer_map_id.1')"
   ]
  },
  {
   "cell_type": "code",
   "execution_count": 124,
   "metadata": {},
   "outputs": [
    {
     "data": {
      "text/plain": [
       "47"
      ]
     },
     "execution_count": 124,
     "metadata": {},
     "output_type": "execute_result"
    }
   ],
   "source": [
    "closed_validation['mean_positive_delay'].isnull().sum()"
   ]
  },
  {
   "cell_type": "code",
   "execution_count": 125,
   "metadata": {},
   "outputs": [
    {
     "data": {
      "text/plain": [
       "fk_customer_map_id.1    0\n",
       "mean_positive_delay     0\n",
       "dtype: int64"
      ]
     },
     "execution_count": 125,
     "metadata": {},
     "output_type": "execute_result"
    }
   ],
   "source": [
    "grp_mean_pos_delay.isnull().sum()"
   ]
  },
  {
   "cell_type": "code",
   "execution_count": 126,
   "metadata": {},
   "outputs": [],
   "source": [
    "mean_for_null1 = grp_mean_pos_delay['mean_positive_delay'].mean()"
   ]
  },
  {
   "cell_type": "code",
   "execution_count": 127,
   "metadata": {},
   "outputs": [],
   "source": [
    "closed_validation.fillna(value={'mean_positive_delay':mean_for_null1},inplace=True)"
   ]
  },
  {
   "cell_type": "code",
   "execution_count": 128,
   "metadata": {},
   "outputs": [
    {
     "data": {
      "text/plain": [
       "0"
      ]
     },
     "execution_count": 128,
     "metadata": {},
     "output_type": "execute_result"
    }
   ],
   "source": [
    "closed_validation['mean_positive_delay'].isnull().sum()"
   ]
  },
  {
   "cell_type": "code",
   "execution_count": 129,
   "metadata": {},
   "outputs": [],
   "source": [
    "grp_mean_pos_delay.columns = ['fk_customer_map_id.1','mean_positive_delay']\n",
    "closed_test = pd.merge(closed_test,grp_mean_pos_delay,how='left',on='fk_customer_map_id.1')"
   ]
  },
  {
   "cell_type": "code",
   "execution_count": 130,
   "metadata": {},
   "outputs": [
    {
     "data": {
      "text/plain": [
       "19"
      ]
     },
     "execution_count": 130,
     "metadata": {},
     "output_type": "execute_result"
    }
   ],
   "source": [
    "closed_test['mean_positive_delay'].isnull().sum()"
   ]
  },
  {
   "cell_type": "code",
   "execution_count": 131,
   "metadata": {},
   "outputs": [],
   "source": [
    "closed_test.fillna(value={'mean_positive_delay':mean_for_null1},inplace=True)"
   ]
  },
  {
   "cell_type": "code",
   "execution_count": 132,
   "metadata": {},
   "outputs": [
    {
     "data": {
      "text/plain": [
       "0"
      ]
     },
     "execution_count": 132,
     "metadata": {},
     "output_type": "execute_result"
    }
   ],
   "source": [
    "closed_test['mean_positive_delay'].isnull().sum()"
   ]
  },
  {
   "cell_type": "markdown",
   "metadata": {},
   "source": [
    "# 8.INVOICE SUM RATIO:Ratio of invoice_amount_norm by invoice_amount_norm_mean."
   ]
  },
  {
   "cell_type": "code",
   "execution_count": 152,
   "metadata": {},
   "outputs": [],
   "source": [
    "grp_total_inv_amt = closed_train.groupby(['fk_customer_map_id.1']).agg({'invoice_amount_norm':'mean'}).reset_index()\n",
    "#grp_total_inv_amt.head()"
   ]
  },
  {
   "cell_type": "code",
   "execution_count": 153,
   "metadata": {},
   "outputs": [],
   "source": [
    "grp_total_inv_amt.rename(columns={\"invoice_amount_norm\":\"invoice_amount_norm_mean\"},inplace=True)"
   ]
  },
  {
   "cell_type": "code",
   "execution_count": 154,
   "metadata": {},
   "outputs": [
    {
     "data": {
      "text/html": [
       "<div>\n",
       "<style scoped>\n",
       "    .dataframe tbody tr th:only-of-type {\n",
       "        vertical-align: middle;\n",
       "    }\n",
       "\n",
       "    .dataframe tbody tr th {\n",
       "        vertical-align: top;\n",
       "    }\n",
       "\n",
       "    .dataframe thead th {\n",
       "        text-align: right;\n",
       "    }\n",
       "</style>\n",
       "<table border=\"1\" class=\"dataframe\">\n",
       "  <thead>\n",
       "    <tr style=\"text-align: right;\">\n",
       "      <th></th>\n",
       "      <th>fk_customer_map_id.1</th>\n",
       "      <th>invoice_amount_norm_mean</th>\n",
       "    </tr>\n",
       "  </thead>\n",
       "  <tbody>\n",
       "    <tr>\n",
       "      <th>0</th>\n",
       "      <td>527270</td>\n",
       "      <td>60687.717152</td>\n",
       "    </tr>\n",
       "    <tr>\n",
       "      <th>1</th>\n",
       "      <td>527272</td>\n",
       "      <td>13992.487667</td>\n",
       "    </tr>\n",
       "    <tr>\n",
       "      <th>2</th>\n",
       "      <td>527275</td>\n",
       "      <td>27901.794812</td>\n",
       "    </tr>\n",
       "    <tr>\n",
       "      <th>3</th>\n",
       "      <td>527285</td>\n",
       "      <td>63518.651111</td>\n",
       "    </tr>\n",
       "    <tr>\n",
       "      <th>4</th>\n",
       "      <td>527294</td>\n",
       "      <td>7056.011566</td>\n",
       "    </tr>\n",
       "  </tbody>\n",
       "</table>\n",
       "</div>"
      ],
      "text/plain": [
       "   fk_customer_map_id.1  invoice_amount_norm_mean\n",
       "0                527270              60687.717152\n",
       "1                527272              13992.487667\n",
       "2                527275              27901.794812\n",
       "3                527285              63518.651111\n",
       "4                527294               7056.011566"
      ]
     },
     "execution_count": 154,
     "metadata": {},
     "output_type": "execute_result"
    }
   ],
   "source": [
    "grp_total_inv_amt.head()"
   ]
  },
  {
   "cell_type": "code",
   "execution_count": 155,
   "metadata": {},
   "outputs": [],
   "source": [
    "grp = closed_train[['fk_customer_map_id.1','invoice_amount_norm']]"
   ]
  },
  {
   "cell_type": "code",
   "execution_count": 156,
   "metadata": {},
   "outputs": [
    {
     "data": {
      "text/plain": [
       "(394479, 2)"
      ]
     },
     "execution_count": 156,
     "metadata": {},
     "output_type": "execute_result"
    }
   ],
   "source": [
    "grp.shape"
   ]
  },
  {
   "cell_type": "code",
   "execution_count": 157,
   "metadata": {},
   "outputs": [],
   "source": [
    "grp_total_inv_amt.columns = ['fk_customer_map_id.1','invoice_amount_norm_mean']\n",
    "grp = pd.merge(grp,grp_total_inv_amt,how='left',on='fk_customer_map_id.1')"
   ]
  },
  {
   "cell_type": "code",
   "execution_count": 158,
   "metadata": {},
   "outputs": [
    {
     "data": {
      "text/html": [
       "<div>\n",
       "<style scoped>\n",
       "    .dataframe tbody tr th:only-of-type {\n",
       "        vertical-align: middle;\n",
       "    }\n",
       "\n",
       "    .dataframe tbody tr th {\n",
       "        vertical-align: top;\n",
       "    }\n",
       "\n",
       "    .dataframe thead th {\n",
       "        text-align: right;\n",
       "    }\n",
       "</style>\n",
       "<table border=\"1\" class=\"dataframe\">\n",
       "  <thead>\n",
       "    <tr style=\"text-align: right;\">\n",
       "      <th></th>\n",
       "      <th>fk_customer_map_id.1</th>\n",
       "      <th>invoice_amount_norm</th>\n",
       "      <th>invoice_amount_norm_mean</th>\n",
       "    </tr>\n",
       "  </thead>\n",
       "  <tbody>\n",
       "    <tr>\n",
       "      <th>0</th>\n",
       "      <td>53417680</td>\n",
       "      <td>59679.88</td>\n",
       "      <td>47557.140736</td>\n",
       "    </tr>\n",
       "    <tr>\n",
       "      <th>1</th>\n",
       "      <td>102581565</td>\n",
       "      <td>611.44</td>\n",
       "      <td>616.265491</td>\n",
       "    </tr>\n",
       "    <tr>\n",
       "      <th>2</th>\n",
       "      <td>102581565</td>\n",
       "      <td>644.83</td>\n",
       "      <td>616.265491</td>\n",
       "    </tr>\n",
       "    <tr>\n",
       "      <th>3</th>\n",
       "      <td>102581565</td>\n",
       "      <td>194.11</td>\n",
       "      <td>616.265491</td>\n",
       "    </tr>\n",
       "    <tr>\n",
       "      <th>4</th>\n",
       "      <td>530378</td>\n",
       "      <td>7060.06</td>\n",
       "      <td>8859.961962</td>\n",
       "    </tr>\n",
       "  </tbody>\n",
       "</table>\n",
       "</div>"
      ],
      "text/plain": [
       "   fk_customer_map_id.1  invoice_amount_norm  invoice_amount_norm_mean\n",
       "0              53417680             59679.88              47557.140736\n",
       "1             102581565               611.44                616.265491\n",
       "2             102581565               644.83                616.265491\n",
       "3             102581565               194.11                616.265491\n",
       "4                530378              7060.06               8859.961962"
      ]
     },
     "execution_count": 158,
     "metadata": {},
     "output_type": "execute_result"
    }
   ],
   "source": [
    "grp.head()"
   ]
  },
  {
   "cell_type": "code",
   "execution_count": 159,
   "metadata": {},
   "outputs": [],
   "source": [
    "grp['invoice_amount_norm']= grp['invoice_amount_norm']/grp['invoice_amount_norm_mean']\n"
   ]
  },
  {
   "cell_type": "code",
   "execution_count": 160,
   "metadata": {},
   "outputs": [],
   "source": [
    "grp.drop('invoice_amount_norm_mean',inplace=True,axis=1)"
   ]
  },
  {
   "cell_type": "code",
   "execution_count": 161,
   "metadata": {},
   "outputs": [],
   "source": [
    "grp.rename(columns={\"invoice_amount_norm\":\"inv_sum_ratio\"},inplace=True)"
   ]
  },
  {
   "cell_type": "code",
   "execution_count": 162,
   "metadata": {},
   "outputs": [
    {
     "data": {
      "text/plain": [
       "(394479, 65)"
      ]
     },
     "execution_count": 162,
     "metadata": {},
     "output_type": "execute_result"
    }
   ],
   "source": [
    "closed_train.shape"
   ]
  },
  {
   "cell_type": "code",
   "execution_count": 163,
   "metadata": {},
   "outputs": [
    {
     "data": {
      "text/plain": [
       "(394479, 2)"
      ]
     },
     "execution_count": 163,
     "metadata": {},
     "output_type": "execute_result"
    }
   ],
   "source": [
    "grp.shape"
   ]
  },
  {
   "cell_type": "code",
   "execution_count": 164,
   "metadata": {},
   "outputs": [
    {
     "data": {
      "text/plain": [
       "715"
      ]
     },
     "execution_count": 164,
     "metadata": {},
     "output_type": "execute_result"
    }
   ],
   "source": [
    "grp['fk_customer_map_id.1'].nunique()"
   ]
  },
  {
   "cell_type": "code",
   "execution_count": 165,
   "metadata": {},
   "outputs": [
    {
     "data": {
      "text/html": [
       "<div>\n",
       "<style scoped>\n",
       "    .dataframe tbody tr th:only-of-type {\n",
       "        vertical-align: middle;\n",
       "    }\n",
       "\n",
       "    .dataframe tbody tr th {\n",
       "        vertical-align: top;\n",
       "    }\n",
       "\n",
       "    .dataframe thead th {\n",
       "        text-align: right;\n",
       "    }\n",
       "</style>\n",
       "<table border=\"1\" class=\"dataframe\">\n",
       "  <thead>\n",
       "    <tr style=\"text-align: right;\">\n",
       "      <th></th>\n",
       "      <th>fk_customer_map_id.1</th>\n",
       "      <th>inv_sum_ratio</th>\n",
       "    </tr>\n",
       "  </thead>\n",
       "  <tbody>\n",
       "    <tr>\n",
       "      <th>0</th>\n",
       "      <td>53417680</td>\n",
       "      <td>1.254909</td>\n",
       "    </tr>\n",
       "    <tr>\n",
       "      <th>1</th>\n",
       "      <td>102581565</td>\n",
       "      <td>0.992170</td>\n",
       "    </tr>\n",
       "    <tr>\n",
       "      <th>2</th>\n",
       "      <td>102581565</td>\n",
       "      <td>1.046351</td>\n",
       "    </tr>\n",
       "    <tr>\n",
       "      <th>3</th>\n",
       "      <td>102581565</td>\n",
       "      <td>0.314978</td>\n",
       "    </tr>\n",
       "    <tr>\n",
       "      <th>4</th>\n",
       "      <td>530378</td>\n",
       "      <td>0.796850</td>\n",
       "    </tr>\n",
       "  </tbody>\n",
       "</table>\n",
       "</div>"
      ],
      "text/plain": [
       "   fk_customer_map_id.1  inv_sum_ratio\n",
       "0              53417680       1.254909\n",
       "1             102581565       0.992170\n",
       "2             102581565       1.046351\n",
       "3             102581565       0.314978\n",
       "4                530378       0.796850"
      ]
     },
     "execution_count": 165,
     "metadata": {},
     "output_type": "execute_result"
    }
   ],
   "source": [
    "grp.head()"
   ]
  },
  {
   "cell_type": "code",
   "execution_count": 166,
   "metadata": {},
   "outputs": [],
   "source": [
    "closed_train['inv_sum_ratio']=grp[['inv_sum_ratio']]"
   ]
  },
  {
   "cell_type": "code",
   "execution_count": 167,
   "metadata": {},
   "outputs": [
    {
     "data": {
      "text/html": [
       "<div>\n",
       "<style scoped>\n",
       "    .dataframe tbody tr th:only-of-type {\n",
       "        vertical-align: middle;\n",
       "    }\n",
       "\n",
       "    .dataframe tbody tr th {\n",
       "        vertical-align: top;\n",
       "    }\n",
       "\n",
       "    .dataframe thead th {\n",
       "        text-align: right;\n",
       "    }\n",
       "</style>\n",
       "<table border=\"1\" class=\"dataframe\">\n",
       "  <thead>\n",
       "    <tr style=\"text-align: right;\">\n",
       "      <th></th>\n",
       "      <th>provider_datatype_id</th>\n",
       "      <th>job_id</th>\n",
       "      <th>document_number_norm</th>\n",
       "      <th>company_code</th>\n",
       "      <th>fiscal_year</th>\n",
       "      <th>doctype</th>\n",
       "      <th>customer_number_norm</th>\n",
       "      <th>customer_name</th>\n",
       "      <th>document_date_norm</th>\n",
       "      <th>posting_date_norm</th>\n",
       "      <th>...</th>\n",
       "      <th>cust_invoice_amt_mean</th>\n",
       "      <th>Expected_to pay</th>\n",
       "      <th>due_date_week</th>\n",
       "      <th>due_date_month</th>\n",
       "      <th>amount_category</th>\n",
       "      <th>amount_category_encoded</th>\n",
       "      <th>delay_ratio</th>\n",
       "      <th>invoice_amount_norm_ratio</th>\n",
       "      <th>mean_positive_delay</th>\n",
       "      <th>inv_sum_ratio</th>\n",
       "    </tr>\n",
       "  </thead>\n",
       "  <tbody>\n",
       "    <tr>\n",
       "      <th>0</th>\n",
       "      <td>2854</td>\n",
       "      <td>94980606</td>\n",
       "      <td>8130234277</td>\n",
       "      <td>54</td>\n",
       "      <td>2018</td>\n",
       "      <td>D1</td>\n",
       "      <td>450025165</td>\n",
       "      <td>WAKEFERN FOOD CORPORATION</td>\n",
       "      <td>2018-01-01</td>\n",
       "      <td>1/1/2018</td>\n",
       "      <td>...</td>\n",
       "      <td>47557.140736</td>\n",
       "      <td>15</td>\n",
       "      <td>1</td>\n",
       "      <td>1</td>\n",
       "      <td>25k-75k</td>\n",
       "      <td>1</td>\n",
       "      <td>1.0</td>\n",
       "      <td>0.051708</td>\n",
       "      <td>16.392638</td>\n",
       "      <td>1.254909</td>\n",
       "    </tr>\n",
       "  </tbody>\n",
       "</table>\n",
       "<p>1 rows × 66 columns</p>\n",
       "</div>"
      ],
      "text/plain": [
       "   provider_datatype_id    job_id  document_number_norm  company_code  \\\n",
       "0                  2854  94980606            8130234277            54   \n",
       "\n",
       "   fiscal_year doctype  customer_number_norm              customer_name  \\\n",
       "0         2018      D1             450025165  WAKEFERN FOOD CORPORATION   \n",
       "\n",
       "  document_date_norm posting_date_norm  ... cust_invoice_amt_mean  \\\n",
       "0         2018-01-01          1/1/2018  ...          47557.140736   \n",
       "\n",
       "  Expected_to pay  due_date_week  due_date_month  amount_category  \\\n",
       "0              15              1               1          25k-75k   \n",
       "\n",
       "  amount_category_encoded delay_ratio invoice_amount_norm_ratio  \\\n",
       "0                       1         1.0                  0.051708   \n",
       "\n",
       "   mean_positive_delay inv_sum_ratio  \n",
       "0            16.392638      1.254909  \n",
       "\n",
       "[1 rows x 66 columns]"
      ]
     },
     "execution_count": 167,
     "metadata": {},
     "output_type": "execute_result"
    }
   ],
   "source": [
    "closed_train.head(1)"
   ]
  },
  {
   "cell_type": "markdown",
   "metadata": {},
   "source": [
    "# 8.INVOICE SUM RATIO:Ratio of invoice_amount_norm by invoice_amount_norm_mean."
   ]
  },
  {
   "cell_type": "code",
   "execution_count": 168,
   "metadata": {},
   "outputs": [],
   "source": [
    "grp_total_inv_amt = closed_train.groupby(['fk_customer_map_id.1']).agg({'invoice_amount_norm':'mean'}).reset_index()\n",
    "#grp_total_inv_amt.head()"
   ]
  },
  {
   "cell_type": "code",
   "execution_count": 169,
   "metadata": {},
   "outputs": [],
   "source": [
    "grp_total_inv_amt.rename(columns={\"invoice_amount_norm\":\"invoice_amount_norm_mean\"},inplace=True)"
   ]
  },
  {
   "cell_type": "code",
   "execution_count": 170,
   "metadata": {},
   "outputs": [
    {
     "data": {
      "text/html": [
       "<div>\n",
       "<style scoped>\n",
       "    .dataframe tbody tr th:only-of-type {\n",
       "        vertical-align: middle;\n",
       "    }\n",
       "\n",
       "    .dataframe tbody tr th {\n",
       "        vertical-align: top;\n",
       "    }\n",
       "\n",
       "    .dataframe thead th {\n",
       "        text-align: right;\n",
       "    }\n",
       "</style>\n",
       "<table border=\"1\" class=\"dataframe\">\n",
       "  <thead>\n",
       "    <tr style=\"text-align: right;\">\n",
       "      <th></th>\n",
       "      <th>fk_customer_map_id.1</th>\n",
       "      <th>invoice_amount_norm_mean</th>\n",
       "    </tr>\n",
       "  </thead>\n",
       "  <tbody>\n",
       "    <tr>\n",
       "      <th>0</th>\n",
       "      <td>527270</td>\n",
       "      <td>60687.717152</td>\n",
       "    </tr>\n",
       "    <tr>\n",
       "      <th>1</th>\n",
       "      <td>527272</td>\n",
       "      <td>13992.487667</td>\n",
       "    </tr>\n",
       "    <tr>\n",
       "      <th>2</th>\n",
       "      <td>527275</td>\n",
       "      <td>27901.794812</td>\n",
       "    </tr>\n",
       "    <tr>\n",
       "      <th>3</th>\n",
       "      <td>527285</td>\n",
       "      <td>63518.651111</td>\n",
       "    </tr>\n",
       "    <tr>\n",
       "      <th>4</th>\n",
       "      <td>527294</td>\n",
       "      <td>7056.011566</td>\n",
       "    </tr>\n",
       "  </tbody>\n",
       "</table>\n",
       "</div>"
      ],
      "text/plain": [
       "   fk_customer_map_id.1  invoice_amount_norm_mean\n",
       "0                527270              60687.717152\n",
       "1                527272              13992.487667\n",
       "2                527275              27901.794812\n",
       "3                527285              63518.651111\n",
       "4                527294               7056.011566"
      ]
     },
     "execution_count": 170,
     "metadata": {},
     "output_type": "execute_result"
    }
   ],
   "source": [
    "grp_total_inv_amt.head()"
   ]
  },
  {
   "cell_type": "code",
   "execution_count": 171,
   "metadata": {},
   "outputs": [],
   "source": [
    "grp = closed_train[['fk_customer_map_id.1','invoice_amount_norm']]"
   ]
  },
  {
   "cell_type": "code",
   "execution_count": 172,
   "metadata": {},
   "outputs": [
    {
     "data": {
      "text/plain": [
       "(394479, 2)"
      ]
     },
     "execution_count": 172,
     "metadata": {},
     "output_type": "execute_result"
    }
   ],
   "source": [
    "grp.shape"
   ]
  },
  {
   "cell_type": "code",
   "execution_count": 173,
   "metadata": {},
   "outputs": [],
   "source": [
    "grp_total_inv_amt.columns = ['fk_customer_map_id.1','invoice_amount_norm_mean']\n",
    "grp = pd.merge(grp,grp_total_inv_amt,how='left',on='fk_customer_map_id.1')"
   ]
  },
  {
   "cell_type": "code",
   "execution_count": 174,
   "metadata": {},
   "outputs": [
    {
     "data": {
      "text/html": [
       "<div>\n",
       "<style scoped>\n",
       "    .dataframe tbody tr th:only-of-type {\n",
       "        vertical-align: middle;\n",
       "    }\n",
       "\n",
       "    .dataframe tbody tr th {\n",
       "        vertical-align: top;\n",
       "    }\n",
       "\n",
       "    .dataframe thead th {\n",
       "        text-align: right;\n",
       "    }\n",
       "</style>\n",
       "<table border=\"1\" class=\"dataframe\">\n",
       "  <thead>\n",
       "    <tr style=\"text-align: right;\">\n",
       "      <th></th>\n",
       "      <th>fk_customer_map_id.1</th>\n",
       "      <th>invoice_amount_norm</th>\n",
       "      <th>invoice_amount_norm_mean</th>\n",
       "    </tr>\n",
       "  </thead>\n",
       "  <tbody>\n",
       "    <tr>\n",
       "      <th>0</th>\n",
       "      <td>53417680</td>\n",
       "      <td>59679.88</td>\n",
       "      <td>47557.140736</td>\n",
       "    </tr>\n",
       "    <tr>\n",
       "      <th>1</th>\n",
       "      <td>102581565</td>\n",
       "      <td>611.44</td>\n",
       "      <td>616.265491</td>\n",
       "    </tr>\n",
       "    <tr>\n",
       "      <th>2</th>\n",
       "      <td>102581565</td>\n",
       "      <td>644.83</td>\n",
       "      <td>616.265491</td>\n",
       "    </tr>\n",
       "    <tr>\n",
       "      <th>3</th>\n",
       "      <td>102581565</td>\n",
       "      <td>194.11</td>\n",
       "      <td>616.265491</td>\n",
       "    </tr>\n",
       "    <tr>\n",
       "      <th>4</th>\n",
       "      <td>530378</td>\n",
       "      <td>7060.06</td>\n",
       "      <td>8859.961962</td>\n",
       "    </tr>\n",
       "  </tbody>\n",
       "</table>\n",
       "</div>"
      ],
      "text/plain": [
       "   fk_customer_map_id.1  invoice_amount_norm  invoice_amount_norm_mean\n",
       "0              53417680             59679.88              47557.140736\n",
       "1             102581565               611.44                616.265491\n",
       "2             102581565               644.83                616.265491\n",
       "3             102581565               194.11                616.265491\n",
       "4                530378              7060.06               8859.961962"
      ]
     },
     "execution_count": 174,
     "metadata": {},
     "output_type": "execute_result"
    }
   ],
   "source": [
    "grp.head()"
   ]
  },
  {
   "cell_type": "code",
   "execution_count": 175,
   "metadata": {},
   "outputs": [],
   "source": [
    "grp['invoice_amount_norm']= grp['invoice_amount_norm']/grp['invoice_amount_norm_mean']\n"
   ]
  },
  {
   "cell_type": "code",
   "execution_count": 176,
   "metadata": {},
   "outputs": [],
   "source": [
    "grp.drop('invoice_amount_norm_mean',inplace=True,axis=1)"
   ]
  },
  {
   "cell_type": "code",
   "execution_count": 177,
   "metadata": {},
   "outputs": [],
   "source": [
    "grp.rename(columns={\"invoice_amount_norm\":\"inv_sum_ratio\"},inplace=True)"
   ]
  },
  {
   "cell_type": "code",
   "execution_count": 178,
   "metadata": {},
   "outputs": [
    {
     "data": {
      "text/plain": [
       "(394479, 66)"
      ]
     },
     "execution_count": 178,
     "metadata": {},
     "output_type": "execute_result"
    }
   ],
   "source": [
    "closed_train.shape"
   ]
  },
  {
   "cell_type": "code",
   "execution_count": 179,
   "metadata": {},
   "outputs": [
    {
     "data": {
      "text/plain": [
       "(394479, 2)"
      ]
     },
     "execution_count": 179,
     "metadata": {},
     "output_type": "execute_result"
    }
   ],
   "source": [
    "grp.shape"
   ]
  },
  {
   "cell_type": "code",
   "execution_count": 180,
   "metadata": {},
   "outputs": [
    {
     "data": {
      "text/plain": [
       "715"
      ]
     },
     "execution_count": 180,
     "metadata": {},
     "output_type": "execute_result"
    }
   ],
   "source": [
    "grp['fk_customer_map_id.1'].nunique()"
   ]
  },
  {
   "cell_type": "code",
   "execution_count": 181,
   "metadata": {},
   "outputs": [
    {
     "data": {
      "text/html": [
       "<div>\n",
       "<style scoped>\n",
       "    .dataframe tbody tr th:only-of-type {\n",
       "        vertical-align: middle;\n",
       "    }\n",
       "\n",
       "    .dataframe tbody tr th {\n",
       "        vertical-align: top;\n",
       "    }\n",
       "\n",
       "    .dataframe thead th {\n",
       "        text-align: right;\n",
       "    }\n",
       "</style>\n",
       "<table border=\"1\" class=\"dataframe\">\n",
       "  <thead>\n",
       "    <tr style=\"text-align: right;\">\n",
       "      <th></th>\n",
       "      <th>fk_customer_map_id.1</th>\n",
       "      <th>inv_sum_ratio</th>\n",
       "    </tr>\n",
       "  </thead>\n",
       "  <tbody>\n",
       "    <tr>\n",
       "      <th>0</th>\n",
       "      <td>53417680</td>\n",
       "      <td>1.254909</td>\n",
       "    </tr>\n",
       "    <tr>\n",
       "      <th>1</th>\n",
       "      <td>102581565</td>\n",
       "      <td>0.992170</td>\n",
       "    </tr>\n",
       "    <tr>\n",
       "      <th>2</th>\n",
       "      <td>102581565</td>\n",
       "      <td>1.046351</td>\n",
       "    </tr>\n",
       "    <tr>\n",
       "      <th>3</th>\n",
       "      <td>102581565</td>\n",
       "      <td>0.314978</td>\n",
       "    </tr>\n",
       "    <tr>\n",
       "      <th>4</th>\n",
       "      <td>530378</td>\n",
       "      <td>0.796850</td>\n",
       "    </tr>\n",
       "  </tbody>\n",
       "</table>\n",
       "</div>"
      ],
      "text/plain": [
       "   fk_customer_map_id.1  inv_sum_ratio\n",
       "0              53417680       1.254909\n",
       "1             102581565       0.992170\n",
       "2             102581565       1.046351\n",
       "3             102581565       0.314978\n",
       "4                530378       0.796850"
      ]
     },
     "execution_count": 181,
     "metadata": {},
     "output_type": "execute_result"
    }
   ],
   "source": [
    "grp.head()"
   ]
  },
  {
   "cell_type": "code",
   "execution_count": 182,
   "metadata": {},
   "outputs": [],
   "source": [
    "closed_train['inv_sum_ratio']=grp[['inv_sum_ratio']]"
   ]
  },
  {
   "cell_type": "code",
   "execution_count": 183,
   "metadata": {},
   "outputs": [
    {
     "data": {
      "text/html": [
       "<div>\n",
       "<style scoped>\n",
       "    .dataframe tbody tr th:only-of-type {\n",
       "        vertical-align: middle;\n",
       "    }\n",
       "\n",
       "    .dataframe tbody tr th {\n",
       "        vertical-align: top;\n",
       "    }\n",
       "\n",
       "    .dataframe thead th {\n",
       "        text-align: right;\n",
       "    }\n",
       "</style>\n",
       "<table border=\"1\" class=\"dataframe\">\n",
       "  <thead>\n",
       "    <tr style=\"text-align: right;\">\n",
       "      <th></th>\n",
       "      <th>provider_datatype_id</th>\n",
       "      <th>job_id</th>\n",
       "      <th>document_number_norm</th>\n",
       "      <th>company_code</th>\n",
       "      <th>fiscal_year</th>\n",
       "      <th>doctype</th>\n",
       "      <th>customer_number_norm</th>\n",
       "      <th>customer_name</th>\n",
       "      <th>document_date_norm</th>\n",
       "      <th>posting_date_norm</th>\n",
       "      <th>...</th>\n",
       "      <th>cust_invoice_amt_mean</th>\n",
       "      <th>Expected_to pay</th>\n",
       "      <th>due_date_week</th>\n",
       "      <th>due_date_month</th>\n",
       "      <th>amount_category</th>\n",
       "      <th>amount_category_encoded</th>\n",
       "      <th>delay_ratio</th>\n",
       "      <th>invoice_amount_norm_ratio</th>\n",
       "      <th>mean_positive_delay</th>\n",
       "      <th>inv_sum_ratio</th>\n",
       "    </tr>\n",
       "  </thead>\n",
       "  <tbody>\n",
       "    <tr>\n",
       "      <th>0</th>\n",
       "      <td>2854</td>\n",
       "      <td>94980606</td>\n",
       "      <td>8130234277</td>\n",
       "      <td>54</td>\n",
       "      <td>2018</td>\n",
       "      <td>D1</td>\n",
       "      <td>450025165</td>\n",
       "      <td>WAKEFERN FOOD CORPORATION</td>\n",
       "      <td>2018-01-01</td>\n",
       "      <td>1/1/2018</td>\n",
       "      <td>...</td>\n",
       "      <td>47557.140736</td>\n",
       "      <td>15</td>\n",
       "      <td>1</td>\n",
       "      <td>1</td>\n",
       "      <td>25k-75k</td>\n",
       "      <td>1</td>\n",
       "      <td>1.000000</td>\n",
       "      <td>0.051708</td>\n",
       "      <td>16.392638</td>\n",
       "      <td>1.254909</td>\n",
       "    </tr>\n",
       "    <tr>\n",
       "      <th>1</th>\n",
       "      <td>2854</td>\n",
       "      <td>94795561</td>\n",
       "      <td>8142554343</td>\n",
       "      <td>34</td>\n",
       "      <td>2018</td>\n",
       "      <td>D1</td>\n",
       "      <td>450016881</td>\n",
       "      <td>B- FCL WEST</td>\n",
       "      <td>2018-01-01</td>\n",
       "      <td>1/1/2018</td>\n",
       "      <td>...</td>\n",
       "      <td>616.265491</td>\n",
       "      <td>15</td>\n",
       "      <td>3</td>\n",
       "      <td>1</td>\n",
       "      <td>&lt;25k</td>\n",
       "      <td>0</td>\n",
       "      <td>0.902984</td>\n",
       "      <td>68.775712</td>\n",
       "      <td>4.847896</td>\n",
       "      <td>0.992170</td>\n",
       "    </tr>\n",
       "    <tr>\n",
       "      <th>2</th>\n",
       "      <td>2854</td>\n",
       "      <td>94795561</td>\n",
       "      <td>8142554359</td>\n",
       "      <td>34</td>\n",
       "      <td>2018</td>\n",
       "      <td>D1</td>\n",
       "      <td>450016881</td>\n",
       "      <td>B- FCL WEST</td>\n",
       "      <td>2018-01-01</td>\n",
       "      <td>1/1/2018</td>\n",
       "      <td>...</td>\n",
       "      <td>616.265491</td>\n",
       "      <td>15</td>\n",
       "      <td>3</td>\n",
       "      <td>1</td>\n",
       "      <td>&lt;25k</td>\n",
       "      <td>0</td>\n",
       "      <td>0.902984</td>\n",
       "      <td>68.775712</td>\n",
       "      <td>4.847896</td>\n",
       "      <td>1.046351</td>\n",
       "    </tr>\n",
       "    <tr>\n",
       "      <th>3</th>\n",
       "      <td>2854</td>\n",
       "      <td>94795561</td>\n",
       "      <td>8142554415</td>\n",
       "      <td>34</td>\n",
       "      <td>2018</td>\n",
       "      <td>D1</td>\n",
       "      <td>450016881</td>\n",
       "      <td>B- FCL WEST</td>\n",
       "      <td>2018-01-01</td>\n",
       "      <td>1/1/2018</td>\n",
       "      <td>...</td>\n",
       "      <td>616.265491</td>\n",
       "      <td>15</td>\n",
       "      <td>3</td>\n",
       "      <td>1</td>\n",
       "      <td>&lt;25k</td>\n",
       "      <td>0</td>\n",
       "      <td>0.902984</td>\n",
       "      <td>68.775712</td>\n",
       "      <td>4.847896</td>\n",
       "      <td>0.314978</td>\n",
       "    </tr>\n",
       "    <tr>\n",
       "      <th>4</th>\n",
       "      <td>2854</td>\n",
       "      <td>95061283</td>\n",
       "      <td>8101060956</td>\n",
       "      <td>30</td>\n",
       "      <td>2018</td>\n",
       "      <td>D1</td>\n",
       "      <td>450029522</td>\n",
       "      <td>FOOD SERVICES OF AMERICA AP</td>\n",
       "      <td>2018-01-01</td>\n",
       "      <td>1/1/2018</td>\n",
       "      <td>...</td>\n",
       "      <td>8859.961962</td>\n",
       "      <td>15</td>\n",
       "      <td>1</td>\n",
       "      <td>1</td>\n",
       "      <td>&lt;25k</td>\n",
       "      <td>0</td>\n",
       "      <td>1.000000</td>\n",
       "      <td>1.000000</td>\n",
       "      <td>15.649057</td>\n",
       "      <td>0.796850</td>\n",
       "    </tr>\n",
       "  </tbody>\n",
       "</table>\n",
       "<p>5 rows × 66 columns</p>\n",
       "</div>"
      ],
      "text/plain": [
       "   provider_datatype_id    job_id  document_number_norm  company_code  \\\n",
       "0                  2854  94980606            8130234277            54   \n",
       "1                  2854  94795561            8142554343            34   \n",
       "2                  2854  94795561            8142554359            34   \n",
       "3                  2854  94795561            8142554415            34   \n",
       "4                  2854  95061283            8101060956            30   \n",
       "\n",
       "   fiscal_year doctype  customer_number_norm                customer_name  \\\n",
       "0         2018      D1             450025165    WAKEFERN FOOD CORPORATION   \n",
       "1         2018      D1             450016881                  B- FCL WEST   \n",
       "2         2018      D1             450016881                  B- FCL WEST   \n",
       "3         2018      D1             450016881                  B- FCL WEST   \n",
       "4         2018      D1             450029522  FOOD SERVICES OF AMERICA AP   \n",
       "\n",
       "  document_date_norm posting_date_norm  ... cust_invoice_amt_mean  \\\n",
       "0         2018-01-01          1/1/2018  ...          47557.140736   \n",
       "1         2018-01-01          1/1/2018  ...            616.265491   \n",
       "2         2018-01-01          1/1/2018  ...            616.265491   \n",
       "3         2018-01-01          1/1/2018  ...            616.265491   \n",
       "4         2018-01-01          1/1/2018  ...           8859.961962   \n",
       "\n",
       "  Expected_to pay  due_date_week  due_date_month  amount_category  \\\n",
       "0              15              1               1          25k-75k   \n",
       "1              15              3               1             <25k   \n",
       "2              15              3               1             <25k   \n",
       "3              15              3               1             <25k   \n",
       "4              15              1               1             <25k   \n",
       "\n",
       "  amount_category_encoded delay_ratio invoice_amount_norm_ratio  \\\n",
       "0                       1    1.000000                  0.051708   \n",
       "1                       0    0.902984                 68.775712   \n",
       "2                       0    0.902984                 68.775712   \n",
       "3                       0    0.902984                 68.775712   \n",
       "4                       0    1.000000                  1.000000   \n",
       "\n",
       "   mean_positive_delay inv_sum_ratio  \n",
       "0            16.392638      1.254909  \n",
       "1             4.847896      0.992170  \n",
       "2             4.847896      1.046351  \n",
       "3             4.847896      0.314978  \n",
       "4            15.649057      0.796850  \n",
       "\n",
       "[5 rows x 66 columns]"
      ]
     },
     "execution_count": 183,
     "metadata": {},
     "output_type": "execute_result"
    }
   ],
   "source": [
    "closed_train.head()"
   ]
  },
  {
   "cell_type": "code",
   "execution_count": 184,
   "metadata": {},
   "outputs": [],
   "source": [
    "#now for closed validation\n",
    "grp = closed_validation[['fk_customer_map_id.1','invoice_amount_norm']]"
   ]
  },
  {
   "cell_type": "code",
   "execution_count": 185,
   "metadata": {},
   "outputs": [
    {
     "data": {
      "text/plain": [
       "(118344, 2)"
      ]
     },
     "execution_count": 185,
     "metadata": {},
     "output_type": "execute_result"
    }
   ],
   "source": [
    "grp.shape"
   ]
  },
  {
   "cell_type": "code",
   "execution_count": 186,
   "metadata": {},
   "outputs": [],
   "source": [
    "grp_total_inv_amt.columns = ['fk_customer_map_id.1','invoice_amount_norm_mean']\n",
    "grp = pd.merge(grp,grp_total_inv_amt,how='left',on='fk_customer_map_id.1')"
   ]
  },
  {
   "cell_type": "code",
   "execution_count": 190,
   "metadata": {},
   "outputs": [
    {
     "data": {
      "text/plain": [
       "fk_customer_map_id.1        0\n",
       "invoice_amount_norm         0\n",
       "invoice_amount_norm_mean    0\n",
       "dtype: int64"
      ]
     },
     "execution_count": 190,
     "metadata": {},
     "output_type": "execute_result"
    }
   ],
   "source": [
    "grp.isnull().sum()"
   ]
  },
  {
   "cell_type": "code",
   "execution_count": 188,
   "metadata": {},
   "outputs": [],
   "source": [
    "mean_for_null1 = grp_total_inv_amt['invoice_amount_norm_mean'].mean()"
   ]
  },
  {
   "cell_type": "code",
   "execution_count": 189,
   "metadata": {},
   "outputs": [],
   "source": [
    "grp.fillna(value={'invoice_amount_norm_mean':mean_for_null1},inplace=True)"
   ]
  },
  {
   "cell_type": "code",
   "execution_count": 191,
   "metadata": {},
   "outputs": [],
   "source": [
    "grp['invoice_amount_norm']= grp['invoice_amount_norm']/grp['invoice_amount_norm_mean']"
   ]
  },
  {
   "cell_type": "code",
   "execution_count": 192,
   "metadata": {},
   "outputs": [],
   "source": [
    "grp.drop('invoice_amount_norm_mean',inplace=True,axis=1)"
   ]
  },
  {
   "cell_type": "code",
   "execution_count": 193,
   "metadata": {},
   "outputs": [],
   "source": [
    "grp.rename(columns={\"invoice_amount_norm\":\"inv_sum_ratio\"},inplace=True)"
   ]
  },
  {
   "cell_type": "code",
   "execution_count": 194,
   "metadata": {},
   "outputs": [],
   "source": [
    "closed_validation['inv_sum_ratio']=grp[['inv_sum_ratio']]"
   ]
  },
  {
   "cell_type": "code",
   "execution_count": 195,
   "metadata": {},
   "outputs": [
    {
     "data": {
      "text/plain": [
       "0"
      ]
     },
     "execution_count": 195,
     "metadata": {},
     "output_type": "execute_result"
    }
   ],
   "source": [
    "closed_validation['inv_sum_ratio'].isnull().sum()"
   ]
  },
  {
   "cell_type": "code",
   "execution_count": 196,
   "metadata": {},
   "outputs": [],
   "source": [
    "#now for closed test\n",
    "grp = closed_test[['fk_customer_map_id.1','invoice_amount_norm']]"
   ]
  },
  {
   "cell_type": "code",
   "execution_count": 197,
   "metadata": {},
   "outputs": [],
   "source": [
    "grp_total_inv_amt.columns = ['fk_customer_map_id.1','invoice_amount_norm_mean']\n",
    "grp = pd.merge(grp,grp_total_inv_amt,how='left',on='fk_customer_map_id.1')"
   ]
  },
  {
   "cell_type": "code",
   "execution_count": 198,
   "metadata": {},
   "outputs": [],
   "source": [
    "mean_for_null1 = grp_total_inv_amt['invoice_amount_norm_mean'].mean()"
   ]
  },
  {
   "cell_type": "code",
   "execution_count": 199,
   "metadata": {},
   "outputs": [],
   "source": [
    "grp.fillna(value={'invoice_amount_norm_mean':mean_for_null1},inplace=True)"
   ]
  },
  {
   "cell_type": "code",
   "execution_count": 200,
   "metadata": {},
   "outputs": [],
   "source": [
    "grp['invoice_amount_norm']= grp['invoice_amount_norm']/grp['invoice_amount_norm_mean']"
   ]
  },
  {
   "cell_type": "code",
   "execution_count": 201,
   "metadata": {},
   "outputs": [],
   "source": [
    "grp.drop('invoice_amount_norm_mean',inplace=True,axis=1)"
   ]
  },
  {
   "cell_type": "code",
   "execution_count": 202,
   "metadata": {},
   "outputs": [],
   "source": [
    "grp.rename(columns={\"invoice_amount_norm\":\"inv_sum_ratio\"},inplace=True)"
   ]
  },
  {
   "cell_type": "code",
   "execution_count": 203,
   "metadata": {},
   "outputs": [],
   "source": [
    "closed_test['inv_sum_ratio']=grp[['inv_sum_ratio']]"
   ]
  },
  {
   "cell_type": "code",
   "execution_count": 207,
   "metadata": {},
   "outputs": [
    {
     "data": {
      "text/html": [
       "<div>\n",
       "<style scoped>\n",
       "    .dataframe tbody tr th:only-of-type {\n",
       "        vertical-align: middle;\n",
       "    }\n",
       "\n",
       "    .dataframe tbody tr th {\n",
       "        vertical-align: top;\n",
       "    }\n",
       "\n",
       "    .dataframe thead th {\n",
       "        text-align: right;\n",
       "    }\n",
       "</style>\n",
       "<table border=\"1\" class=\"dataframe\">\n",
       "  <thead>\n",
       "    <tr style=\"text-align: right;\">\n",
       "      <th></th>\n",
       "      <th>provider_datatype_id</th>\n",
       "      <th>job_id</th>\n",
       "      <th>document_number_norm</th>\n",
       "      <th>company_code</th>\n",
       "      <th>fiscal_year</th>\n",
       "      <th>doctype</th>\n",
       "      <th>customer_number_norm</th>\n",
       "      <th>customer_name</th>\n",
       "      <th>document_date_norm</th>\n",
       "      <th>posting_date_norm</th>\n",
       "      <th>...</th>\n",
       "      <th>cust_invoice_amt_mean</th>\n",
       "      <th>Expected_to pay</th>\n",
       "      <th>due_date_week</th>\n",
       "      <th>due_date_month</th>\n",
       "      <th>amount_category</th>\n",
       "      <th>amount_category_encoded</th>\n",
       "      <th>delay_ratio</th>\n",
       "      <th>invoice_amount_norm_ratio</th>\n",
       "      <th>mean_positive_delay</th>\n",
       "      <th>inv_sum_ratio</th>\n",
       "    </tr>\n",
       "  </thead>\n",
       "  <tbody>\n",
       "    <tr>\n",
       "      <th>0</th>\n",
       "      <td>2854</td>\n",
       "      <td>97380990</td>\n",
       "      <td>8142632785</td>\n",
       "      <td>34</td>\n",
       "      <td>2018</td>\n",
       "      <td>D1</td>\n",
       "      <td>450020083</td>\n",
       "      <td>B- SHOPPERS DRUG MART WEST</td>\n",
       "      <td>2018-08-03</td>\n",
       "      <td>8/3/2018</td>\n",
       "      <td>...</td>\n",
       "      <td>160.787581</td>\n",
       "      <td>15</td>\n",
       "      <td>5</td>\n",
       "      <td>8</td>\n",
       "      <td>&lt;25k</td>\n",
       "      <td>1</td>\n",
       "      <td>0.984844</td>\n",
       "      <td>5.522651</td>\n",
       "      <td>19.182256</td>\n",
       "      <td>1.164269</td>\n",
       "    </tr>\n",
       "  </tbody>\n",
       "</table>\n",
       "<p>1 rows × 66 columns</p>\n",
       "</div>"
      ],
      "text/plain": [
       "   provider_datatype_id    job_id  document_number_norm  company_code  \\\n",
       "0                  2854  97380990            8142632785            34   \n",
       "\n",
       "   fiscal_year doctype  customer_number_norm               customer_name  \\\n",
       "0         2018      D1             450020083  B- SHOPPERS DRUG MART WEST   \n",
       "\n",
       "  document_date_norm posting_date_norm  ... cust_invoice_amt_mean  \\\n",
       "0         2018-08-03          8/3/2018  ...            160.787581   \n",
       "\n",
       "  Expected_to pay  due_date_week  due_date_month  amount_category  \\\n",
       "0              15              5               8             <25k   \n",
       "\n",
       "  amount_category_encoded delay_ratio invoice_amount_norm_ratio  \\\n",
       "0                       1    0.984844                  5.522651   \n",
       "\n",
       "   mean_positive_delay inv_sum_ratio  \n",
       "0            19.182256      1.164269  \n",
       "\n",
       "[1 rows x 66 columns]"
      ]
     },
     "execution_count": 207,
     "metadata": {},
     "output_type": "execute_result"
    }
   ],
   "source": [
    "closed_test.head(1)"
   ]
  },
  {
   "cell_type": "code",
   "execution_count": 208,
   "metadata": {},
   "outputs": [],
   "source": [
    "closed_train.drop(['provider_datatype_id', 'job_id', 'document_number_norm',\n",
    "       'company_code', 'fiscal_year', 'doctype'],inplace=True,axis=1)"
   ]
  },
  {
   "cell_type": "code",
   "execution_count": 209,
   "metadata": {},
   "outputs": [],
   "source": [
    "closed_validation.drop(['provider_datatype_id', 'job_id', 'document_number_norm',\n",
    "       'company_code', 'fiscal_year', 'doctype'],inplace=True,axis=1)"
   ]
  },
  {
   "cell_type": "code",
   "execution_count": 210,
   "metadata": {},
   "outputs": [],
   "source": [
    "closed_test.drop(['provider_datatype_id', 'job_id', 'document_number_norm',\n",
    "       'company_code', 'fiscal_year', 'doctype'],inplace=True,axis=1)"
   ]
  },
  {
   "cell_type": "markdown",
   "metadata": {},
   "source": [
    "# 9.CUST DELAY PAYMENTS PERCENT:(cust_delay_pay_percnt)Percentage of invoices which have a delayed payment at a Customer Level."
   ]
  },
  {
   "cell_type": "code",
   "execution_count": 211,
   "metadata": {},
   "outputs": [],
   "source": [
    "#selecting rows where delay is greater than zero.\n",
    "closed_train_pos_delay = closed_train[closed_train['delay'] > 0]"
   ]
  },
  {
   "cell_type": "code",
   "execution_count": 212,
   "metadata": {},
   "outputs": [],
   "source": [
    "grp__pos_delayed_invoice = closed_train_pos_delay.groupby(['fk_customer_map_id.1']).agg({'delay':'count'}).reset_index()\n",
    "#grp_total_inv_amt.head()"
   ]
  },
  {
   "cell_type": "code",
   "execution_count": 213,
   "metadata": {},
   "outputs": [],
   "source": [
    "grp_total_dealy_invoice =  closed_train.groupby(['fk_customer_map_id.1']).agg({'delay':'count'}).reset_index()"
   ]
  },
  {
   "cell_type": "code",
   "execution_count": 214,
   "metadata": {},
   "outputs": [
    {
     "data": {
      "text/html": [
       "<div>\n",
       "<style scoped>\n",
       "    .dataframe tbody tr th:only-of-type {\n",
       "        vertical-align: middle;\n",
       "    }\n",
       "\n",
       "    .dataframe tbody tr th {\n",
       "        vertical-align: top;\n",
       "    }\n",
       "\n",
       "    .dataframe thead th {\n",
       "        text-align: right;\n",
       "    }\n",
       "</style>\n",
       "<table border=\"1\" class=\"dataframe\">\n",
       "  <thead>\n",
       "    <tr style=\"text-align: right;\">\n",
       "      <th></th>\n",
       "      <th>fk_customer_map_id.1</th>\n",
       "      <th>delay</th>\n",
       "    </tr>\n",
       "  </thead>\n",
       "  <tbody>\n",
       "    <tr>\n",
       "      <th>0</th>\n",
       "      <td>527270</td>\n",
       "      <td>460</td>\n",
       "    </tr>\n",
       "    <tr>\n",
       "      <th>1</th>\n",
       "      <td>527272</td>\n",
       "      <td>30</td>\n",
       "    </tr>\n",
       "    <tr>\n",
       "      <th>2</th>\n",
       "      <td>527275</td>\n",
       "      <td>154</td>\n",
       "    </tr>\n",
       "    <tr>\n",
       "      <th>3</th>\n",
       "      <td>527285</td>\n",
       "      <td>9</td>\n",
       "    </tr>\n",
       "    <tr>\n",
       "      <th>4</th>\n",
       "      <td>527294</td>\n",
       "      <td>82</td>\n",
       "    </tr>\n",
       "  </tbody>\n",
       "</table>\n",
       "</div>"
      ],
      "text/plain": [
       "   fk_customer_map_id.1  delay\n",
       "0                527270    460\n",
       "1                527272     30\n",
       "2                527275    154\n",
       "3                527285      9\n",
       "4                527294     82"
      ]
     },
     "execution_count": 214,
     "metadata": {},
     "output_type": "execute_result"
    }
   ],
   "source": [
    "grp__pos_delayed_invoice.head(5) "
   ]
  },
  {
   "cell_type": "code",
   "execution_count": 215,
   "metadata": {},
   "outputs": [],
   "source": [
    "grp__pos_delayed_invoice.rename(columns={\"delay\": \"positive_delay\"},inplace=True)"
   ]
  },
  {
   "cell_type": "code",
   "execution_count": 216,
   "metadata": {},
   "outputs": [
    {
     "data": {
      "text/html": [
       "<div>\n",
       "<style scoped>\n",
       "    .dataframe tbody tr th:only-of-type {\n",
       "        vertical-align: middle;\n",
       "    }\n",
       "\n",
       "    .dataframe tbody tr th {\n",
       "        vertical-align: top;\n",
       "    }\n",
       "\n",
       "    .dataframe thead th {\n",
       "        text-align: right;\n",
       "    }\n",
       "</style>\n",
       "<table border=\"1\" class=\"dataframe\">\n",
       "  <thead>\n",
       "    <tr style=\"text-align: right;\">\n",
       "      <th></th>\n",
       "      <th>fk_customer_map_id.1</th>\n",
       "      <th>delay</th>\n",
       "    </tr>\n",
       "  </thead>\n",
       "  <tbody>\n",
       "    <tr>\n",
       "      <th>0</th>\n",
       "      <td>527270</td>\n",
       "      <td>460</td>\n",
       "    </tr>\n",
       "    <tr>\n",
       "      <th>1</th>\n",
       "      <td>527272</td>\n",
       "      <td>30</td>\n",
       "    </tr>\n",
       "    <tr>\n",
       "      <th>2</th>\n",
       "      <td>527275</td>\n",
       "      <td>160</td>\n",
       "    </tr>\n",
       "    <tr>\n",
       "      <th>3</th>\n",
       "      <td>527285</td>\n",
       "      <td>9</td>\n",
       "    </tr>\n",
       "    <tr>\n",
       "      <th>4</th>\n",
       "      <td>527294</td>\n",
       "      <td>83</td>\n",
       "    </tr>\n",
       "  </tbody>\n",
       "</table>\n",
       "</div>"
      ],
      "text/plain": [
       "   fk_customer_map_id.1  delay\n",
       "0                527270    460\n",
       "1                527272     30\n",
       "2                527275    160\n",
       "3                527285      9\n",
       "4                527294     83"
      ]
     },
     "execution_count": 216,
     "metadata": {},
     "output_type": "execute_result"
    }
   ],
   "source": [
    "grp_total_dealy_invoice.head(5) "
   ]
  },
  {
   "cell_type": "code",
   "execution_count": 217,
   "metadata": {},
   "outputs": [],
   "source": [
    "grp_total_dealy_invoice['positive_delay'] = grp__pos_delayed_invoice[['positive_delay']]"
   ]
  },
  {
   "cell_type": "code",
   "execution_count": 218,
   "metadata": {},
   "outputs": [
    {
     "data": {
      "text/html": [
       "<div>\n",
       "<style scoped>\n",
       "    .dataframe tbody tr th:only-of-type {\n",
       "        vertical-align: middle;\n",
       "    }\n",
       "\n",
       "    .dataframe tbody tr th {\n",
       "        vertical-align: top;\n",
       "    }\n",
       "\n",
       "    .dataframe thead th {\n",
       "        text-align: right;\n",
       "    }\n",
       "</style>\n",
       "<table border=\"1\" class=\"dataframe\">\n",
       "  <thead>\n",
       "    <tr style=\"text-align: right;\">\n",
       "      <th></th>\n",
       "      <th>fk_customer_map_id.1</th>\n",
       "      <th>delay</th>\n",
       "      <th>positive_delay</th>\n",
       "    </tr>\n",
       "  </thead>\n",
       "  <tbody>\n",
       "    <tr>\n",
       "      <th>0</th>\n",
       "      <td>527270</td>\n",
       "      <td>460</td>\n",
       "      <td>460.0</td>\n",
       "    </tr>\n",
       "    <tr>\n",
       "      <th>1</th>\n",
       "      <td>527272</td>\n",
       "      <td>30</td>\n",
       "      <td>30.0</td>\n",
       "    </tr>\n",
       "    <tr>\n",
       "      <th>2</th>\n",
       "      <td>527275</td>\n",
       "      <td>160</td>\n",
       "      <td>154.0</td>\n",
       "    </tr>\n",
       "    <tr>\n",
       "      <th>3</th>\n",
       "      <td>527285</td>\n",
       "      <td>9</td>\n",
       "      <td>9.0</td>\n",
       "    </tr>\n",
       "    <tr>\n",
       "      <th>4</th>\n",
       "      <td>527294</td>\n",
       "      <td>83</td>\n",
       "      <td>82.0</td>\n",
       "    </tr>\n",
       "  </tbody>\n",
       "</table>\n",
       "</div>"
      ],
      "text/plain": [
       "   fk_customer_map_id.1  delay  positive_delay\n",
       "0                527270    460           460.0\n",
       "1                527272     30            30.0\n",
       "2                527275    160           154.0\n",
       "3                527285      9             9.0\n",
       "4                527294     83            82.0"
      ]
     },
     "execution_count": 218,
     "metadata": {},
     "output_type": "execute_result"
    }
   ],
   "source": [
    "grp_total_dealy_invoice.head(5) "
   ]
  },
  {
   "cell_type": "code",
   "execution_count": 219,
   "metadata": {},
   "outputs": [],
   "source": [
    "grp_total_dealy_invoice['cust_delay_pay_percnt']= grp_total_dealy_invoice['positive_delay']/grp_total_dealy_invoice['delay']"
   ]
  },
  {
   "cell_type": "code",
   "execution_count": 220,
   "metadata": {},
   "outputs": [],
   "source": [
    "grp_total_dealy_invoice.drop(['delay','positive_delay'],inplace=True,axis=1)"
   ]
  },
  {
   "cell_type": "code",
   "execution_count": 221,
   "metadata": {},
   "outputs": [],
   "source": [
    "grp_total_dealy_invoice.columns = ['fk_customer_map_id.1','cust_delay_pay_percnt']\n",
    "closed_train = pd.merge(closed_train,grp_total_dealy_invoice,how='left',on='fk_customer_map_id.1')"
   ]
  },
  {
   "cell_type": "code",
   "execution_count": 222,
   "metadata": {},
   "outputs": [
    {
     "data": {
      "text/html": [
       "<div>\n",
       "<style scoped>\n",
       "    .dataframe tbody tr th:only-of-type {\n",
       "        vertical-align: middle;\n",
       "    }\n",
       "\n",
       "    .dataframe tbody tr th {\n",
       "        vertical-align: top;\n",
       "    }\n",
       "\n",
       "    .dataframe thead th {\n",
       "        text-align: right;\n",
       "    }\n",
       "</style>\n",
       "<table border=\"1\" class=\"dataframe\">\n",
       "  <thead>\n",
       "    <tr style=\"text-align: right;\">\n",
       "      <th></th>\n",
       "      <th>customer_number_norm</th>\n",
       "      <th>customer_name</th>\n",
       "      <th>document_date_norm</th>\n",
       "      <th>posting_date_norm</th>\n",
       "      <th>baseline_date_norm</th>\n",
       "      <th>due_date_norm</th>\n",
       "      <th>invoice_number_norm</th>\n",
       "      <th>invoice_amount_norm</th>\n",
       "      <th>open_amount_norm</th>\n",
       "      <th>amount_currency</th>\n",
       "      <th>...</th>\n",
       "      <th>Expected_to pay</th>\n",
       "      <th>due_date_week</th>\n",
       "      <th>due_date_month</th>\n",
       "      <th>amount_category</th>\n",
       "      <th>amount_category_encoded</th>\n",
       "      <th>delay_ratio</th>\n",
       "      <th>invoice_amount_norm_ratio</th>\n",
       "      <th>mean_positive_delay</th>\n",
       "      <th>inv_sum_ratio</th>\n",
       "      <th>cust_delay_pay_percnt</th>\n",
       "    </tr>\n",
       "  </thead>\n",
       "  <tbody>\n",
       "    <tr>\n",
       "      <th>0</th>\n",
       "      <td>450025165</td>\n",
       "      <td>WAKEFERN FOOD CORPORATION</td>\n",
       "      <td>2018-01-01</td>\n",
       "      <td>1/1/2018</td>\n",
       "      <td>2018-01-01</td>\n",
       "      <td>2018-01-16</td>\n",
       "      <td>8.130234e+09</td>\n",
       "      <td>59679.88</td>\n",
       "      <td>59679.88</td>\n",
       "      <td>USD</td>\n",
       "      <td>...</td>\n",
       "      <td>15</td>\n",
       "      <td>1</td>\n",
       "      <td>1</td>\n",
       "      <td>25k-75k</td>\n",
       "      <td>1</td>\n",
       "      <td>1.0</td>\n",
       "      <td>0.051708</td>\n",
       "      <td>16.392638</td>\n",
       "      <td>1.254909</td>\n",
       "      <td>0.276074</td>\n",
       "    </tr>\n",
       "  </tbody>\n",
       "</table>\n",
       "<p>1 rows × 61 columns</p>\n",
       "</div>"
      ],
      "text/plain": [
       "   customer_number_norm              customer_name document_date_norm  \\\n",
       "0             450025165  WAKEFERN FOOD CORPORATION         2018-01-01   \n",
       "\n",
       "  posting_date_norm baseline_date_norm due_date_norm  invoice_number_norm  \\\n",
       "0          1/1/2018         2018-01-01    2018-01-16         8.130234e+09   \n",
       "\n",
       "   invoice_amount_norm  open_amount_norm amount_currency  ... Expected_to pay  \\\n",
       "0             59679.88          59679.88             USD  ...              15   \n",
       "\n",
       "  due_date_week  due_date_month amount_category  amount_category_encoded  \\\n",
       "0             1               1         25k-75k                        1   \n",
       "\n",
       "   delay_ratio  invoice_amount_norm_ratio mean_positive_delay  inv_sum_ratio  \\\n",
       "0          1.0                   0.051708           16.392638       1.254909   \n",
       "\n",
       "  cust_delay_pay_percnt  \n",
       "0              0.276074  \n",
       "\n",
       "[1 rows x 61 columns]"
      ]
     },
     "execution_count": 222,
     "metadata": {},
     "output_type": "execute_result"
    }
   ],
   "source": [
    "closed_train.head(1)"
   ]
  },
  {
   "cell_type": "code",
   "execution_count": 229,
   "metadata": {},
   "outputs": [
    {
     "data": {
      "text/plain": [
       "customer_number_norm                0\n",
       "customer_name                       0\n",
       "document_date_norm                  0\n",
       "posting_date_norm                   0\n",
       "baseline_date_norm                  0\n",
       "due_date_norm                       0\n",
       "invoice_number_norm                 7\n",
       "invoice_amount_norm                 0\n",
       "open_amount_norm                    0\n",
       "amount_currency                     0\n",
       "po_number_norm                      0\n",
       "payment_terms                       4\n",
       "business_area                   45109\n",
       "clearing_date_norm                  0\n",
       "clearing_document                   1\n",
       "reason_code                    118340\n",
       "status_code                         0\n",
       "source                              0\n",
       "isOpen                              0\n",
       "reference_doc_number                3\n",
       "cash_discount1                      0\n",
       "cash_discount2                      0\n",
       "cash_discount_percent1              0\n",
       "payment_block_key               73802\n",
       "reference_key1                 105444\n",
       "reference_key2                 103511\n",
       "credit_control_area                 0\n",
       "amt_cash_disc                       0\n",
       "item_text                      118132\n",
       "current_dispute_amount_norm         0\n",
       "                                ...  \n",
       "ref_number                     118343\n",
       "identifier_key                      0\n",
       "reference_key6                  96233\n",
       "reference_doc_number_norm           3\n",
       "cms_doc_header_id                   0\n",
       "fk_customer_map_id.1                0\n",
       "strategy_aging_bucket_id            0\n",
       "document_id                         0\n",
       "paid_amount                         0\n",
       "paid_date                           0\n",
       "dayspast_due                        0\n",
       "fk_document_type_id                 7\n",
       "current_open_amount                 0\n",
       "days_to_pay                         0\n",
       "invoice_age                         0\n",
       "latest_user_action              88272\n",
       "is_escalated                        0\n",
       "delay                               0\n",
       "mean_delay                          0\n",
       "cust_invoice_amt_mean               0\n",
       "Expected_to pay                     0\n",
       "due_date_week                       0\n",
       "due_date_month                      0\n",
       "amount_category                     0\n",
       "amount_category_encoded             0\n",
       "delay_ratio                         0\n",
       "invoice_amount_norm_ratio           0\n",
       "mean_positive_delay                 0\n",
       "inv_sum_ratio                       0\n",
       "cust_delay_pay_percnt              20\n",
       "Length: 61, dtype: int64"
      ]
     },
     "execution_count": 229,
     "metadata": {},
     "output_type": "execute_result"
    }
   ],
   "source": [
    "closed_validation.isnull().sum()"
   ]
  },
  {
   "cell_type": "code",
   "execution_count": 224,
   "metadata": {},
   "outputs": [],
   "source": [
    "closed_train.fillna(value={'cust_delay_pay_percnt':0},inplace=True)"
   ]
  },
  {
   "cell_type": "code",
   "execution_count": 225,
   "metadata": {},
   "outputs": [],
   "source": [
    "grp_total_dealy_invoice.fillna(value={'cust_delay_pay_percnt':0},inplace=True)"
   ]
  },
  {
   "cell_type": "code",
   "execution_count": 228,
   "metadata": {},
   "outputs": [],
   "source": [
    "grp_total_dealy_invoice.columns = ['fk_customer_map_id.1','cust_delay_pay_percnt']\n",
    "closed_validation = pd.merge(closed_validation,grp_total_dealy_invoice,how='left',on='fk_customer_map_id.1')"
   ]
  },
  {
   "cell_type": "code",
   "execution_count": 230,
   "metadata": {},
   "outputs": [],
   "source": [
    "mean_for_null1 = grp_total_dealy_invoice['cust_delay_pay_percnt'].mean()\n"
   ]
  },
  {
   "cell_type": "code",
   "execution_count": 231,
   "metadata": {},
   "outputs": [],
   "source": [
    "closed_validation.fillna(value={'cust_delay_pay_percnt':mean_for_null1},inplace=True)"
   ]
  },
  {
   "cell_type": "code",
   "execution_count": 232,
   "metadata": {},
   "outputs": [],
   "source": [
    "grp_total_dealy_invoice.columns = ['fk_customer_map_id.1','cust_delay_pay_percnt']\n",
    "closed_test = pd.merge(closed_test,grp_total_dealy_invoice,how='left',on='fk_customer_map_id.1')"
   ]
  },
  {
   "cell_type": "code",
   "execution_count": 233,
   "metadata": {},
   "outputs": [],
   "source": [
    "closed_test.fillna(value={'cust_delay_pay_percnt':mean_for_null1},inplace=True)"
   ]
  },
  {
   "cell_type": "code",
   "execution_count": 234,
   "metadata": {},
   "outputs": [
    {
     "data": {
      "text/plain": [
       "0"
      ]
     },
     "execution_count": 234,
     "metadata": {},
     "output_type": "execute_result"
    }
   ],
   "source": [
    "closed_test['cust_delay_pay_percnt'].isnull().sum()"
   ]
  },
  {
   "cell_type": "markdown",
   "metadata": {},
   "source": [
    "# 10.BATCH SIZE:Average number of Invoices that were cleared at Unique Clearing Dates."
   ]
  },
  {
   "cell_type": "code",
   "execution_count": 235,
   "metadata": {},
   "outputs": [],
   "source": [
    "grp = closed_test.groupby(['fk_customer_map_id.1','clearing_date_norm']).agg({'delay':'count'})"
   ]
  },
  {
   "cell_type": "code",
   "execution_count": 236,
   "metadata": {},
   "outputs": [],
   "source": [
    "grp = grp.groupby('fk_customer_map_id.1',level=1).mean().reset_index()"
   ]
  },
  {
   "cell_type": "code",
   "execution_count": 237,
   "metadata": {},
   "outputs": [
    {
     "data": {
      "text/html": [
       "<div>\n",
       "<style scoped>\n",
       "    .dataframe tbody tr th:only-of-type {\n",
       "        vertical-align: middle;\n",
       "    }\n",
       "\n",
       "    .dataframe tbody tr th {\n",
       "        vertical-align: top;\n",
       "    }\n",
       "\n",
       "    .dataframe thead th {\n",
       "        text-align: right;\n",
       "    }\n",
       "</style>\n",
       "<table border=\"1\" class=\"dataframe\">\n",
       "  <thead>\n",
       "    <tr style=\"text-align: right;\">\n",
       "      <th></th>\n",
       "      <th>fk_customer_map_id.1</th>\n",
       "      <th>delay</th>\n",
       "    </tr>\n",
       "  </thead>\n",
       "  <tbody>\n",
       "    <tr>\n",
       "      <th>0</th>\n",
       "      <td>527270</td>\n",
       "      <td>2.317073</td>\n",
       "    </tr>\n",
       "    <tr>\n",
       "      <th>1</th>\n",
       "      <td>527272</td>\n",
       "      <td>1.000000</td>\n",
       "    </tr>\n",
       "    <tr>\n",
       "      <th>2</th>\n",
       "      <td>527275</td>\n",
       "      <td>1.000000</td>\n",
       "    </tr>\n",
       "    <tr>\n",
       "      <th>3</th>\n",
       "      <td>527294</td>\n",
       "      <td>1.285714</td>\n",
       "    </tr>\n",
       "    <tr>\n",
       "      <th>4</th>\n",
       "      <td>527329</td>\n",
       "      <td>1.958333</td>\n",
       "    </tr>\n",
       "    <tr>\n",
       "      <th>5</th>\n",
       "      <td>527341</td>\n",
       "      <td>1.200000</td>\n",
       "    </tr>\n",
       "    <tr>\n",
       "      <th>6</th>\n",
       "      <td>527342</td>\n",
       "      <td>1.100000</td>\n",
       "    </tr>\n",
       "    <tr>\n",
       "      <th>7</th>\n",
       "      <td>527343</td>\n",
       "      <td>1.000000</td>\n",
       "    </tr>\n",
       "    <tr>\n",
       "      <th>8</th>\n",
       "      <td>527344</td>\n",
       "      <td>1.000000</td>\n",
       "    </tr>\n",
       "    <tr>\n",
       "      <th>9</th>\n",
       "      <td>527345</td>\n",
       "      <td>1.157895</td>\n",
       "    </tr>\n",
       "    <tr>\n",
       "      <th>10</th>\n",
       "      <td>527347</td>\n",
       "      <td>1.000000</td>\n",
       "    </tr>\n",
       "    <tr>\n",
       "      <th>11</th>\n",
       "      <td>527348</td>\n",
       "      <td>3.645833</td>\n",
       "    </tr>\n",
       "    <tr>\n",
       "      <th>12</th>\n",
       "      <td>527360</td>\n",
       "      <td>1.000000</td>\n",
       "    </tr>\n",
       "    <tr>\n",
       "      <th>13</th>\n",
       "      <td>527365</td>\n",
       "      <td>1.500000</td>\n",
       "    </tr>\n",
       "    <tr>\n",
       "      <th>14</th>\n",
       "      <td>527366</td>\n",
       "      <td>1.066667</td>\n",
       "    </tr>\n",
       "    <tr>\n",
       "      <th>15</th>\n",
       "      <td>527388</td>\n",
       "      <td>1.407407</td>\n",
       "    </tr>\n",
       "    <tr>\n",
       "      <th>16</th>\n",
       "      <td>527391</td>\n",
       "      <td>1.000000</td>\n",
       "    </tr>\n",
       "    <tr>\n",
       "      <th>17</th>\n",
       "      <td>527392</td>\n",
       "      <td>1.466667</td>\n",
       "    </tr>\n",
       "    <tr>\n",
       "      <th>18</th>\n",
       "      <td>527400</td>\n",
       "      <td>13.912281</td>\n",
       "    </tr>\n",
       "    <tr>\n",
       "      <th>19</th>\n",
       "      <td>527401</td>\n",
       "      <td>1.000000</td>\n",
       "    </tr>\n",
       "    <tr>\n",
       "      <th>20</th>\n",
       "      <td>527408</td>\n",
       "      <td>1.416667</td>\n",
       "    </tr>\n",
       "    <tr>\n",
       "      <th>21</th>\n",
       "      <td>527409</td>\n",
       "      <td>2.611111</td>\n",
       "    </tr>\n",
       "    <tr>\n",
       "      <th>22</th>\n",
       "      <td>527412</td>\n",
       "      <td>2.750000</td>\n",
       "    </tr>\n",
       "    <tr>\n",
       "      <th>23</th>\n",
       "      <td>527422</td>\n",
       "      <td>9.000000</td>\n",
       "    </tr>\n",
       "    <tr>\n",
       "      <th>24</th>\n",
       "      <td>527465</td>\n",
       "      <td>1.000000</td>\n",
       "    </tr>\n",
       "    <tr>\n",
       "      <th>25</th>\n",
       "      <td>527467</td>\n",
       "      <td>1.000000</td>\n",
       "    </tr>\n",
       "    <tr>\n",
       "      <th>26</th>\n",
       "      <td>527468</td>\n",
       "      <td>1.083333</td>\n",
       "    </tr>\n",
       "    <tr>\n",
       "      <th>27</th>\n",
       "      <td>527504</td>\n",
       "      <td>1.000000</td>\n",
       "    </tr>\n",
       "    <tr>\n",
       "      <th>28</th>\n",
       "      <td>527516</td>\n",
       "      <td>1.136364</td>\n",
       "    </tr>\n",
       "    <tr>\n",
       "      <th>29</th>\n",
       "      <td>527517</td>\n",
       "      <td>1.621622</td>\n",
       "    </tr>\n",
       "    <tr>\n",
       "      <th>...</th>\n",
       "      <td>...</td>\n",
       "      <td>...</td>\n",
       "    </tr>\n",
       "    <tr>\n",
       "      <th>586</th>\n",
       "      <td>102581748</td>\n",
       "      <td>1.100000</td>\n",
       "    </tr>\n",
       "    <tr>\n",
       "      <th>587</th>\n",
       "      <td>102581792</td>\n",
       "      <td>1.727273</td>\n",
       "    </tr>\n",
       "    <tr>\n",
       "      <th>588</th>\n",
       "      <td>102581863</td>\n",
       "      <td>1.166667</td>\n",
       "    </tr>\n",
       "    <tr>\n",
       "      <th>589</th>\n",
       "      <td>102581864</td>\n",
       "      <td>4.000000</td>\n",
       "    </tr>\n",
       "    <tr>\n",
       "      <th>590</th>\n",
       "      <td>102581877</td>\n",
       "      <td>1.100000</td>\n",
       "    </tr>\n",
       "    <tr>\n",
       "      <th>591</th>\n",
       "      <td>102581883</td>\n",
       "      <td>3.733333</td>\n",
       "    </tr>\n",
       "    <tr>\n",
       "      <th>592</th>\n",
       "      <td>102581885</td>\n",
       "      <td>1.000000</td>\n",
       "    </tr>\n",
       "    <tr>\n",
       "      <th>593</th>\n",
       "      <td>102581892</td>\n",
       "      <td>2.250000</td>\n",
       "    </tr>\n",
       "    <tr>\n",
       "      <th>594</th>\n",
       "      <td>102581919</td>\n",
       "      <td>1.000000</td>\n",
       "    </tr>\n",
       "    <tr>\n",
       "      <th>595</th>\n",
       "      <td>102581951</td>\n",
       "      <td>1.058824</td>\n",
       "    </tr>\n",
       "    <tr>\n",
       "      <th>596</th>\n",
       "      <td>102581954</td>\n",
       "      <td>2.000000</td>\n",
       "    </tr>\n",
       "    <tr>\n",
       "      <th>597</th>\n",
       "      <td>102581976</td>\n",
       "      <td>1.666667</td>\n",
       "    </tr>\n",
       "    <tr>\n",
       "      <th>598</th>\n",
       "      <td>102581987</td>\n",
       "      <td>1.000000</td>\n",
       "    </tr>\n",
       "    <tr>\n",
       "      <th>599</th>\n",
       "      <td>102581992</td>\n",
       "      <td>1.000000</td>\n",
       "    </tr>\n",
       "    <tr>\n",
       "      <th>600</th>\n",
       "      <td>102581996</td>\n",
       "      <td>1.200000</td>\n",
       "    </tr>\n",
       "    <tr>\n",
       "      <th>601</th>\n",
       "      <td>102582016</td>\n",
       "      <td>1.000000</td>\n",
       "    </tr>\n",
       "    <tr>\n",
       "      <th>602</th>\n",
       "      <td>102582020</td>\n",
       "      <td>1.100000</td>\n",
       "    </tr>\n",
       "    <tr>\n",
       "      <th>603</th>\n",
       "      <td>102582029</td>\n",
       "      <td>1.000000</td>\n",
       "    </tr>\n",
       "    <tr>\n",
       "      <th>604</th>\n",
       "      <td>102582035</td>\n",
       "      <td>6.375000</td>\n",
       "    </tr>\n",
       "    <tr>\n",
       "      <th>605</th>\n",
       "      <td>102582036</td>\n",
       "      <td>1.333333</td>\n",
       "    </tr>\n",
       "    <tr>\n",
       "      <th>606</th>\n",
       "      <td>102583657</td>\n",
       "      <td>1.000000</td>\n",
       "    </tr>\n",
       "    <tr>\n",
       "      <th>607</th>\n",
       "      <td>102583669</td>\n",
       "      <td>6.846154</td>\n",
       "    </tr>\n",
       "    <tr>\n",
       "      <th>608</th>\n",
       "      <td>102583676</td>\n",
       "      <td>4.000000</td>\n",
       "    </tr>\n",
       "    <tr>\n",
       "      <th>609</th>\n",
       "      <td>102583678</td>\n",
       "      <td>1.000000</td>\n",
       "    </tr>\n",
       "    <tr>\n",
       "      <th>610</th>\n",
       "      <td>102583679</td>\n",
       "      <td>1.333333</td>\n",
       "    </tr>\n",
       "    <tr>\n",
       "      <th>611</th>\n",
       "      <td>102583681</td>\n",
       "      <td>1.000000</td>\n",
       "    </tr>\n",
       "    <tr>\n",
       "      <th>612</th>\n",
       "      <td>102583697</td>\n",
       "      <td>1.250000</td>\n",
       "    </tr>\n",
       "    <tr>\n",
       "      <th>613</th>\n",
       "      <td>102583708</td>\n",
       "      <td>4.142857</td>\n",
       "    </tr>\n",
       "    <tr>\n",
       "      <th>614</th>\n",
       "      <td>102583715</td>\n",
       "      <td>6.000000</td>\n",
       "    </tr>\n",
       "    <tr>\n",
       "      <th>615</th>\n",
       "      <td>102583716</td>\n",
       "      <td>1.500000</td>\n",
       "    </tr>\n",
       "  </tbody>\n",
       "</table>\n",
       "<p>616 rows × 2 columns</p>\n",
       "</div>"
      ],
      "text/plain": [
       "     fk_customer_map_id.1      delay\n",
       "0                  527270   2.317073\n",
       "1                  527272   1.000000\n",
       "2                  527275   1.000000\n",
       "3                  527294   1.285714\n",
       "4                  527329   1.958333\n",
       "5                  527341   1.200000\n",
       "6                  527342   1.100000\n",
       "7                  527343   1.000000\n",
       "8                  527344   1.000000\n",
       "9                  527345   1.157895\n",
       "10                 527347   1.000000\n",
       "11                 527348   3.645833\n",
       "12                 527360   1.000000\n",
       "13                 527365   1.500000\n",
       "14                 527366   1.066667\n",
       "15                 527388   1.407407\n",
       "16                 527391   1.000000\n",
       "17                 527392   1.466667\n",
       "18                 527400  13.912281\n",
       "19                 527401   1.000000\n",
       "20                 527408   1.416667\n",
       "21                 527409   2.611111\n",
       "22                 527412   2.750000\n",
       "23                 527422   9.000000\n",
       "24                 527465   1.000000\n",
       "25                 527467   1.000000\n",
       "26                 527468   1.083333\n",
       "27                 527504   1.000000\n",
       "28                 527516   1.136364\n",
       "29                 527517   1.621622\n",
       "..                    ...        ...\n",
       "586             102581748   1.100000\n",
       "587             102581792   1.727273\n",
       "588             102581863   1.166667\n",
       "589             102581864   4.000000\n",
       "590             102581877   1.100000\n",
       "591             102581883   3.733333\n",
       "592             102581885   1.000000\n",
       "593             102581892   2.250000\n",
       "594             102581919   1.000000\n",
       "595             102581951   1.058824\n",
       "596             102581954   2.000000\n",
       "597             102581976   1.666667\n",
       "598             102581987   1.000000\n",
       "599             102581992   1.000000\n",
       "600             102581996   1.200000\n",
       "601             102582016   1.000000\n",
       "602             102582020   1.100000\n",
       "603             102582029   1.000000\n",
       "604             102582035   6.375000\n",
       "605             102582036   1.333333\n",
       "606             102583657   1.000000\n",
       "607             102583669   6.846154\n",
       "608             102583676   4.000000\n",
       "609             102583678   1.000000\n",
       "610             102583679   1.333333\n",
       "611             102583681   1.000000\n",
       "612             102583697   1.250000\n",
       "613             102583708   4.142857\n",
       "614             102583715   6.000000\n",
       "615             102583716   1.500000\n",
       "\n",
       "[616 rows x 2 columns]"
      ]
     },
     "execution_count": 237,
     "metadata": {},
     "output_type": "execute_result"
    }
   ],
   "source": [
    "grp"
   ]
  },
  {
   "cell_type": "code",
   "execution_count": 238,
   "metadata": {},
   "outputs": [],
   "source": [
    "grp.rename(columns={\"delay\": \"batch_size\"},inplace=True)"
   ]
  },
  {
   "cell_type": "code",
   "execution_count": 239,
   "metadata": {},
   "outputs": [],
   "source": [
    "grp.columns = ['fk_customer_map_id.1','batch_size']\n",
    "closed_train = pd.merge(closed_train,grp,how='left',on='fk_customer_map_id.1')"
   ]
  },
  {
   "cell_type": "code",
   "execution_count": 240,
   "metadata": {},
   "outputs": [],
   "source": [
    "closed_train.fillna(value={'batch_size':0},inplace=True)"
   ]
  },
  {
   "cell_type": "code",
   "execution_count": 242,
   "metadata": {},
   "outputs": [],
   "source": [
    "grp.columns = ['fk_customer_map_id.1','batch_size']\n",
    "closed_validation = pd.merge(closed_validation,grp,how='left',on='fk_customer_map_id.1')"
   ]
  },
  {
   "cell_type": "code",
   "execution_count": 243,
   "metadata": {},
   "outputs": [
    {
     "data": {
      "text/plain": [
       "554"
      ]
     },
     "execution_count": 243,
     "metadata": {},
     "output_type": "execute_result"
    }
   ],
   "source": [
    "closed_validation['batch_size'].isnull().sum()"
   ]
  },
  {
   "cell_type": "code",
   "execution_count": 244,
   "metadata": {},
   "outputs": [],
   "source": [
    "mean_for_null1 = grp['batch_size'].mean()"
   ]
  },
  {
   "cell_type": "code",
   "execution_count": 245,
   "metadata": {},
   "outputs": [],
   "source": [
    "closed_validation.fillna(value={'batch_size':mean_for_null1},inplace=True)"
   ]
  },
  {
   "cell_type": "code",
   "execution_count": 246,
   "metadata": {},
   "outputs": [],
   "source": [
    "grp.columns = ['fk_customer_map_id.1','batch_size']\n",
    "closed_test = pd.merge(closed_test,grp,how='left',on='fk_customer_map_id.1')"
   ]
  },
  {
   "cell_type": "code",
   "execution_count": 247,
   "metadata": {},
   "outputs": [
    {
     "data": {
      "text/plain": [
       "0"
      ]
     },
     "execution_count": 247,
     "metadata": {},
     "output_type": "execute_result"
    }
   ],
   "source": [
    "closed_test['batch_size'].isnull().sum()"
   ]
  },
  {
   "cell_type": "markdown",
   "metadata": {},
   "source": [
    "# 11.A: Ratio of average of actual open amount of delayed payments and average of actual open amount of total payments for a particular customer."
   ]
  },
  {
   "cell_type": "code",
   "execution_count": 248,
   "metadata": {},
   "outputs": [],
   "source": [
    "ds = closed_train.loc[closed_train['delay']>0,:]\n",
    "ds = ds.groupby('fk_customer_map_id.1').agg({'invoice_amount_norm':'mean'}).reset_index()\n",
    "ds.columns = ['fk_customer_map_id.1','invoice_amount_norm_delayed']\n",
    "df = closed_train.groupby('fk_customer_map_id.1').agg({'invoice_amount_norm':'mean'}).reset_index()\n",
    "df.columns = ['fk_customer_map_id.1','invoice_amount_norm_total']\n",
    "ds = pd.merge(ds,df,how='left',on='fk_customer_map_id.1')\n",
    "ds['A'] = ds['invoice_amount_norm_delayed']/ds['invoice_amount_norm_total']"
   ]
  },
  {
   "cell_type": "code",
   "execution_count": 249,
   "metadata": {},
   "outputs": [
    {
     "data": {
      "text/html": [
       "<div>\n",
       "<style scoped>\n",
       "    .dataframe tbody tr th:only-of-type {\n",
       "        vertical-align: middle;\n",
       "    }\n",
       "\n",
       "    .dataframe tbody tr th {\n",
       "        vertical-align: top;\n",
       "    }\n",
       "\n",
       "    .dataframe thead th {\n",
       "        text-align: right;\n",
       "    }\n",
       "</style>\n",
       "<table border=\"1\" class=\"dataframe\">\n",
       "  <thead>\n",
       "    <tr style=\"text-align: right;\">\n",
       "      <th></th>\n",
       "      <th>fk_customer_map_id.1</th>\n",
       "      <th>A</th>\n",
       "    </tr>\n",
       "  </thead>\n",
       "  <tbody>\n",
       "    <tr>\n",
       "      <th>0</th>\n",
       "      <td>527270</td>\n",
       "      <td>1.000000</td>\n",
       "    </tr>\n",
       "    <tr>\n",
       "      <th>1</th>\n",
       "      <td>527272</td>\n",
       "      <td>1.000000</td>\n",
       "    </tr>\n",
       "    <tr>\n",
       "      <th>2</th>\n",
       "      <td>527275</td>\n",
       "      <td>0.994903</td>\n",
       "    </tr>\n",
       "    <tr>\n",
       "      <th>3</th>\n",
       "      <td>527285</td>\n",
       "      <td>1.000000</td>\n",
       "    </tr>\n",
       "    <tr>\n",
       "      <th>4</th>\n",
       "      <td>527294</td>\n",
       "      <td>1.007039</td>\n",
       "    </tr>\n",
       "  </tbody>\n",
       "</table>\n",
       "</div>"
      ],
      "text/plain": [
       "   fk_customer_map_id.1         A\n",
       "0                527270  1.000000\n",
       "1                527272  1.000000\n",
       "2                527275  0.994903\n",
       "3                527285  1.000000\n",
       "4                527294  1.007039"
      ]
     },
     "execution_count": 249,
     "metadata": {},
     "output_type": "execute_result"
    }
   ],
   "source": [
    "ds = ds[['fk_customer_map_id.1','A']]\n",
    "Mn = ds['A'].mean()\n",
    "ds.head()"
   ]
  },
  {
   "cell_type": "code",
   "execution_count": 250,
   "metadata": {
    "scrolled": true
   },
   "outputs": [
    {
     "data": {
      "text/html": [
       "<div>\n",
       "<style scoped>\n",
       "    .dataframe tbody tr th:only-of-type {\n",
       "        vertical-align: middle;\n",
       "    }\n",
       "\n",
       "    .dataframe tbody tr th {\n",
       "        vertical-align: top;\n",
       "    }\n",
       "\n",
       "    .dataframe thead th {\n",
       "        text-align: right;\n",
       "    }\n",
       "</style>\n",
       "<table border=\"1\" class=\"dataframe\">\n",
       "  <thead>\n",
       "    <tr style=\"text-align: right;\">\n",
       "      <th></th>\n",
       "      <th>customer_number_norm</th>\n",
       "      <th>customer_name</th>\n",
       "      <th>document_date_norm</th>\n",
       "      <th>posting_date_norm</th>\n",
       "      <th>baseline_date_norm</th>\n",
       "      <th>due_date_norm</th>\n",
       "      <th>invoice_number_norm</th>\n",
       "      <th>invoice_amount_norm</th>\n",
       "      <th>open_amount_norm</th>\n",
       "      <th>amount_currency</th>\n",
       "      <th>...</th>\n",
       "      <th>due_date_month</th>\n",
       "      <th>amount_category</th>\n",
       "      <th>amount_category_encoded</th>\n",
       "      <th>delay_ratio</th>\n",
       "      <th>invoice_amount_norm_ratio</th>\n",
       "      <th>mean_positive_delay</th>\n",
       "      <th>inv_sum_ratio</th>\n",
       "      <th>cust_delay_pay_percnt</th>\n",
       "      <th>batch_size</th>\n",
       "      <th>A</th>\n",
       "    </tr>\n",
       "  </thead>\n",
       "  <tbody>\n",
       "    <tr>\n",
       "      <th>0</th>\n",
       "      <td>450025165</td>\n",
       "      <td>WAKEFERN FOOD CORPORATION</td>\n",
       "      <td>2018-01-01</td>\n",
       "      <td>1/1/2018</td>\n",
       "      <td>2018-01-01</td>\n",
       "      <td>2018-01-16</td>\n",
       "      <td>8.130234e+09</td>\n",
       "      <td>59679.88</td>\n",
       "      <td>59679.88</td>\n",
       "      <td>USD</td>\n",
       "      <td>...</td>\n",
       "      <td>1</td>\n",
       "      <td>25k-75k</td>\n",
       "      <td>1</td>\n",
       "      <td>1.0</td>\n",
       "      <td>0.051708</td>\n",
       "      <td>16.392638</td>\n",
       "      <td>1.254909</td>\n",
       "      <td>0.276074</td>\n",
       "      <td>2.352941</td>\n",
       "      <td>1.0</td>\n",
       "    </tr>\n",
       "  </tbody>\n",
       "</table>\n",
       "<p>1 rows × 63 columns</p>\n",
       "</div>"
      ],
      "text/plain": [
       "   customer_number_norm              customer_name document_date_norm  \\\n",
       "0             450025165  WAKEFERN FOOD CORPORATION         2018-01-01   \n",
       "\n",
       "  posting_date_norm baseline_date_norm due_date_norm  invoice_number_norm  \\\n",
       "0          1/1/2018         2018-01-01    2018-01-16         8.130234e+09   \n",
       "\n",
       "   invoice_amount_norm  open_amount_norm amount_currency  ... due_date_month  \\\n",
       "0             59679.88          59679.88             USD  ...              1   \n",
       "\n",
       "  amount_category  amount_category_encoded delay_ratio  \\\n",
       "0         25k-75k                        1         1.0   \n",
       "\n",
       "   invoice_amount_norm_ratio  mean_positive_delay  inv_sum_ratio  \\\n",
       "0                   0.051708            16.392638       1.254909   \n",
       "\n",
       "  cust_delay_pay_percnt  batch_size    A  \n",
       "0              0.276074    2.352941  1.0  \n",
       "\n",
       "[1 rows x 63 columns]"
      ]
     },
     "execution_count": 250,
     "metadata": {},
     "output_type": "execute_result"
    }
   ],
   "source": [
    "closed_train = pd.merge(closed_train,ds,how='left',on='fk_customer_map_id.1')\n",
    "closed_train.head(1)"
   ]
  },
  {
   "cell_type": "code",
   "execution_count": 252,
   "metadata": {},
   "outputs": [
    {
     "data": {
      "text/html": [
       "<div>\n",
       "<style scoped>\n",
       "    .dataframe tbody tr th:only-of-type {\n",
       "        vertical-align: middle;\n",
       "    }\n",
       "\n",
       "    .dataframe tbody tr th {\n",
       "        vertical-align: top;\n",
       "    }\n",
       "\n",
       "    .dataframe thead th {\n",
       "        text-align: right;\n",
       "    }\n",
       "</style>\n",
       "<table border=\"1\" class=\"dataframe\">\n",
       "  <thead>\n",
       "    <tr style=\"text-align: right;\">\n",
       "      <th></th>\n",
       "      <th>customer_number_norm</th>\n",
       "      <th>customer_name</th>\n",
       "      <th>document_date_norm</th>\n",
       "      <th>posting_date_norm</th>\n",
       "      <th>baseline_date_norm</th>\n",
       "      <th>due_date_norm</th>\n",
       "      <th>invoice_number_norm</th>\n",
       "      <th>invoice_amount_norm</th>\n",
       "      <th>open_amount_norm</th>\n",
       "      <th>amount_currency</th>\n",
       "      <th>...</th>\n",
       "      <th>due_date_month</th>\n",
       "      <th>amount_category</th>\n",
       "      <th>amount_category_encoded</th>\n",
       "      <th>delay_ratio</th>\n",
       "      <th>invoice_amount_norm_ratio</th>\n",
       "      <th>mean_positive_delay</th>\n",
       "      <th>inv_sum_ratio</th>\n",
       "      <th>cust_delay_pay_percnt</th>\n",
       "      <th>batch_size</th>\n",
       "      <th>A</th>\n",
       "    </tr>\n",
       "  </thead>\n",
       "  <tbody>\n",
       "    <tr>\n",
       "      <th>0</th>\n",
       "      <td>450009362</td>\n",
       "      <td>C&amp;S WHOLESALE GROCERS - A/P</td>\n",
       "      <td>2019-06-18</td>\n",
       "      <td>6/18/2019</td>\n",
       "      <td>2019-06-18</td>\n",
       "      <td>2019-07-03</td>\n",
       "      <td>8.101268e+09</td>\n",
       "      <td>24220.88</td>\n",
       "      <td>24220.88</td>\n",
       "      <td>USD</td>\n",
       "      <td>...</td>\n",
       "      <td>7</td>\n",
       "      <td>&lt;25k</td>\n",
       "      <td>0</td>\n",
       "      <td>0.95249</td>\n",
       "      <td>1.005949</td>\n",
       "      <td>5.049195</td>\n",
       "      <td>0.515144</td>\n",
       "      <td>0.95249</td>\n",
       "      <td>13.912281</td>\n",
       "      <td>1.005949</td>\n",
       "    </tr>\n",
       "  </tbody>\n",
       "</table>\n",
       "<p>1 rows × 63 columns</p>\n",
       "</div>"
      ],
      "text/plain": [
       "   customer_number_norm                customer_name document_date_norm  \\\n",
       "0             450009362  C&S WHOLESALE GROCERS - A/P         2019-06-18   \n",
       "\n",
       "  posting_date_norm baseline_date_norm due_date_norm  invoice_number_norm  \\\n",
       "0         6/18/2019         2019-06-18    2019-07-03         8.101268e+09   \n",
       "\n",
       "   invoice_amount_norm  open_amount_norm amount_currency  ... due_date_month  \\\n",
       "0             24220.88          24220.88             USD  ...              7   \n",
       "\n",
       "  amount_category  amount_category_encoded delay_ratio  \\\n",
       "0            <25k                        0     0.95249   \n",
       "\n",
       "   invoice_amount_norm_ratio  mean_positive_delay  inv_sum_ratio  \\\n",
       "0                   1.005949             5.049195       0.515144   \n",
       "\n",
       "  cust_delay_pay_percnt  batch_size         A  \n",
       "0               0.95249   13.912281  1.005949  \n",
       "\n",
       "[1 rows x 63 columns]"
      ]
     },
     "execution_count": 252,
     "metadata": {},
     "output_type": "execute_result"
    }
   ],
   "source": [
    "closed_validation = pd.merge(closed_validation,ds,how='left',on='fk_customer_map_id.1')\n",
    "closed_validation.head(1)"
   ]
  },
  {
   "cell_type": "code",
   "execution_count": 253,
   "metadata": {},
   "outputs": [
    {
     "data": {
      "text/plain": [
       "47"
      ]
     },
     "execution_count": 253,
     "metadata": {},
     "output_type": "execute_result"
    }
   ],
   "source": [
    "closed_validation['A'].isnull().sum()"
   ]
  },
  {
   "cell_type": "code",
   "execution_count": 254,
   "metadata": {},
   "outputs": [],
   "source": [
    "mean_for_null1 = ds['A'].mean()"
   ]
  },
  {
   "cell_type": "code",
   "execution_count": 255,
   "metadata": {},
   "outputs": [],
   "source": [
    "closed_validation.fillna(value={'A':mean_for_null1},inplace=True)"
   ]
  },
  {
   "cell_type": "code",
   "execution_count": 256,
   "metadata": {},
   "outputs": [
    {
     "data": {
      "text/html": [
       "<div>\n",
       "<style scoped>\n",
       "    .dataframe tbody tr th:only-of-type {\n",
       "        vertical-align: middle;\n",
       "    }\n",
       "\n",
       "    .dataframe tbody tr th {\n",
       "        vertical-align: top;\n",
       "    }\n",
       "\n",
       "    .dataframe thead th {\n",
       "        text-align: right;\n",
       "    }\n",
       "</style>\n",
       "<table border=\"1\" class=\"dataframe\">\n",
       "  <thead>\n",
       "    <tr style=\"text-align: right;\">\n",
       "      <th></th>\n",
       "      <th>customer_number_norm</th>\n",
       "      <th>customer_name</th>\n",
       "      <th>document_date_norm</th>\n",
       "      <th>posting_date_norm</th>\n",
       "      <th>baseline_date_norm</th>\n",
       "      <th>due_date_norm</th>\n",
       "      <th>invoice_number_norm</th>\n",
       "      <th>invoice_amount_norm</th>\n",
       "      <th>open_amount_norm</th>\n",
       "      <th>amount_currency</th>\n",
       "      <th>...</th>\n",
       "      <th>due_date_month</th>\n",
       "      <th>amount_category</th>\n",
       "      <th>amount_category_encoded</th>\n",
       "      <th>delay_ratio</th>\n",
       "      <th>invoice_amount_norm_ratio</th>\n",
       "      <th>mean_positive_delay</th>\n",
       "      <th>inv_sum_ratio</th>\n",
       "      <th>cust_delay_pay_percnt</th>\n",
       "      <th>batch_size</th>\n",
       "      <th>A</th>\n",
       "    </tr>\n",
       "  </thead>\n",
       "  <tbody>\n",
       "    <tr>\n",
       "      <th>0</th>\n",
       "      <td>450020083</td>\n",
       "      <td>B- SHOPPERS DRUG MART WEST</td>\n",
       "      <td>2018-08-03</td>\n",
       "      <td>8/3/2018</td>\n",
       "      <td>2018-08-03</td>\n",
       "      <td>2018-08-18</td>\n",
       "      <td>8.142633e+09</td>\n",
       "      <td>187.2</td>\n",
       "      <td>187.2</td>\n",
       "      <td>CAD</td>\n",
       "      <td>...</td>\n",
       "      <td>8</td>\n",
       "      <td>&lt;25k</td>\n",
       "      <td>1</td>\n",
       "      <td>0.984844</td>\n",
       "      <td>5.522651</td>\n",
       "      <td>19.182256</td>\n",
       "      <td>1.164269</td>\n",
       "      <td>0.008064</td>\n",
       "      <td>129.702703</td>\n",
       "      <td>0.999723</td>\n",
       "    </tr>\n",
       "  </tbody>\n",
       "</table>\n",
       "<p>1 rows × 63 columns</p>\n",
       "</div>"
      ],
      "text/plain": [
       "   customer_number_norm               customer_name document_date_norm  \\\n",
       "0             450020083  B- SHOPPERS DRUG MART WEST         2018-08-03   \n",
       "\n",
       "  posting_date_norm baseline_date_norm due_date_norm  invoice_number_norm  \\\n",
       "0          8/3/2018         2018-08-03    2018-08-18         8.142633e+09   \n",
       "\n",
       "   invoice_amount_norm  open_amount_norm amount_currency  ... due_date_month  \\\n",
       "0                187.2             187.2             CAD  ...              8   \n",
       "\n",
       "  amount_category  amount_category_encoded delay_ratio  \\\n",
       "0            <25k                        1    0.984844   \n",
       "\n",
       "   invoice_amount_norm_ratio  mean_positive_delay  inv_sum_ratio  \\\n",
       "0                   5.522651            19.182256       1.164269   \n",
       "\n",
       "  cust_delay_pay_percnt  batch_size         A  \n",
       "0              0.008064  129.702703  0.999723  \n",
       "\n",
       "[1 rows x 63 columns]"
      ]
     },
     "execution_count": 256,
     "metadata": {},
     "output_type": "execute_result"
    }
   ],
   "source": [
    "closed_test = pd.merge(closed_test,ds,how='left',on='fk_customer_map_id.1')\n",
    "closed_test.head(1)"
   ]
  },
  {
   "cell_type": "code",
   "execution_count": 260,
   "metadata": {},
   "outputs": [
    {
     "data": {
      "text/plain": [
       "0"
      ]
     },
     "execution_count": 260,
     "metadata": {},
     "output_type": "execute_result"
    }
   ],
   "source": [
    "closed_test['A'].isnull().sum()"
   ]
  },
  {
   "cell_type": "code",
   "execution_count": 259,
   "metadata": {},
   "outputs": [],
   "source": [
    "closed_test.fillna(value={'A':mean_for_null1},inplace=True)"
   ]
  },
  {
   "cell_type": "markdown",
   "metadata": {},
   "source": [
    "# 12.Due Date quarter:"
   ]
  },
  {
   "cell_type": "code",
   "execution_count": 261,
   "metadata": {},
   "outputs": [],
   "source": [
    "closed_train['due_date_quarter']=closed_train['due_date_norm'].dt.quarter"
   ]
  },
  {
   "cell_type": "code",
   "execution_count": 262,
   "metadata": {},
   "outputs": [],
   "source": [
    "closed_validation['due_date_quarter']=closed_validation['due_date_norm'].dt.quarter"
   ]
  },
  {
   "cell_type": "code",
   "execution_count": 263,
   "metadata": {},
   "outputs": [],
   "source": [
    "closed_test['due_date_quarter']=closed_test['due_date_norm'].dt.quarter"
   ]
  },
  {
   "cell_type": "markdown",
   "metadata": {},
   "source": [
    "# 13.Bat Size:Average number of unique mega_date that were cleared on Unique Clearing Dates."
   ]
  },
  {
   "cell_type": "code",
   "execution_count": 264,
   "metadata": {},
   "outputs": [
    {
     "data": {
      "text/html": [
       "<div>\n",
       "<style scoped>\n",
       "    .dataframe tbody tr th:only-of-type {\n",
       "        vertical-align: middle;\n",
       "    }\n",
       "\n",
       "    .dataframe tbody tr th {\n",
       "        vertical-align: top;\n",
       "    }\n",
       "\n",
       "    .dataframe thead th {\n",
       "        text-align: right;\n",
       "    }\n",
       "</style>\n",
       "<table border=\"1\" class=\"dataframe\">\n",
       "  <thead>\n",
       "    <tr style=\"text-align: right;\">\n",
       "      <th></th>\n",
       "      <th>customer_number_norm</th>\n",
       "      <th>customer_name</th>\n",
       "      <th>document_date_norm</th>\n",
       "      <th>posting_date_norm</th>\n",
       "      <th>baseline_date_norm</th>\n",
       "      <th>due_date_norm</th>\n",
       "      <th>invoice_number_norm</th>\n",
       "      <th>invoice_amount_norm</th>\n",
       "      <th>open_amount_norm</th>\n",
       "      <th>amount_currency</th>\n",
       "      <th>...</th>\n",
       "      <th>amount_category_encoded</th>\n",
       "      <th>delay_ratio</th>\n",
       "      <th>invoice_amount_norm_ratio</th>\n",
       "      <th>mean_positive_delay</th>\n",
       "      <th>inv_sum_ratio</th>\n",
       "      <th>cust_delay_pay_percnt</th>\n",
       "      <th>batch_size</th>\n",
       "      <th>A</th>\n",
       "      <th>due_date_quarter</th>\n",
       "      <th>Bat_size</th>\n",
       "    </tr>\n",
       "  </thead>\n",
       "  <tbody>\n",
       "    <tr>\n",
       "      <th>0</th>\n",
       "      <td>450025165</td>\n",
       "      <td>WAKEFERN FOOD CORPORATION</td>\n",
       "      <td>2018-01-01</td>\n",
       "      <td>1/1/2018</td>\n",
       "      <td>2018-01-01</td>\n",
       "      <td>2018-01-16</td>\n",
       "      <td>8.130234e+09</td>\n",
       "      <td>59679.88</td>\n",
       "      <td>59679.88</td>\n",
       "      <td>USD</td>\n",
       "      <td>...</td>\n",
       "      <td>1</td>\n",
       "      <td>1.000000</td>\n",
       "      <td>0.051708</td>\n",
       "      <td>16.392638</td>\n",
       "      <td>1.254909</td>\n",
       "      <td>0.276074</td>\n",
       "      <td>2.352941</td>\n",
       "      <td>1.000000</td>\n",
       "      <td>1</td>\n",
       "      <td>1.393162</td>\n",
       "    </tr>\n",
       "    <tr>\n",
       "      <th>1</th>\n",
       "      <td>450016881</td>\n",
       "      <td>B- FCL WEST</td>\n",
       "      <td>2018-01-01</td>\n",
       "      <td>1/1/2018</td>\n",
       "      <td>2018-01-03</td>\n",
       "      <td>2018-01-18</td>\n",
       "      <td>8.142554e+09</td>\n",
       "      <td>611.44</td>\n",
       "      <td>611.44</td>\n",
       "      <td>CAD</td>\n",
       "      <td>...</td>\n",
       "      <td>0</td>\n",
       "      <td>0.902984</td>\n",
       "      <td>68.775712</td>\n",
       "      <td>4.847896</td>\n",
       "      <td>0.992170</td>\n",
       "      <td>0.017810</td>\n",
       "      <td>339.533333</td>\n",
       "      <td>0.997666</td>\n",
       "      <td>1</td>\n",
       "      <td>73.159677</td>\n",
       "    </tr>\n",
       "    <tr>\n",
       "      <th>2</th>\n",
       "      <td>450016881</td>\n",
       "      <td>B- FCL WEST</td>\n",
       "      <td>2018-01-01</td>\n",
       "      <td>1/1/2018</td>\n",
       "      <td>2018-01-03</td>\n",
       "      <td>2018-01-18</td>\n",
       "      <td>8.142554e+09</td>\n",
       "      <td>644.83</td>\n",
       "      <td>644.83</td>\n",
       "      <td>CAD</td>\n",
       "      <td>...</td>\n",
       "      <td>0</td>\n",
       "      <td>0.902984</td>\n",
       "      <td>68.775712</td>\n",
       "      <td>4.847896</td>\n",
       "      <td>1.046351</td>\n",
       "      <td>0.017810</td>\n",
       "      <td>339.533333</td>\n",
       "      <td>0.997666</td>\n",
       "      <td>1</td>\n",
       "      <td>73.159677</td>\n",
       "    </tr>\n",
       "    <tr>\n",
       "      <th>3</th>\n",
       "      <td>450016881</td>\n",
       "      <td>B- FCL WEST</td>\n",
       "      <td>2018-01-01</td>\n",
       "      <td>1/1/2018</td>\n",
       "      <td>2018-01-03</td>\n",
       "      <td>2018-01-18</td>\n",
       "      <td>8.142554e+09</td>\n",
       "      <td>194.11</td>\n",
       "      <td>194.11</td>\n",
       "      <td>CAD</td>\n",
       "      <td>...</td>\n",
       "      <td>0</td>\n",
       "      <td>0.902984</td>\n",
       "      <td>68.775712</td>\n",
       "      <td>4.847896</td>\n",
       "      <td>0.314978</td>\n",
       "      <td>0.017810</td>\n",
       "      <td>339.533333</td>\n",
       "      <td>0.997666</td>\n",
       "      <td>1</td>\n",
       "      <td>73.159677</td>\n",
       "    </tr>\n",
       "    <tr>\n",
       "      <th>4</th>\n",
       "      <td>450029522</td>\n",
       "      <td>FOOD SERVICES OF AMERICA AP</td>\n",
       "      <td>2018-01-01</td>\n",
       "      <td>1/1/2018</td>\n",
       "      <td>2018-01-01</td>\n",
       "      <td>2018-01-16</td>\n",
       "      <td>8.101061e+09</td>\n",
       "      <td>7060.06</td>\n",
       "      <td>7060.06</td>\n",
       "      <td>USD</td>\n",
       "      <td>...</td>\n",
       "      <td>0</td>\n",
       "      <td>1.000000</td>\n",
       "      <td>1.000000</td>\n",
       "      <td>15.649057</td>\n",
       "      <td>0.796850</td>\n",
       "      <td>1.000000</td>\n",
       "      <td>3.384615</td>\n",
       "      <td>1.000000</td>\n",
       "      <td>1</td>\n",
       "      <td>1.966102</td>\n",
       "    </tr>\n",
       "  </tbody>\n",
       "</table>\n",
       "<p>5 rows × 65 columns</p>\n",
       "</div>"
      ],
      "text/plain": [
       "   customer_number_norm                customer_name document_date_norm  \\\n",
       "0             450025165    WAKEFERN FOOD CORPORATION         2018-01-01   \n",
       "1             450016881                  B- FCL WEST         2018-01-01   \n",
       "2             450016881                  B- FCL WEST         2018-01-01   \n",
       "3             450016881                  B- FCL WEST         2018-01-01   \n",
       "4             450029522  FOOD SERVICES OF AMERICA AP         2018-01-01   \n",
       "\n",
       "  posting_date_norm baseline_date_norm due_date_norm  invoice_number_norm  \\\n",
       "0          1/1/2018         2018-01-01    2018-01-16         8.130234e+09   \n",
       "1          1/1/2018         2018-01-03    2018-01-18         8.142554e+09   \n",
       "2          1/1/2018         2018-01-03    2018-01-18         8.142554e+09   \n",
       "3          1/1/2018         2018-01-03    2018-01-18         8.142554e+09   \n",
       "4          1/1/2018         2018-01-01    2018-01-16         8.101061e+09   \n",
       "\n",
       "   invoice_amount_norm  open_amount_norm amount_currency  ...  \\\n",
       "0             59679.88          59679.88             USD  ...   \n",
       "1               611.44            611.44             CAD  ...   \n",
       "2               644.83            644.83             CAD  ...   \n",
       "3               194.11            194.11             CAD  ...   \n",
       "4              7060.06           7060.06             USD  ...   \n",
       "\n",
       "  amount_category_encoded delay_ratio  invoice_amount_norm_ratio  \\\n",
       "0                       1    1.000000                   0.051708   \n",
       "1                       0    0.902984                  68.775712   \n",
       "2                       0    0.902984                  68.775712   \n",
       "3                       0    0.902984                  68.775712   \n",
       "4                       0    1.000000                   1.000000   \n",
       "\n",
       "  mean_positive_delay  inv_sum_ratio  cust_delay_pay_percnt  batch_size  \\\n",
       "0           16.392638       1.254909               0.276074    2.352941   \n",
       "1            4.847896       0.992170               0.017810  339.533333   \n",
       "2            4.847896       1.046351               0.017810  339.533333   \n",
       "3            4.847896       0.314978               0.017810  339.533333   \n",
       "4           15.649057       0.796850               1.000000    3.384615   \n",
       "\n",
       "          A  due_date_quarter   Bat_size  \n",
       "0  1.000000                 1   1.393162  \n",
       "1  0.997666                 1  73.159677  \n",
       "2  0.997666                 1  73.159677  \n",
       "3  0.997666                 1  73.159677  \n",
       "4  1.000000                 1   1.966102  \n",
       "\n",
       "[5 rows x 65 columns]"
      ]
     },
     "execution_count": 264,
     "metadata": {},
     "output_type": "execute_result"
    }
   ],
   "source": [
    "ds = closed_train.groupby(['fk_customer_map_id.1','document_date_norm','clearing_date_norm']).agg({'delay':'count'})\n",
    "ds = ds.groupby(['fk_customer_map_id.1','document_date_norm'],level=1).mean()\n",
    "ds = ds.groupby(['fk_customer_map_id.1'],level=1).mean()\n",
    "ds.reset_index(inplace=True)\n",
    "ds.columns = ['fk_customer_map_id.1','Bat_size']\n",
    "closed_train = pd.merge(closed_train,ds,how='left',on='fk_customer_map_id.1')\n",
    "closed_train.head()"
   ]
  },
  {
   "cell_type": "code",
   "execution_count": 268,
   "metadata": {},
   "outputs": [
    {
     "data": {
      "text/plain": [
       "0"
      ]
     },
     "execution_count": 268,
     "metadata": {},
     "output_type": "execute_result"
    }
   ],
   "source": [
    "closed_train['Bat_size'].isnull().sum()"
   ]
  },
  {
   "cell_type": "code",
   "execution_count": 267,
   "metadata": {},
   "outputs": [
    {
     "data": {
      "text/html": [
       "<div>\n",
       "<style scoped>\n",
       "    .dataframe tbody tr th:only-of-type {\n",
       "        vertical-align: middle;\n",
       "    }\n",
       "\n",
       "    .dataframe tbody tr th {\n",
       "        vertical-align: top;\n",
       "    }\n",
       "\n",
       "    .dataframe thead th {\n",
       "        text-align: right;\n",
       "    }\n",
       "</style>\n",
       "<table border=\"1\" class=\"dataframe\">\n",
       "  <thead>\n",
       "    <tr style=\"text-align: right;\">\n",
       "      <th></th>\n",
       "      <th>customer_number_norm</th>\n",
       "      <th>customer_name</th>\n",
       "      <th>document_date_norm</th>\n",
       "      <th>posting_date_norm</th>\n",
       "      <th>baseline_date_norm</th>\n",
       "      <th>due_date_norm</th>\n",
       "      <th>invoice_number_norm</th>\n",
       "      <th>invoice_amount_norm</th>\n",
       "      <th>open_amount_norm</th>\n",
       "      <th>amount_currency</th>\n",
       "      <th>...</th>\n",
       "      <th>amount_category_encoded</th>\n",
       "      <th>delay_ratio</th>\n",
       "      <th>invoice_amount_norm_ratio</th>\n",
       "      <th>mean_positive_delay</th>\n",
       "      <th>inv_sum_ratio</th>\n",
       "      <th>cust_delay_pay_percnt</th>\n",
       "      <th>batch_size</th>\n",
       "      <th>A</th>\n",
       "      <th>due_date_quarter</th>\n",
       "      <th>Bat_size</th>\n",
       "    </tr>\n",
       "  </thead>\n",
       "  <tbody>\n",
       "    <tr>\n",
       "      <th>0</th>\n",
       "      <td>450009362</td>\n",
       "      <td>C&amp;S WHOLESALE GROCERS - A/P</td>\n",
       "      <td>2019-06-18</td>\n",
       "      <td>6/18/2019</td>\n",
       "      <td>2019-06-18</td>\n",
       "      <td>2019-07-03</td>\n",
       "      <td>8.101268e+09</td>\n",
       "      <td>24220.88</td>\n",
       "      <td>24220.88</td>\n",
       "      <td>USD</td>\n",
       "      <td>...</td>\n",
       "      <td>0</td>\n",
       "      <td>0.952490</td>\n",
       "      <td>1.005949</td>\n",
       "      <td>5.049195</td>\n",
       "      <td>0.515144</td>\n",
       "      <td>0.952490</td>\n",
       "      <td>13.912281</td>\n",
       "      <td>1.005949</td>\n",
       "      <td>3</td>\n",
       "      <td>8.298317</td>\n",
       "    </tr>\n",
       "    <tr>\n",
       "      <th>1</th>\n",
       "      <td>450009504</td>\n",
       "      <td>GORDON FOODSERVICE GRAND RAPID - A/</td>\n",
       "      <td>2019-06-18</td>\n",
       "      <td>6/18/2019</td>\n",
       "      <td>2019-06-18</td>\n",
       "      <td>2019-07-01</td>\n",
       "      <td>8.101268e+09</td>\n",
       "      <td>37114.95</td>\n",
       "      <td>37114.95</td>\n",
       "      <td>USD</td>\n",
       "      <td>...</td>\n",
       "      <td>1</td>\n",
       "      <td>0.950834</td>\n",
       "      <td>0.998081</td>\n",
       "      <td>8.576177</td>\n",
       "      <td>1.613111</td>\n",
       "      <td>0.950834</td>\n",
       "      <td>2.928571</td>\n",
       "      <td>0.998081</td>\n",
       "      <td>3</td>\n",
       "      <td>1.671067</td>\n",
       "    </tr>\n",
       "    <tr>\n",
       "      <th>2</th>\n",
       "      <td>450009504</td>\n",
       "      <td>GORDON FOODSERVICE GRAND RAPID - A/</td>\n",
       "      <td>2019-06-18</td>\n",
       "      <td>6/18/2019</td>\n",
       "      <td>2019-06-18</td>\n",
       "      <td>2019-07-01</td>\n",
       "      <td>8.101268e+09</td>\n",
       "      <td>11915.93</td>\n",
       "      <td>11915.93</td>\n",
       "      <td>USD</td>\n",
       "      <td>...</td>\n",
       "      <td>0</td>\n",
       "      <td>0.950834</td>\n",
       "      <td>0.998081</td>\n",
       "      <td>8.576177</td>\n",
       "      <td>0.517897</td>\n",
       "      <td>0.950834</td>\n",
       "      <td>2.928571</td>\n",
       "      <td>0.998081</td>\n",
       "      <td>3</td>\n",
       "      <td>1.671067</td>\n",
       "    </tr>\n",
       "    <tr>\n",
       "      <th>3</th>\n",
       "      <td>450009362</td>\n",
       "      <td>C&amp;S WHOLESALE GROCERS - A/P</td>\n",
       "      <td>2019-06-18</td>\n",
       "      <td>6/18/2019</td>\n",
       "      <td>2019-06-18</td>\n",
       "      <td>2019-07-03</td>\n",
       "      <td>8.101268e+09</td>\n",
       "      <td>40162.26</td>\n",
       "      <td>40162.26</td>\n",
       "      <td>USD</td>\n",
       "      <td>...</td>\n",
       "      <td>1</td>\n",
       "      <td>0.952490</td>\n",
       "      <td>1.005949</td>\n",
       "      <td>5.049195</td>\n",
       "      <td>0.854194</td>\n",
       "      <td>0.952490</td>\n",
       "      <td>13.912281</td>\n",
       "      <td>1.005949</td>\n",
       "      <td>3</td>\n",
       "      <td>8.298317</td>\n",
       "    </tr>\n",
       "    <tr>\n",
       "      <th>4</th>\n",
       "      <td>450077815</td>\n",
       "      <td>DELHAIZE AMERICA DISTRIBUTION - A/P</td>\n",
       "      <td>2019-06-18</td>\n",
       "      <td>6/18/2019</td>\n",
       "      <td>2019-06-18</td>\n",
       "      <td>2019-07-01</td>\n",
       "      <td>8.101268e+09</td>\n",
       "      <td>27205.30</td>\n",
       "      <td>27205.30</td>\n",
       "      <td>USD</td>\n",
       "      <td>...</td>\n",
       "      <td>1</td>\n",
       "      <td>0.940393</td>\n",
       "      <td>0.395184</td>\n",
       "      <td>12.532932</td>\n",
       "      <td>0.887466</td>\n",
       "      <td>0.000666</td>\n",
       "      <td>3.660000</td>\n",
       "      <td>0.984959</td>\n",
       "      <td>3</td>\n",
       "      <td>2.612214</td>\n",
       "    </tr>\n",
       "  </tbody>\n",
       "</table>\n",
       "<p>5 rows × 65 columns</p>\n",
       "</div>"
      ],
      "text/plain": [
       "   customer_number_norm                        customer_name  \\\n",
       "0             450009362          C&S WHOLESALE GROCERS - A/P   \n",
       "1             450009504  GORDON FOODSERVICE GRAND RAPID - A/   \n",
       "2             450009504  GORDON FOODSERVICE GRAND RAPID - A/   \n",
       "3             450009362          C&S WHOLESALE GROCERS - A/P   \n",
       "4             450077815  DELHAIZE AMERICA DISTRIBUTION - A/P   \n",
       "\n",
       "  document_date_norm posting_date_norm baseline_date_norm due_date_norm  \\\n",
       "0         2019-06-18         6/18/2019         2019-06-18    2019-07-03   \n",
       "1         2019-06-18         6/18/2019         2019-06-18    2019-07-01   \n",
       "2         2019-06-18         6/18/2019         2019-06-18    2019-07-01   \n",
       "3         2019-06-18         6/18/2019         2019-06-18    2019-07-03   \n",
       "4         2019-06-18         6/18/2019         2019-06-18    2019-07-01   \n",
       "\n",
       "   invoice_number_norm  invoice_amount_norm  open_amount_norm amount_currency  \\\n",
       "0         8.101268e+09             24220.88          24220.88             USD   \n",
       "1         8.101268e+09             37114.95          37114.95             USD   \n",
       "2         8.101268e+09             11915.93          11915.93             USD   \n",
       "3         8.101268e+09             40162.26          40162.26             USD   \n",
       "4         8.101268e+09             27205.30          27205.30             USD   \n",
       "\n",
       "   ... amount_category_encoded delay_ratio  invoice_amount_norm_ratio  \\\n",
       "0  ...                       0    0.952490                   1.005949   \n",
       "1  ...                       1    0.950834                   0.998081   \n",
       "2  ...                       0    0.950834                   0.998081   \n",
       "3  ...                       1    0.952490                   1.005949   \n",
       "4  ...                       1    0.940393                   0.395184   \n",
       "\n",
       "  mean_positive_delay  inv_sum_ratio  cust_delay_pay_percnt  batch_size  \\\n",
       "0            5.049195       0.515144               0.952490   13.912281   \n",
       "1            8.576177       1.613111               0.950834    2.928571   \n",
       "2            8.576177       0.517897               0.950834    2.928571   \n",
       "3            5.049195       0.854194               0.952490   13.912281   \n",
       "4           12.532932       0.887466               0.000666    3.660000   \n",
       "\n",
       "          A  due_date_quarter  Bat_size  \n",
       "0  1.005949                 3  8.298317  \n",
       "1  0.998081                 3  1.671067  \n",
       "2  0.998081                 3  1.671067  \n",
       "3  1.005949                 3  8.298317  \n",
       "4  0.984959                 3  2.612214  \n",
       "\n",
       "[5 rows x 65 columns]"
      ]
     },
     "execution_count": 267,
     "metadata": {},
     "output_type": "execute_result"
    }
   ],
   "source": [
    "closed_validation = pd.merge(closed_validation,ds,how='left',on='fk_customer_map_id.1')\n",
    "closed_validation.head()"
   ]
  },
  {
   "cell_type": "code",
   "execution_count": 272,
   "metadata": {},
   "outputs": [
    {
     "data": {
      "text/plain": [
       "0"
      ]
     },
     "execution_count": 272,
     "metadata": {},
     "output_type": "execute_result"
    }
   ],
   "source": [
    "closed_validation['Bat_size'].isnull().sum()"
   ]
  },
  {
   "cell_type": "code",
   "execution_count": 270,
   "metadata": {},
   "outputs": [],
   "source": [
    "mean_for_null1 = ds['Bat_size'].mean()"
   ]
  },
  {
   "cell_type": "code",
   "execution_count": 271,
   "metadata": {},
   "outputs": [],
   "source": [
    "closed_validation.fillna(value={'Bat_size':mean_for_null1},inplace=True)"
   ]
  },
  {
   "cell_type": "code",
   "execution_count": 273,
   "metadata": {},
   "outputs": [
    {
     "data": {
      "text/html": [
       "<div>\n",
       "<style scoped>\n",
       "    .dataframe tbody tr th:only-of-type {\n",
       "        vertical-align: middle;\n",
       "    }\n",
       "\n",
       "    .dataframe tbody tr th {\n",
       "        vertical-align: top;\n",
       "    }\n",
       "\n",
       "    .dataframe thead th {\n",
       "        text-align: right;\n",
       "    }\n",
       "</style>\n",
       "<table border=\"1\" class=\"dataframe\">\n",
       "  <thead>\n",
       "    <tr style=\"text-align: right;\">\n",
       "      <th></th>\n",
       "      <th>customer_number_norm</th>\n",
       "      <th>customer_name</th>\n",
       "      <th>document_date_norm</th>\n",
       "      <th>posting_date_norm</th>\n",
       "      <th>baseline_date_norm</th>\n",
       "      <th>due_date_norm</th>\n",
       "      <th>invoice_number_norm</th>\n",
       "      <th>invoice_amount_norm</th>\n",
       "      <th>open_amount_norm</th>\n",
       "      <th>amount_currency</th>\n",
       "      <th>...</th>\n",
       "      <th>amount_category_encoded</th>\n",
       "      <th>delay_ratio</th>\n",
       "      <th>invoice_amount_norm_ratio</th>\n",
       "      <th>mean_positive_delay</th>\n",
       "      <th>inv_sum_ratio</th>\n",
       "      <th>cust_delay_pay_percnt</th>\n",
       "      <th>batch_size</th>\n",
       "      <th>A</th>\n",
       "      <th>due_date_quarter</th>\n",
       "      <th>Bat_size</th>\n",
       "    </tr>\n",
       "  </thead>\n",
       "  <tbody>\n",
       "    <tr>\n",
       "      <th>0</th>\n",
       "      <td>450020083</td>\n",
       "      <td>B- SHOPPERS DRUG MART WEST</td>\n",
       "      <td>2018-08-03</td>\n",
       "      <td>8/3/2018</td>\n",
       "      <td>2018-08-03</td>\n",
       "      <td>2018-08-18</td>\n",
       "      <td>8.142633e+09</td>\n",
       "      <td>187.20</td>\n",
       "      <td>187.20</td>\n",
       "      <td>CAD</td>\n",
       "      <td>...</td>\n",
       "      <td>1</td>\n",
       "      <td>0.984844</td>\n",
       "      <td>5.522651</td>\n",
       "      <td>19.182256</td>\n",
       "      <td>1.164269</td>\n",
       "      <td>0.008064</td>\n",
       "      <td>129.702703</td>\n",
       "      <td>0.999723</td>\n",
       "      <td>3</td>\n",
       "      <td>40.684005</td>\n",
       "    </tr>\n",
       "    <tr>\n",
       "      <th>1</th>\n",
       "      <td>450020083</td>\n",
       "      <td>B- SHOPPERS DRUG MART WEST</td>\n",
       "      <td>2018-08-03</td>\n",
       "      <td>8/3/2018</td>\n",
       "      <td>2018-08-03</td>\n",
       "      <td>2018-08-18</td>\n",
       "      <td>8.142633e+09</td>\n",
       "      <td>101.34</td>\n",
       "      <td>101.34</td>\n",
       "      <td>CAD</td>\n",
       "      <td>...</td>\n",
       "      <td>0</td>\n",
       "      <td>0.984844</td>\n",
       "      <td>5.522651</td>\n",
       "      <td>19.182256</td>\n",
       "      <td>0.630273</td>\n",
       "      <td>0.008064</td>\n",
       "      <td>129.702703</td>\n",
       "      <td>0.999723</td>\n",
       "      <td>3</td>\n",
       "      <td>40.684005</td>\n",
       "    </tr>\n",
       "    <tr>\n",
       "      <th>2</th>\n",
       "      <td>450020083</td>\n",
       "      <td>B- SHOPPERS DRUG MART WEST</td>\n",
       "      <td>2018-08-03</td>\n",
       "      <td>8/3/2018</td>\n",
       "      <td>2018-08-03</td>\n",
       "      <td>2018-08-18</td>\n",
       "      <td>8.142633e+09</td>\n",
       "      <td>249.48</td>\n",
       "      <td>249.48</td>\n",
       "      <td>CAD</td>\n",
       "      <td>...</td>\n",
       "      <td>0</td>\n",
       "      <td>0.984844</td>\n",
       "      <td>5.522651</td>\n",
       "      <td>19.182256</td>\n",
       "      <td>1.551612</td>\n",
       "      <td>0.008064</td>\n",
       "      <td>129.702703</td>\n",
       "      <td>0.999723</td>\n",
       "      <td>3</td>\n",
       "      <td>40.684005</td>\n",
       "    </tr>\n",
       "    <tr>\n",
       "      <th>3</th>\n",
       "      <td>450016881</td>\n",
       "      <td>B- FCL WEST</td>\n",
       "      <td>2018-08-03</td>\n",
       "      <td>8/3/2018</td>\n",
       "      <td>2018-08-03</td>\n",
       "      <td>2018-08-18</td>\n",
       "      <td>8.142633e+09</td>\n",
       "      <td>309.09</td>\n",
       "      <td>309.09</td>\n",
       "      <td>CAD</td>\n",
       "      <td>...</td>\n",
       "      <td>0</td>\n",
       "      <td>0.902984</td>\n",
       "      <td>68.775712</td>\n",
       "      <td>4.847896</td>\n",
       "      <td>0.501553</td>\n",
       "      <td>0.017810</td>\n",
       "      <td>339.533333</td>\n",
       "      <td>0.997666</td>\n",
       "      <td>3</td>\n",
       "      <td>73.159677</td>\n",
       "    </tr>\n",
       "    <tr>\n",
       "      <th>4</th>\n",
       "      <td>450016881</td>\n",
       "      <td>B- FCL WEST</td>\n",
       "      <td>2018-08-03</td>\n",
       "      <td>8/3/2018</td>\n",
       "      <td>2018-08-04</td>\n",
       "      <td>2018-08-19</td>\n",
       "      <td>8.142633e+09</td>\n",
       "      <td>299.38</td>\n",
       "      <td>299.38</td>\n",
       "      <td>CAD</td>\n",
       "      <td>...</td>\n",
       "      <td>0</td>\n",
       "      <td>0.902984</td>\n",
       "      <td>68.775712</td>\n",
       "      <td>4.847896</td>\n",
       "      <td>0.485797</td>\n",
       "      <td>0.017810</td>\n",
       "      <td>339.533333</td>\n",
       "      <td>0.997666</td>\n",
       "      <td>3</td>\n",
       "      <td>73.159677</td>\n",
       "    </tr>\n",
       "  </tbody>\n",
       "</table>\n",
       "<p>5 rows × 65 columns</p>\n",
       "</div>"
      ],
      "text/plain": [
       "   customer_number_norm               customer_name document_date_norm  \\\n",
       "0             450020083  B- SHOPPERS DRUG MART WEST         2018-08-03   \n",
       "1             450020083  B- SHOPPERS DRUG MART WEST         2018-08-03   \n",
       "2             450020083  B- SHOPPERS DRUG MART WEST         2018-08-03   \n",
       "3             450016881                 B- FCL WEST         2018-08-03   \n",
       "4             450016881                 B- FCL WEST         2018-08-03   \n",
       "\n",
       "  posting_date_norm baseline_date_norm due_date_norm  invoice_number_norm  \\\n",
       "0          8/3/2018         2018-08-03    2018-08-18         8.142633e+09   \n",
       "1          8/3/2018         2018-08-03    2018-08-18         8.142633e+09   \n",
       "2          8/3/2018         2018-08-03    2018-08-18         8.142633e+09   \n",
       "3          8/3/2018         2018-08-03    2018-08-18         8.142633e+09   \n",
       "4          8/3/2018         2018-08-04    2018-08-19         8.142633e+09   \n",
       "\n",
       "   invoice_amount_norm  open_amount_norm amount_currency  ...  \\\n",
       "0               187.20            187.20             CAD  ...   \n",
       "1               101.34            101.34             CAD  ...   \n",
       "2               249.48            249.48             CAD  ...   \n",
       "3               309.09            309.09             CAD  ...   \n",
       "4               299.38            299.38             CAD  ...   \n",
       "\n",
       "  amount_category_encoded delay_ratio  invoice_amount_norm_ratio  \\\n",
       "0                       1    0.984844                   5.522651   \n",
       "1                       0    0.984844                   5.522651   \n",
       "2                       0    0.984844                   5.522651   \n",
       "3                       0    0.902984                  68.775712   \n",
       "4                       0    0.902984                  68.775712   \n",
       "\n",
       "  mean_positive_delay  inv_sum_ratio  cust_delay_pay_percnt  batch_size  \\\n",
       "0           19.182256       1.164269               0.008064  129.702703   \n",
       "1           19.182256       0.630273               0.008064  129.702703   \n",
       "2           19.182256       1.551612               0.008064  129.702703   \n",
       "3            4.847896       0.501553               0.017810  339.533333   \n",
       "4            4.847896       0.485797               0.017810  339.533333   \n",
       "\n",
       "          A  due_date_quarter   Bat_size  \n",
       "0  0.999723                 3  40.684005  \n",
       "1  0.999723                 3  40.684005  \n",
       "2  0.999723                 3  40.684005  \n",
       "3  0.997666                 3  73.159677  \n",
       "4  0.997666                 3  73.159677  \n",
       "\n",
       "[5 rows x 65 columns]"
      ]
     },
     "execution_count": 273,
     "metadata": {},
     "output_type": "execute_result"
    }
   ],
   "source": [
    "closed_test = pd.merge(closed_test,ds,how='left',on='fk_customer_map_id.1')\n",
    "closed_test.head()"
   ]
  },
  {
   "cell_type": "code",
   "execution_count": 276,
   "metadata": {},
   "outputs": [
    {
     "data": {
      "text/plain": [
       "0"
      ]
     },
     "execution_count": 276,
     "metadata": {},
     "output_type": "execute_result"
    }
   ],
   "source": [
    "closed_test['Bat_size'].isnull().sum()"
   ]
  },
  {
   "cell_type": "code",
   "execution_count": 275,
   "metadata": {},
   "outputs": [],
   "source": [
    "closed_test.fillna(value={'Bat_size':mean_for_null1},inplace=True)"
   ]
  },
  {
   "cell_type": "markdown",
   "metadata": {},
   "source": [
    "# 14)B: B is calculated based on value of A. If value of A is greater than 1 then the value of B is ratio of actual open amount and delay_avg of that invoice. If value of A is less than 1 then the value of B is ratio of delay_avg and actual open amount of the invoice."
   ]
  },
  {
   "cell_type": "code",
   "execution_count": 277,
   "metadata": {},
   "outputs": [],
   "source": [
    "import numpy as np\n",
    "closed_train['B'] = np.where(closed_train['A']>1,closed_train['invoice_amount_norm']/closed_train['mean_delay'],closed_train['mean_delay']/closed_train['invoice_amount_norm'])"
   ]
  },
  {
   "cell_type": "code",
   "execution_count": 278,
   "metadata": {},
   "outputs": [],
   "source": [
    "closed_validation['B'] = np.where(closed_validation['A']>1,closed_validation['invoice_amount_norm']/closed_validation['mean_delay'],closed_validation['mean_delay']/closed_validation['invoice_amount_norm'])"
   ]
  },
  {
   "cell_type": "code",
   "execution_count": 279,
   "metadata": {},
   "outputs": [],
   "source": [
    "closed_test['B'] = np.where(closed_test['A']>1,closed_test['invoice_amount_norm']/closed_test['mean_delay'],closed_test['mean_delay']/closed_test['invoice_amount_norm'])"
   ]
  },
  {
   "cell_type": "code",
   "execution_count": 280,
   "metadata": {
    "scrolled": true
   },
   "outputs": [
    {
     "data": {
      "text/html": [
       "<div>\n",
       "<style scoped>\n",
       "    .dataframe tbody tr th:only-of-type {\n",
       "        vertical-align: middle;\n",
       "    }\n",
       "\n",
       "    .dataframe tbody tr th {\n",
       "        vertical-align: top;\n",
       "    }\n",
       "\n",
       "    .dataframe thead th {\n",
       "        text-align: right;\n",
       "    }\n",
       "</style>\n",
       "<table border=\"1\" class=\"dataframe\">\n",
       "  <thead>\n",
       "    <tr style=\"text-align: right;\">\n",
       "      <th></th>\n",
       "      <th>customer_number_norm</th>\n",
       "      <th>customer_name</th>\n",
       "      <th>document_date_norm</th>\n",
       "      <th>posting_date_norm</th>\n",
       "      <th>baseline_date_norm</th>\n",
       "      <th>due_date_norm</th>\n",
       "      <th>invoice_number_norm</th>\n",
       "      <th>invoice_amount_norm</th>\n",
       "      <th>open_amount_norm</th>\n",
       "      <th>amount_currency</th>\n",
       "      <th>...</th>\n",
       "      <th>delay_ratio</th>\n",
       "      <th>invoice_amount_norm_ratio</th>\n",
       "      <th>mean_positive_delay</th>\n",
       "      <th>inv_sum_ratio</th>\n",
       "      <th>cust_delay_pay_percnt</th>\n",
       "      <th>batch_size</th>\n",
       "      <th>A</th>\n",
       "      <th>due_date_quarter</th>\n",
       "      <th>Bat_size</th>\n",
       "      <th>B</th>\n",
       "    </tr>\n",
       "  </thead>\n",
       "  <tbody>\n",
       "    <tr>\n",
       "      <th>0</th>\n",
       "      <td>450020083</td>\n",
       "      <td>B- SHOPPERS DRUG MART WEST</td>\n",
       "      <td>2018-08-03</td>\n",
       "      <td>8/3/2018</td>\n",
       "      <td>2018-08-03</td>\n",
       "      <td>2018-08-18</td>\n",
       "      <td>8.142633e+09</td>\n",
       "      <td>187.2</td>\n",
       "      <td>187.2</td>\n",
       "      <td>CAD</td>\n",
       "      <td>...</td>\n",
       "      <td>0.984844</td>\n",
       "      <td>5.522651</td>\n",
       "      <td>19.182256</td>\n",
       "      <td>1.164269</td>\n",
       "      <td>0.008064</td>\n",
       "      <td>129.702703</td>\n",
       "      <td>0.999723</td>\n",
       "      <td>3</td>\n",
       "      <td>40.684005</td>\n",
       "      <td>0.100336</td>\n",
       "    </tr>\n",
       "  </tbody>\n",
       "</table>\n",
       "<p>1 rows × 66 columns</p>\n",
       "</div>"
      ],
      "text/plain": [
       "   customer_number_norm               customer_name document_date_norm  \\\n",
       "0             450020083  B- SHOPPERS DRUG MART WEST         2018-08-03   \n",
       "\n",
       "  posting_date_norm baseline_date_norm due_date_norm  invoice_number_norm  \\\n",
       "0          8/3/2018         2018-08-03    2018-08-18         8.142633e+09   \n",
       "\n",
       "   invoice_amount_norm  open_amount_norm amount_currency  ... delay_ratio  \\\n",
       "0                187.2             187.2             CAD  ...    0.984844   \n",
       "\n",
       "  invoice_amount_norm_ratio  mean_positive_delay inv_sum_ratio  \\\n",
       "0                  5.522651            19.182256      1.164269   \n",
       "\n",
       "   cust_delay_pay_percnt  batch_size         A due_date_quarter   Bat_size  \\\n",
       "0               0.008064  129.702703  0.999723                3  40.684005   \n",
       "\n",
       "          B  \n",
       "0  0.100336  \n",
       "\n",
       "[1 rows x 66 columns]"
      ]
     },
     "execution_count": 280,
     "metadata": {},
     "output_type": "execute_result"
    }
   ],
   "source": [
    "closed_test.head(1)"
   ]
  },
  {
   "cell_type": "markdown",
   "metadata": {},
   "source": [
    "# 15.Document date norm month"
   ]
  },
  {
   "cell_type": "code",
   "execution_count": 282,
   "metadata": {},
   "outputs": [],
   "source": [
    "closed_train['document_date_norm_month'] = closed_train['document_date_norm'].dt.month"
   ]
  },
  {
   "cell_type": "code",
   "execution_count": 283,
   "metadata": {},
   "outputs": [
    {
     "data": {
      "text/html": [
       "<div>\n",
       "<style scoped>\n",
       "    .dataframe tbody tr th:only-of-type {\n",
       "        vertical-align: middle;\n",
       "    }\n",
       "\n",
       "    .dataframe tbody tr th {\n",
       "        vertical-align: top;\n",
       "    }\n",
       "\n",
       "    .dataframe thead th {\n",
       "        text-align: right;\n",
       "    }\n",
       "</style>\n",
       "<table border=\"1\" class=\"dataframe\">\n",
       "  <thead>\n",
       "    <tr style=\"text-align: right;\">\n",
       "      <th></th>\n",
       "      <th>customer_number_norm</th>\n",
       "      <th>customer_name</th>\n",
       "      <th>document_date_norm</th>\n",
       "      <th>posting_date_norm</th>\n",
       "      <th>baseline_date_norm</th>\n",
       "      <th>due_date_norm</th>\n",
       "      <th>invoice_number_norm</th>\n",
       "      <th>invoice_amount_norm</th>\n",
       "      <th>open_amount_norm</th>\n",
       "      <th>amount_currency</th>\n",
       "      <th>...</th>\n",
       "      <th>invoice_amount_norm_ratio</th>\n",
       "      <th>mean_positive_delay</th>\n",
       "      <th>inv_sum_ratio</th>\n",
       "      <th>cust_delay_pay_percnt</th>\n",
       "      <th>batch_size</th>\n",
       "      <th>A</th>\n",
       "      <th>due_date_quarter</th>\n",
       "      <th>Bat_size</th>\n",
       "      <th>B</th>\n",
       "      <th>document_date_norm_month</th>\n",
       "    </tr>\n",
       "  </thead>\n",
       "  <tbody>\n",
       "    <tr>\n",
       "      <th>0</th>\n",
       "      <td>450009362</td>\n",
       "      <td>C&amp;S WHOLESALE GROCERS - A/P</td>\n",
       "      <td>2019-06-18</td>\n",
       "      <td>6/18/2019</td>\n",
       "      <td>2019-06-18</td>\n",
       "      <td>2019-07-03</td>\n",
       "      <td>8.101268e+09</td>\n",
       "      <td>24220.88</td>\n",
       "      <td>24220.88</td>\n",
       "      <td>USD</td>\n",
       "      <td>...</td>\n",
       "      <td>1.005949</td>\n",
       "      <td>5.049195</td>\n",
       "      <td>0.515144</td>\n",
       "      <td>0.95249</td>\n",
       "      <td>13.912281</td>\n",
       "      <td>1.005949</td>\n",
       "      <td>3</td>\n",
       "      <td>8.298317</td>\n",
       "      <td>5550.027509</td>\n",
       "      <td>6</td>\n",
       "    </tr>\n",
       "  </tbody>\n",
       "</table>\n",
       "<p>1 rows × 67 columns</p>\n",
       "</div>"
      ],
      "text/plain": [
       "   customer_number_norm                customer_name document_date_norm  \\\n",
       "0             450009362  C&S WHOLESALE GROCERS - A/P         2019-06-18   \n",
       "\n",
       "  posting_date_norm baseline_date_norm due_date_norm  invoice_number_norm  \\\n",
       "0         6/18/2019         2019-06-18    2019-07-03         8.101268e+09   \n",
       "\n",
       "   invoice_amount_norm  open_amount_norm amount_currency  ...  \\\n",
       "0             24220.88          24220.88             USD  ...   \n",
       "\n",
       "  invoice_amount_norm_ratio mean_positive_delay  inv_sum_ratio  \\\n",
       "0                  1.005949            5.049195       0.515144   \n",
       "\n",
       "  cust_delay_pay_percnt  batch_size         A  due_date_quarter  Bat_size  \\\n",
       "0               0.95249   13.912281  1.005949                 3  8.298317   \n",
       "\n",
       "             B document_date_norm_month  \n",
       "0  5550.027509                        6  \n",
       "\n",
       "[1 rows x 67 columns]"
      ]
     },
     "execution_count": 283,
     "metadata": {},
     "output_type": "execute_result"
    }
   ],
   "source": [
    "closed_validation['document_date_norm_month'] = closed_validation['document_date_norm'].dt.month\n",
    "closed_validation.head(1)"
   ]
  },
  {
   "cell_type": "code",
   "execution_count": 284,
   "metadata": {},
   "outputs": [
    {
     "data": {
      "text/html": [
       "<div>\n",
       "<style scoped>\n",
       "    .dataframe tbody tr th:only-of-type {\n",
       "        vertical-align: middle;\n",
       "    }\n",
       "\n",
       "    .dataframe tbody tr th {\n",
       "        vertical-align: top;\n",
       "    }\n",
       "\n",
       "    .dataframe thead th {\n",
       "        text-align: right;\n",
       "    }\n",
       "</style>\n",
       "<table border=\"1\" class=\"dataframe\">\n",
       "  <thead>\n",
       "    <tr style=\"text-align: right;\">\n",
       "      <th></th>\n",
       "      <th>customer_number_norm</th>\n",
       "      <th>customer_name</th>\n",
       "      <th>document_date_norm</th>\n",
       "      <th>posting_date_norm</th>\n",
       "      <th>baseline_date_norm</th>\n",
       "      <th>due_date_norm</th>\n",
       "      <th>invoice_number_norm</th>\n",
       "      <th>invoice_amount_norm</th>\n",
       "      <th>open_amount_norm</th>\n",
       "      <th>amount_currency</th>\n",
       "      <th>...</th>\n",
       "      <th>invoice_amount_norm_ratio</th>\n",
       "      <th>mean_positive_delay</th>\n",
       "      <th>inv_sum_ratio</th>\n",
       "      <th>cust_delay_pay_percnt</th>\n",
       "      <th>batch_size</th>\n",
       "      <th>A</th>\n",
       "      <th>due_date_quarter</th>\n",
       "      <th>Bat_size</th>\n",
       "      <th>B</th>\n",
       "      <th>document_date_norm_month</th>\n",
       "    </tr>\n",
       "  </thead>\n",
       "  <tbody>\n",
       "    <tr>\n",
       "      <th>0</th>\n",
       "      <td>450020083</td>\n",
       "      <td>B- SHOPPERS DRUG MART WEST</td>\n",
       "      <td>2018-08-03</td>\n",
       "      <td>8/3/2018</td>\n",
       "      <td>2018-08-03</td>\n",
       "      <td>2018-08-18</td>\n",
       "      <td>8.142633e+09</td>\n",
       "      <td>187.2</td>\n",
       "      <td>187.2</td>\n",
       "      <td>CAD</td>\n",
       "      <td>...</td>\n",
       "      <td>5.522651</td>\n",
       "      <td>19.182256</td>\n",
       "      <td>1.164269</td>\n",
       "      <td>0.008064</td>\n",
       "      <td>129.702703</td>\n",
       "      <td>0.999723</td>\n",
       "      <td>3</td>\n",
       "      <td>40.684005</td>\n",
       "      <td>0.100336</td>\n",
       "      <td>8</td>\n",
       "    </tr>\n",
       "  </tbody>\n",
       "</table>\n",
       "<p>1 rows × 67 columns</p>\n",
       "</div>"
      ],
      "text/plain": [
       "   customer_number_norm               customer_name document_date_norm  \\\n",
       "0             450020083  B- SHOPPERS DRUG MART WEST         2018-08-03   \n",
       "\n",
       "  posting_date_norm baseline_date_norm due_date_norm  invoice_number_norm  \\\n",
       "0          8/3/2018         2018-08-03    2018-08-18         8.142633e+09   \n",
       "\n",
       "   invoice_amount_norm  open_amount_norm amount_currency  ...  \\\n",
       "0                187.2             187.2             CAD  ...   \n",
       "\n",
       "  invoice_amount_norm_ratio mean_positive_delay  inv_sum_ratio  \\\n",
       "0                  5.522651           19.182256       1.164269   \n",
       "\n",
       "  cust_delay_pay_percnt  batch_size         A  due_date_quarter   Bat_size  \\\n",
       "0              0.008064  129.702703  0.999723                 3  40.684005   \n",
       "\n",
       "          B document_date_norm_month  \n",
       "0  0.100336                        8  \n",
       "\n",
       "[1 rows x 67 columns]"
      ]
     },
     "execution_count": 284,
     "metadata": {},
     "output_type": "execute_result"
    }
   ],
   "source": [
    "closed_test['document_date_norm_month'] = closed_test['document_date_norm'].dt.month\n",
    "closed_test.head(1)"
   ]
  },
  {
   "cell_type": "markdown",
   "metadata": {},
   "source": [
    "# FINAL FEATURES FOR TRAINING THE MODEL"
   ]
  },
  {
   "cell_type": "code",
   "execution_count": 304,
   "metadata": {},
   "outputs": [],
   "source": [
    "final_closed_train=closed_train[['delay_ratio','mean_positive_delay','document_date_norm_month',\n",
    "                                 'cust_invoice_amt_mean','invoice_amount_norm_ratio', \n",
    "                                 'inv_sum_ratio','Expected_to pay', 'due_date_week','amount_category_encoded',\n",
    "                                 'batch_size','A','B']]"
   ]
  },
  {
   "cell_type": "code",
   "execution_count": 305,
   "metadata": {},
   "outputs": [],
   "source": [
    "final_closed_validation=closed_validation[['delay_ratio','mean_positive_delay','document_date_norm_month',\n",
    "                                 'cust_invoice_amt_mean','invoice_amount_norm_ratio', \n",
    "                                 'inv_sum_ratio','Expected_to pay', 'due_date_week','amount_category_encoded',\n",
    "                                 'batch_size','A','B']]"
   ]
  },
  {
   "cell_type": "code",
   "execution_count": 321,
   "metadata": {},
   "outputs": [],
   "source": [
    "final_closed_test=closed_test[['delay_ratio','mean_positive_delay','document_date_norm_month',\n",
    "                                 'cust_invoice_amt_mean','invoice_amount_norm_ratio', \n",
    "                                 'inv_sum_ratio','Expected_to pay', 'due_date_week','amount_category_encoded',\n",
    "                                 'batch_size','A','B']]"
   ]
  },
  {
   "cell_type": "code",
   "execution_count": 295,
   "metadata": {},
   "outputs": [
    {
     "data": {
      "text/plain": [
       "delay_ratio                  0\n",
       "mean_positive_delay          0\n",
       "document_date_norm_month     0\n",
       "cust_invoice_amt_mean        0\n",
       "invoice_amount_norm_ratio    0\n",
       "inv_sum_ratio                0\n",
       "Expected_to pay              0\n",
       "due_date_week                0\n",
       "amount_category_encoded      0\n",
       "batch_size                   0\n",
       "A                            0\n",
       "dtype: int64"
      ]
     },
     "execution_count": 295,
     "metadata": {},
     "output_type": "execute_result"
    }
   ],
   "source": [
    "final_closed_train.isnull().sum()"
   ]
  },
  {
   "cell_type": "code",
   "execution_count": 296,
   "metadata": {},
   "outputs": [
    {
     "data": {
      "text/plain": [
       "delay_ratio                  0\n",
       "mean_positive_delay          0\n",
       "document_date_norm_month     0\n",
       "cust_invoice_amt_mean        0\n",
       "invoice_amount_norm_ratio    0\n",
       "inv_sum_ratio                0\n",
       "Expected_to pay              0\n",
       "due_date_week                0\n",
       "amount_category_encoded      0\n",
       "batch_size                   0\n",
       "A                            0\n",
       "dtype: int64"
      ]
     },
     "execution_count": 296,
     "metadata": {},
     "output_type": "execute_result"
    }
   ],
   "source": [
    "final_closed_validation.isnull().sum()"
   ]
  },
  {
   "cell_type": "code",
   "execution_count": 289,
   "metadata": {},
   "outputs": [],
   "source": [
    "closed_trains=closed_train"
   ]
  },
  {
   "cell_type": "code",
   "execution_count": 290,
   "metadata": {},
   "outputs": [],
   "source": [
    "closed_train.dropna(subset=['A'], how='all', inplace = True)"
   ]
  },
  {
   "cell_type": "code",
   "execution_count": 291,
   "metadata": {},
   "outputs": [],
   "source": [
    "closed_validation.dropna(subset=['A'], how='all', inplace = True)"
   ]
  },
  {
   "cell_type": "code",
   "execution_count": 292,
   "metadata": {},
   "outputs": [],
   "source": [
    "closed_test.dropna(subset=['A'], how='all', inplace = True)"
   ]
  },
  {
   "cell_type": "code",
   "execution_count": 297,
   "metadata": {},
   "outputs": [
    {
     "data": {
      "image/png": "[encoded data removed]",
      "text/plain": [
       "<Figure size 864x648 with 2 Axes>"
      ]
     },
     "metadata": {
      "needs_background": "light"
     },
     "output_type": "display_data"
    }
   ],
   "source": [
    "import seaborn as sns\n",
    "import matplotlib.pyplot as plt\n",
    "corrmat =final_closed_train.corr()\n",
    "f, ax = plt.subplots(figsize=(12, 9))\n",
    "sns.heatmap(corrmat, vmax=.8, square=True)\n",
    "plt.yticks(rotation=0)\n",
    "plt.xticks(rotation=90)\n",
    "plt.show()"
   ]
  },
  {
   "cell_type": "markdown",
   "metadata": {},
   "source": [
    "# xgboost"
   ]
  },
  {
   "cell_type": "code",
   "execution_count": 298,
   "metadata": {},
   "outputs": [],
   "source": [
    "y_train=closed_train['delay']\n",
    "#closed_train.drop('delay',axis=1,inplace=True)"
   ]
  },
  {
   "cell_type": "code",
   "execution_count": 319,
   "metadata": {},
   "outputs": [],
   "source": [
    "y_test=closed_test['delay']"
   ]
  },
  {
   "cell_type": "code",
   "execution_count": 299,
   "metadata": {},
   "outputs": [],
   "source": [
    "#closed_test.drop('delay',axis=1,inplace=True)"
   ]
  },
  {
   "cell_type": "code",
   "execution_count": 300,
   "metadata": {},
   "outputs": [],
   "source": [
    "x_validate=closed_validation['delay']\n",
    "#closed_validation.drop('delay',axis=1,inplace=True)"
   ]
  },
  {
   "cell_type": "markdown",
   "metadata": {},
   "source": [
    "# Testing on validation dataset"
   ]
  },
  {
   "cell_type": "code",
   "execution_count": 301,
   "metadata": {},
   "outputs": [],
   "source": [
    "import numpy as np"
   ]
  },
  {
   "cell_type": "code",
   "execution_count": 316,
   "metadata": {},
   "outputs": [
    {
     "name": "stderr",
     "output_type": "stream",
     "text": [
      "C:\\ProgramData\\Anaconda3\\lib\\site-packages\\xgboost\\core.py:587: FutureWarning: Series.base is deprecated and will be removed in a future version\n",
      "  if getattr(data, 'base', None) is not None and \\\n",
      "C:\\ProgramData\\Anaconda3\\lib\\site-packages\\xgboost\\core.py:588: FutureWarning: Series.base is deprecated and will be removed in a future version\n",
      "  data.base is not None and isinstance(data, np.ndarray) \\\n"
     ]
    },
    {
     "name": "stdout",
     "output_type": "stream",
     "text": [
      "On Validate\n",
      "Mean Absolute Error: 10.193928572997518\n",
      "RMSE: 20.97779173318121\n"
     ]
    },
    {
     "data": {
      "image/png": "[encoded data removed]",
      "text/plain": [
       "<Figure size 1224x576 with 1 Axes>"
      ]
     },
     "metadata": {
      "needs_background": "light"
     },
     "output_type": "display_data"
    }
   ],
   "source": [
    "import xgboost as xgb\n",
    "from sklearn.metrics import mean_absolute_error\n",
    "from sklearn.metrics import mean_squared_error\n",
    "xg_reg = xgb.XGBRegressor(objective ='reg:squarederror', colsample_bytree = 0.8,gamma = 0.3,max_depth= 2,min_child_weight = 4,subsample = 0.7,min_samples_split=70,learning_rate= 0.07,n_estimators=500)\n",
    "xg_reg.fit(final_closed_train,y_train)\n",
    "preds = xg_reg.predict(final_closed_validation)\n",
    "\n",
    "print(\"On Validate\")\n",
    "print(\"Mean Absolute Error:\",mean_absolute_error(x_validate,preds))\n",
    "print(\"RMSE:\",np.sqrt(mean_squared_error(x_validate, preds)))\n",
    "\n",
    "plt.figure(figsize=(17,8))\n",
    "plt.scatter(x = range(0, x_validate.size), y=x_validate, c = 'blue', label = 'Actual', alpha = 0.3)\n",
    "plt.scatter(x = range(0, preds.size), y=preds, c = 'red', label = 'Predicted', alpha = 0.3)\n",
    "\n",
    "plt.title('Actual and Predicted values')\n",
    "plt.xlabel('Observations')\n",
    "plt.ylabel('Delay')\n",
    "plt.legend()\n",
    "plt.show()"
   ]
  },
  {
   "cell_type": "markdown",
   "metadata": {},
   "source": [
    "# Testing on train data set"
   ]
  },
  {
   "cell_type": "code",
   "execution_count": 318,
   "metadata": {},
   "outputs": [
    {
     "name": "stderr",
     "output_type": "stream",
     "text": [
      "C:\\ProgramData\\Anaconda3\\lib\\site-packages\\xgboost\\core.py:587: FutureWarning: Series.base is deprecated and will be removed in a future version\n",
      "  if getattr(data, 'base', None) is not None and \\\n",
      "C:\\ProgramData\\Anaconda3\\lib\\site-packages\\xgboost\\core.py:588: FutureWarning: Series.base is deprecated and will be removed in a future version\n",
      "  data.base is not None and isinstance(data, np.ndarray) \\\n"
     ]
    },
    {
     "name": "stdout",
     "output_type": "stream",
     "text": [
      "On Test\n",
      "Mean Absolute Error: 9.00614728555225\n",
      "RMSE: 16.535838312957274\n"
     ]
    },
    {
     "data": {
      "image/png": "[encoded data removed]",
      "text/plain": [
       "<Figure size 1224x576 with 1 Axes>"
      ]
     },
     "metadata": {
      "needs_background": "light"
     },
     "output_type": "display_data"
    }
   ],
   "source": [
    "import xgboost as xgb\n",
    "from sklearn.metrics import mean_absolute_error\n",
    "from sklearn.metrics import mean_squared_error\n",
    "xg_reg = xgb.XGBRegressor(objective ='reg:squarederror', colsample_bytree = 0.8,gamma = 0.3,max_depth= 2,min_child_weight = 4,subsample = 0.7,min_samples_split=70,learning_rate= 0.07,n_estimators=400)\n",
    "xg_reg.fit(final_closed_train,y_train)\n",
    "preds = xg_reg.predict(final_closed_train)\n",
    "\n",
    "print(\"On Train\")\n",
    "print(\"Mean Absolute Error:\",mean_absolute_error(y_train,preds))\n",
    "print(\"RMSE:\",np.sqrt(mean_squared_error(y_train, preds)))\n",
    "\n",
    "plt.figure(figsize=(17,8))\n",
    "plt.scatter(x = range(0, x_validate.size), y=x_validate, c = 'blue', label = 'Actual', alpha = 0.3)\n",
    "plt.scatter(x = range(0, preds.size), y=preds, c = 'red', label = 'Predicted', alpha = 0.3)\n",
    "\n",
    "plt.title('Actual and Predicted values')\n",
    "plt.xlabel('Observations')\n",
    "plt.ylabel('Delay')\n",
    "plt.legend()\n",
    "plt.show()"
   ]
  },
  {
   "cell_type": "markdown",
   "metadata": {},
   "source": [
    "# Testing on test dataset"
   ]
  },
  {
   "cell_type": "code",
   "execution_count": 324,
   "metadata": {
    "scrolled": true
   },
   "outputs": [
    {
     "name": "stderr",
     "output_type": "stream",
     "text": [
      "C:\\ProgramData\\Anaconda3\\lib\\site-packages\\xgboost\\core.py:587: FutureWarning: Series.base is deprecated and will be removed in a future version\n",
      "  if getattr(data, 'base', None) is not None and \\\n",
      "C:\\ProgramData\\Anaconda3\\lib\\site-packages\\xgboost\\core.py:588: FutureWarning: Series.base is deprecated and will be removed in a future version\n",
      "  data.base is not None and isinstance(data, np.ndarray) \\\n"
     ]
    },
    {
     "name": "stdout",
     "output_type": "stream",
     "text": [
      "On Test\n",
      "Mean Absolute Error: 14.220879135253142\n",
      "RMSE: 25.916722874496667\n"
     ]
    },
    {
     "data": {
      "image/png": "[encoded data removed]",
      "text/plain": [
       "<Figure size 1224x576 with 1 Axes>"
      ]
     },
     "metadata": {
      "needs_background": "light"
     },
     "output_type": "display_data"
    }
   ],
   "source": [
    "import xgboost as xgb\n",
    "from sklearn.metrics import mean_absolute_error\n",
    "from sklearn.metrics import mean_squared_error\n",
    "xg_reg = xgb.XGBRegressor(objective ='reg:squarederror', colsample_bytree = 0.8,gamma = 0.3,max_depth= 2,min_child_weight = 4,subsample = 0.7,min_samples_split=70,learning_rate= 0.07,n_estimators=400)\n",
    "xg_reg.fit(final_closed_train,y_train)\n",
    "preds = xg_reg.predict(final_closed_test)\n",
    "\n",
    "print(\"On Test\")\n",
    "print(\"Mean Absolute Error:\",mean_absolute_error(y_test,preds))\n",
    "print(\"RMSE:\",np.sqrt(mean_squared_error(y_test, preds)))\n",
    "\n",
    "plt.figure(figsize=(17,8))\n",
    "plt.scatter(x = range(0, y_test.size), y=y_test, c = 'blue', label = 'Actual', alpha = 0.3)\n",
    "plt.scatter(x = range(0, preds.size), y=preds, c = 'red', label = 'Predicted', alpha = 0.3)\n",
    "\n",
    "plt.title('Actual and Predicted values')\n",
    "plt.xlabel('Observations')\n",
    "plt.ylabel('Delay')\n",
    "plt.legend()\n",
    "plt.show()"
   ]
  },
  {
   "cell_type": "markdown",
   "metadata": {},
   "source": [
    "# Merging the validation and Train data"
   ]
  },
  {
   "cell_type": "code",
   "execution_count": 336,
   "metadata": {},
   "outputs": [],
   "source": [
    "x_final_train=pd.concat([final_closed_train,final_closed_validation])\n",
    "y_final_train=pd.concat([y_train,x_validate])"
   ]
  },
  {
   "cell_type": "markdown",
   "metadata": {},
   "source": [
    "# Final testing on test dataset after merging train and validate"
   ]
  },
  {
   "cell_type": "code",
   "execution_count": 337,
   "metadata": {
    "scrolled": false
   },
   "outputs": [
    {
     "name": "stderr",
     "output_type": "stream",
     "text": [
      "C:\\ProgramData\\Anaconda3\\lib\\site-packages\\xgboost\\core.py:587: FutureWarning: Series.base is deprecated and will be removed in a future version\n",
      "  if getattr(data, 'base', None) is not None and \\\n"
     ]
    },
    {
     "name": "stdout",
     "output_type": "stream",
     "text": [
      "On Test\n",
      "Mean Absolute Error: 12.063888144609331\n",
      "RMSE: 23.312904890646827\n"
     ]
    },
    {
     "data": {
      "image/png": "[encoded data removed]",
      "text/plain": [
       "<Figure size 1224x576 with 1 Axes>"
      ]
     },
     "metadata": {
      "needs_background": "light"
     },
     "output_type": "display_data"
    }
   ],
   "source": [
    "import xgboost as xgb\n",
    "from sklearn.metrics import mean_absolute_error\n",
    "from sklearn.metrics import mean_squared_error\n",
    "xg_reg = xgb.XGBRegressor(objective ='reg:squarederror', colsample_bytree = 0.8,gamma = 0.3,max_depth= 2,min_child_weight = 4,subsample = 0.7,min_samples_split=70,learning_rate= 0.07,n_estimators=400)\n",
    "xg_reg.fit(x_final_train,y_final_train)\n",
    "preds = xg_reg.predict(final_closed_test)\n",
    "\n",
    "print(\"On Test\")\n",
    "print(\"Mean Absolute Error:\",mean_absolute_error(y_test,preds))\n",
    "print(\"RMSE:\",np.sqrt(mean_squared_error(y_test, preds)))\n",
    "\n",
    "plt.figure(figsize=(17,8))\n",
    "plt.scatter(x = range(0, y_test.size), y=y_test, c = 'blue', label = 'Actual', alpha = 0.3)\n",
    "plt.scatter(x = range(0, preds.size), y=preds, c = 'red', label = 'Predicted', alpha = 0.3)\n",
    "\n",
    "plt.title('Actual and Predicted values')\n",
    "plt.xlabel('Observations')\n",
    "plt.ylabel('Delay')\n",
    "plt.legend()\n",
    "plt.show()"
   ]
  },
  {
   "cell_type": "markdown",
   "metadata": {},
   "source": [
    "# Prediction difference b/w -3 & +3"
   ]
  },
  {
   "cell_type": "code",
   "execution_count": 340,
   "metadata": {},
   "outputs": [],
   "source": [
    "y = pd.DataFrame(y_test)"
   ]
  },
  {
   "cell_type": "code",
   "execution_count": 341,
   "metadata": {},
   "outputs": [],
   "source": [
    "y['predicted_delay'] = preds"
   ]
  },
  {
   "cell_type": "code",
   "execution_count": 342,
   "metadata": {},
   "outputs": [],
   "source": [
    "y['predicted_delay'] = y['predicted_delay'].astype('int64')\n",
    "\n",
    "y['difference'] = y['delay']-y['predicted_delay']\n"
   ]
  },
  {
   "cell_type": "code",
   "execution_count": 343,
   "metadata": {},
   "outputs": [
    {
     "name": "stdout",
     "output_type": "stream",
     "text": [
      "Prediction difference b/w -3 & +3\n",
      "In numbers :  16650\n",
      "In Percent :  32.82858156867384\n",
      "Total Percentage : 32.82858156867384\n"
     ]
    }
   ],
   "source": [
    "num = y.loc[(y['difference']<=3)&(y['difference']>=-3),'difference'].count()\n",
    "no = num\n",
    "total = len(y)\n",
    "acha_prediction_percent_mein = (num/total)*100\n",
    "print(\"Prediction difference b/w -3 & +3\")\n",
    "print(\"In numbers : \" + \" \" + str(num))\n",
    "print(\"In Percent : \" + \" \" + str(acha_prediction_percent_mein))\n",
    "print(\"Total Percentage : \" + str((num/total)*100))"
   ]
  },
  {
   "cell_type": "markdown",
   "metadata": {},
   "source": [
    "# Prediction difference b/w -5 & +5"
   ]
  },
  {
   "cell_type": "code",
   "execution_count": 344,
   "metadata": {},
   "outputs": [
    {
     "name": "stdout",
     "output_type": "stream",
     "text": [
      "Prediction difference b/w -5 & +5\n",
      "In numbers :  8913\n",
      "In Percent :  17.573642493789187\n",
      "Total Percentage : 50.40222406246303\n"
     ]
    }
   ],
   "source": [
    "num1 = y.loc[(y['difference']<=5)&(y['difference']>=-5),'difference'].count()\n",
    "num = num1-num\n",
    "no2 = num\n",
    "total = len(y)\n",
    "acha_prediction_percent_mein = (num/total)*100\n",
    "print(\"Prediction difference b/w -5 & +5\")\n",
    "print(\"In numbers : \" + \" \" + str(num))\n",
    "print(\"In Percent : \" + \" \" + str(acha_prediction_percent_mein))\n",
    "print(\"Total Percentage : \" + str((num1/total)*100))"
   ]
  },
  {
   "cell_type": "markdown",
   "metadata": {},
   "source": [
    "# Prediction difference b/w -10 & +10"
   ]
  },
  {
   "cell_type": "code",
   "execution_count": 345,
   "metadata": {},
   "outputs": [
    {
     "name": "stdout",
     "output_type": "stream",
     "text": [
      "Prediction difference b/w -10 & +10\n",
      "In numbers :  11763\n",
      "In Percent :  23.19294924878741\n",
      "Total Percentage : 73.59517331125043\n"
     ]
    }
   ],
   "source": [
    "num2 = y.loc[(y['difference']<=10)&(y['difference']>=-10),'difference'].count()\n",
    "num = num2-num1\n",
    "no3 = num\n",
    "total = len(y)\n",
    "acha_prediction_percent_mein = (num/total)*100\n",
    "print(\"Prediction difference b/w -10 & +10\")\n",
    "print(\"In numbers : \" + \" \" + str(num))\n",
    "print(\"In Percent : \" + \" \" + str(acha_prediction_percent_mein))\n",
    "print(\"Total Percentage : \" + str((num2/total)*100))"
   ]
  },
  {
   "cell_type": "markdown",
   "metadata": {},
   "source": [
    "# Prediction difference greater than -10 & +10"
   ]
  },
  {
   "cell_type": "code",
   "execution_count": 346,
   "metadata": {},
   "outputs": [
    {
     "name": "stdout",
     "output_type": "stream",
     "text": [
      "Prediction difference greater than -10 & +10\n",
      "In numbers :  13392\n",
      "In Percent :  26.404826688749555\n",
      "Total Percentage : 73.59517331125043\n"
     ]
    }
   ],
   "source": [
    "num3 = y.loc[(y['difference']>10) | (y['difference']<-10),'difference'].count()\n",
    "num = num3\n",
    "no4 = num\n",
    "total = len(y)\n",
    "acha_prediction_percent_mein = (num/total)*100\n",
    "print(\"Prediction difference greater than -10 & +10\")\n",
    "print(\"In numbers : \" + \" \" + str(num))\n",
    "print(\"In Percent : \" + \" \" + str(acha_prediction_percent_mein))\n",
    "print(\"Total Percentage : \" + str((num2/total)*100))\n"
   ]
  },
  {
   "cell_type": "code",
   "execution_count": 347,
   "metadata": {
    "scrolled": true
   },
   "outputs": [
    {
     "name": "stdout",
     "output_type": "stream",
     "text": [
      "Total Test Size : 50718\n",
      "Total Predicted with difference b/w -3 & +3 : 16650\n",
      "Total Predicted With difference b/w -5 & +5 : 8913\n",
      "Total Predicted With difference b/w -10 & +10 : 11763\n",
      "Total Predicted With difference greater than -10 & +10 : 13392\n"
     ]
    }
   ],
   "source": [
    "print(\"Total Test Size : \" + str(len(y)))\n",
    "print(\"Total Predicted with difference b/w -3 & +3 : \" + str(no))\n",
    "print(\"Total Predicted With difference b/w -5 & +5 : \" + str(no2))\n",
    "print(\"Total Predicted With difference b/w -10 & +10 : \" + str(no3))\n",
    "print(\"Total Predicted With difference greater than -10 & +10 : \" + str(no4))"
   ]
  },
  {
   "cell_type": "markdown",
   "metadata": {},
   "source": [
    "# Pickle File"
   ]
  },
  {
   "cell_type": "code",
   "execution_count": 339,
   "metadata": {},
   "outputs": [
    {
     "data": {
      "text/plain": [
       "['Dannon_pdp_Sidhant_10817.pkl']"
      ]
     },
     "execution_count": 339,
     "metadata": {},
     "output_type": "execute_result"
    }
   ],
   "source": [
    "import pickle\n",
    "from sklearn.externals import joblib\n",
    "joblib.dump(xg_reg,\"Dannon_pdp_Sidhant_10817.pkl\")"
   ]
  },
  {
   "cell_type": "code",
   "execution_count": null,
   "metadata": {},
   "outputs": [],
   "source": []
  }
 ],
 "metadata": {
  "kernelspec": {
   "display_name": "Python 3",
   "language": "python",
   "name": "python3"
  },
  "language_info": {
   "codemirror_mode": {
    "name": "ipython",
    "version": 3
   },
   "file_extension": ".py",
   "mimetype": "text/x-python",
   "name": "python",
   "nbconvert_exporter": "python",
   "pygments_lexer": "ipython3",
   "version": "3.7.3"
  }
 },
 "nbformat": 4,
 "nbformat_minor": 2
}
