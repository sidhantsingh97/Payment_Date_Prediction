{
 "cells": [
  {
   "cell_type": "code",
   "execution_count": 1,
   "metadata": {},
   "outputs": [
    {
     "name": "stderr",
     "output_type": "stream",
     "text": [
      "C:\\ProgramData\\Anaconda3\\lib\\site-packages\\IPython\\core\\interactiveshell.py:3049: DtypeWarning: Columns (44,45,48,55,56,82,93,94,104,112,113,115,120,145,167,175,181,183,190,194,207,210,211,236,245) have mixed types. Specify dtype option on import or set low_memory=False.\n",
      "  interactivity=interactivity, compiler=compiler, result=result)\n"
     ]
    },
    {
     "data": {
      "text/plain": [
       "(599998, 257)"
      ]
     },
     "execution_count": 1,
     "metadata": {},
     "output_type": "execute_result"
    }
   ],
   "source": [
    "import pandas as pd\n",
    "data=pd.read_csv(r\"C:\\Users\\KIIT_Intern\\Desktop\\Ml_1st year\\Dannon Data\\DannonData.csv\")\n",
    "data.shape"
   ]
  },
  {
   "cell_type": "code",
   "execution_count": 2,
   "metadata": {
    "scrolled": false
   },
   "outputs": [
    {
     "data": {
      "text/plain": [
       "['retailer_provider_datatype_id',\n",
       " 'document_line_number',\n",
       " 'branch',\n",
       " 'gl_account_number',\n",
       " 'division',\n",
       " 'customer_number2',\n",
       " 'order_number',\n",
       " 'order_type',\n",
       " 'order_date',\n",
       " 'order_date_norm',\n",
       " 'invoice_date',\n",
       " 'invoice_date_norm',\n",
       " 'po_date',\n",
       " 'po_date_norm',\n",
       " 'orig_number',\n",
       " 'ship_date',\n",
       " 'ship_date_norm',\n",
       " 'ship_to',\n",
       " 'shipment_number',\n",
       " 'reason_desc',\n",
       " 'deduction_case_id',\n",
       " 'chargeback_number',\n",
       " 'analyst',\n",
       " 'zip_code',\n",
       " 'remarks',\n",
       " 'accessed_date',\n",
       " 'exported_date',\n",
       " 'cust_field',\n",
       " 'account_amount_currency',\n",
       " 'reference_key3',\n",
       " 'reference_key4',\n",
       " 'reference_key5',\n",
       " 'customer_id',\n",
       " 'alternate_customer_id',\n",
       " 'cust_hdr_field2',\n",
       " 'discount_granted',\n",
       " 'discount_due_date_norm',\n",
       " 'gl_indicator',\n",
       " 'payment_method',\n",
       " 'no_invoice_trans',\n",
       " 'dunning_block',\n",
       " 'dunning_key',\n",
       " 'dunning_area',\n",
       " 'document_status',\n",
       " 'ship_type',\n",
       " 'handling_unit_number',\n",
       " 'document_type',\n",
       " 'discount_due_date',\n",
       " 'job_id_temp',\n",
       " 'invoice_amount_doc_currency',\n",
       " 'invoice_amount_doc_currency_norm',\n",
       " 'reference_key7',\n",
       " 'reference_key8',\n",
       " 'reference_key9',\n",
       " 'reference_key10',\n",
       " 'reference_key11',\n",
       " 'reference_key12',\n",
       " 'tax_amt',\n",
       " 'frt_amt',\n",
       " 'fsc_amt',\n",
       " 'pcd_amt',\n",
       " 'bill_to',\n",
       " 'grace_days',\n",
       " 'amount_document_currency',\n",
       " 'fk_doc_type',\n",
       " 'invoice_type',\n",
       " 'elastic_search_doc_id',\n",
       " 'amount_doc_curr_norm',\n",
       " 'open_amt_comp_code_norm',\n",
       " 'comp_code_currency',\n",
       " 'inv_amt_comp_code_norm',\n",
       " 'open_amt_global_norm',\n",
       " 'global_currency',\n",
       " 'inv_amt_global_norm',\n",
       " 'fk_doc_header_id',\n",
       " 'fk_strategy_id',\n",
       " 'document_number_norm.1',\n",
       " 'inv_amt_global_norm.1',\n",
       " 'open_amt_global_norm.1',\n",
       " 'global_currency.1',\n",
       " 'reference_doc_number.1',\n",
       " 'sales_invoice_number_norm',\n",
       " 'invoice_date.1',\n",
       " 'reference_key1.1',\n",
       " 'reference_key2.1',\n",
       " 'reference_key3.1',\n",
       " 'reference_key4.1',\n",
       " 'reference_key5.1',\n",
       " 'decimal_field1',\n",
       " 'decimal_field2',\n",
       " 'decimal_field3',\n",
       " 'decimal_field4',\n",
       " 'decimal_field5',\n",
       " 'local_currency',\n",
       " 'dual_currency',\n",
       " 'customer_actual_open_amount',\n",
       " 'dual_actual_open_amount',\n",
       " 'dual_current_open_amount',\n",
       " 'disputed_amount',\n",
       " 'valid_disputed_amount',\n",
       " 'fk_map_reason_code_account_rad_id',\n",
       " 'latest_task',\n",
       " 'cash_projection_date',\n",
       " 'dunning_block.1',\n",
       " 'reference_key6.1',\n",
       " 'reference_key7.1',\n",
       " 'reference_key8.1',\n",
       " 'reference_key9.1',\n",
       " 'reference_key10.1',\n",
       " 'reference_key11.1',\n",
       " 'reference_key12.1',\n",
       " 'reference_key15',\n",
       " 'retainage_amount',\n",
       " 'first_payment_date',\n",
       " 'last_payment_date',\n",
       " 'isValid_dispute',\n",
       " 'dispute_status',\n",
       " 'reference_key13',\n",
       " 'reference_key14',\n",
       " 'date_field1',\n",
       " 'decimal_field6',\n",
       " 'date_field2']"
      ]
     },
     "execution_count": 2,
     "metadata": {},
     "output_type": "execute_result"
    }
   ],
   "source": [
    "[col for col in data.columns if data[col].isnull().sum() ==599998]"
   ]
  },
  {
   "cell_type": "code",
   "execution_count": 3,
   "metadata": {},
   "outputs": [],
   "source": [
    "data.drop(['retailer_provider_datatype_id',\n",
    " 'document_line_number',\n",
    " 'branch',\n",
    " 'gl_account_number',\n",
    " 'division',\n",
    " 'customer_number2',\n",
    " 'order_number',\n",
    " 'order_type',\n",
    " 'order_date',\n",
    " 'order_date_norm',\n",
    " 'invoice_date',\n",
    " 'invoice_date_norm',\n",
    " 'po_date',\n",
    " 'po_date_norm',\n",
    " 'orig_number',\n",
    " 'ship_date',\n",
    " 'ship_date_norm',\n",
    " 'ship_to',\n",
    " 'shipment_number',\n",
    " 'reason_desc',\n",
    " 'deduction_case_id',\n",
    " 'chargeback_number',\n",
    " 'analyst',\n",
    " 'zip_code',\n",
    " 'remarks',\n",
    " 'accessed_date',\n",
    " 'exported_date',\n",
    " 'cust_field',\n",
    " 'account_amount_currency',\n",
    " 'reference_key3',\n",
    " 'reference_key4',\n",
    " 'reference_key5',\n",
    " 'customer_id',\n",
    " 'alternate_customer_id',\n",
    " 'cust_hdr_field2',\n",
    " 'discount_granted',\n",
    " 'discount_due_date_norm',\n",
    " 'gl_indicator',\n",
    " 'payment_method',\n",
    " 'no_invoice_trans',\n",
    " 'dunning_block',\n",
    " 'dunning_key',\n",
    " 'dunning_area',\n",
    " 'document_status',\n",
    " 'ship_type',\n",
    " 'handling_unit_number',\n",
    " 'document_type',\n",
    " 'discount_due_date',\n",
    " 'job_id_temp',\n",
    " 'invoice_amount_doc_currency',\n",
    " 'invoice_amount_doc_currency_norm',\n",
    " 'reference_key7',\n",
    " 'reference_key8',\n",
    " 'reference_key9',\n",
    " 'reference_key10',\n",
    " 'reference_key11',\n",
    " 'reference_key12',\n",
    " 'tax_amt',\n",
    " 'frt_amt',\n",
    " 'fsc_amt',\n",
    " 'pcd_amt',\n",
    " 'bill_to',\n",
    " 'grace_days',\n",
    " 'amount_document_currency',\n",
    " 'fk_doc_type',\n",
    " 'invoice_type',\n",
    " 'elastic_search_doc_id',\n",
    " 'amount_doc_curr_norm',\n",
    " 'open_amt_comp_code_norm',\n",
    " 'comp_code_currency',\n",
    " 'inv_amt_comp_code_norm',\n",
    " 'open_amt_global_norm',\n",
    " 'global_currency',\n",
    " 'inv_amt_global_norm',\n",
    " 'fk_doc_header_id',\n",
    " 'fk_strategy_id',\n",
    " 'document_number_norm.1',\n",
    " 'inv_amt_global_norm.1',\n",
    " 'open_amt_global_norm.1',\n",
    " 'global_currency.1',\n",
    " 'reference_doc_number.1',\n",
    " 'sales_invoice_number_norm',\n",
    " 'invoice_date.1',\n",
    " 'reference_key1.1',\n",
    " 'reference_key2.1',\n",
    " 'reference_key3.1',\n",
    " 'reference_key4.1',\n",
    " 'reference_key5.1',\n",
    " 'decimal_field1',\n",
    " 'decimal_field2',\n",
    " 'decimal_field3',\n",
    " 'decimal_field4',\n",
    " 'decimal_field5',\n",
    " 'local_currency',\n",
    " 'dual_currency',\n",
    " 'customer_actual_open_amount',\n",
    " 'dual_actual_open_amount',\n",
    " 'dual_current_open_amount',\n",
    " 'disputed_amount',\n",
    " 'valid_disputed_amount',\n",
    " 'fk_map_reason_code_account_rad_id',\n",
    " 'latest_task',\n",
    " 'cash_projection_date',\n",
    " 'dunning_block.1',\n",
    " 'reference_key6.1',\n",
    " 'reference_key7.1',\n",
    " 'reference_key8.1',\n",
    " 'reference_key9.1',\n",
    " 'reference_key10.1',\n",
    " 'reference_key11.1',\n",
    " 'reference_key12.1',\n",
    " 'reference_key15',\n",
    " 'retainage_amount',\n",
    " 'first_payment_date',\n",
    " 'last_payment_date',\n",
    " 'isValid_dispute',\n",
    " 'dispute_status',\n",
    " 'reference_key13',\n",
    " 'reference_key14',\n",
    " 'date_field1',\n",
    " 'decimal_field6',\n",
    " 'date_field2'],axis=1,inplace=True)"
   ]
  },
  {
   "cell_type": "code",
   "execution_count": 4,
   "metadata": {},
   "outputs": [
    {
     "data": {
      "text/plain": [
       "(599998, 135)"
      ]
     },
     "execution_count": 4,
     "metadata": {},
     "output_type": "execute_result"
    }
   ],
   "source": [
    "data.shape"
   ]
  },
  {
   "cell_type": "code",
   "execution_count": 5,
   "metadata": {},
   "outputs": [
    {
     "data": {
      "text/plain": [
       "Index(['acct_doc_header_id', 'account_id', 'provider_datatype_id',\n",
       "       'fk_file_id', 'acct_doc_type_id', 'job_id', 'error_code_id',\n",
       "       'document_number', 'document_number_norm', 'company_code',\n",
       "       ...\n",
       "       'create_user.1', 'create_time.1', 'update_user.1', 'update_time.1',\n",
       "       'update_date.1', 'create_date.1', 'is_escalated', 'hasAttachment',\n",
       "       'escalated_to', 'company_code.1'],\n",
       "      dtype='object', length=135)"
      ]
     },
     "execution_count": 5,
     "metadata": {},
     "output_type": "execute_result"
    }
   ],
   "source": [
    "data.columns"
   ]
  },
  {
   "cell_type": "markdown",
   "metadata": {},
   "source": [
    "# Function to find Duplicate columns"
   ]
  },
  {
   "cell_type": "code",
   "execution_count": null,
   "metadata": {},
   "outputs": [],
   "source": [
    "def getDuplicateColumns(df):\n",
    "\n",
    "    duplicateColumnNames = set()\n",
    "\n",
    "    for x in range(df.shape[1]):\n",
    "\n",
    "        col = df.iloc[:, x]\n",
    "# Iterate over all the columns in DataFrame from (x+1)th index till end\n",
    "        for y in range(x + 1, df.shape[1]):\n",
    "# Select column at yth index.\n",
    "            otherCol = df.iloc[:, y]\n",
    "# Check if two columns at x 7 y index are equal\n",
    "            if col.equals(otherCol):\n",
    "               print(df.columns.values[x],df.columns.values[y])\n",
    "               duplicateColumnNames.add(df.columns.values[y])\n",
    "    return list(duplicateColumnNames)"
   ]
  },
  {
   "cell_type": "code",
   "execution_count": null,
   "metadata": {
    "scrolled": false
   },
   "outputs": [],
   "source": [
    "dup=getDuplicateColumns(data)\n",
    "dup"
   ]
  },
  {
   "cell_type": "code",
   "execution_count": 6,
   "metadata": {},
   "outputs": [
    {
     "data": {
      "text/plain": [
       "34653604886.64444"
      ]
     },
     "execution_count": 6,
     "metadata": {},
     "output_type": "execute_result"
    }
   ],
   "source": [
    "data['cms_doc_header_id'].var()"
   ]
  },
  {
   "cell_type": "code",
   "execution_count": 7,
   "metadata": {},
   "outputs": [
    {
     "data": {
      "text/plain": [
       "Leslie Campbell    21\n",
       "Vilma Delfin       10\n",
       "Sari Stagg          1\n",
       "Name: escalated_to, dtype: int64"
      ]
     },
     "execution_count": 7,
     "metadata": {},
     "output_type": "execute_result"
    }
   ],
   "source": [
    "data['escalated_to'].value_counts()"
   ]
  },
  {
   "cell_type": "code",
   "execution_count": 8,
   "metadata": {},
   "outputs": [],
   "source": [
    "data.drop([\"acct_doc_header_id\",\"fk_account_id\",\"account_id\",\"fk_file_id\",\"fk_customer_map_id\",\"acct_doc_type_id\",\"posting_key\",\"posting_key.1\",\"document_number\",\"document_number.1\",\"company_code.1\",\"fiscal_year.1\",\"doctype.1\",\"customer_number\",\"document_date.1\",\"posting_key\",\"posting_key.1\",\"due_date.1\",\"invoice_number\",\"sales_invoice_number\",\"invoice_amount\",\"actual_open_amount\",\"local_actual_open_amount\",\"open_amount\",\"local_current_open_amount\",\"valid_open_amount\",\"currency\",\"customer_currency\",\"assignment_id\",\"payment_terms.1\",\"reason_code_name\",\"reference\",\"reference.1\",\"accessed\",\"exported\",\"cash_discount_percent2\",\"cash_discount_local_curr\",\"last_dunned\",\"dunning_level\",\"cash_discount_doc_curr_norm\",\"hasAttachment\",\"no_line_item_acct\",\"no_line_item_acct.1\",\"debit_credit_indicator.1\",\"debit_credit_indicator\",\"amount_doc_currency\",\"current_dispute_amount\",\"reference_key_line_item.1\",\"item_text.1\",\"current_dispute_amount\",\"open_amount.1\"],axis=1,inplace=True)"
   ]
  },
  {
   "cell_type": "code",
   "execution_count": 9,
   "metadata": {},
   "outputs": [
    {
     "data": {
      "text/plain": [
       "(599998, 87)"
      ]
     },
     "execution_count": 9,
     "metadata": {},
     "output_type": "execute_result"
    }
   ],
   "source": [
    "data.shape"
   ]
  },
  {
   "cell_type": "code",
   "execution_count": 10,
   "metadata": {},
   "outputs": [
    {
     "data": {
      "text/plain": [
       "Index(['provider_datatype_id', 'job_id', 'error_code_id',\n",
       "       'document_number_norm', 'company_code', 'fiscal_year', 'doctype',\n",
       "       'customer_number_norm', 'customer_name', 'document_date',\n",
       "       'document_date_norm', 'posting_date', 'posting_date_norm',\n",
       "       'baseline_date', 'baseline_date_norm', 'due_date', 'due_date_norm',\n",
       "       'invoice_number_norm', 'invoice_amount_norm', 'open_amount_norm',\n",
       "       'amount_currency', 'po_number', 'po_number_norm', 'payment_terms',\n",
       "       'business_area', 'clearing_date', 'clearing_date_norm',\n",
       "       'clearing_document', 'reason_code', 'status_code', 'create_user',\n",
       "       'create_date', 'create_time', 'update_user', 'update_date',\n",
       "       'update_time', 'note', 'source', 'discount_granted_norm', 'isOpen',\n",
       "       'reference_doc_number', 'cash_discount1', 'cash_discount2',\n",
       "       'cash_discount_percent1', 'cash_discount_doc_curr', 'payment_block_key',\n",
       "       'reference_key1', 'reference_key2', 'credit_control_area',\n",
       "       'reference_key_line_item', 'amt_cash_disc', 'item_text',\n",
       "       'current_dispute_amount_norm', 'document_creation_date',\n",
       "       'document_creation_date_norm', 'ref_number', 'identifier_key',\n",
       "       'reference_key6', 'fk_agent_source_system_id',\n",
       "       'reference_doc_number_norm', 'cms_doc_header_id',\n",
       "       'fk_customer_map_id.1', 'strategy_aging_bucket_id', 'document_id',\n",
       "       'baseline_date.1', 'paid_amount', 'paid_date', 'dayspast_due',\n",
       "       'fk_document_type_id', 'current_open_amount', 'isOpen.1',\n",
       "       'document_file_path', 'days_to_pay', 'invoice_age', 'latest_notes',\n",
       "       'fk_agent_source_system_id.1', 'po_number.1', 'assignment_id.1',\n",
       "       'latest_user_action', 'create_user.1', 'create_time.1', 'update_user.1',\n",
       "       'update_time.1', 'update_date.1', 'create_date.1', 'is_escalated',\n",
       "       'escalated_to'],\n",
       "      dtype='object')"
      ]
     },
     "execution_count": 10,
     "metadata": {},
     "output_type": "execute_result"
    }
   ],
   "source": [
    "data.columns"
   ]
  },
  {
   "cell_type": "markdown",
   "metadata": {},
   "source": [
    "now lets drop internal columns used by high radius which are supposed to be internal columns"
   ]
  },
  {
   "cell_type": "code",
   "execution_count": 11,
   "metadata": {},
   "outputs": [],
   "source": [
    "data.drop([\"error_code_id\",\"document_date\",\"posting_date\",\"baseline_date\",\"due_date\",\"po_number\",\"clearing_date\",\"create_user\",\"create_date\",\"create_time\",\"update_user\",\"update_date\",\"update_time\",\"note\",\"discount_granted_norm\",\"cash_discount_doc_curr\",\"reference_key_line_item\",\"document_creation_date\",\"fk_agent_source_system_id\",\"baseline_date.1\",\"isOpen.1\",\"document_file_path\",\"latest_notes\",\"fk_agent_source_system_id.1\",\"po_number.1\",\"assignment_id.1\",\"create_user.1\",\"create_time.1\",\"update_user.1\",\"update_time.1\",\"update_date.1\",\"create_date.1\",\"escalated_to\"],inplace=True,axis=1)"
   ]
  },
  {
   "cell_type": "code",
   "execution_count": 12,
   "metadata": {},
   "outputs": [
    {
     "data": {
      "text/plain": [
       "(599998, 54)"
      ]
     },
     "execution_count": 12,
     "metadata": {},
     "output_type": "execute_result"
    }
   ],
   "source": [
    "data.shape"
   ]
  },
  {
   "cell_type": "markdown",
   "metadata": {},
   "source": [
    "# Sorting the data according to document date norm"
   ]
  },
  {
   "cell_type": "code",
   "execution_count": 13,
   "metadata": {},
   "outputs": [],
   "source": [
    "data.sort_values('document_date_norm',ascending=True,inplace=True)"
   ]
  },
  {
   "cell_type": "code",
   "execution_count": 14,
   "metadata": {},
   "outputs": [
    {
     "data": {
      "text/plain": [
       "Index(['provider_datatype_id', 'job_id', 'document_number_norm',\n",
       "       'company_code', 'fiscal_year', 'doctype', 'customer_number_norm',\n",
       "       'customer_name', 'document_date_norm', 'posting_date_norm',\n",
       "       'baseline_date_norm', 'due_date_norm', 'invoice_number_norm',\n",
       "       'invoice_amount_norm', 'open_amount_norm', 'amount_currency',\n",
       "       'po_number_norm', 'payment_terms', 'business_area',\n",
       "       'clearing_date_norm', 'clearing_document', 'reason_code', 'status_code',\n",
       "       'source', 'isOpen', 'reference_doc_number', 'cash_discount1',\n",
       "       'cash_discount2', 'cash_discount_percent1', 'payment_block_key',\n",
       "       'reference_key1', 'reference_key2', 'credit_control_area',\n",
       "       'amt_cash_disc', 'item_text', 'current_dispute_amount_norm',\n",
       "       'document_creation_date_norm', 'ref_number', 'identifier_key',\n",
       "       'reference_key6', 'reference_doc_number_norm', 'cms_doc_header_id',\n",
       "       'fk_customer_map_id.1', 'strategy_aging_bucket_id', 'document_id',\n",
       "       'paid_amount', 'paid_date', 'dayspast_due', 'fk_document_type_id',\n",
       "       'current_open_amount', 'days_to_pay', 'invoice_age',\n",
       "       'latest_user_action', 'is_escalated'],\n",
       "      dtype='object')"
      ]
     },
     "execution_count": 14,
     "metadata": {},
     "output_type": "execute_result"
    }
   ],
   "source": [
    "data.columns"
   ]
  },
  {
   "cell_type": "code",
   "execution_count": 15,
   "metadata": {},
   "outputs": [],
   "source": [
    "df=data[[\"reference_doc_number\",\"reference_key1\",\"reference_key2\",\"ref_number\",\"reference_key6\",\"reference_doc_number_norm\"]]"
   ]
  },
  {
   "cell_type": "code",
   "execution_count": 16,
   "metadata": {},
   "outputs": [
    {
     "data": {
      "text/plain": [
       "Index(['reference_doc_number', 'reference_key1', 'reference_key2',\n",
       "       'ref_number', 'reference_key6', 'reference_doc_number_norm'],\n",
       "      dtype='object')"
      ]
     },
     "execution_count": 16,
     "metadata": {},
     "output_type": "execute_result"
    }
   ],
   "source": [
    "df.columns"
   ]
  },
  {
   "cell_type": "code",
   "execution_count": 17,
   "metadata": {},
   "outputs": [
    {
     "data": {
      "text/plain": [
       "reference_doc_number          object\n",
       "reference_key1                object\n",
       "reference_key2                object\n",
       "ref_number                   float64\n",
       "reference_key6               float64\n",
       "reference_doc_number_norm     object\n",
       "dtype: object"
      ]
     },
     "execution_count": 17,
     "metadata": {},
     "output_type": "execute_result"
    }
   ],
   "source": [
    "df.dtypes"
   ]
  },
  {
   "cell_type": "markdown",
   "metadata": {},
   "source": [
    "# Data Visualisation"
   ]
  },
  {
   "cell_type": "code",
   "execution_count": 18,
   "metadata": {},
   "outputs": [],
   "source": [
    "data.to_csv(r\"C:\\Users\\KIIT_Intern\\Desktop\\Ml_1st year\\Dannon Data\\New_Dannon_Data1.csv\")"
   ]
  },
  {
   "cell_type": "markdown",
   "metadata": {},
   "source": [
    "UNIVARIATE ANALYSIS"
   ]
  },
  {
   "cell_type": "markdown",
   "metadata": {},
   "source": [
    "FISCAL YEAR"
   ]
  },
  {
   "cell_type": "code",
   "execution_count": 19,
   "metadata": {},
   "outputs": [],
   "source": [
    "import matplotlib.pyplot as plt\n",
    "import pylab \n",
    "import scipy.stats as stats\n",
    "import seaborn as sns"
   ]
  },
  {
   "cell_type": "code",
   "execution_count": 20,
   "metadata": {},
   "outputs": [
    {
     "data": {
      "image/png": "[encoded data removed]",
      "text/plain": [
       "<Figure size 1584x360 with 3 Axes>"
      ]
     },
     "metadata": {
      "needs_background": "light"
     },
     "output_type": "display_data"
    }
   ],
   "source": [
    "plt.figure(figsize=(22, 5))\n",
    "\n",
    "plt.subplot(1, 3, 1)\n",
    "sns.distplot(data['fiscal_year'])\n",
    "\n",
    "plt.subplot(1, 3, 2)\n",
    "sns.boxplot(y =data['fiscal_year'])\n",
    "\n",
    "plt.subplot(1, 3, 3)\n",
    "stats.probplot(data['fiscal_year'],dist=\"norm\",plot=pylab)\n",
    "\n",
    "plt.show()"
   ]
  },
  {
   "cell_type": "markdown",
   "metadata": {},
   "source": [
    "From the above graph we can clearly see the distributions of fiscal year over the years 2017 ,2018 and 2019 .From the distribution plot we can see that most of the year corresponds to 2018."
   ]
  },
  {
   "cell_type": "code",
   "execution_count": 21,
   "metadata": {},
   "outputs": [
    {
     "data": {
      "text/html": [
       "<div>\n",
       "<style scoped>\n",
       "    .dataframe tbody tr th:only-of-type {\n",
       "        vertical-align: middle;\n",
       "    }\n",
       "\n",
       "    .dataframe tbody tr th {\n",
       "        vertical-align: top;\n",
       "    }\n",
       "\n",
       "    .dataframe thead th {\n",
       "        text-align: right;\n",
       "    }\n",
       "</style>\n",
       "<table border=\"1\" class=\"dataframe\">\n",
       "  <thead>\n",
       "    <tr style=\"text-align: right;\">\n",
       "      <th></th>\n",
       "      <th>count_of_each_year</th>\n",
       "    </tr>\n",
       "    <tr>\n",
       "      <th>fiscal_year</th>\n",
       "      <th></th>\n",
       "    </tr>\n",
       "  </thead>\n",
       "  <tbody>\n",
       "    <tr>\n",
       "      <th>2017</th>\n",
       "      <td>160038</td>\n",
       "    </tr>\n",
       "    <tr>\n",
       "      <th>2018</th>\n",
       "      <td>233074</td>\n",
       "    </tr>\n",
       "    <tr>\n",
       "      <th>2019</th>\n",
       "      <td>206886</td>\n",
       "    </tr>\n",
       "  </tbody>\n",
       "</table>\n",
       "</div>"
      ],
      "text/plain": [
       "             count_of_each_year\n",
       "fiscal_year                    \n",
       "2017                     160038\n",
       "2018                     233074\n",
       "2019                     206886"
      ]
     },
     "execution_count": 21,
     "metadata": {},
     "output_type": "execute_result"
    }
   ],
   "source": [
    "data['count_of_each_year']=data['fiscal_year']\n",
    "data.groupby('fiscal_year').agg({'count_of_each_year':'count'})\n"
   ]
  },
  {
   "cell_type": "code",
   "execution_count": 22,
   "metadata": {},
   "outputs": [
    {
     "data": {
      "text/plain": [
       "fiscal_year    599998\n",
       "Name: fiscal_year, dtype: int64"
      ]
     },
     "execution_count": 22,
     "metadata": {},
     "output_type": "execute_result"
    }
   ],
   "source": [
    "data['fiscal_year'].agg({'fiscal_year':'count'})"
   ]
  },
  {
   "cell_type": "code",
   "execution_count": 23,
   "metadata": {},
   "outputs": [
    {
     "name": "stdout",
     "output_type": "stream",
     "text": [
      "% of data in 2017 26.673088910296368  %\n",
      "% of data in 2018 38.84579615265385  %\n",
      "% of data in 2019 34.48111493704979  %\n"
     ]
    }
   ],
   "source": [
    "print(\"% of data in 2017\",(160038/599998)*100,\" %\")\n",
    "print(\"% of data in 2018\",(233074/599998)*100,\" %\")\n",
    "print(\"% of data in 2019\",(206886/599998)*100,\" %\")"
   ]
  },
  {
   "cell_type": "code",
   "execution_count": 24,
   "metadata": {},
   "outputs": [
    {
     "data": {
      "text/plain": [
       "provider_datatype_id                0\n",
       "job_id                              0\n",
       "document_number_norm                0\n",
       "company_code                        0\n",
       "fiscal_year                         0\n",
       "doctype                             0\n",
       "customer_number_norm                0\n",
       "customer_name                       0\n",
       "document_date_norm                  0\n",
       "posting_date_norm                   0\n",
       "baseline_date_norm                  0\n",
       "due_date_norm                       0\n",
       "invoice_number_norm              8757\n",
       "invoice_amount_norm                 0\n",
       "open_amount_norm                    0\n",
       "amount_currency                     0\n",
       "po_number_norm                      4\n",
       "payment_terms                    8393\n",
       "business_area                  169987\n",
       "clearing_date_norm              36455\n",
       "clearing_document               36457\n",
       "reason_code                    591993\n",
       "status_code                         0\n",
       "source                              0\n",
       "isOpen                              0\n",
       "reference_doc_number              160\n",
       "cash_discount1                      0\n",
       "cash_discount2                      0\n",
       "cash_discount_percent1              0\n",
       "payment_block_key              358825\n",
       "reference_key1                 474756\n",
       "reference_key2                 456465\n",
       "credit_control_area                 0\n",
       "amt_cash_disc                       0\n",
       "item_text                      590633\n",
       "current_dispute_amount_norm         0\n",
       "document_creation_date_norm         0\n",
       "ref_number                     563725\n",
       "identifier_key                      0\n",
       "reference_key6                 337276\n",
       "reference_doc_number_norm        9177\n",
       "cms_doc_header_id                   0\n",
       "fk_customer_map_id.1                0\n",
       "strategy_aging_bucket_id            0\n",
       "document_id                         0\n",
       "paid_amount                         0\n",
       "paid_date                       36548\n",
       "dayspast_due                        0\n",
       "fk_document_type_id              8757\n",
       "current_open_amount                 0\n",
       "days_to_pay                         0\n",
       "invoice_age                         0\n",
       "latest_user_action             412190\n",
       "is_escalated                        0\n",
       "count_of_each_year                  0\n",
       "dtype: int64"
      ]
     },
     "execution_count": 24,
     "metadata": {},
     "output_type": "execute_result"
    }
   ],
   "source": [
    "data.isnull().sum()"
   ]
  },
  {
   "cell_type": "markdown",
   "metadata": {},
   "source": [
    "DOCUMENT DATE NORM"
   ]
  },
  {
   "cell_type": "code",
   "execution_count": 25,
   "metadata": {},
   "outputs": [
    {
     "data": {
      "text/plain": [
       "provider_datatype_id             int64\n",
       "job_id                           int64\n",
       "document_number_norm             int64\n",
       "company_code                     int64\n",
       "fiscal_year                      int64\n",
       "doctype                         object\n",
       "customer_number_norm             int64\n",
       "customer_name                   object\n",
       "document_date_norm              object\n",
       "posting_date_norm               object\n",
       "baseline_date_norm              object\n",
       "due_date_norm                   object\n",
       "invoice_number_norm            float64\n",
       "invoice_amount_norm            float64\n",
       "open_amount_norm               float64\n",
       "amount_currency                 object\n",
       "po_number_norm                  object\n",
       "payment_terms                   object\n",
       "business_area                  float64\n",
       "clearing_date_norm              object\n",
       "clearing_document              float64\n",
       "reason_code                    float64\n",
       "status_code                      int64\n",
       "source                          object\n",
       "isOpen                           int64\n",
       "reference_doc_number            object\n",
       "cash_discount1                   int64\n",
       "cash_discount2                   int64\n",
       "cash_discount_percent1         float64\n",
       "payment_block_key               object\n",
       "reference_key1                  object\n",
       "reference_key2                  object\n",
       "credit_control_area              int64\n",
       "amt_cash_disc                  float64\n",
       "item_text                       object\n",
       "current_dispute_amount_norm    float64\n",
       "document_creation_date_norm     object\n",
       "ref_number                     float64\n",
       "identifier_key                 float64\n",
       "reference_key6                 float64\n",
       "reference_doc_number_norm       object\n",
       "cms_doc_header_id                int64\n",
       "fk_customer_map_id.1             int64\n",
       "strategy_aging_bucket_id         int64\n",
       "document_id                      int64\n",
       "paid_amount                    float64\n",
       "paid_date                       object\n",
       "dayspast_due                     int64\n",
       "fk_document_type_id            float64\n",
       "current_open_amount            float64\n",
       "days_to_pay                      int64\n",
       "invoice_age                      int64\n",
       "latest_user_action              object\n",
       "is_escalated                     int64\n",
       "count_of_each_year               int64\n",
       "dtype: object"
      ]
     },
     "execution_count": 25,
     "metadata": {},
     "output_type": "execute_result"
    }
   ],
   "source": [
    "data.dtypes"
   ]
  },
  {
   "cell_type": "code",
   "execution_count": 26,
   "metadata": {},
   "outputs": [
    {
     "data": {
      "text/plain": [
       "<matplotlib.axes._subplots.AxesSubplot at 0x2b5578a9a58>"
      ]
     },
     "execution_count": 26,
     "metadata": {},
     "output_type": "execute_result"
    },
    {
     "data": {
      "image/png": "[encoded data removed]",
      "text/plain": [
       "<Figure size 1440x720 with 1 Axes>"
      ]
     },
     "metadata": {
      "needs_background": "light"
     },
     "output_type": "display_data"
    }
   ],
   "source": [
    "plt.figure(figsize=(20,10))\n",
    "sns.distplot(data['invoice_amount_norm'])"
   ]
  },
  {
   "cell_type": "markdown",
   "metadata": {},
   "source": [
    "# creating a data frame where invoices are closed(clearing date not null)"
   ]
  },
  {
   "cell_type": "code",
   "execution_count": 27,
   "metadata": {},
   "outputs": [
    {
     "name": "stdout",
     "output_type": "stream",
     "text": [
      "(599998, 55)\n"
     ]
    },
    {
     "data": {
      "text/plain": [
       "(599997, 55)"
      ]
     },
     "execution_count": 27,
     "metadata": {},
     "output_type": "execute_result"
    }
   ],
   "source": [
    "print(data.shape)\n",
    "data.drop(data.loc[data['document_id']==558649790].index,axis=0,inplace=True)\n",
    "data.shape"
   ]
  },
  {
   "cell_type": "code",
   "execution_count": 28,
   "metadata": {},
   "outputs": [
    {
     "data": {
      "text/plain": [
       "36455"
      ]
     },
     "execution_count": 28,
     "metadata": {},
     "output_type": "execute_result"
    }
   ],
   "source": [
    "data['clearing_date_norm'].isnull().sum()"
   ]
  },
  {
   "cell_type": "code",
   "execution_count": 29,
   "metadata": {},
   "outputs": [],
   "source": [
    "closed_data=data[~data['clearing_date_norm'].isnull()]"
   ]
  },
  {
   "cell_type": "code",
   "execution_count": 30,
   "metadata": {},
   "outputs": [
    {
     "data": {
      "text/plain": [
       "(563542, 55)"
      ]
     },
     "execution_count": 30,
     "metadata": {},
     "output_type": "execute_result"
    }
   ],
   "source": [
    "closed_data.shape"
   ]
  },
  {
   "cell_type": "code",
   "execution_count": 31,
   "metadata": {},
   "outputs": [
    {
     "data": {
      "text/plain": [
       "Index(['provider_datatype_id', 'job_id', 'document_number_norm',\n",
       "       'company_code', 'fiscal_year', 'doctype', 'customer_number_norm',\n",
       "       'customer_name', 'document_date_norm', 'posting_date_norm',\n",
       "       'baseline_date_norm', 'due_date_norm', 'invoice_number_norm',\n",
       "       'invoice_amount_norm', 'open_amount_norm', 'amount_currency',\n",
       "       'po_number_norm', 'payment_terms', 'business_area',\n",
       "       'clearing_date_norm', 'clearing_document', 'reason_code', 'status_code',\n",
       "       'source', 'isOpen', 'reference_doc_number', 'cash_discount1',\n",
       "       'cash_discount2', 'cash_discount_percent1', 'payment_block_key',\n",
       "       'reference_key1', 'reference_key2', 'credit_control_area',\n",
       "       'amt_cash_disc', 'item_text', 'current_dispute_amount_norm',\n",
       "       'document_creation_date_norm', 'ref_number', 'identifier_key',\n",
       "       'reference_key6', 'reference_doc_number_norm', 'cms_doc_header_id',\n",
       "       'fk_customer_map_id.1', 'strategy_aging_bucket_id', 'document_id',\n",
       "       'paid_amount', 'paid_date', 'dayspast_due', 'fk_document_type_id',\n",
       "       'current_open_amount', 'days_to_pay', 'invoice_age',\n",
       "       'latest_user_action', 'is_escalated', 'count_of_each_year'],\n",
       "      dtype='object')"
      ]
     },
     "execution_count": 31,
     "metadata": {},
     "output_type": "execute_result"
    }
   ],
   "source": [
    "closed_data.columns"
   ]
  },
  {
   "cell_type": "markdown",
   "metadata": {},
   "source": [
    "# Calculating Delay for the closed invoice"
   ]
  },
  {
   "cell_type": "code",
   "execution_count": 32,
   "metadata": {},
   "outputs": [
    {
     "name": "stderr",
     "output_type": "stream",
     "text": [
      "C:\\ProgramData\\Anaconda3\\lib\\site-packages\\ipykernel_launcher.py:1: SettingWithCopyWarning: \n",
      "A value is trying to be set on a copy of a slice from a DataFrame.\n",
      "Try using .loc[row_indexer,col_indexer] = value instead\n",
      "\n",
      "See the caveats in the documentation: http://pandas.pydata.org/pandas-docs/stable/indexing.html#indexing-view-versus-copy\n",
      "  \"\"\"Entry point for launching an IPython kernel.\n",
      "C:\\ProgramData\\Anaconda3\\lib\\site-packages\\ipykernel_launcher.py:2: SettingWithCopyWarning: \n",
      "A value is trying to be set on a copy of a slice from a DataFrame.\n",
      "Try using .loc[row_indexer,col_indexer] = value instead\n",
      "\n",
      "See the caveats in the documentation: http://pandas.pydata.org/pandas-docs/stable/indexing.html#indexing-view-versus-copy\n",
      "  \n",
      "C:\\ProgramData\\Anaconda3\\lib\\site-packages\\ipykernel_launcher.py:3: SettingWithCopyWarning: \n",
      "A value is trying to be set on a copy of a slice from a DataFrame.\n",
      "Try using .loc[row_indexer,col_indexer] = value instead\n",
      "\n",
      "See the caveats in the documentation: http://pandas.pydata.org/pandas-docs/stable/indexing.html#indexing-view-versus-copy\n",
      "  This is separate from the ipykernel package so we can avoid doing imports until\n"
     ]
    }
   ],
   "source": [
    "closed_data['clearing_date_norm']=pd.to_datetime(closed_data['clearing_date_norm'])\n",
    "closed_data['due_date_norm']=pd.to_datetime(closed_data['due_date_norm'])\n",
    "closed_data['delay']=(closed_data['clearing_date_norm']-closed_data['due_date_norm']).dt.days"
   ]
  },
  {
   "cell_type": "code",
   "execution_count": 33,
   "metadata": {},
   "outputs": [
    {
     "data": {
      "text/plain": [
       "<bound method IndexOpsMixin.value_counts of 288050    20\n",
       "333899     0\n",
       "333900     0\n",
       "333901     0\n",
       "213051    27\n",
       "227351     5\n",
       "560046     4\n",
       "560045     4\n",
       "560044     4\n",
       "560043     4\n",
       "560041     4\n",
       "560040     4\n",
       "560039     4\n",
       "560038     4\n",
       "560037     4\n",
       "560036     4\n",
       "560035     4\n",
       "434263    13\n",
       "559996     4\n",
       "559993     4\n",
       "559992     4\n",
       "77811      1\n",
       "560023     4\n",
       "560024     4\n",
       "49639      1\n",
       "560025     4\n",
       "560028     4\n",
       "560029     4\n",
       "284583     8\n",
       "261374     1\n",
       "          ..\n",
       "51721      2\n",
       "51723      2\n",
       "598757    12\n",
       "281511     0\n",
       "12631      3\n",
       "71728      2\n",
       "169092     7\n",
       "3978       6\n",
       "3973       2\n",
       "69604     10\n",
       "205167     1\n",
       "167732     2\n",
       "350824     4\n",
       "350833     4\n",
       "350834     4\n",
       "350840     4\n",
       "69950      8\n",
       "223755    71\n",
       "223753    71\n",
       "262033     2\n",
       "93761      5\n",
       "12618      3\n",
       "12621      3\n",
       "93755     18\n",
       "12623      3\n",
       "12624      3\n",
       "12626      3\n",
       "546095     2\n",
       "223754    71\n",
       "350748     4\n",
       "Name: delay, Length: 563542, dtype: int64>"
      ]
     },
     "execution_count": 33,
     "metadata": {},
     "output_type": "execute_result"
    }
   ],
   "source": [
    "closed_data['delay'].value_counts"
   ]
  },
  {
   "cell_type": "code",
   "execution_count": 34,
   "metadata": {},
   "outputs": [
    {
     "data": {
      "text/plain": [
       "(563542, 56)"
      ]
     },
     "execution_count": 34,
     "metadata": {},
     "output_type": "execute_result"
    }
   ],
   "source": [
    "closed_data.shape"
   ]
  },
  {
   "cell_type": "markdown",
   "metadata": {},
   "source": [
    "# Numerical Columns "
   ]
  },
  {
   "cell_type": "markdown",
   "metadata": {},
   "source": [
    "## Amount Columns Data Visualisation"
   ]
  },
  {
   "cell_type": "code",
   "execution_count": 36,
   "metadata": {},
   "outputs": [],
   "source": [
    "amount_df=closed_data[['invoice_amount_norm','open_amount_norm','current_dispute_amount_norm','paid_amount','current_open_amount']]"
   ]
  },
  {
   "cell_type": "code",
   "execution_count": 37,
   "metadata": {},
   "outputs": [
    {
     "data": {
      "text/html": [
       "<div>\n",
       "<style scoped>\n",
       "    .dataframe tbody tr th:only-of-type {\n",
       "        vertical-align: middle;\n",
       "    }\n",
       "\n",
       "    .dataframe tbody tr th {\n",
       "        vertical-align: top;\n",
       "    }\n",
       "\n",
       "    .dataframe thead th {\n",
       "        text-align: right;\n",
       "    }\n",
       "</style>\n",
       "<table border=\"1\" class=\"dataframe\">\n",
       "  <thead>\n",
       "    <tr style=\"text-align: right;\">\n",
       "      <th></th>\n",
       "      <th>invoice_amount_norm</th>\n",
       "      <th>open_amount_norm</th>\n",
       "      <th>current_dispute_amount_norm</th>\n",
       "      <th>paid_amount</th>\n",
       "      <th>current_open_amount</th>\n",
       "    </tr>\n",
       "  </thead>\n",
       "  <tbody>\n",
       "    <tr>\n",
       "      <th>288050</th>\n",
       "      <td>59679.88</td>\n",
       "      <td>59679.88</td>\n",
       "      <td>59679.88</td>\n",
       "      <td>59679.88</td>\n",
       "      <td>0.0</td>\n",
       "    </tr>\n",
       "    <tr>\n",
       "      <th>333899</th>\n",
       "      <td>611.44</td>\n",
       "      <td>611.44</td>\n",
       "      <td>611.44</td>\n",
       "      <td>611.44</td>\n",
       "      <td>0.0</td>\n",
       "    </tr>\n",
       "    <tr>\n",
       "      <th>333900</th>\n",
       "      <td>644.83</td>\n",
       "      <td>644.83</td>\n",
       "      <td>644.83</td>\n",
       "      <td>644.83</td>\n",
       "      <td>0.0</td>\n",
       "    </tr>\n",
       "    <tr>\n",
       "      <th>333901</th>\n",
       "      <td>194.11</td>\n",
       "      <td>194.11</td>\n",
       "      <td>194.11</td>\n",
       "      <td>194.11</td>\n",
       "      <td>0.0</td>\n",
       "    </tr>\n",
       "    <tr>\n",
       "      <th>213051</th>\n",
       "      <td>7060.06</td>\n",
       "      <td>7060.06</td>\n",
       "      <td>7060.06</td>\n",
       "      <td>7060.06</td>\n",
       "      <td>0.0</td>\n",
       "    </tr>\n",
       "  </tbody>\n",
       "</table>\n",
       "</div>"
      ],
      "text/plain": [
       "        invoice_amount_norm  open_amount_norm  current_dispute_amount_norm  \\\n",
       "288050             59679.88          59679.88                     59679.88   \n",
       "333899               611.44            611.44                       611.44   \n",
       "333900               644.83            644.83                       644.83   \n",
       "333901               194.11            194.11                       194.11   \n",
       "213051              7060.06           7060.06                      7060.06   \n",
       "\n",
       "        paid_amount  current_open_amount  \n",
       "288050     59679.88                  0.0  \n",
       "333899       611.44                  0.0  \n",
       "333900       644.83                  0.0  \n",
       "333901       194.11                  0.0  \n",
       "213051      7060.06                  0.0  "
      ]
     },
     "execution_count": 37,
     "metadata": {},
     "output_type": "execute_result"
    }
   ],
   "source": [
    "amount_df.head(5)"
   ]
  },
  {
   "cell_type": "code",
   "execution_count": 38,
   "metadata": {},
   "outputs": [
    {
     "data": {
      "text/html": [
       "<div>\n",
       "<style scoped>\n",
       "    .dataframe tbody tr th:only-of-type {\n",
       "        vertical-align: middle;\n",
       "    }\n",
       "\n",
       "    .dataframe tbody tr th {\n",
       "        vertical-align: top;\n",
       "    }\n",
       "\n",
       "    .dataframe thead th {\n",
       "        text-align: right;\n",
       "    }\n",
       "</style>\n",
       "<table border=\"1\" class=\"dataframe\">\n",
       "  <thead>\n",
       "    <tr style=\"text-align: right;\">\n",
       "      <th></th>\n",
       "      <th>invoice_amount_norm</th>\n",
       "      <th>open_amount_norm</th>\n",
       "      <th>current_dispute_amount_norm</th>\n",
       "      <th>paid_amount</th>\n",
       "      <th>current_open_amount</th>\n",
       "    </tr>\n",
       "  </thead>\n",
       "  <tbody>\n",
       "    <tr>\n",
       "      <th>invoice_amount_norm</th>\n",
       "      <td>1.000000</td>\n",
       "      <td>0.999904</td>\n",
       "      <td>0.999905</td>\n",
       "      <td>0.999980</td>\n",
       "      <td>-0.000665</td>\n",
       "    </tr>\n",
       "    <tr>\n",
       "      <th>open_amount_norm</th>\n",
       "      <td>0.999904</td>\n",
       "      <td>1.000000</td>\n",
       "      <td>0.999999</td>\n",
       "      <td>0.999884</td>\n",
       "      <td>-0.000673</td>\n",
       "    </tr>\n",
       "    <tr>\n",
       "      <th>current_dispute_amount_norm</th>\n",
       "      <td>0.999905</td>\n",
       "      <td>0.999999</td>\n",
       "      <td>1.000000</td>\n",
       "      <td>0.999885</td>\n",
       "      <td>-0.000673</td>\n",
       "    </tr>\n",
       "    <tr>\n",
       "      <th>paid_amount</th>\n",
       "      <td>0.999980</td>\n",
       "      <td>0.999884</td>\n",
       "      <td>0.999885</td>\n",
       "      <td>1.000000</td>\n",
       "      <td>-0.006936</td>\n",
       "    </tr>\n",
       "    <tr>\n",
       "      <th>current_open_amount</th>\n",
       "      <td>-0.000665</td>\n",
       "      <td>-0.000673</td>\n",
       "      <td>-0.000673</td>\n",
       "      <td>-0.006936</td>\n",
       "      <td>1.000000</td>\n",
       "    </tr>\n",
       "  </tbody>\n",
       "</table>\n",
       "</div>"
      ],
      "text/plain": [
       "                             invoice_amount_norm  open_amount_norm  \\\n",
       "invoice_amount_norm                     1.000000          0.999904   \n",
       "open_amount_norm                        0.999904          1.000000   \n",
       "current_dispute_amount_norm             0.999905          0.999999   \n",
       "paid_amount                             0.999980          0.999884   \n",
       "current_open_amount                    -0.000665         -0.000673   \n",
       "\n",
       "                             current_dispute_amount_norm  paid_amount  \\\n",
       "invoice_amount_norm                             0.999905     0.999980   \n",
       "open_amount_norm                                0.999999     0.999884   \n",
       "current_dispute_amount_norm                     1.000000     0.999885   \n",
       "paid_amount                                     0.999885     1.000000   \n",
       "current_open_amount                            -0.000673    -0.006936   \n",
       "\n",
       "                             current_open_amount  \n",
       "invoice_amount_norm                    -0.000665  \n",
       "open_amount_norm                       -0.000673  \n",
       "current_dispute_amount_norm            -0.000673  \n",
       "paid_amount                            -0.006936  \n",
       "current_open_amount                     1.000000  "
      ]
     },
     "execution_count": 38,
     "metadata": {},
     "output_type": "execute_result"
    }
   ],
   "source": [
    "amount_df.corr()"
   ]
  },
  {
   "cell_type": "code",
   "execution_count": 40,
   "metadata": {},
   "outputs": [
    {
     "ename": "OverflowError",
     "evalue": "Exceeded cell block limit (set 'agg.path.chunksize' rcparam)",
     "output_type": "error",
     "traceback": [
      "\u001b[1;31m---------------------------------------------------------------------------\u001b[0m",
      "\u001b[1;31mOverflowError\u001b[0m                             Traceback (most recent call last)",
      "\u001b[1;32mC:\\ProgramData\\Anaconda3\\lib\\site-packages\\matplotlib\\backends\\backend_agg.py\u001b[0m in \u001b[0;36mdraw_path\u001b[1;34m(self, gc, path, transform, rgbFace)\u001b[0m\n\u001b[0;32m    148\u001b[0m             \u001b[1;32mtry\u001b[0m\u001b[1;33m:\u001b[0m\u001b[1;33m\u001b[0m\u001b[1;33m\u001b[0m\u001b[0m\n\u001b[1;32m--> 149\u001b[1;33m                 \u001b[0mself\u001b[0m\u001b[1;33m.\u001b[0m\u001b[0m_renderer\u001b[0m\u001b[1;33m.\u001b[0m\u001b[0mdraw_path\u001b[0m\u001b[1;33m(\u001b[0m\u001b[0mgc\u001b[0m\u001b[1;33m,\u001b[0m \u001b[0mpath\u001b[0m\u001b[1;33m,\u001b[0m \u001b[0mtransform\u001b[0m\u001b[1;33m,\u001b[0m \u001b[0mrgbFace\u001b[0m\u001b[1;33m)\u001b[0m\u001b[1;33m\u001b[0m\u001b[1;33m\u001b[0m\u001b[0m\n\u001b[0m\u001b[0;32m    150\u001b[0m             \u001b[1;32mexcept\u001b[0m \u001b[0mOverflowError\u001b[0m\u001b[1;33m:\u001b[0m\u001b[1;33m\u001b[0m\u001b[1;33m\u001b[0m\u001b[0m\n",
      "\u001b[1;31mOverflowError\u001b[0m: In draw_path: Exceeded cell block limit",
      "\nDuring handling of the above exception, another exception occurred:\n",
      "\u001b[1;31mOverflowError\u001b[0m                             Traceback (most recent call last)",
      "\u001b[1;32mC:\\ProgramData\\Anaconda3\\lib\\site-packages\\IPython\\core\\formatters.py\u001b[0m in \u001b[0;36m__call__\u001b[1;34m(self, obj)\u001b[0m\n\u001b[0;32m    339\u001b[0m                 \u001b[1;32mpass\u001b[0m\u001b[1;33m\u001b[0m\u001b[1;33m\u001b[0m\u001b[0m\n\u001b[0;32m    340\u001b[0m             \u001b[1;32melse\u001b[0m\u001b[1;33m:\u001b[0m\u001b[1;33m\u001b[0m\u001b[1;33m\u001b[0m\u001b[0m\n\u001b[1;32m--> 341\u001b[1;33m                 \u001b[1;32mreturn\u001b[0m \u001b[0mprinter\u001b[0m\u001b[1;33m(\u001b[0m\u001b[0mobj\u001b[0m\u001b[1;33m)\u001b[0m\u001b[1;33m\u001b[0m\u001b[1;33m\u001b[0m\u001b[0m\n\u001b[0m\u001b[0;32m    342\u001b[0m             \u001b[1;31m# Finally look for special method names\u001b[0m\u001b[1;33m\u001b[0m\u001b[1;33m\u001b[0m\u001b[1;33m\u001b[0m\u001b[0m\n\u001b[0;32m    343\u001b[0m             \u001b[0mmethod\u001b[0m \u001b[1;33m=\u001b[0m \u001b[0mget_real_method\u001b[0m\u001b[1;33m(\u001b[0m\u001b[0mobj\u001b[0m\u001b[1;33m,\u001b[0m \u001b[0mself\u001b[0m\u001b[1;33m.\u001b[0m\u001b[0mprint_method\u001b[0m\u001b[1;33m)\u001b[0m\u001b[1;33m\u001b[0m\u001b[1;33m\u001b[0m\u001b[0m\n",
      "\u001b[1;32mC:\\ProgramData\\Anaconda3\\lib\\site-packages\\IPython\\core\\pylabtools.py\u001b[0m in \u001b[0;36m<lambda>\u001b[1;34m(fig)\u001b[0m\n\u001b[0;32m    242\u001b[0m \u001b[1;33m\u001b[0m\u001b[0m\n\u001b[0;32m    243\u001b[0m     \u001b[1;32mif\u001b[0m \u001b[1;34m'png'\u001b[0m \u001b[1;32min\u001b[0m \u001b[0mformats\u001b[0m\u001b[1;33m:\u001b[0m\u001b[1;33m\u001b[0m\u001b[1;33m\u001b[0m\u001b[0m\n\u001b[1;32m--> 244\u001b[1;33m         \u001b[0mpng_formatter\u001b[0m\u001b[1;33m.\u001b[0m\u001b[0mfor_type\u001b[0m\u001b[1;33m(\u001b[0m\u001b[0mFigure\u001b[0m\u001b[1;33m,\u001b[0m \u001b[1;32mlambda\u001b[0m \u001b[0mfig\u001b[0m\u001b[1;33m:\u001b[0m \u001b[0mprint_figure\u001b[0m\u001b[1;33m(\u001b[0m\u001b[0mfig\u001b[0m\u001b[1;33m,\u001b[0m \u001b[1;34m'png'\u001b[0m\u001b[1;33m,\u001b[0m \u001b[1;33m**\u001b[0m\u001b[0mkwargs\u001b[0m\u001b[1;33m)\u001b[0m\u001b[1;33m)\u001b[0m\u001b[1;33m\u001b[0m\u001b[1;33m\u001b[0m\u001b[0m\n\u001b[0m\u001b[0;32m    245\u001b[0m     \u001b[1;32mif\u001b[0m \u001b[1;34m'retina'\u001b[0m \u001b[1;32min\u001b[0m \u001b[0mformats\u001b[0m \u001b[1;32mor\u001b[0m \u001b[1;34m'png2x'\u001b[0m \u001b[1;32min\u001b[0m \u001b[0mformats\u001b[0m\u001b[1;33m:\u001b[0m\u001b[1;33m\u001b[0m\u001b[1;33m\u001b[0m\u001b[0m\n\u001b[0;32m    246\u001b[0m         \u001b[0mpng_formatter\u001b[0m\u001b[1;33m.\u001b[0m\u001b[0mfor_type\u001b[0m\u001b[1;33m(\u001b[0m\u001b[0mFigure\u001b[0m\u001b[1;33m,\u001b[0m \u001b[1;32mlambda\u001b[0m \u001b[0mfig\u001b[0m\u001b[1;33m:\u001b[0m \u001b[0mretina_figure\u001b[0m\u001b[1;33m(\u001b[0m\u001b[0mfig\u001b[0m\u001b[1;33m,\u001b[0m \u001b[1;33m**\u001b[0m\u001b[0mkwargs\u001b[0m\u001b[1;33m)\u001b[0m\u001b[1;33m)\u001b[0m\u001b[1;33m\u001b[0m\u001b[1;33m\u001b[0m\u001b[0m\n",
      "\u001b[1;32mC:\\ProgramData\\Anaconda3\\lib\\site-packages\\IPython\\core\\pylabtools.py\u001b[0m in \u001b[0;36mprint_figure\u001b[1;34m(fig, fmt, bbox_inches, **kwargs)\u001b[0m\n\u001b[0;32m    126\u001b[0m \u001b[1;33m\u001b[0m\u001b[0m\n\u001b[0;32m    127\u001b[0m     \u001b[0mbytes_io\u001b[0m \u001b[1;33m=\u001b[0m \u001b[0mBytesIO\u001b[0m\u001b[1;33m(\u001b[0m\u001b[1;33m)\u001b[0m\u001b[1;33m\u001b[0m\u001b[1;33m\u001b[0m\u001b[0m\n\u001b[1;32m--> 128\u001b[1;33m     \u001b[0mfig\u001b[0m\u001b[1;33m.\u001b[0m\u001b[0mcanvas\u001b[0m\u001b[1;33m.\u001b[0m\u001b[0mprint_figure\u001b[0m\u001b[1;33m(\u001b[0m\u001b[0mbytes_io\u001b[0m\u001b[1;33m,\u001b[0m \u001b[1;33m**\u001b[0m\u001b[0mkw\u001b[0m\u001b[1;33m)\u001b[0m\u001b[1;33m\u001b[0m\u001b[1;33m\u001b[0m\u001b[0m\n\u001b[0m\u001b[0;32m    129\u001b[0m     \u001b[0mdata\u001b[0m \u001b[1;33m=\u001b[0m \u001b[0mbytes_io\u001b[0m\u001b[1;33m.\u001b[0m\u001b[0mgetvalue\u001b[0m\u001b[1;33m(\u001b[0m\u001b[1;33m)\u001b[0m\u001b[1;33m\u001b[0m\u001b[1;33m\u001b[0m\u001b[0m\n\u001b[0;32m    130\u001b[0m     \u001b[1;32mif\u001b[0m \u001b[0mfmt\u001b[0m \u001b[1;33m==\u001b[0m \u001b[1;34m'svg'\u001b[0m\u001b[1;33m:\u001b[0m\u001b[1;33m\u001b[0m\u001b[1;33m\u001b[0m\u001b[0m\n",
      "\u001b[1;32mC:\\ProgramData\\Anaconda3\\lib\\site-packages\\matplotlib\\backend_bases.py\u001b[0m in \u001b[0;36mprint_figure\u001b[1;34m(self, filename, dpi, facecolor, edgecolor, orientation, format, bbox_inches, **kwargs)\u001b[0m\n\u001b[0;32m   2047\u001b[0m                         \u001b[0morientation\u001b[0m\u001b[1;33m=\u001b[0m\u001b[0morientation\u001b[0m\u001b[1;33m,\u001b[0m\u001b[1;33m\u001b[0m\u001b[1;33m\u001b[0m\u001b[0m\n\u001b[0;32m   2048\u001b[0m                         \u001b[0mdryrun\u001b[0m\u001b[1;33m=\u001b[0m\u001b[1;32mTrue\u001b[0m\u001b[1;33m,\u001b[0m\u001b[1;33m\u001b[0m\u001b[1;33m\u001b[0m\u001b[0m\n\u001b[1;32m-> 2049\u001b[1;33m                         **kwargs)\n\u001b[0m\u001b[0;32m   2050\u001b[0m                     \u001b[0mrenderer\u001b[0m \u001b[1;33m=\u001b[0m \u001b[0mself\u001b[0m\u001b[1;33m.\u001b[0m\u001b[0mfigure\u001b[0m\u001b[1;33m.\u001b[0m\u001b[0m_cachedRenderer\u001b[0m\u001b[1;33m\u001b[0m\u001b[1;33m\u001b[0m\u001b[0m\n\u001b[0;32m   2051\u001b[0m                     \u001b[0mbbox_artists\u001b[0m \u001b[1;33m=\u001b[0m \u001b[0mkwargs\u001b[0m\u001b[1;33m.\u001b[0m\u001b[0mpop\u001b[0m\u001b[1;33m(\u001b[0m\u001b[1;34m\"bbox_extra_artists\"\u001b[0m\u001b[1;33m,\u001b[0m \u001b[1;32mNone\u001b[0m\u001b[1;33m)\u001b[0m\u001b[1;33m\u001b[0m\u001b[1;33m\u001b[0m\u001b[0m\n",
      "\u001b[1;32mC:\\ProgramData\\Anaconda3\\lib\\site-packages\\matplotlib\\backends\\backend_agg.py\u001b[0m in \u001b[0;36mprint_png\u001b[1;34m(self, filename_or_obj, *args, **kwargs)\u001b[0m\n\u001b[0;32m    508\u001b[0m \u001b[1;33m\u001b[0m\u001b[0m\n\u001b[0;32m    509\u001b[0m         \"\"\"\n\u001b[1;32m--> 510\u001b[1;33m         \u001b[0mFigureCanvasAgg\u001b[0m\u001b[1;33m.\u001b[0m\u001b[0mdraw\u001b[0m\u001b[1;33m(\u001b[0m\u001b[0mself\u001b[0m\u001b[1;33m)\u001b[0m\u001b[1;33m\u001b[0m\u001b[1;33m\u001b[0m\u001b[0m\n\u001b[0m\u001b[0;32m    511\u001b[0m         \u001b[0mrenderer\u001b[0m \u001b[1;33m=\u001b[0m \u001b[0mself\u001b[0m\u001b[1;33m.\u001b[0m\u001b[0mget_renderer\u001b[0m\u001b[1;33m(\u001b[0m\u001b[1;33m)\u001b[0m\u001b[1;33m\u001b[0m\u001b[1;33m\u001b[0m\u001b[0m\n\u001b[0;32m    512\u001b[0m \u001b[1;33m\u001b[0m\u001b[0m\n",
      "\u001b[1;32mC:\\ProgramData\\Anaconda3\\lib\\site-packages\\matplotlib\\backends\\backend_agg.py\u001b[0m in \u001b[0;36mdraw\u001b[1;34m(self)\u001b[0m\n\u001b[0;32m    400\u001b[0m         \u001b[0mtoolbar\u001b[0m \u001b[1;33m=\u001b[0m \u001b[0mself\u001b[0m\u001b[1;33m.\u001b[0m\u001b[0mtoolbar\u001b[0m\u001b[1;33m\u001b[0m\u001b[1;33m\u001b[0m\u001b[0m\n\u001b[0;32m    401\u001b[0m         \u001b[1;32mtry\u001b[0m\u001b[1;33m:\u001b[0m\u001b[1;33m\u001b[0m\u001b[1;33m\u001b[0m\u001b[0m\n\u001b[1;32m--> 402\u001b[1;33m             \u001b[0mself\u001b[0m\u001b[1;33m.\u001b[0m\u001b[0mfigure\u001b[0m\u001b[1;33m.\u001b[0m\u001b[0mdraw\u001b[0m\u001b[1;33m(\u001b[0m\u001b[0mself\u001b[0m\u001b[1;33m.\u001b[0m\u001b[0mrenderer\u001b[0m\u001b[1;33m)\u001b[0m\u001b[1;33m\u001b[0m\u001b[1;33m\u001b[0m\u001b[0m\n\u001b[0m\u001b[0;32m    403\u001b[0m             \u001b[1;31m# A GUI class may be need to update a window using this draw, so\u001b[0m\u001b[1;33m\u001b[0m\u001b[1;33m\u001b[0m\u001b[1;33m\u001b[0m\u001b[0m\n\u001b[0;32m    404\u001b[0m             \u001b[1;31m# don't forget to call the superclass.\u001b[0m\u001b[1;33m\u001b[0m\u001b[1;33m\u001b[0m\u001b[1;33m\u001b[0m\u001b[0m\n",
      "\u001b[1;32mC:\\ProgramData\\Anaconda3\\lib\\site-packages\\matplotlib\\artist.py\u001b[0m in \u001b[0;36mdraw_wrapper\u001b[1;34m(artist, renderer, *args, **kwargs)\u001b[0m\n\u001b[0;32m     48\u001b[0m                 \u001b[0mrenderer\u001b[0m\u001b[1;33m.\u001b[0m\u001b[0mstart_filter\u001b[0m\u001b[1;33m(\u001b[0m\u001b[1;33m)\u001b[0m\u001b[1;33m\u001b[0m\u001b[1;33m\u001b[0m\u001b[0m\n\u001b[0;32m     49\u001b[0m \u001b[1;33m\u001b[0m\u001b[0m\n\u001b[1;32m---> 50\u001b[1;33m             \u001b[1;32mreturn\u001b[0m \u001b[0mdraw\u001b[0m\u001b[1;33m(\u001b[0m\u001b[0martist\u001b[0m\u001b[1;33m,\u001b[0m \u001b[0mrenderer\u001b[0m\u001b[1;33m,\u001b[0m \u001b[1;33m*\u001b[0m\u001b[0margs\u001b[0m\u001b[1;33m,\u001b[0m \u001b[1;33m**\u001b[0m\u001b[0mkwargs\u001b[0m\u001b[1;33m)\u001b[0m\u001b[1;33m\u001b[0m\u001b[1;33m\u001b[0m\u001b[0m\n\u001b[0m\u001b[0;32m     51\u001b[0m         \u001b[1;32mfinally\u001b[0m\u001b[1;33m:\u001b[0m\u001b[1;33m\u001b[0m\u001b[1;33m\u001b[0m\u001b[0m\n\u001b[0;32m     52\u001b[0m             \u001b[1;32mif\u001b[0m \u001b[0martist\u001b[0m\u001b[1;33m.\u001b[0m\u001b[0mget_agg_filter\u001b[0m\u001b[1;33m(\u001b[0m\u001b[1;33m)\u001b[0m \u001b[1;32mis\u001b[0m \u001b[1;32mnot\u001b[0m \u001b[1;32mNone\u001b[0m\u001b[1;33m:\u001b[0m\u001b[1;33m\u001b[0m\u001b[1;33m\u001b[0m\u001b[0m\n",
      "\u001b[1;32mC:\\ProgramData\\Anaconda3\\lib\\site-packages\\matplotlib\\figure.py\u001b[0m in \u001b[0;36mdraw\u001b[1;34m(self, renderer)\u001b[0m\n\u001b[0;32m   1647\u001b[0m \u001b[1;33m\u001b[0m\u001b[0m\n\u001b[0;32m   1648\u001b[0m             mimage._draw_list_compositing_images(\n\u001b[1;32m-> 1649\u001b[1;33m                 renderer, self, artists, self.suppressComposite)\n\u001b[0m\u001b[0;32m   1650\u001b[0m \u001b[1;33m\u001b[0m\u001b[0m\n\u001b[0;32m   1651\u001b[0m             \u001b[0mrenderer\u001b[0m\u001b[1;33m.\u001b[0m\u001b[0mclose_group\u001b[0m\u001b[1;33m(\u001b[0m\u001b[1;34m'figure'\u001b[0m\u001b[1;33m)\u001b[0m\u001b[1;33m\u001b[0m\u001b[1;33m\u001b[0m\u001b[0m\n",
      "\u001b[1;32mC:\\ProgramData\\Anaconda3\\lib\\site-packages\\matplotlib\\image.py\u001b[0m in \u001b[0;36m_draw_list_compositing_images\u001b[1;34m(renderer, parent, artists, suppress_composite)\u001b[0m\n\u001b[0;32m    136\u001b[0m     \u001b[1;32mif\u001b[0m \u001b[0mnot_composite\u001b[0m \u001b[1;32mor\u001b[0m \u001b[1;32mnot\u001b[0m \u001b[0mhas_images\u001b[0m\u001b[1;33m:\u001b[0m\u001b[1;33m\u001b[0m\u001b[1;33m\u001b[0m\u001b[0m\n\u001b[0;32m    137\u001b[0m         \u001b[1;32mfor\u001b[0m \u001b[0ma\u001b[0m \u001b[1;32min\u001b[0m \u001b[0martists\u001b[0m\u001b[1;33m:\u001b[0m\u001b[1;33m\u001b[0m\u001b[1;33m\u001b[0m\u001b[0m\n\u001b[1;32m--> 138\u001b[1;33m             \u001b[0ma\u001b[0m\u001b[1;33m.\u001b[0m\u001b[0mdraw\u001b[0m\u001b[1;33m(\u001b[0m\u001b[0mrenderer\u001b[0m\u001b[1;33m)\u001b[0m\u001b[1;33m\u001b[0m\u001b[1;33m\u001b[0m\u001b[0m\n\u001b[0m\u001b[0;32m    139\u001b[0m     \u001b[1;32melse\u001b[0m\u001b[1;33m:\u001b[0m\u001b[1;33m\u001b[0m\u001b[1;33m\u001b[0m\u001b[0m\n\u001b[0;32m    140\u001b[0m         \u001b[1;31m# Composite any adjacent images together\u001b[0m\u001b[1;33m\u001b[0m\u001b[1;33m\u001b[0m\u001b[1;33m\u001b[0m\u001b[0m\n",
      "\u001b[1;32mC:\\ProgramData\\Anaconda3\\lib\\site-packages\\matplotlib\\artist.py\u001b[0m in \u001b[0;36mdraw_wrapper\u001b[1;34m(artist, renderer, *args, **kwargs)\u001b[0m\n\u001b[0;32m     48\u001b[0m                 \u001b[0mrenderer\u001b[0m\u001b[1;33m.\u001b[0m\u001b[0mstart_filter\u001b[0m\u001b[1;33m(\u001b[0m\u001b[1;33m)\u001b[0m\u001b[1;33m\u001b[0m\u001b[1;33m\u001b[0m\u001b[0m\n\u001b[0;32m     49\u001b[0m \u001b[1;33m\u001b[0m\u001b[0m\n\u001b[1;32m---> 50\u001b[1;33m             \u001b[1;32mreturn\u001b[0m \u001b[0mdraw\u001b[0m\u001b[1;33m(\u001b[0m\u001b[0martist\u001b[0m\u001b[1;33m,\u001b[0m \u001b[0mrenderer\u001b[0m\u001b[1;33m,\u001b[0m \u001b[1;33m*\u001b[0m\u001b[0margs\u001b[0m\u001b[1;33m,\u001b[0m \u001b[1;33m**\u001b[0m\u001b[0mkwargs\u001b[0m\u001b[1;33m)\u001b[0m\u001b[1;33m\u001b[0m\u001b[1;33m\u001b[0m\u001b[0m\n\u001b[0m\u001b[0;32m     51\u001b[0m         \u001b[1;32mfinally\u001b[0m\u001b[1;33m:\u001b[0m\u001b[1;33m\u001b[0m\u001b[1;33m\u001b[0m\u001b[0m\n\u001b[0;32m     52\u001b[0m             \u001b[1;32mif\u001b[0m \u001b[0martist\u001b[0m\u001b[1;33m.\u001b[0m\u001b[0mget_agg_filter\u001b[0m\u001b[1;33m(\u001b[0m\u001b[1;33m)\u001b[0m \u001b[1;32mis\u001b[0m \u001b[1;32mnot\u001b[0m \u001b[1;32mNone\u001b[0m\u001b[1;33m:\u001b[0m\u001b[1;33m\u001b[0m\u001b[1;33m\u001b[0m\u001b[0m\n",
      "\u001b[1;32mC:\\ProgramData\\Anaconda3\\lib\\site-packages\\matplotlib\\axes\\_base.py\u001b[0m in \u001b[0;36mdraw\u001b[1;34m(self, renderer, inframe)\u001b[0m\n\u001b[0;32m   2626\u001b[0m             \u001b[0mrenderer\u001b[0m\u001b[1;33m.\u001b[0m\u001b[0mstop_rasterizing\u001b[0m\u001b[1;33m(\u001b[0m\u001b[1;33m)\u001b[0m\u001b[1;33m\u001b[0m\u001b[1;33m\u001b[0m\u001b[0m\n\u001b[0;32m   2627\u001b[0m \u001b[1;33m\u001b[0m\u001b[0m\n\u001b[1;32m-> 2628\u001b[1;33m         \u001b[0mmimage\u001b[0m\u001b[1;33m.\u001b[0m\u001b[0m_draw_list_compositing_images\u001b[0m\u001b[1;33m(\u001b[0m\u001b[0mrenderer\u001b[0m\u001b[1;33m,\u001b[0m \u001b[0mself\u001b[0m\u001b[1;33m,\u001b[0m \u001b[0martists\u001b[0m\u001b[1;33m)\u001b[0m\u001b[1;33m\u001b[0m\u001b[1;33m\u001b[0m\u001b[0m\n\u001b[0m\u001b[0;32m   2629\u001b[0m \u001b[1;33m\u001b[0m\u001b[0m\n\u001b[0;32m   2630\u001b[0m         \u001b[0mrenderer\u001b[0m\u001b[1;33m.\u001b[0m\u001b[0mclose_group\u001b[0m\u001b[1;33m(\u001b[0m\u001b[1;34m'axes'\u001b[0m\u001b[1;33m)\u001b[0m\u001b[1;33m\u001b[0m\u001b[1;33m\u001b[0m\u001b[0m\n",
      "\u001b[1;32mC:\\ProgramData\\Anaconda3\\lib\\site-packages\\matplotlib\\image.py\u001b[0m in \u001b[0;36m_draw_list_compositing_images\u001b[1;34m(renderer, parent, artists, suppress_composite)\u001b[0m\n\u001b[0;32m    136\u001b[0m     \u001b[1;32mif\u001b[0m \u001b[0mnot_composite\u001b[0m \u001b[1;32mor\u001b[0m \u001b[1;32mnot\u001b[0m \u001b[0mhas_images\u001b[0m\u001b[1;33m:\u001b[0m\u001b[1;33m\u001b[0m\u001b[1;33m\u001b[0m\u001b[0m\n\u001b[0;32m    137\u001b[0m         \u001b[1;32mfor\u001b[0m \u001b[0ma\u001b[0m \u001b[1;32min\u001b[0m \u001b[0martists\u001b[0m\u001b[1;33m:\u001b[0m\u001b[1;33m\u001b[0m\u001b[1;33m\u001b[0m\u001b[0m\n\u001b[1;32m--> 138\u001b[1;33m             \u001b[0ma\u001b[0m\u001b[1;33m.\u001b[0m\u001b[0mdraw\u001b[0m\u001b[1;33m(\u001b[0m\u001b[0mrenderer\u001b[0m\u001b[1;33m)\u001b[0m\u001b[1;33m\u001b[0m\u001b[1;33m\u001b[0m\u001b[0m\n\u001b[0m\u001b[0;32m    139\u001b[0m     \u001b[1;32melse\u001b[0m\u001b[1;33m:\u001b[0m\u001b[1;33m\u001b[0m\u001b[1;33m\u001b[0m\u001b[0m\n\u001b[0;32m    140\u001b[0m         \u001b[1;31m# Composite any adjacent images together\u001b[0m\u001b[1;33m\u001b[0m\u001b[1;33m\u001b[0m\u001b[1;33m\u001b[0m\u001b[0m\n",
      "\u001b[1;32mC:\\ProgramData\\Anaconda3\\lib\\site-packages\\matplotlib\\artist.py\u001b[0m in \u001b[0;36mdraw_wrapper\u001b[1;34m(artist, renderer, *args, **kwargs)\u001b[0m\n\u001b[0;32m     48\u001b[0m                 \u001b[0mrenderer\u001b[0m\u001b[1;33m.\u001b[0m\u001b[0mstart_filter\u001b[0m\u001b[1;33m(\u001b[0m\u001b[1;33m)\u001b[0m\u001b[1;33m\u001b[0m\u001b[1;33m\u001b[0m\u001b[0m\n\u001b[0;32m     49\u001b[0m \u001b[1;33m\u001b[0m\u001b[0m\n\u001b[1;32m---> 50\u001b[1;33m             \u001b[1;32mreturn\u001b[0m \u001b[0mdraw\u001b[0m\u001b[1;33m(\u001b[0m\u001b[0martist\u001b[0m\u001b[1;33m,\u001b[0m \u001b[0mrenderer\u001b[0m\u001b[1;33m,\u001b[0m \u001b[1;33m*\u001b[0m\u001b[0margs\u001b[0m\u001b[1;33m,\u001b[0m \u001b[1;33m**\u001b[0m\u001b[0mkwargs\u001b[0m\u001b[1;33m)\u001b[0m\u001b[1;33m\u001b[0m\u001b[1;33m\u001b[0m\u001b[0m\n\u001b[0m\u001b[0;32m     51\u001b[0m         \u001b[1;32mfinally\u001b[0m\u001b[1;33m:\u001b[0m\u001b[1;33m\u001b[0m\u001b[1;33m\u001b[0m\u001b[0m\n\u001b[0;32m     52\u001b[0m             \u001b[1;32mif\u001b[0m \u001b[0martist\u001b[0m\u001b[1;33m.\u001b[0m\u001b[0mget_agg_filter\u001b[0m\u001b[1;33m(\u001b[0m\u001b[1;33m)\u001b[0m \u001b[1;32mis\u001b[0m \u001b[1;32mnot\u001b[0m \u001b[1;32mNone\u001b[0m\u001b[1;33m:\u001b[0m\u001b[1;33m\u001b[0m\u001b[1;33m\u001b[0m\u001b[0m\n",
      "\u001b[1;32mC:\\ProgramData\\Anaconda3\\lib\\site-packages\\matplotlib\\lines.py\u001b[0m in \u001b[0;36mdraw\u001b[1;34m(self, renderer)\u001b[0m\n\u001b[0;32m    769\u001b[0m \u001b[1;33m\u001b[0m\u001b[0m\n\u001b[0;32m    770\u001b[0m                 \u001b[0mgc\u001b[0m\u001b[1;33m.\u001b[0m\u001b[0mset_dashes\u001b[0m\u001b[1;33m(\u001b[0m\u001b[0mself\u001b[0m\u001b[1;33m.\u001b[0m\u001b[0m_dashOffset\u001b[0m\u001b[1;33m,\u001b[0m \u001b[0mself\u001b[0m\u001b[1;33m.\u001b[0m\u001b[0m_dashSeq\u001b[0m\u001b[1;33m)\u001b[0m\u001b[1;33m\u001b[0m\u001b[1;33m\u001b[0m\u001b[0m\n\u001b[1;32m--> 771\u001b[1;33m                 \u001b[0mrenderer\u001b[0m\u001b[1;33m.\u001b[0m\u001b[0mdraw_path\u001b[0m\u001b[1;33m(\u001b[0m\u001b[0mgc\u001b[0m\u001b[1;33m,\u001b[0m \u001b[0mtpath\u001b[0m\u001b[1;33m,\u001b[0m \u001b[0maffine\u001b[0m\u001b[1;33m.\u001b[0m\u001b[0mfrozen\u001b[0m\u001b[1;33m(\u001b[0m\u001b[1;33m)\u001b[0m\u001b[1;33m)\u001b[0m\u001b[1;33m\u001b[0m\u001b[1;33m\u001b[0m\u001b[0m\n\u001b[0m\u001b[0;32m    772\u001b[0m                 \u001b[0mgc\u001b[0m\u001b[1;33m.\u001b[0m\u001b[0mrestore\u001b[0m\u001b[1;33m(\u001b[0m\u001b[1;33m)\u001b[0m\u001b[1;33m\u001b[0m\u001b[1;33m\u001b[0m\u001b[0m\n\u001b[0;32m    773\u001b[0m \u001b[1;33m\u001b[0m\u001b[0m\n",
      "\u001b[1;32mC:\\ProgramData\\Anaconda3\\lib\\site-packages\\matplotlib\\backends\\backend_agg.py\u001b[0m in \u001b[0;36mdraw_path\u001b[1;34m(self, gc, path, transform, rgbFace)\u001b[0m\n\u001b[0;32m    149\u001b[0m                 \u001b[0mself\u001b[0m\u001b[1;33m.\u001b[0m\u001b[0m_renderer\u001b[0m\u001b[1;33m.\u001b[0m\u001b[0mdraw_path\u001b[0m\u001b[1;33m(\u001b[0m\u001b[0mgc\u001b[0m\u001b[1;33m,\u001b[0m \u001b[0mpath\u001b[0m\u001b[1;33m,\u001b[0m \u001b[0mtransform\u001b[0m\u001b[1;33m,\u001b[0m \u001b[0mrgbFace\u001b[0m\u001b[1;33m)\u001b[0m\u001b[1;33m\u001b[0m\u001b[1;33m\u001b[0m\u001b[0m\n\u001b[0;32m    150\u001b[0m             \u001b[1;32mexcept\u001b[0m \u001b[0mOverflowError\u001b[0m\u001b[1;33m:\u001b[0m\u001b[1;33m\u001b[0m\u001b[1;33m\u001b[0m\u001b[0m\n\u001b[1;32m--> 151\u001b[1;33m                 raise OverflowError(\"Exceeded cell block limit (set \"\n\u001b[0m\u001b[0;32m    152\u001b[0m                                     \"'agg.path.chunksize' rcparam)\")\n\u001b[0;32m    153\u001b[0m \u001b[1;33m\u001b[0m\u001b[0m\n",
      "\u001b[1;31mOverflowError\u001b[0m: Exceeded cell block limit (set 'agg.path.chunksize' rcparam)"
     ]
    },
    {
     "data": {
      "text/plain": [
       "<Figure size 1440x360 with 1 Axes>"
      ]
     },
     "metadata": {},
     "output_type": "display_data"
    }
   ],
   "source": [
    "sns.set(rc={'figure.figsize':(20,5)})\n",
    "plt.plot(list(amount_df.index),list(amount_df.invoice_amount_norm),c='y')\n",
    "plt.show()"
   ]
  },
  {
   "cell_type": "code",
   "execution_count": 41,
   "metadata": {
    "scrolled": true
   },
   "outputs": [
    {
     "data": {
      "image/png": "[encoded data removed]",
      "text/plain": [
       "<Figure size 1440x360 with 1 Axes>"
      ]
     },
     "metadata": {},
     "output_type": "display_data"
    }
   ],
   "source": [
    "plt.hist(list(amount_df.invoice_amount_norm))\n",
    "plt.show()"
   ]
  },
  {
   "cell_type": "code",
   "execution_count": 42,
   "metadata": {},
   "outputs": [
    {
     "data": {
      "image/png": "[encoded data removed]",
      "text/plain": [
       "<Figure size 1296x432 with 3 Axes>"
      ]
     },
     "metadata": {},
     "output_type": "display_data"
    }
   ],
   "source": [
    "plt.figure(figsize=(18,6))\n",
    "\n",
    "plt.subplot(1,3,1)\n",
    "sns.distplot(amount_df['invoice_amount_norm'])\n",
    "\n",
    "plt.subplot(1,3,2)\n",
    "sns.boxplot(amount_df['invoice_amount_norm'])\n",
    "\n",
    "plt.subplot(1,3,3)\n",
    "stats.probplot(amount_df['invoice_amount_norm'],dist=\"norm\",plot=pylab)\n",
    "\n",
    "plt.show()"
   ]
  },
  {
   "cell_type": "markdown",
   "metadata": {},
   "source": [
    "From the above graph we can see that the above graph is right skewed and there are many outliers in the data which can be seen from the box plot.from the probability distribution we can see that the data is not att all distributed properly."
   ]
  },
  {
   "cell_type": "code",
   "execution_count": 43,
   "metadata": {},
   "outputs": [],
   "source": [
    "def find_skewed_boundaries(df, variable, distance):\n",
    "\n",
    "    IQR = df[variable].quantile(0.75) - df[variable].quantile(0.25)\n",
    "\n",
    "    lower_boundary = df[variable].quantile(0.25) - (IQR * distance)\n",
    "    upper_boundary = df[variable].quantile(0.75) + (IQR * distance)\n",
    "\n",
    "    return upper_boundary, lower_boundary"
   ]
  },
  {
   "cell_type": "code",
   "execution_count": 44,
   "metadata": {},
   "outputs": [
    {
     "name": "stdout",
     "output_type": "stream",
     "text": [
      "Upper Boundary is 67481.26875\n",
      "Lower Boundary is -40133.88125\n",
      "Total no of customers : 563542\n",
      "Total no of customers having there Invoice Amount bigger than 67481.26875 : 18756\n",
      "\n",
      "% customers having there Invoice Amount bigger than 67481.26875 : 0.03328234630249387\n",
      "\n",
      "Total no of customers having there Invoice Amount lower than -40133 : 0\n",
      "\n",
      "% customers having there Invoice Amount lower than -40133 : 0.0\n"
     ]
    }
   ],
   "source": [
    "upper_boundary,lower_boundary  = find_skewed_boundaries(amount_df, 'invoice_amount_norm', 1.5)\n",
    "print('Upper Boundary is ' + str(upper_boundary))\n",
    "print('Lower Boundary is ' + str(lower_boundary))\n",
    "print('Total no of customers : {}'.format(len(amount_df)))\n",
    "\n",
    "print('Total no of customers having there Invoice Amount bigger than ' + str(upper_boundary) + ' : {}'.format(\n",
    "        len(amount_df[amount_df['invoice_amount_norm'] > upper_boundary])))\n",
    "print()\n",
    "print('% customers having there Invoice Amount bigger than ' + str(upper_boundary) +' : {}'.format((\n",
    "        len(amount_df[amount_df['invoice_amount_norm'] > upper_boundary]) / len(amount_df))))\n",
    "print()\n",
    "print('Total no of customers having there Invoice Amount lower than ' + str(int(lower_boundary)) + ' : {}'.format(\n",
    "        len(amount_df[amount_df['invoice_amount_norm'] < lower_boundary])))\n",
    "print()\n",
    "print('% customers having there Invoice Amount lower than ' + str(int(lower_boundary)) +' : {}'.format((\n",
    "        len(amount_df[amount_df['invoice_amount_norm'] < lower_boundary]) / len(amount_df))))"
   ]
  },
  {
   "cell_type": "markdown",
   "metadata": {},
   "source": [
    "From the above data we can clearly see that there are about 18757 customers which are considered as outliers and the contribute to 3.32 % of the total data."
   ]
  },
  {
   "cell_type": "code",
   "execution_count": 45,
   "metadata": {},
   "outputs": [],
   "source": [
    "import numpy as np"
   ]
  },
  {
   "cell_type": "code",
   "execution_count": 46,
   "metadata": {},
   "outputs": [
    {
     "name": "stderr",
     "output_type": "stream",
     "text": [
      "C:\\ProgramData\\Anaconda3\\lib\\site-packages\\ipykernel_launcher.py:2: SettingWithCopyWarning: \n",
      "A value is trying to be set on a copy of a slice from a DataFrame.\n",
      "Try using .loc[row_indexer,col_indexer] = value instead\n",
      "\n",
      "See the caveats in the documentation: http://pandas.pydata.org/pandas-docs/stable/indexing.html#indexing-view-versus-copy\n",
      "  \n"
     ]
    },
    {
     "data": {
      "image/png": "[encoded data removed]",
      "text/plain": [
       "<Figure size 1440x360 with 1 Axes>"
      ]
     },
     "metadata": {},
     "output_type": "display_data"
    }
   ],
   "source": [
    "\n",
    "amount_df['invoice_amount_norm_log'] =np.log(amount_df['invoice_amount_norm'])\n",
    "plt.hist(list(amount_df.invoice_amount_norm_log))\n",
    "plt.show()"
   ]
  },
  {
   "cell_type": "code",
   "execution_count": 47,
   "metadata": {
    "scrolled": true
   },
   "outputs": [
    {
     "data": {
      "text/plain": [
       "<matplotlib.axes._subplots.AxesSubplot at 0x2b5439ae358>"
      ]
     },
     "execution_count": 47,
     "metadata": {},
     "output_type": "execute_result"
    },
    {
     "data": {
      "image/png": "[encoded data removed]",
      "text/plain": [
       "<Figure size 1440x360 with 1 Axes>"
      ]
     },
     "metadata": {},
     "output_type": "display_data"
    }
   ],
   "source": [
    "sns.distplot(amount_df['invoice_amount_norm_log'])"
   ]
  },
  {
   "cell_type": "markdown",
   "metadata": {},
   "source": [
    "After log transformation of the invoice amount norm we have obtained invoice_amount_norm_log .The distribution curve for 'invoice_amount_norm_log' is gaussian but the nature of the curve is bimodal."
   ]
  },
  {
   "cell_type": "code",
   "execution_count": 48,
   "metadata": {},
   "outputs": [
    {
     "data": {
      "image/png": "[encoded data removed]",
      "text/plain": [
       "<Figure size 1440x504 with 1 Axes>"
      ]
     },
     "metadata": {},
     "output_type": "display_data"
    }
   ],
   "source": [
    "plt.figure(figsize=(20,7))\n",
    "\n",
    "sns.distplot(amount_df['invoice_amount_norm']**(1/5))\n",
    "plt.show()"
   ]
  },
  {
   "cell_type": "code",
   "execution_count": 49,
   "metadata": {},
   "outputs": [
    {
     "data": {
      "text/plain": [
       "<matplotlib.axes._subplots.AxesSubplot at 0x2b50f64f438>"
      ]
     },
     "execution_count": 49,
     "metadata": {},
     "output_type": "execute_result"
    },
    {
     "data": {
      "image/png": "[encoded data removed]",
      "text/plain": [
       "<Figure size 1584x432 with 1 Axes>"
      ]
     },
     "metadata": {},
     "output_type": "display_data"
    }
   ],
   "source": [
    "plt.figure(figsize=(22,6))\n",
    "plt.subplot(1,3,2)\n",
    "sns.boxplot(amount_df['invoice_amount_norm'])"
   ]
  },
  {
   "cell_type": "markdown",
   "metadata": {},
   "source": [
    "# invoice amount vs delay"
   ]
  },
  {
   "cell_type": "code",
   "execution_count": 50,
   "metadata": {},
   "outputs": [
    {
     "name": "stderr",
     "output_type": "stream",
     "text": [
      "C:\\ProgramData\\Anaconda3\\lib\\site-packages\\ipykernel_launcher.py:1: SettingWithCopyWarning: \n",
      "A value is trying to be set on a copy of a slice from a DataFrame.\n",
      "Try using .loc[row_indexer,col_indexer] = value instead\n",
      "\n",
      "See the caveats in the documentation: http://pandas.pydata.org/pandas-docs/stable/indexing.html#indexing-view-versus-copy\n",
      "  \"\"\"Entry point for launching an IPython kernel.\n"
     ]
    }
   ],
   "source": [
    "closed_data['amount_category'] = closed_data['invoice_amount_norm'].apply(lambda x: '<25k' if x<25000 else('25k-75k' if x<75000 else('75k-125k' if x<125000 else'125k')))"
   ]
  },
  {
   "cell_type": "code",
   "execution_count": 51,
   "metadata": {},
   "outputs": [
    {
     "data": {
      "text/plain": [
       "array(['25k-75k', '<25k', '75k-125k', '125k'], dtype=object)"
      ]
     },
     "execution_count": 51,
     "metadata": {},
     "output_type": "execute_result"
    }
   ],
   "source": [
    "closed_data['amount_category'].unique()"
   ]
  },
  {
   "cell_type": "code",
   "execution_count": 52,
   "metadata": {},
   "outputs": [
    {
     "data": {
      "text/plain": [
       "<matplotlib.axes._subplots.AxesSubplot at 0x2b500acb7f0>"
      ]
     },
     "execution_count": 52,
     "metadata": {},
     "output_type": "execute_result"
    },
    {
     "data": {
      "image/png": "[encoded data removed]",
      "text/plain": [
       "<Figure size 720x576 with 1 Axes>"
      ]
     },
     "metadata": {},
     "output_type": "display_data"
    }
   ],
   "source": [
    "df = closed_data.groupby('amount_category').agg({'delay':'mean'})\n",
    "df.reset_index(inplace=True)\n",
    "df.sort_values(by='delay',inplace=True)\n",
    "plt.figure(figsize=(10,8))\n",
    "sns.barplot(x='amount_category',y='delay',data=df)"
   ]
  },
  {
   "cell_type": "markdown",
   "metadata": {},
   "source": [
    "From the above barplot we can clearly see that the category of customer having amount_category greater than 125k (i.e greater than 25000 ) are having negative delay .This means that theses are the customers that pay the amount before the due date.\n",
    "Although the customers whose invoice amount is less than 25000 are highest."
   ]
  },
  {
   "cell_type": "markdown",
   "metadata": {},
   "source": [
    "# Payment Terms VS Delay"
   ]
  },
  {
   "cell_type": "code",
   "execution_count": 53,
   "metadata": {},
   "outputs": [
    {
     "data": {
      "image/png": "[encoded data removed]",
      "text/plain": [
       "<Figure size 1584x1440 with 1 Axes>"
      ]
     },
     "metadata": {},
     "output_type": "display_data"
    }
   ],
   "source": [
    "plt.figure(figsize=(22,20))\n",
    "sns.boxplot(x='payment_terms',y='delay',data=closed_data)\n",
    "plt.show()"
   ]
  },
  {
   "cell_type": "markdown",
   "metadata": {},
   "source": [
    "From the above box plot we can clearly see that there are so many outliers present in payment terms except C001,CN21,CA30,CN90.\n",
    "These are the payment terms that are perfectly distributed."
   ]
  },
  {
   "cell_type": "code",
   "execution_count": 54,
   "metadata": {},
   "outputs": [
    {
     "data": {
      "text/plain": [
       "<matplotlib.axes._subplots.AxesSubplot at 0x2b51dc9b978>"
      ]
     },
     "execution_count": 54,
     "metadata": {},
     "output_type": "execute_result"
    },
    {
     "data": {
      "image/png": "[encoded data removed]",
      "text/plain": [
       "<Figure size 1080x864 with 1 Axes>"
      ]
     },
     "metadata": {},
     "output_type": "display_data"
    }
   ],
   "source": [
    "df1 = closed_data.groupby('payment_terms').agg({'delay':'mean'})\n",
    "df1.reset_index(inplace=True)\n",
    "df1.sort_values(by='delay',inplace=True)\n",
    "plt.figure(figsize=(15,12))\n",
    "sns.barplot(x='payment_terms',y='delay',data=df1)\n",
    "#plt.figure(figsize=(22,7))\n",
    "#sns.boxplot(x='payment_terms',y='delay',data=closed_data)\n",
    "#plt.show()"
   ]
  },
  {
   "cell_type": "markdown",
   "metadata": {},
   "source": [
    "As we can see from the bar plot customers having payment terms C021 , CN17 have no delay in the payment while the cusmomers having payment terms CN21 and CN90 have maximum delay in payment."
   ]
  },
  {
   "cell_type": "code",
   "execution_count": 55,
   "metadata": {},
   "outputs": [
    {
     "data": {
      "text/plain": [
       "36455"
      ]
     },
     "execution_count": 55,
     "metadata": {},
     "output_type": "execute_result"
    }
   ],
   "source": [
    "data['clearing_date_norm'].isnull().sum()"
   ]
  },
  {
   "cell_type": "code",
   "execution_count": 56,
   "metadata": {},
   "outputs": [
    {
     "data": {
      "text/plain": [
       "0"
      ]
     },
     "execution_count": 56,
     "metadata": {},
     "output_type": "execute_result"
    }
   ],
   "source": [
    "closed_data['cash_discount2'].isnull().sum()"
   ]
  },
  {
   "cell_type": "code",
   "execution_count": 57,
   "metadata": {},
   "outputs": [
    {
     "data": {
      "text/plain": [
       "15    299765\n",
       "20    101061\n",
       "60     54229\n",
       "13     43569\n",
       "30     37405\n",
       "10     13893\n",
       "0       6195\n",
       "23      2251\n",
       "35      1633\n",
       "25      1392\n",
       "17      1311\n",
       "45       493\n",
       "90       247\n",
       "40        79\n",
       "21        19\n",
       "Name: cash_discount1, dtype: int64"
      ]
     },
     "execution_count": 57,
     "metadata": {},
     "output_type": "execute_result"
    }
   ],
   "source": [
    "closed_data['cash_discount1'].value_counts()"
   ]
  },
  {
   "cell_type": "code",
   "execution_count": 58,
   "metadata": {},
   "outputs": [
    {
     "name": "stderr",
     "output_type": "stream",
     "text": [
      "C:\\ProgramData\\Anaconda3\\lib\\site-packages\\ipykernel_launcher.py:1: SettingWithCopyWarning: \n",
      "A value is trying to be set on a copy of a slice from a DataFrame.\n",
      "Try using .loc[row_indexer,col_indexer] = value instead\n",
      "\n",
      "See the caveats in the documentation: http://pandas.pydata.org/pandas-docs/stable/indexing.html#indexing-view-versus-copy\n",
      "  \"\"\"Entry point for launching an IPython kernel.\n"
     ]
    }
   ],
   "source": [
    "closed_data['total_cash_discount']=closed_data['cash_discount1']+closed_data['cash_discount2']"
   ]
  },
  {
   "cell_type": "code",
   "execution_count": 59,
   "metadata": {},
   "outputs": [
    {
     "data": {
      "text/plain": [
       "15    295706\n",
       "20    101061\n",
       "60     54229\n",
       "30     41963\n",
       "13     37684\n",
       "10      8807\n",
       "0       6195\n",
       "36      5885\n",
       "45      4552\n",
       "23      2251\n",
       "35      1558\n",
       "25      1392\n",
       "17      1311\n",
       "61       276\n",
       "70       252\n",
       "90       247\n",
       "40        79\n",
       "71        75\n",
       "21        19\n",
       "Name: total_cash_discount, dtype: int64"
      ]
     },
     "execution_count": 59,
     "metadata": {},
     "output_type": "execute_result"
    }
   ],
   "source": [
    "closed_data['total_cash_discount'].value_counts()"
   ]
  },
  {
   "cell_type": "code",
   "execution_count": 60,
   "metadata": {},
   "outputs": [
    {
     "data": {
      "image/png": "[encoded data removed]",
      "text/plain": [
       "<Figure size 1296x432 with 3 Axes>"
      ]
     },
     "metadata": {},
     "output_type": "display_data"
    }
   ],
   "source": [
    "plt.figure(figsize=(18,6))\n",
    "\n",
    "plt.subplot(1,3,1)\n",
    "sns.distplot(closed_data['total_cash_discount'])\n",
    "\n",
    "plt.subplot(1,3,2)\n",
    "sns.boxplot(closed_data['total_cash_discount'])\n",
    "\n",
    "plt.subplot(1,3,3)\n",
    "stats.probplot(closed_data['total_cash_discount'],dist=\"norm\",plot=pylab)\n",
    "\n",
    "plt.show()"
   ]
  },
  {
   "cell_type": "code",
   "execution_count": 61,
   "metadata": {},
   "outputs": [
    {
     "name": "stdout",
     "output_type": "stream",
     "text": [
      "Upper Boundary is 27.5\n",
      "Lower Boundary is 7.5\n",
      "Total no of customers : 563542\n",
      "Total no of customers having there Invoice Amount bigger than 27.5 : 109116\n",
      "\n",
      "% customers having there Invoice Amount bigger than 27.5 : 0.1936253198519365\n",
      "\n",
      "Total no of customers having there Invoice Amount lower than 7 : 6195\n",
      "\n",
      "% customers having there Invoice Amount lower than 7 : 0.010992969468114178\n"
     ]
    }
   ],
   "source": [
    "upper_boundary,lower_boundary  = find_skewed_boundaries(closed_data, 'total_cash_discount', 1.5)\n",
    "print('Upper Boundary is ' + str(upper_boundary))\n",
    "print('Lower Boundary is ' + str(lower_boundary))\n",
    "print('Total no of customers : {}'.format(len(closed_data)))\n",
    "\n",
    "print('Total no of customers having there Invoice Amount bigger than ' + str(upper_boundary) + ' : {}'.format(\n",
    "        len(closed_data[closed_data['total_cash_discount'] > upper_boundary])))\n",
    "print()\n",
    "print('% customers having there Invoice Amount bigger than ' + str(upper_boundary) +' : {}'.format((\n",
    "        len(closed_data[closed_data['total_cash_discount'] > upper_boundary]) / len(closed_data))))\n",
    "print()\n",
    "print('Total no of customers having there Invoice Amount lower than ' + str(int(lower_boundary)) + ' : {}'.format(\n",
    "        len(closed_data[closed_data['total_cash_discount'] < lower_boundary])))\n",
    "print()\n",
    "print('% customers having there Invoice Amount lower than ' + str(int(lower_boundary)) +' : {}'.format((\n",
    "        len(closed_data[closed_data['total_cash_discount'] < lower_boundary]) / len(closed_data))))"
   ]
  },
  {
   "cell_type": "markdown",
   "metadata": {},
   "source": [
    "In the above graph i have made a new column total cash discount.From the above dist plot we can clearly see that the the the graph is right skewed .Also we can see that the most of the data are centered around a range of 7 to 27.\n",
    "From the box plot we can clearly see that our data has many outliers contributing to about 20.36% of the total data."
   ]
  },
  {
   "cell_type": "markdown",
   "metadata": {},
   "source": [
    "# Total cash discount VS Delay(mean)"
   ]
  },
  {
   "cell_type": "code",
   "execution_count": 62,
   "metadata": {},
   "outputs": [],
   "source": [
    "df2 = closed_data.groupby('total_cash_discount').agg({'delay':'mean'})"
   ]
  },
  {
   "cell_type": "code",
   "execution_count": 63,
   "metadata": {},
   "outputs": [
    {
     "data": {
      "text/plain": [
       "<matplotlib.axes._subplots.AxesSubplot at 0x2b50b9cc128>"
      ]
     },
     "execution_count": 63,
     "metadata": {},
     "output_type": "execute_result"
    },
    {
     "data": {
      "image/png": "[encoded data removed]",
      "text/plain": [
       "<Figure size 1080x864 with 1 Axes>"
      ]
     },
     "metadata": {},
     "output_type": "display_data"
    }
   ],
   "source": [
    "df2 = closed_data.groupby('total_cash_discount').agg({'delay':'mean'})\n",
    "df2.reset_index(inplace=True)\n",
    "df2.sort_values(by='delay',inplace=True)\n",
    "plt.figure(figsize=(15,12))\n",
    "sns.barplot(x='total_cash_discount',y='delay',data=df2)"
   ]
  },
  {
   "cell_type": "markdown",
   "metadata": {},
   "source": [
    "As we can see from the bar plot that total cash discount corresponding to the 17 and 36 have negative delay whereas total discount corresponding to 21 and 90 have really high dealy."
   ]
  },
  {
   "cell_type": "code",
   "execution_count": 64,
   "metadata": {
    "scrolled": true
   },
   "outputs": [
    {
     "data": {
      "text/plain": [
       "Index(['provider_datatype_id', 'job_id', 'document_number_norm',\n",
       "       'company_code', 'fiscal_year', 'doctype', 'customer_number_norm',\n",
       "       'customer_name', 'document_date_norm', 'posting_date_norm',\n",
       "       'baseline_date_norm', 'due_date_norm', 'invoice_number_norm',\n",
       "       'invoice_amount_norm', 'open_amount_norm', 'amount_currency',\n",
       "       'po_number_norm', 'payment_terms', 'business_area',\n",
       "       'clearing_date_norm', 'clearing_document', 'reason_code', 'status_code',\n",
       "       'source', 'isOpen', 'reference_doc_number', 'cash_discount1',\n",
       "       'cash_discount2', 'cash_discount_percent1', 'payment_block_key',\n",
       "       'reference_key1', 'reference_key2', 'credit_control_area',\n",
       "       'amt_cash_disc', 'item_text', 'current_dispute_amount_norm',\n",
       "       'document_creation_date_norm', 'ref_number', 'identifier_key',\n",
       "       'reference_key6', 'reference_doc_number_norm', 'cms_doc_header_id',\n",
       "       'fk_customer_map_id.1', 'strategy_aging_bucket_id', 'document_id',\n",
       "       'paid_amount', 'paid_date', 'dayspast_due', 'fk_document_type_id',\n",
       "       'current_open_amount', 'days_to_pay', 'invoice_age',\n",
       "       'latest_user_action', 'is_escalated', 'count_of_each_year', 'delay',\n",
       "       'amount_category', 'total_cash_discount'],\n",
       "      dtype='object')"
      ]
     },
     "execution_count": 64,
     "metadata": {},
     "output_type": "execute_result"
    }
   ],
   "source": [
    "closed_data.columns"
   ]
  },
  {
   "cell_type": "code",
   "execution_count": 65,
   "metadata": {},
   "outputs": [
    {
     "data": {
      "text/plain": [
       "total_cash_discount      int64\n",
       "delay                  float64\n",
       "dtype: object"
      ]
     },
     "execution_count": 65,
     "metadata": {},
     "output_type": "execute_result"
    }
   ],
   "source": [
    "df2.dtypes"
   ]
  },
  {
   "cell_type": "code",
   "execution_count": 66,
   "metadata": {},
   "outputs": [
    {
     "data": {
      "text/plain": [
       "557626"
      ]
     },
     "execution_count": 66,
     "metadata": {},
     "output_type": "execute_result"
    }
   ],
   "source": [
    "closed_data['reason_code'].isnull().sum()"
   ]
  },
  {
   "cell_type": "code",
   "execution_count": 67,
   "metadata": {},
   "outputs": [
    {
     "data": {
      "text/plain": [
       "(19, 2)"
      ]
     },
     "execution_count": 67,
     "metadata": {},
     "output_type": "execute_result"
    }
   ],
   "source": [
    "df2.shape"
   ]
  },
  {
   "cell_type": "code",
   "execution_count": 68,
   "metadata": {},
   "outputs": [
    {
     "ename": "SyntaxError",
     "evalue": "invalid syntax (<ipython-input-68-0e41624f51b8>, line 1)",
     "output_type": "error",
     "traceback": [
      "\u001b[1;36m  File \u001b[1;32m\"<ipython-input-68-0e41624f51b8>\"\u001b[1;36m, line \u001b[1;32m1\u001b[0m\n\u001b[1;33m    closed_data['amt_cash_disc'].\u001b[0m\n\u001b[1;37m                                 ^\u001b[0m\n\u001b[1;31mSyntaxError\u001b[0m\u001b[1;31m:\u001b[0m invalid syntax\n"
     ]
    }
   ],
   "source": [
    "closed_data['amt_cash_disc']."
   ]
  },
  {
   "cell_type": "code",
   "execution_count": 69,
   "metadata": {},
   "outputs": [
    {
     "data": {
      "text/plain": [
       "15    295706\n",
       "20    101061\n",
       "60     54229\n",
       "30     41963\n",
       "13     37684\n",
       "10      8807\n",
       "0       6195\n",
       "36      5885\n",
       "45      4552\n",
       "23      2251\n",
       "35      1558\n",
       "25      1392\n",
       "17      1311\n",
       "61       276\n",
       "70       252\n",
       "90       247\n",
       "40        79\n",
       "71        75\n",
       "21        19\n",
       "Name: total_cash_discount, dtype: int64"
      ]
     },
     "execution_count": 69,
     "metadata": {},
     "output_type": "execute_result"
    }
   ],
   "source": [
    "closed_data['total_cash_discount'].value_counts()"
   ]
  },
  {
   "cell_type": "markdown",
   "metadata": {},
   "source": [
    "# Amount Cash discount"
   ]
  },
  {
   "cell_type": "code",
   "execution_count": 70,
   "metadata": {
    "scrolled": true
   },
   "outputs": [
    {
     "data": {
      "image/png": "[encoded data removed]",
      "text/plain": [
       "<Figure size 1296x432 with 3 Axes>"
      ]
     },
     "metadata": {},
     "output_type": "display_data"
    }
   ],
   "source": [
    "plt.figure(figsize=(18,6))\n",
    "\n",
    "plt.subplot(1,3,1)\n",
    "sns.distplot(closed_data['amt_cash_disc'])\n",
    "\n",
    "plt.subplot(1,3,2)\n",
    "sns.boxplot(closed_data['amt_cash_disc'])\n",
    "\n",
    "plt.subplot(1,3,3)\n",
    "stats.probplot(closed_data['amt_cash_disc'],dist=\"norm\",plot=pylab)\n",
    "\n",
    "plt.show()"
   ]
  },
  {
   "cell_type": "code",
   "execution_count": null,
   "metadata": {},
   "outputs": [],
   "source": []
  },
  {
   "cell_type": "code",
   "execution_count": 71,
   "metadata": {},
   "outputs": [
    {
     "name": "stderr",
     "output_type": "stream",
     "text": [
      "C:\\ProgramData\\Anaconda3\\lib\\site-packages\\ipykernel_launcher.py:1: SettingWithCopyWarning: \n",
      "A value is trying to be set on a copy of a slice from a DataFrame.\n",
      "Try using .loc[row_indexer,col_indexer] = value instead\n",
      "\n",
      "See the caveats in the documentation: http://pandas.pydata.org/pandas-docs/stable/indexing.html#indexing-view-versus-copy\n",
      "  \"\"\"Entry point for launching an IPython kernel.\n"
     ]
    }
   ],
   "source": [
    "closed_data['amount_cash_discount_category'] = closed_data['amt_cash_disc'].apply(lambda x: 'Not_discounted_Customers' if x==0.0 else'Discounted_Customers')"
   ]
  },
  {
   "cell_type": "code",
   "execution_count": 72,
   "metadata": {},
   "outputs": [
    {
     "data": {
      "text/plain": [
       "array(['Not_discounted_Customers', 'Discounted_Customers'], dtype=object)"
      ]
     },
     "execution_count": 72,
     "metadata": {},
     "output_type": "execute_result"
    }
   ],
   "source": [
    "closed_data['amount_cash_discount_category'].unique()"
   ]
  },
  {
   "cell_type": "code",
   "execution_count": 73,
   "metadata": {},
   "outputs": [
    {
     "data": {
      "text/plain": [
       "<matplotlib.axes._subplots.AxesSubplot at 0x2b5284e60b8>"
      ]
     },
     "execution_count": 73,
     "metadata": {},
     "output_type": "execute_result"
    },
    {
     "data": {
      "image/png": "[encoded data removed]",
      "text/plain": [
       "<Figure size 720x576 with 1 Axes>"
      ]
     },
     "metadata": {},
     "output_type": "display_data"
    }
   ],
   "source": [
    "df4 = closed_data.groupby('amount_cash_discount_category').agg({'delay':'mean'})\n",
    "df4.reset_index(inplace=True)\n",
    "df4.sort_values(by='delay',inplace=True)\n",
    "plt.figure(figsize=(10,8))\n",
    "sns.barplot(x='amount_cash_discount_category',y='delay',data=df4)"
   ]
  },
  {
   "cell_type": "markdown",
   "metadata": {},
   "source": [
    "From the above bar plot we can see that the customers who have no discount have comparatively less delay than the customers who have discounts awarded.This is varying inversaly with the delay as the customers who have been awarded delay should pay faster with less delay but the analysis says otherwise."
   ]
  },
  {
   "cell_type": "markdown",
   "metadata": {},
   "source": [
    "# Grouping payment terms with mean of cash_amt_disc to check the mean cash amount discount for each payment terms category"
   ]
  },
  {
   "cell_type": "code",
   "execution_count": 74,
   "metadata": {},
   "outputs": [],
   "source": [
    "df2 = closed_data.groupby('payment_terms').agg({'amt_cash_disc':'mean'})"
   ]
  },
  {
   "cell_type": "code",
   "execution_count": 75,
   "metadata": {},
   "outputs": [
    {
     "data": {
      "text/html": [
       "<div>\n",
       "<style scoped>\n",
       "    .dataframe tbody tr th:only-of-type {\n",
       "        vertical-align: middle;\n",
       "    }\n",
       "\n",
       "    .dataframe tbody tr th {\n",
       "        vertical-align: top;\n",
       "    }\n",
       "\n",
       "    .dataframe thead th {\n",
       "        text-align: right;\n",
       "    }\n",
       "</style>\n",
       "<table border=\"1\" class=\"dataframe\">\n",
       "  <thead>\n",
       "    <tr style=\"text-align: right;\">\n",
       "      <th></th>\n",
       "      <th>amt_cash_disc</th>\n",
       "    </tr>\n",
       "    <tr>\n",
       "      <th>payment_terms</th>\n",
       "      <th></th>\n",
       "    </tr>\n",
       "  </thead>\n",
       "  <tbody>\n",
       "    <tr>\n",
       "      <th>C001</th>\n",
       "      <td>0.000000</td>\n",
       "    </tr>\n",
       "    <tr>\n",
       "      <th>C020</th>\n",
       "      <td>0.000000</td>\n",
       "    </tr>\n",
       "    <tr>\n",
       "      <th>C021</th>\n",
       "      <td>0.000000</td>\n",
       "    </tr>\n",
       "    <tr>\n",
       "      <th>CA20</th>\n",
       "      <td>0.000000</td>\n",
       "    </tr>\n",
       "    <tr>\n",
       "      <th>CA30</th>\n",
       "      <td>0.000000</td>\n",
       "    </tr>\n",
       "    <tr>\n",
       "      <th>CG24</th>\n",
       "      <td>0.000000</td>\n",
       "    </tr>\n",
       "    <tr>\n",
       "      <th>CG27</th>\n",
       "      <td>0.000000</td>\n",
       "    </tr>\n",
       "    <tr>\n",
       "      <th>CG28</th>\n",
       "      <td>0.000000</td>\n",
       "    </tr>\n",
       "    <tr>\n",
       "      <th>CG57</th>\n",
       "      <td>0.000000</td>\n",
       "    </tr>\n",
       "    <tr>\n",
       "      <th>CG71</th>\n",
       "      <td>0.000000</td>\n",
       "    </tr>\n",
       "    <tr>\n",
       "      <th>CN08</th>\n",
       "      <td>0.000000</td>\n",
       "    </tr>\n",
       "    <tr>\n",
       "      <th>CN10</th>\n",
       "      <td>15.739632</td>\n",
       "    </tr>\n",
       "    <tr>\n",
       "      <th>CN13</th>\n",
       "      <td>32.404557</td>\n",
       "    </tr>\n",
       "    <tr>\n",
       "      <th>CN15</th>\n",
       "      <td>0.069993</td>\n",
       "    </tr>\n",
       "    <tr>\n",
       "      <th>CN17</th>\n",
       "      <td>0.000000</td>\n",
       "    </tr>\n",
       "    <tr>\n",
       "      <th>CN20</th>\n",
       "      <td>0.000000</td>\n",
       "    </tr>\n",
       "    <tr>\n",
       "      <th>CN21</th>\n",
       "      <td>2574.742105</td>\n",
       "    </tr>\n",
       "    <tr>\n",
       "      <th>CN23</th>\n",
       "      <td>0.000000</td>\n",
       "    </tr>\n",
       "    <tr>\n",
       "      <th>CN25</th>\n",
       "      <td>0.000000</td>\n",
       "    </tr>\n",
       "    <tr>\n",
       "      <th>CN30</th>\n",
       "      <td>2.748425</td>\n",
       "    </tr>\n",
       "    <tr>\n",
       "      <th>CN40</th>\n",
       "      <td>0.000000</td>\n",
       "    </tr>\n",
       "    <tr>\n",
       "      <th>CN60</th>\n",
       "      <td>0.000000</td>\n",
       "    </tr>\n",
       "    <tr>\n",
       "      <th>CN90</th>\n",
       "      <td>0.000000</td>\n",
       "    </tr>\n",
       "  </tbody>\n",
       "</table>\n",
       "</div>"
      ],
      "text/plain": [
       "               amt_cash_disc\n",
       "payment_terms               \n",
       "C001                0.000000\n",
       "C020                0.000000\n",
       "C021                0.000000\n",
       "CA20                0.000000\n",
       "CA30                0.000000\n",
       "CG24                0.000000\n",
       "CG27                0.000000\n",
       "CG28                0.000000\n",
       "CG57                0.000000\n",
       "CG71                0.000000\n",
       "CN08                0.000000\n",
       "CN10               15.739632\n",
       "CN13               32.404557\n",
       "CN15                0.069993\n",
       "CN17                0.000000\n",
       "CN20                0.000000\n",
       "CN21             2574.742105\n",
       "CN23                0.000000\n",
       "CN25                0.000000\n",
       "CN30                2.748425\n",
       "CN40                0.000000\n",
       "CN60                0.000000\n",
       "CN90                0.000000"
      ]
     },
     "execution_count": 75,
     "metadata": {},
     "output_type": "execute_result"
    }
   ],
   "source": [
    "df2"
   ]
  },
  {
   "cell_type": "code",
   "execution_count": 76,
   "metadata": {},
   "outputs": [
    {
     "data": {
      "text/plain": [
       "<matplotlib.axes._subplots.AxesSubplot at 0x2b51dc8f2e8>"
      ]
     },
     "execution_count": 76,
     "metadata": {},
     "output_type": "execute_result"
    },
    {
     "data": {
      "image/png": "[encoded data removed]",
      "text/plain": [
       "<Figure size 1080x864 with 1 Axes>"
      ]
     },
     "metadata": {},
     "output_type": "display_data"
    }
   ],
   "source": [
    "df1 = closed_data.groupby('payment_terms').agg({'delay':'mean'})\n",
    "df1.reset_index(inplace=True)\n",
    "df1.sort_values(by='delay',inplace=True)\n",
    "plt.figure(figsize=(15,12))\n",
    "sns.barplot(x='payment_terms',y='delay',data=df1)\n",
    "#plt.figure(figsize=(22,7))\n",
    "#sns.boxplot(x='payment_terms',y='delay',data=closed_data)\n",
    "#plt.show()"
   ]
  },
  {
   "cell_type": "markdown",
   "metadata": {},
   "source": [
    "from the above data we can see that the most of the groups of payment terms have zero cash amount discount.While some of them have cash amount discount such as CN21,CN13,CN30,CN10.Now the ones who have cash amount discount should have high delay as compared to the ones who have zero cash amount discount which was infered from the above relationship between categories of customers based on cash amount discout vs mean delay.\n",
    "\n",
    "We can see for the payment term CN90 there is really high delay but when we see the above data we see that there is no cash amount discount which contradicts the relationship between cash amount discount and delay."
   ]
  },
  {
   "cell_type": "code",
   "execution_count": 77,
   "metadata": {},
   "outputs": [
    {
     "data": {
      "text/plain": [
       "Index(['provider_datatype_id', 'job_id', 'document_number_norm',\n",
       "       'company_code', 'fiscal_year', 'doctype', 'customer_number_norm',\n",
       "       'customer_name', 'document_date_norm', 'posting_date_norm',\n",
       "       'baseline_date_norm', 'due_date_norm', 'invoice_number_norm',\n",
       "       'invoice_amount_norm', 'open_amount_norm', 'amount_currency',\n",
       "       'po_number_norm', 'payment_terms', 'business_area',\n",
       "       'clearing_date_norm', 'clearing_document', 'reason_code', 'status_code',\n",
       "       'source', 'isOpen', 'reference_doc_number', 'cash_discount1',\n",
       "       'cash_discount2', 'cash_discount_percent1', 'payment_block_key',\n",
       "       'reference_key1', 'reference_key2', 'credit_control_area',\n",
       "       'amt_cash_disc', 'item_text', 'current_dispute_amount_norm',\n",
       "       'document_creation_date_norm', 'ref_number', 'identifier_key',\n",
       "       'reference_key6', 'reference_doc_number_norm', 'cms_doc_header_id',\n",
       "       'fk_customer_map_id.1', 'strategy_aging_bucket_id', 'document_id',\n",
       "       'paid_amount', 'paid_date', 'dayspast_due', 'fk_document_type_id',\n",
       "       'current_open_amount', 'days_to_pay', 'invoice_age',\n",
       "       'latest_user_action', 'is_escalated', 'count_of_each_year', 'delay',\n",
       "       'amount_category', 'total_cash_discount',\n",
       "       'amount_cash_discount_category'],\n",
       "      dtype='object')"
      ]
     },
     "execution_count": 77,
     "metadata": {},
     "output_type": "execute_result"
    }
   ],
   "source": [
    "closed_data.columns"
   ]
  },
  {
   "cell_type": "markdown",
   "metadata": {},
   "source": [
    "# Strategy Ageing Bucket Id VS mean delay"
   ]
  },
  {
   "cell_type": "code",
   "execution_count": 78,
   "metadata": {},
   "outputs": [
    {
     "data": {
      "text/plain": [
       "3    164656\n",
       "1     97309\n",
       "2     86423\n",
       "4     83651\n",
       "6     60066\n",
       "5     47597\n",
       "0     23840\n",
       "Name: strategy_aging_bucket_id, dtype: int64"
      ]
     },
     "execution_count": 78,
     "metadata": {},
     "output_type": "execute_result"
    }
   ],
   "source": [
    "closed_data['strategy_aging_bucket_id'].value_counts()"
   ]
  },
  {
   "cell_type": "code",
   "execution_count": 79,
   "metadata": {},
   "outputs": [],
   "source": [
    "strategy_df= closed_data.groupby('strategy_aging_bucket_id').agg({'delay':'mean'})"
   ]
  },
  {
   "cell_type": "code",
   "execution_count": 80,
   "metadata": {},
   "outputs": [
    {
     "data": {
      "text/html": [
       "<div>\n",
       "<style scoped>\n",
       "    .dataframe tbody tr th:only-of-type {\n",
       "        vertical-align: middle;\n",
       "    }\n",
       "\n",
       "    .dataframe tbody tr th {\n",
       "        vertical-align: top;\n",
       "    }\n",
       "\n",
       "    .dataframe thead th {\n",
       "        text-align: right;\n",
       "    }\n",
       "</style>\n",
       "<table border=\"1\" class=\"dataframe\">\n",
       "  <thead>\n",
       "    <tr style=\"text-align: right;\">\n",
       "      <th></th>\n",
       "      <th>delay</th>\n",
       "    </tr>\n",
       "    <tr>\n",
       "      <th>strategy_aging_bucket_id</th>\n",
       "      <th></th>\n",
       "    </tr>\n",
       "  </thead>\n",
       "  <tbody>\n",
       "    <tr>\n",
       "      <th>0</th>\n",
       "      <td>-9.180117</td>\n",
       "    </tr>\n",
       "    <tr>\n",
       "      <th>1</th>\n",
       "      <td>1.038701</td>\n",
       "    </tr>\n",
       "    <tr>\n",
       "      <th>2</th>\n",
       "      <td>4.267903</td>\n",
       "    </tr>\n",
       "    <tr>\n",
       "      <th>3</th>\n",
       "      <td>10.562464</td>\n",
       "    </tr>\n",
       "    <tr>\n",
       "      <th>4</th>\n",
       "      <td>18.438022</td>\n",
       "    </tr>\n",
       "    <tr>\n",
       "      <th>5</th>\n",
       "      <td>19.871252</td>\n",
       "    </tr>\n",
       "    <tr>\n",
       "      <th>6</th>\n",
       "      <td>30.549662</td>\n",
       "    </tr>\n",
       "  </tbody>\n",
       "</table>\n",
       "</div>"
      ],
      "text/plain": [
       "                              delay\n",
       "strategy_aging_bucket_id           \n",
       "0                         -9.180117\n",
       "1                          1.038701\n",
       "2                          4.267903\n",
       "3                         10.562464\n",
       "4                         18.438022\n",
       "5                         19.871252\n",
       "6                         30.549662"
      ]
     },
     "execution_count": 80,
     "metadata": {},
     "output_type": "execute_result"
    }
   ],
   "source": [
    "strategy_df"
   ]
  },
  {
   "cell_type": "code",
   "execution_count": 81,
   "metadata": {},
   "outputs": [
    {
     "data": {
      "text/plain": [
       "<matplotlib.axes._subplots.AxesSubplot at 0x2b53fc16240>"
      ]
     },
     "execution_count": 81,
     "metadata": {},
     "output_type": "execute_result"
    },
    {
     "data": {
      "image/png": "[encoded data removed]",
      "text/plain": [
       "<Figure size 1080x864 with 1 Axes>"
      ]
     },
     "metadata": {},
     "output_type": "display_data"
    }
   ],
   "source": [
    "strategy_df.reset_index(inplace=True)\n",
    "strategy_df.sort_values(by='delay',inplace=True)\n",
    "plt.figure(figsize=(15,12))\n",
    "sns.barplot(x='strategy_aging_bucket_id',y='delay',data=strategy_df)"
   ]
  },
  {
   "cell_type": "markdown",
   "metadata": {},
   "source": [
    "From the above bar plot we can clearly see that the as the as the strategy id increases in value the delay also increases.\n",
    "Also we can see that for strategy id 0 the delay is negative.So coustomers who fall under the category of 0th id pay before the due date."
   ]
  },
  {
   "cell_type": "code",
   "execution_count": 82,
   "metadata": {},
   "outputs": [
    {
     "data": {
      "text/plain": [
       "Index(['provider_datatype_id', 'job_id', 'document_number_norm',\n",
       "       'company_code', 'fiscal_year', 'doctype', 'customer_number_norm',\n",
       "       'customer_name', 'document_date_norm', 'posting_date_norm',\n",
       "       'baseline_date_norm', 'due_date_norm', 'invoice_number_norm',\n",
       "       'invoice_amount_norm', 'open_amount_norm', 'amount_currency',\n",
       "       'po_number_norm', 'payment_terms', 'business_area',\n",
       "       'clearing_date_norm', 'clearing_document', 'reason_code', 'status_code',\n",
       "       'source', 'isOpen', 'reference_doc_number', 'cash_discount1',\n",
       "       'cash_discount2', 'cash_discount_percent1', 'payment_block_key',\n",
       "       'reference_key1', 'reference_key2', 'credit_control_area',\n",
       "       'amt_cash_disc', 'item_text', 'current_dispute_amount_norm',\n",
       "       'document_creation_date_norm', 'ref_number', 'identifier_key',\n",
       "       'reference_key6', 'reference_doc_number_norm', 'cms_doc_header_id',\n",
       "       'fk_customer_map_id.1', 'strategy_aging_bucket_id', 'document_id',\n",
       "       'paid_amount', 'paid_date', 'dayspast_due', 'fk_document_type_id',\n",
       "       'current_open_amount', 'days_to_pay', 'invoice_age',\n",
       "       'latest_user_action', 'is_escalated', 'count_of_each_year', 'delay',\n",
       "       'amount_category', 'total_cash_discount',\n",
       "       'amount_cash_discount_category'],\n",
       "      dtype='object')"
      ]
     },
     "execution_count": 82,
     "metadata": {},
     "output_type": "execute_result"
    }
   ],
   "source": [
    "closed_data.columns"
   ]
  },
  {
   "cell_type": "code",
   "execution_count": 83,
   "metadata": {},
   "outputs": [
    {
     "data": {
      "text/plain": [
       "450002473    74686\n",
       "450009935    65133\n",
       "450016881    52537\n",
       "450020083    48555\n",
       "450009362    13230\n",
       "450021035    11894\n",
       "450009717    10864\n",
       "450018918    10091\n",
       "450024559     9118\n",
       "450009576     7024\n",
       "450009583     6739\n",
       "450001273     6673\n",
       "450023725     6561\n",
       "450009934     6555\n",
       "450009728     6213\n",
       "450019515     5554\n",
       "450025167     5085\n",
       "450009925     4998\n",
       "450026594     4468\n",
       "450023198     4245\n",
       "450077815     4125\n",
       "450009932     4019\n",
       "450002191     3786\n",
       "450025538     3584\n",
       "450019230     3571\n",
       "450001350     3541\n",
       "450009642     3507\n",
       "450009826     3094\n",
       "450001645     2999\n",
       "450009515     2833\n",
       "             ...  \n",
       "450153720        3\n",
       "450029524        2\n",
       "450140302        2\n",
       "450082085        2\n",
       "450073157        2\n",
       "450063982        2\n",
       "450077250        2\n",
       "450078245        2\n",
       "450073198        2\n",
       "450024933        2\n",
       "450091912        2\n",
       "450070854        2\n",
       "450029559        2\n",
       "450081646        2\n",
       "450074333        2\n",
       "450010190        2\n",
       "450089403        1\n",
       "450156229        1\n",
       "450026272        1\n",
       "450009333        1\n",
       "450077883        1\n",
       "450024861        1\n",
       "450088321        1\n",
       "450073872        1\n",
       "450087387        1\n",
       "450093119        1\n",
       "450029096        1\n",
       "450009797        1\n",
       "450072192        1\n",
       "450009369        1\n",
       "Name: customer_number_norm, Length: 668, dtype: int64"
      ]
     },
     "execution_count": 83,
     "metadata": {},
     "output_type": "execute_result"
    }
   ],
   "source": [
    "closed_data['customer_number_norm'].value_counts()"
   ]
  },
  {
   "cell_type": "markdown",
   "metadata": {},
   "source": [
    "# Grouping done by the amount currency within which grouping done by customer number norm and then the average invoice amount norm is found which is sorted in descending order to check the top  customers having maximum invoice amount in descending order  in each currency."
   ]
  },
  {
   "cell_type": "code",
   "execution_count": 84,
   "metadata": {},
   "outputs": [],
   "source": [
    " gg = closed_data.groupby(['amount_currency','customer_number_norm']).agg({'invoice_amount_norm':'mean','delay':'mean'}).reset_index().sort_values(['amount_currency','invoice_amount_norm'],ascending=False)"
   ]
  },
  {
   "cell_type": "code",
   "execution_count": 85,
   "metadata": {},
   "outputs": [
    {
     "ename": "ValueError",
     "evalue": "too many values to unpack (expected 2)",
     "output_type": "error",
     "traceback": [
      "\u001b[1;31m---------------------------------------------------------------------------\u001b[0m",
      "\u001b[1;31mValueError\u001b[0m                                Traceback (most recent call last)",
      "\u001b[1;32m<ipython-input-85-8b136c25c52e>\u001b[0m in \u001b[0;36m<module>\u001b[1;34m\u001b[0m\n\u001b[1;32m----> 1\u001b[1;33m \u001b[1;32mfor\u001b[0m \u001b[0mamount_currency\u001b[0m\u001b[1;33m,\u001b[0m\u001b[0mval\u001b[0m \u001b[1;32min\u001b[0m \u001b[0mgg\u001b[0m\u001b[1;33m:\u001b[0m\u001b[1;33m\u001b[0m\u001b[1;33m\u001b[0m\u001b[0m\n\u001b[0m\u001b[0;32m      2\u001b[0m     \u001b[0mprint\u001b[0m\u001b[1;33m(\u001b[0m\u001b[0mamount_currency\u001b[0m\u001b[1;33m)\u001b[0m\u001b[1;33m\u001b[0m\u001b[1;33m\u001b[0m\u001b[0m\n\u001b[0;32m      3\u001b[0m     \u001b[0mprint\u001b[0m\u001b[1;33m(\u001b[0m\u001b[0mval\u001b[0m\u001b[1;33m)\u001b[0m\u001b[1;33m\u001b[0m\u001b[1;33m\u001b[0m\u001b[0m\n",
      "\u001b[1;31mValueError\u001b[0m: too many values to unpack (expected 2)"
     ]
    }
   ],
   "source": [
    "for amount_currency,val in gg:\n",
    "    print(amount_currency)\n",
    "    print(val)"
   ]
  },
  {
   "cell_type": "code",
   "execution_count": 86,
   "metadata": {},
   "outputs": [
    {
     "data": {
      "text/html": [
       "<div>\n",
       "<style scoped>\n",
       "    .dataframe tbody tr th:only-of-type {\n",
       "        vertical-align: middle;\n",
       "    }\n",
       "\n",
       "    .dataframe tbody tr th {\n",
       "        vertical-align: top;\n",
       "    }\n",
       "\n",
       "    .dataframe thead th {\n",
       "        text-align: right;\n",
       "    }\n",
       "</style>\n",
       "<table border=\"1\" class=\"dataframe\">\n",
       "  <thead>\n",
       "    <tr style=\"text-align: right;\">\n",
       "      <th></th>\n",
       "      <th>amount_currency</th>\n",
       "      <th>customer_number_norm</th>\n",
       "      <th>invoice_amount_norm</th>\n",
       "      <th>delay</th>\n",
       "    </tr>\n",
       "  </thead>\n",
       "  <tbody>\n",
       "    <tr>\n",
       "      <th>315</th>\n",
       "      <td>USD</td>\n",
       "      <td>450021917</td>\n",
       "      <td>63894.756383</td>\n",
       "      <td>14.525671</td>\n",
       "    </tr>\n",
       "    <tr>\n",
       "      <th>312</th>\n",
       "      <td>USD</td>\n",
       "      <td>450021611</td>\n",
       "      <td>63609.017590</td>\n",
       "      <td>10.048667</td>\n",
       "    </tr>\n",
       "    <tr>\n",
       "      <th>217</th>\n",
       "      <td>USD</td>\n",
       "      <td>450009836</td>\n",
       "      <td>63057.306159</td>\n",
       "      <td>2.423841</td>\n",
       "    </tr>\n",
       "    <tr>\n",
       "      <th>361</th>\n",
       "      <td>USD</td>\n",
       "      <td>450024916</td>\n",
       "      <td>61520.384481</td>\n",
       "      <td>0.792453</td>\n",
       "    </tr>\n",
       "    <tr>\n",
       "      <th>121</th>\n",
       "      <td>USD</td>\n",
       "      <td>450009231</td>\n",
       "      <td>60853.170000</td>\n",
       "      <td>3.739653</td>\n",
       "    </tr>\n",
       "    <tr>\n",
       "      <th>153</th>\n",
       "      <td>USD</td>\n",
       "      <td>450009480</td>\n",
       "      <td>59989.062812</td>\n",
       "      <td>4.861607</td>\n",
       "    </tr>\n",
       "    <tr>\n",
       "      <th>294</th>\n",
       "      <td>USD</td>\n",
       "      <td>450018411</td>\n",
       "      <td>59911.165000</td>\n",
       "      <td>33.522727</td>\n",
       "    </tr>\n",
       "    <tr>\n",
       "      <th>168</th>\n",
       "      <td>USD</td>\n",
       "      <td>450009556</td>\n",
       "      <td>59400.586480</td>\n",
       "      <td>3.379888</td>\n",
       "    </tr>\n",
       "    <tr>\n",
       "      <th>154</th>\n",
       "      <td>USD</td>\n",
       "      <td>450009481</td>\n",
       "      <td>59372.814933</td>\n",
       "      <td>5.816956</td>\n",
       "    </tr>\n",
       "    <tr>\n",
       "      <th>228</th>\n",
       "      <td>USD</td>\n",
       "      <td>450009884</td>\n",
       "      <td>57305.969112</td>\n",
       "      <td>4.111617</td>\n",
       "    </tr>\n",
       "    <tr>\n",
       "      <th>173</th>\n",
       "      <td>USD</td>\n",
       "      <td>450009589</td>\n",
       "      <td>56357.074280</td>\n",
       "      <td>3.889299</td>\n",
       "    </tr>\n",
       "    <tr>\n",
       "      <th>252</th>\n",
       "      <td>USD</td>\n",
       "      <td>450010157</td>\n",
       "      <td>56345.498667</td>\n",
       "      <td>4.583333</td>\n",
       "    </tr>\n",
       "    <tr>\n",
       "      <th>195</th>\n",
       "      <td>USD</td>\n",
       "      <td>450009738</td>\n",
       "      <td>56136.997234</td>\n",
       "      <td>4.190779</td>\n",
       "    </tr>\n",
       "    <tr>\n",
       "      <th>151</th>\n",
       "      <td>USD</td>\n",
       "      <td>450009431</td>\n",
       "      <td>55832.050638</td>\n",
       "      <td>2.503546</td>\n",
       "    </tr>\n",
       "    <tr>\n",
       "      <th>227</th>\n",
       "      <td>USD</td>\n",
       "      <td>450009883</td>\n",
       "      <td>55723.997898</td>\n",
       "      <td>4.954994</td>\n",
       "    </tr>\n",
       "    <tr>\n",
       "      <th>169</th>\n",
       "      <td>USD</td>\n",
       "      <td>450009567</td>\n",
       "      <td>55343.760402</td>\n",
       "      <td>15.750000</td>\n",
       "    </tr>\n",
       "    <tr>\n",
       "      <th>348</th>\n",
       "      <td>USD</td>\n",
       "      <td>450024853</td>\n",
       "      <td>54490.364828</td>\n",
       "      <td>-1.229885</td>\n",
       "    </tr>\n",
       "    <tr>\n",
       "      <th>126</th>\n",
       "      <td>USD</td>\n",
       "      <td>450009290</td>\n",
       "      <td>54238.035962</td>\n",
       "      <td>2.328452</td>\n",
       "    </tr>\n",
       "    <tr>\n",
       "      <th>172</th>\n",
       "      <td>USD</td>\n",
       "      <td>450009586</td>\n",
       "      <td>54045.926114</td>\n",
       "      <td>5.478261</td>\n",
       "    </tr>\n",
       "    <tr>\n",
       "      <th>200</th>\n",
       "      <td>USD</td>\n",
       "      <td>450009771</td>\n",
       "      <td>53437.370799</td>\n",
       "      <td>3.474407</td>\n",
       "    </tr>\n",
       "    <tr>\n",
       "      <th>258</th>\n",
       "      <td>USD</td>\n",
       "      <td>450010208</td>\n",
       "      <td>52054.558862</td>\n",
       "      <td>8.850949</td>\n",
       "    </tr>\n",
       "    <tr>\n",
       "      <th>199</th>\n",
       "      <td>USD</td>\n",
       "      <td>450009758</td>\n",
       "      <td>52048.937555</td>\n",
       "      <td>23.428571</td>\n",
       "    </tr>\n",
       "    <tr>\n",
       "      <th>403</th>\n",
       "      <td>USD</td>\n",
       "      <td>450025208</td>\n",
       "      <td>51861.871749</td>\n",
       "      <td>0.448087</td>\n",
       "    </tr>\n",
       "    <tr>\n",
       "      <th>208</th>\n",
       "      <td>USD</td>\n",
       "      <td>450009800</td>\n",
       "      <td>50678.309706</td>\n",
       "      <td>8.788235</td>\n",
       "    </tr>\n",
       "    <tr>\n",
       "      <th>335</th>\n",
       "      <td>USD</td>\n",
       "      <td>450024809</td>\n",
       "      <td>49867.665562</td>\n",
       "      <td>1.612500</td>\n",
       "    </tr>\n",
       "    <tr>\n",
       "      <th>197</th>\n",
       "      <td>USD</td>\n",
       "      <td>450009743</td>\n",
       "      <td>48833.062162</td>\n",
       "      <td>3.815315</td>\n",
       "    </tr>\n",
       "    <tr>\n",
       "      <th>205</th>\n",
       "      <td>USD</td>\n",
       "      <td>450009793</td>\n",
       "      <td>47376.894486</td>\n",
       "      <td>7.470270</td>\n",
       "    </tr>\n",
       "    <tr>\n",
       "      <th>481</th>\n",
       "      <td>USD</td>\n",
       "      <td>450030674</td>\n",
       "      <td>47364.725956</td>\n",
       "      <td>4.869215</td>\n",
       "    </tr>\n",
       "    <tr>\n",
       "      <th>145</th>\n",
       "      <td>USD</td>\n",
       "      <td>450009371</td>\n",
       "      <td>47277.739691</td>\n",
       "      <td>6.658025</td>\n",
       "    </tr>\n",
       "    <tr>\n",
       "      <th>179</th>\n",
       "      <td>USD</td>\n",
       "      <td>450009650</td>\n",
       "      <td>47174.400000</td>\n",
       "      <td>-4.200000</td>\n",
       "    </tr>\n",
       "    <tr>\n",
       "      <th>...</th>\n",
       "      <td>...</td>\n",
       "      <td>...</td>\n",
       "      <td>...</td>\n",
       "      <td>...</td>\n",
       "    </tr>\n",
       "    <tr>\n",
       "      <th>75</th>\n",
       "      <td>CAD</td>\n",
       "      <td>450065875</td>\n",
       "      <td>648.945000</td>\n",
       "      <td>11.205882</td>\n",
       "    </tr>\n",
       "    <tr>\n",
       "      <th>91</th>\n",
       "      <td>CAD</td>\n",
       "      <td>450083385</td>\n",
       "      <td>625.666667</td>\n",
       "      <td>14.555556</td>\n",
       "    </tr>\n",
       "    <tr>\n",
       "      <th>68</th>\n",
       "      <td>CAD</td>\n",
       "      <td>450029460</td>\n",
       "      <td>619.906667</td>\n",
       "      <td>30.916667</td>\n",
       "    </tr>\n",
       "    <tr>\n",
       "      <th>17</th>\n",
       "      <td>CAD</td>\n",
       "      <td>450016881</td>\n",
       "      <td>609.471711</td>\n",
       "      <td>4.049337</td>\n",
       "    </tr>\n",
       "    <tr>\n",
       "      <th>50</th>\n",
       "      <td>CAD</td>\n",
       "      <td>450027670</td>\n",
       "      <td>609.346667</td>\n",
       "      <td>82.333333</td>\n",
       "    </tr>\n",
       "    <tr>\n",
       "      <th>85</th>\n",
       "      <td>CAD</td>\n",
       "      <td>450073001</td>\n",
       "      <td>604.862651</td>\n",
       "      <td>1.626506</td>\n",
       "    </tr>\n",
       "    <tr>\n",
       "      <th>66</th>\n",
       "      <td>CAD</td>\n",
       "      <td>450029457</td>\n",
       "      <td>587.043509</td>\n",
       "      <td>6.859649</td>\n",
       "    </tr>\n",
       "    <tr>\n",
       "      <th>20</th>\n",
       "      <td>CAD</td>\n",
       "      <td>450018909</td>\n",
       "      <td>578.161304</td>\n",
       "      <td>12.878261</td>\n",
       "    </tr>\n",
       "    <tr>\n",
       "      <th>42</th>\n",
       "      <td>CAD</td>\n",
       "      <td>450023659</td>\n",
       "      <td>553.723866</td>\n",
       "      <td>5.168067</td>\n",
       "    </tr>\n",
       "    <tr>\n",
       "      <th>61</th>\n",
       "      <td>CAD</td>\n",
       "      <td>450029121</td>\n",
       "      <td>541.677364</td>\n",
       "      <td>6.500000</td>\n",
       "    </tr>\n",
       "    <tr>\n",
       "      <th>58</th>\n",
       "      <td>CAD</td>\n",
       "      <td>450029000</td>\n",
       "      <td>522.926341</td>\n",
       "      <td>7.689024</td>\n",
       "    </tr>\n",
       "    <tr>\n",
       "      <th>36</th>\n",
       "      <td>CAD</td>\n",
       "      <td>450022753</td>\n",
       "      <td>519.447286</td>\n",
       "      <td>17.614286</td>\n",
       "    </tr>\n",
       "    <tr>\n",
       "      <th>73</th>\n",
       "      <td>CAD</td>\n",
       "      <td>450065863</td>\n",
       "      <td>511.483300</td>\n",
       "      <td>11.580000</td>\n",
       "    </tr>\n",
       "    <tr>\n",
       "      <th>7</th>\n",
       "      <td>CAD</td>\n",
       "      <td>450002462</td>\n",
       "      <td>506.180744</td>\n",
       "      <td>30.892562</td>\n",
       "    </tr>\n",
       "    <tr>\n",
       "      <th>116</th>\n",
       "      <td>CAD</td>\n",
       "      <td>450092126</td>\n",
       "      <td>501.251818</td>\n",
       "      <td>9.492823</td>\n",
       "    </tr>\n",
       "    <tr>\n",
       "      <th>72</th>\n",
       "      <td>CAD</td>\n",
       "      <td>450065862</td>\n",
       "      <td>476.403596</td>\n",
       "      <td>27.101124</td>\n",
       "    </tr>\n",
       "    <tr>\n",
       "      <th>60</th>\n",
       "      <td>CAD</td>\n",
       "      <td>450029096</td>\n",
       "      <td>409.910000</td>\n",
       "      <td>44.000000</td>\n",
       "    </tr>\n",
       "    <tr>\n",
       "      <th>5</th>\n",
       "      <td>CAD</td>\n",
       "      <td>450002236</td>\n",
       "      <td>401.244873</td>\n",
       "      <td>-1.211864</td>\n",
       "    </tr>\n",
       "    <tr>\n",
       "      <th>43</th>\n",
       "      <td>CAD</td>\n",
       "      <td>450023748</td>\n",
       "      <td>395.171667</td>\n",
       "      <td>4.807692</td>\n",
       "    </tr>\n",
       "    <tr>\n",
       "      <th>120</th>\n",
       "      <td>CAD</td>\n",
       "      <td>450142454</td>\n",
       "      <td>393.411429</td>\n",
       "      <td>33.428571</td>\n",
       "    </tr>\n",
       "    <tr>\n",
       "      <th>38</th>\n",
       "      <td>CAD</td>\n",
       "      <td>450023133</td>\n",
       "      <td>363.319054</td>\n",
       "      <td>4.324324</td>\n",
       "    </tr>\n",
       "    <tr>\n",
       "      <th>19</th>\n",
       "      <td>CAD</td>\n",
       "      <td>450018235</td>\n",
       "      <td>333.340667</td>\n",
       "      <td>5.133333</td>\n",
       "    </tr>\n",
       "    <tr>\n",
       "      <th>89</th>\n",
       "      <td>CAD</td>\n",
       "      <td>450081470</td>\n",
       "      <td>324.269812</td>\n",
       "      <td>13.710031</td>\n",
       "    </tr>\n",
       "    <tr>\n",
       "      <th>45</th>\n",
       "      <td>CAD</td>\n",
       "      <td>450024559</td>\n",
       "      <td>303.779068</td>\n",
       "      <td>6.063062</td>\n",
       "    </tr>\n",
       "    <tr>\n",
       "      <th>10</th>\n",
       "      <td>CAD</td>\n",
       "      <td>450002848</td>\n",
       "      <td>275.326471</td>\n",
       "      <td>-3.529412</td>\n",
       "    </tr>\n",
       "    <tr>\n",
       "      <th>27</th>\n",
       "      <td>CAD</td>\n",
       "      <td>450021035</td>\n",
       "      <td>265.161411</td>\n",
       "      <td>10.754582</td>\n",
       "    </tr>\n",
       "    <tr>\n",
       "      <th>79</th>\n",
       "      <td>CAD</td>\n",
       "      <td>450068171</td>\n",
       "      <td>229.904031</td>\n",
       "      <td>9.486750</td>\n",
       "    </tr>\n",
       "    <tr>\n",
       "      <th>21</th>\n",
       "      <td>CAD</td>\n",
       "      <td>450018918</td>\n",
       "      <td>208.804873</td>\n",
       "      <td>20.498563</td>\n",
       "    </tr>\n",
       "    <tr>\n",
       "      <th>25</th>\n",
       "      <td>CAD</td>\n",
       "      <td>450020083</td>\n",
       "      <td>159.913421</td>\n",
       "      <td>19.114674</td>\n",
       "    </tr>\n",
       "    <tr>\n",
       "      <th>8</th>\n",
       "      <td>CAD</td>\n",
       "      <td>450002473</td>\n",
       "      <td>158.294906</td>\n",
       "      <td>19.126436</td>\n",
       "    </tr>\n",
       "  </tbody>\n",
       "</table>\n",
       "<p>668 rows × 4 columns</p>\n",
       "</div>"
      ],
      "text/plain": [
       "    amount_currency  customer_number_norm  invoice_amount_norm      delay\n",
       "315             USD             450021917         63894.756383  14.525671\n",
       "312             USD             450021611         63609.017590  10.048667\n",
       "217             USD             450009836         63057.306159   2.423841\n",
       "361             USD             450024916         61520.384481   0.792453\n",
       "121             USD             450009231         60853.170000   3.739653\n",
       "153             USD             450009480         59989.062812   4.861607\n",
       "294             USD             450018411         59911.165000  33.522727\n",
       "168             USD             450009556         59400.586480   3.379888\n",
       "154             USD             450009481         59372.814933   5.816956\n",
       "228             USD             450009884         57305.969112   4.111617\n",
       "173             USD             450009589         56357.074280   3.889299\n",
       "252             USD             450010157         56345.498667   4.583333\n",
       "195             USD             450009738         56136.997234   4.190779\n",
       "151             USD             450009431         55832.050638   2.503546\n",
       "227             USD             450009883         55723.997898   4.954994\n",
       "169             USD             450009567         55343.760402  15.750000\n",
       "348             USD             450024853         54490.364828  -1.229885\n",
       "126             USD             450009290         54238.035962   2.328452\n",
       "172             USD             450009586         54045.926114   5.478261\n",
       "200             USD             450009771         53437.370799   3.474407\n",
       "258             USD             450010208         52054.558862   8.850949\n",
       "199             USD             450009758         52048.937555  23.428571\n",
       "403             USD             450025208         51861.871749   0.448087\n",
       "208             USD             450009800         50678.309706   8.788235\n",
       "335             USD             450024809         49867.665562   1.612500\n",
       "197             USD             450009743         48833.062162   3.815315\n",
       "205             USD             450009793         47376.894486   7.470270\n",
       "481             USD             450030674         47364.725956   4.869215\n",
       "145             USD             450009371         47277.739691   6.658025\n",
       "179             USD             450009650         47174.400000  -4.200000\n",
       "..              ...                   ...                  ...        ...\n",
       "75              CAD             450065875           648.945000  11.205882\n",
       "91              CAD             450083385           625.666667  14.555556\n",
       "68              CAD             450029460           619.906667  30.916667\n",
       "17              CAD             450016881           609.471711   4.049337\n",
       "50              CAD             450027670           609.346667  82.333333\n",
       "85              CAD             450073001           604.862651   1.626506\n",
       "66              CAD             450029457           587.043509   6.859649\n",
       "20              CAD             450018909           578.161304  12.878261\n",
       "42              CAD             450023659           553.723866   5.168067\n",
       "61              CAD             450029121           541.677364   6.500000\n",
       "58              CAD             450029000           522.926341   7.689024\n",
       "36              CAD             450022753           519.447286  17.614286\n",
       "73              CAD             450065863           511.483300  11.580000\n",
       "7               CAD             450002462           506.180744  30.892562\n",
       "116             CAD             450092126           501.251818   9.492823\n",
       "72              CAD             450065862           476.403596  27.101124\n",
       "60              CAD             450029096           409.910000  44.000000\n",
       "5               CAD             450002236           401.244873  -1.211864\n",
       "43              CAD             450023748           395.171667   4.807692\n",
       "120             CAD             450142454           393.411429  33.428571\n",
       "38              CAD             450023133           363.319054   4.324324\n",
       "19              CAD             450018235           333.340667   5.133333\n",
       "89              CAD             450081470           324.269812  13.710031\n",
       "45              CAD             450024559           303.779068   6.063062\n",
       "10              CAD             450002848           275.326471  -3.529412\n",
       "27              CAD             450021035           265.161411  10.754582\n",
       "79              CAD             450068171           229.904031   9.486750\n",
       "21              CAD             450018918           208.804873  20.498563\n",
       "25              CAD             450020083           159.913421  19.114674\n",
       "8               CAD             450002473           158.294906  19.126436\n",
       "\n",
       "[668 rows x 4 columns]"
      ]
     },
     "execution_count": 86,
     "metadata": {},
     "output_type": "execute_result"
    }
   ],
   "source": [
    "gg"
   ]
  },
  {
   "cell_type": "code",
   "execution_count": 87,
   "metadata": {},
   "outputs": [],
   "source": [
    "curr1 = gg.loc[gg['amount_currency']=='USD',:]\n",
    "# curr2 = gg.loc[gg['amount_currency']=='CAD',:]"
   ]
  },
  {
   "cell_type": "code",
   "execution_count": 88,
   "metadata": {},
   "outputs": [],
   "source": [
    "curr2 = gg.loc[gg['amount_currency']=='CAD',:]\n",
    "curr2.reset_index(inplace=True)"
   ]
  },
  {
   "cell_type": "code",
   "execution_count": 89,
   "metadata": {},
   "outputs": [],
   "source": [
    "curr1.reset_index(inplace=True)"
   ]
  },
  {
   "cell_type": "code",
   "execution_count": 90,
   "metadata": {},
   "outputs": [
    {
     "data": {
      "text/plain": [
       "1     450021611\n",
       "2     450009836\n",
       "3     450024916\n",
       "4     450009231\n",
       "5     450009480\n",
       "6     450018411\n",
       "7     450009556\n",
       "8     450009481\n",
       "9     450009884\n",
       "10    450009589\n",
       "Name: customer_number_norm, dtype: int64"
      ]
     },
     "execution_count": 90,
     "metadata": {},
     "output_type": "execute_result"
    }
   ],
   "source": [
    "curr1.loc[1:10,'customer_number_norm']"
   ]
  },
  {
   "cell_type": "code",
   "execution_count": 91,
   "metadata": {},
   "outputs": [
    {
     "data": {
      "text/html": [
       "<div>\n",
       "<style scoped>\n",
       "    .dataframe tbody tr th:only-of-type {\n",
       "        vertical-align: middle;\n",
       "    }\n",
       "\n",
       "    .dataframe tbody tr th {\n",
       "        vertical-align: top;\n",
       "    }\n",
       "\n",
       "    .dataframe thead th {\n",
       "        text-align: right;\n",
       "    }\n",
       "</style>\n",
       "<table border=\"1\" class=\"dataframe\">\n",
       "  <thead>\n",
       "    <tr style=\"text-align: right;\">\n",
       "      <th></th>\n",
       "      <th>index</th>\n",
       "      <th>amount_currency</th>\n",
       "      <th>customer_number_norm</th>\n",
       "      <th>invoice_amount_norm</th>\n",
       "      <th>delay</th>\n",
       "    </tr>\n",
       "  </thead>\n",
       "  <tbody>\n",
       "    <tr>\n",
       "      <th>0</th>\n",
       "      <td>315</td>\n",
       "      <td>USD</td>\n",
       "      <td>450021917</td>\n",
       "      <td>63894.756383</td>\n",
       "      <td>14.525671</td>\n",
       "    </tr>\n",
       "    <tr>\n",
       "      <th>1</th>\n",
       "      <td>312</td>\n",
       "      <td>USD</td>\n",
       "      <td>450021611</td>\n",
       "      <td>63609.017590</td>\n",
       "      <td>10.048667</td>\n",
       "    </tr>\n",
       "    <tr>\n",
       "      <th>2</th>\n",
       "      <td>217</td>\n",
       "      <td>USD</td>\n",
       "      <td>450009836</td>\n",
       "      <td>63057.306159</td>\n",
       "      <td>2.423841</td>\n",
       "    </tr>\n",
       "    <tr>\n",
       "      <th>3</th>\n",
       "      <td>361</td>\n",
       "      <td>USD</td>\n",
       "      <td>450024916</td>\n",
       "      <td>61520.384481</td>\n",
       "      <td>0.792453</td>\n",
       "    </tr>\n",
       "    <tr>\n",
       "      <th>4</th>\n",
       "      <td>121</td>\n",
       "      <td>USD</td>\n",
       "      <td>450009231</td>\n",
       "      <td>60853.170000</td>\n",
       "      <td>3.739653</td>\n",
       "    </tr>\n",
       "    <tr>\n",
       "      <th>5</th>\n",
       "      <td>153</td>\n",
       "      <td>USD</td>\n",
       "      <td>450009480</td>\n",
       "      <td>59989.062812</td>\n",
       "      <td>4.861607</td>\n",
       "    </tr>\n",
       "    <tr>\n",
       "      <th>6</th>\n",
       "      <td>294</td>\n",
       "      <td>USD</td>\n",
       "      <td>450018411</td>\n",
       "      <td>59911.165000</td>\n",
       "      <td>33.522727</td>\n",
       "    </tr>\n",
       "    <tr>\n",
       "      <th>7</th>\n",
       "      <td>168</td>\n",
       "      <td>USD</td>\n",
       "      <td>450009556</td>\n",
       "      <td>59400.586480</td>\n",
       "      <td>3.379888</td>\n",
       "    </tr>\n",
       "    <tr>\n",
       "      <th>8</th>\n",
       "      <td>154</td>\n",
       "      <td>USD</td>\n",
       "      <td>450009481</td>\n",
       "      <td>59372.814933</td>\n",
       "      <td>5.816956</td>\n",
       "    </tr>\n",
       "    <tr>\n",
       "      <th>9</th>\n",
       "      <td>228</td>\n",
       "      <td>USD</td>\n",
       "      <td>450009884</td>\n",
       "      <td>57305.969112</td>\n",
       "      <td>4.111617</td>\n",
       "    </tr>\n",
       "  </tbody>\n",
       "</table>\n",
       "</div>"
      ],
      "text/plain": [
       "   index amount_currency  customer_number_norm  invoice_amount_norm      delay\n",
       "0    315             USD             450021917         63894.756383  14.525671\n",
       "1    312             USD             450021611         63609.017590  10.048667\n",
       "2    217             USD             450009836         63057.306159   2.423841\n",
       "3    361             USD             450024916         61520.384481   0.792453\n",
       "4    121             USD             450009231         60853.170000   3.739653\n",
       "5    153             USD             450009480         59989.062812   4.861607\n",
       "6    294             USD             450018411         59911.165000  33.522727\n",
       "7    168             USD             450009556         59400.586480   3.379888\n",
       "8    154             USD             450009481         59372.814933   5.816956\n",
       "9    228             USD             450009884         57305.969112   4.111617"
      ]
     },
     "execution_count": 91,
     "metadata": {},
     "output_type": "execute_result"
    }
   ],
   "source": [
    "curr_head = curr1.head(10)\n",
    "curr_head"
   ]
  },
  {
   "cell_type": "code",
   "execution_count": 92,
   "metadata": {},
   "outputs": [
    {
     "data": {
      "text/plain": [
       "<matplotlib.axes._subplots.AxesSubplot at 0x2b526c8a208>"
      ]
     },
     "execution_count": 92,
     "metadata": {},
     "output_type": "execute_result"
    },
    {
     "data": {
      "image/png": "[encoded data removed]",
      "text/plain": [
       "<Figure size 1440x360 with 1 Axes>"
      ]
     },
     "metadata": {},
     "output_type": "display_data"
    }
   ],
   "source": [
    "sns.barplot(x='customer_number_norm',y='delay',data=curr_head)"
   ]
  },
  {
   "cell_type": "markdown",
   "metadata": {},
   "source": [
    "From the above graph we can see that the top 10 customers in USD currency and how they vary accross the mean delay.Now we can see that the top customers which are having high invoice amount are having really low delay."
   ]
  },
  {
   "cell_type": "code",
   "execution_count": 93,
   "metadata": {},
   "outputs": [
    {
     "data": {
      "text/html": [
       "<div>\n",
       "<style scoped>\n",
       "    .dataframe tbody tr th:only-of-type {\n",
       "        vertical-align: middle;\n",
       "    }\n",
       "\n",
       "    .dataframe tbody tr th {\n",
       "        vertical-align: top;\n",
       "    }\n",
       "\n",
       "    .dataframe thead th {\n",
       "        text-align: right;\n",
       "    }\n",
       "</style>\n",
       "<table border=\"1\" class=\"dataframe\">\n",
       "  <thead>\n",
       "    <tr style=\"text-align: right;\">\n",
       "      <th></th>\n",
       "      <th>index</th>\n",
       "      <th>amount_currency</th>\n",
       "      <th>customer_number_norm</th>\n",
       "      <th>invoice_amount_norm</th>\n",
       "      <th>delay</th>\n",
       "    </tr>\n",
       "  </thead>\n",
       "  <tbody>\n",
       "    <tr>\n",
       "      <th>0</th>\n",
       "      <td>69</td>\n",
       "      <td>CAD</td>\n",
       "      <td>450063706</td>\n",
       "      <td>135566.057393</td>\n",
       "      <td>-2.136456</td>\n",
       "    </tr>\n",
       "    <tr>\n",
       "      <th>1</th>\n",
       "      <td>80</td>\n",
       "      <td>CAD</td>\n",
       "      <td>450071341</td>\n",
       "      <td>87848.933766</td>\n",
       "      <td>0.234807</td>\n",
       "    </tr>\n",
       "    <tr>\n",
       "      <th>2</th>\n",
       "      <td>87</td>\n",
       "      <td>CAD</td>\n",
       "      <td>450077129</td>\n",
       "      <td>78197.180888</td>\n",
       "      <td>1.544405</td>\n",
       "    </tr>\n",
       "    <tr>\n",
       "      <th>3</th>\n",
       "      <td>22</td>\n",
       "      <td>CAD</td>\n",
       "      <td>450019230</td>\n",
       "      <td>63073.613248</td>\n",
       "      <td>14.558107</td>\n",
       "    </tr>\n",
       "    <tr>\n",
       "      <th>4</th>\n",
       "      <td>44</td>\n",
       "      <td>CAD</td>\n",
       "      <td>450023956</td>\n",
       "      <td>60563.289200</td>\n",
       "      <td>3.694593</td>\n",
       "    </tr>\n",
       "    <tr>\n",
       "      <th>5</th>\n",
       "      <td>57</td>\n",
       "      <td>CAD</td>\n",
       "      <td>450028698</td>\n",
       "      <td>57932.756754</td>\n",
       "      <td>3.980564</td>\n",
       "    </tr>\n",
       "    <tr>\n",
       "      <th>6</th>\n",
       "      <td>6</td>\n",
       "      <td>CAD</td>\n",
       "      <td>450002318</td>\n",
       "      <td>53112.885066</td>\n",
       "      <td>5.599010</td>\n",
       "    </tr>\n",
       "    <tr>\n",
       "      <th>7</th>\n",
       "      <td>2</td>\n",
       "      <td>CAD</td>\n",
       "      <td>450001645</td>\n",
       "      <td>48738.193991</td>\n",
       "      <td>18.468823</td>\n",
       "    </tr>\n",
       "    <tr>\n",
       "      <th>8</th>\n",
       "      <td>86</td>\n",
       "      <td>CAD</td>\n",
       "      <td>450074239</td>\n",
       "      <td>45996.184788</td>\n",
       "      <td>6.677910</td>\n",
       "    </tr>\n",
       "    <tr>\n",
       "      <th>9</th>\n",
       "      <td>26</td>\n",
       "      <td>CAD</td>\n",
       "      <td>450020667</td>\n",
       "      <td>43313.226502</td>\n",
       "      <td>15.894389</td>\n",
       "    </tr>\n",
       "  </tbody>\n",
       "</table>\n",
       "</div>"
      ],
      "text/plain": [
       "   index amount_currency  customer_number_norm  invoice_amount_norm      delay\n",
       "0     69             CAD             450063706        135566.057393  -2.136456\n",
       "1     80             CAD             450071341         87848.933766   0.234807\n",
       "2     87             CAD             450077129         78197.180888   1.544405\n",
       "3     22             CAD             450019230         63073.613248  14.558107\n",
       "4     44             CAD             450023956         60563.289200   3.694593\n",
       "5     57             CAD             450028698         57932.756754   3.980564\n",
       "6      6             CAD             450002318         53112.885066   5.599010\n",
       "7      2             CAD             450001645         48738.193991  18.468823\n",
       "8     86             CAD             450074239         45996.184788   6.677910\n",
       "9     26             CAD             450020667         43313.226502  15.894389"
      ]
     },
     "execution_count": 93,
     "metadata": {},
     "output_type": "execute_result"
    }
   ],
   "source": [
    "curr2_head = curr2.head(10)\n",
    "curr2_head"
   ]
  },
  {
   "cell_type": "code",
   "execution_count": 94,
   "metadata": {},
   "outputs": [
    {
     "data": {
      "text/plain": [
       "<matplotlib.axes._subplots.AxesSubplot at 0x2b52fc30518>"
      ]
     },
     "execution_count": 94,
     "metadata": {},
     "output_type": "execute_result"
    },
    {
     "data": {
      "image/png": "[encoded data removed]",
      "text/plain": [
       "<Figure size 1440x360 with 1 Axes>"
      ]
     },
     "metadata": {},
     "output_type": "display_data"
    }
   ],
   "source": [
    "curr2 = curr2.head(10)\n",
    "sns.barplot(x='customer_number_norm',y='delay',data=curr2)"
   ]
  },
  {
   "cell_type": "markdown",
   "metadata": {},
   "source": [
    "From the above graph we can see that the top 10 customers in CAD currency and how they vary accross the mean delay.Now we can see that the top customer is having mean delay in negative which coveys that customers having really high invoice amount have probably low delay as customers having low invoice amount have comparatively high delay .some of the customers do not satisfy the above criteria and differ from the above behaviou which can be considered as an outlier."
   ]
  },
  {
   "cell_type": "markdown",
   "metadata": {},
   "source": [
    "# Feature Engineering."
   ]
  },
  {
   "cell_type": "code",
   "execution_count": 95,
   "metadata": {},
   "outputs": [
    {
     "data": {
      "text/plain": [
       "Index(['provider_datatype_id', 'job_id', 'document_number_norm',\n",
       "       'company_code', 'fiscal_year', 'doctype', 'customer_number_norm',\n",
       "       'customer_name', 'document_date_norm', 'posting_date_norm',\n",
       "       'baseline_date_norm', 'due_date_norm', 'invoice_number_norm',\n",
       "       'invoice_amount_norm', 'open_amount_norm', 'amount_currency',\n",
       "       'po_number_norm', 'payment_terms', 'business_area',\n",
       "       'clearing_date_norm', 'clearing_document', 'reason_code', 'status_code',\n",
       "       'source', 'isOpen', 'reference_doc_number', 'cash_discount1',\n",
       "       'cash_discount2', 'cash_discount_percent1', 'payment_block_key',\n",
       "       'reference_key1', 'reference_key2', 'credit_control_area',\n",
       "       'amt_cash_disc', 'item_text', 'current_dispute_amount_norm',\n",
       "       'document_creation_date_norm', 'ref_number', 'identifier_key',\n",
       "       'reference_key6', 'reference_doc_number_norm', 'cms_doc_header_id',\n",
       "       'fk_customer_map_id.1', 'strategy_aging_bucket_id', 'document_id',\n",
       "       'paid_amount', 'paid_date', 'dayspast_due', 'fk_document_type_id',\n",
       "       'current_open_amount', 'days_to_pay', 'invoice_age',\n",
       "       'latest_user_action', 'is_escalated', 'count_of_each_year', 'delay',\n",
       "       'amount_category', 'total_cash_discount',\n",
       "       'amount_cash_discount_category'],\n",
       "      dtype='object')"
      ]
     },
     "execution_count": 95,
     "metadata": {},
     "output_type": "execute_result"
    }
   ],
   "source": [
    "closed_data.columns"
   ]
  },
  {
   "cell_type": "code",
   "execution_count": 96,
   "metadata": {},
   "outputs": [],
   "source": [
    " gg1 = closed_data.groupby(['customer_number_norm']).agg({'invoice_amount_norm':'mean','delay':'mean'}).reset_index().sort_values(['invoice_amount_norm'],ascending=False)"
   ]
  },
  {
   "cell_type": "code",
   "execution_count": 97,
   "metadata": {},
   "outputs": [
    {
     "data": {
      "text/html": [
       "<div>\n",
       "<style scoped>\n",
       "    .dataframe tbody tr th:only-of-type {\n",
       "        vertical-align: middle;\n",
       "    }\n",
       "\n",
       "    .dataframe tbody tr th {\n",
       "        vertical-align: top;\n",
       "    }\n",
       "\n",
       "    .dataframe thead th {\n",
       "        text-align: right;\n",
       "    }\n",
       "</style>\n",
       "<table border=\"1\" class=\"dataframe\">\n",
       "  <thead>\n",
       "    <tr style=\"text-align: right;\">\n",
       "      <th></th>\n",
       "      <th>customer_number_norm</th>\n",
       "      <th>invoice_amount_norm</th>\n",
       "      <th>delay</th>\n",
       "    </tr>\n",
       "  </thead>\n",
       "  <tbody>\n",
       "    <tr>\n",
       "      <th>customer_number_norm</th>\n",
       "      <td>1.000000</td>\n",
       "      <td>-0.212533</td>\n",
       "      <td>0.135112</td>\n",
       "    </tr>\n",
       "    <tr>\n",
       "      <th>invoice_amount_norm</th>\n",
       "      <td>-0.212533</td>\n",
       "      <td>1.000000</td>\n",
       "      <td>-0.124986</td>\n",
       "    </tr>\n",
       "    <tr>\n",
       "      <th>delay</th>\n",
       "      <td>0.135112</td>\n",
       "      <td>-0.124986</td>\n",
       "      <td>1.000000</td>\n",
       "    </tr>\n",
       "  </tbody>\n",
       "</table>\n",
       "</div>"
      ],
      "text/plain": [
       "                      customer_number_norm  invoice_amount_norm     delay\n",
       "customer_number_norm              1.000000            -0.212533  0.135112\n",
       "invoice_amount_norm              -0.212533             1.000000 -0.124986\n",
       "delay                             0.135112            -0.124986  1.000000"
      ]
     },
     "execution_count": 97,
     "metadata": {},
     "output_type": "execute_result"
    }
   ],
   "source": [
    "gg1.corr()"
   ]
  },
  {
   "cell_type": "code",
   "execution_count": 98,
   "metadata": {},
   "outputs": [],
   "source": [
    "d_dates=closed_data[['paid_date','due_date_norm','clearing_date_norm','posting_date_norm','document_date_norm','baseline_date_norm','document_creation_date_norm']]"
   ]
  },
  {
   "cell_type": "code",
   "execution_count": 99,
   "metadata": {},
   "outputs": [
    {
     "data": {
      "text/html": [
       "<div>\n",
       "<style scoped>\n",
       "    .dataframe tbody tr th:only-of-type {\n",
       "        vertical-align: middle;\n",
       "    }\n",
       "\n",
       "    .dataframe tbody tr th {\n",
       "        vertical-align: top;\n",
       "    }\n",
       "\n",
       "    .dataframe thead th {\n",
       "        text-align: right;\n",
       "    }\n",
       "</style>\n",
       "<table border=\"1\" class=\"dataframe\">\n",
       "  <thead>\n",
       "    <tr style=\"text-align: right;\">\n",
       "      <th></th>\n",
       "      <th>paid_date</th>\n",
       "      <th>due_date_norm</th>\n",
       "      <th>clearing_date_norm</th>\n",
       "      <th>posting_date_norm</th>\n",
       "      <th>document_date_norm</th>\n",
       "      <th>baseline_date_norm</th>\n",
       "      <th>document_creation_date_norm</th>\n",
       "    </tr>\n",
       "  </thead>\n",
       "  <tbody>\n",
       "    <tr>\n",
       "      <th>288050</th>\n",
       "      <td>2/5/2018 0:00</td>\n",
       "      <td>2018-01-16</td>\n",
       "      <td>2018-02-05</td>\n",
       "      <td>1/1/2018</td>\n",
       "      <td>1/1/2018</td>\n",
       "      <td>1/1/2018</td>\n",
       "      <td>1/2/2018</td>\n",
       "    </tr>\n",
       "    <tr>\n",
       "      <th>333899</th>\n",
       "      <td>1/18/2018 0:00</td>\n",
       "      <td>2018-01-18</td>\n",
       "      <td>2018-01-18</td>\n",
       "      <td>1/1/2018</td>\n",
       "      <td>1/1/2018</td>\n",
       "      <td>1/3/2018</td>\n",
       "      <td>1/1/2018</td>\n",
       "    </tr>\n",
       "    <tr>\n",
       "      <th>333900</th>\n",
       "      <td>1/18/2018 0:00</td>\n",
       "      <td>2018-01-18</td>\n",
       "      <td>2018-01-18</td>\n",
       "      <td>1/1/2018</td>\n",
       "      <td>1/1/2018</td>\n",
       "      <td>1/3/2018</td>\n",
       "      <td>1/1/2018</td>\n",
       "    </tr>\n",
       "    <tr>\n",
       "      <th>333901</th>\n",
       "      <td>1/18/2018 0:00</td>\n",
       "      <td>2018-01-18</td>\n",
       "      <td>2018-01-18</td>\n",
       "      <td>1/1/2018</td>\n",
       "      <td>1/1/2018</td>\n",
       "      <td>1/3/2018</td>\n",
       "      <td>1/1/2018</td>\n",
       "    </tr>\n",
       "    <tr>\n",
       "      <th>213051</th>\n",
       "      <td>2/12/2018 0:00</td>\n",
       "      <td>2018-01-16</td>\n",
       "      <td>2018-02-12</td>\n",
       "      <td>1/1/2018</td>\n",
       "      <td>1/1/2018</td>\n",
       "      <td>1/1/2018</td>\n",
       "      <td>1/3/2018</td>\n",
       "    </tr>\n",
       "  </tbody>\n",
       "</table>\n",
       "</div>"
      ],
      "text/plain": [
       "             paid_date due_date_norm clearing_date_norm posting_date_norm  \\\n",
       "288050   2/5/2018 0:00    2018-01-16         2018-02-05          1/1/2018   \n",
       "333899  1/18/2018 0:00    2018-01-18         2018-01-18          1/1/2018   \n",
       "333900  1/18/2018 0:00    2018-01-18         2018-01-18          1/1/2018   \n",
       "333901  1/18/2018 0:00    2018-01-18         2018-01-18          1/1/2018   \n",
       "213051  2/12/2018 0:00    2018-01-16         2018-02-12          1/1/2018   \n",
       "\n",
       "       document_date_norm baseline_date_norm document_creation_date_norm  \n",
       "288050           1/1/2018           1/1/2018                    1/2/2018  \n",
       "333899           1/1/2018           1/3/2018                    1/1/2018  \n",
       "333900           1/1/2018           1/3/2018                    1/1/2018  \n",
       "333901           1/1/2018           1/3/2018                    1/1/2018  \n",
       "213051           1/1/2018           1/1/2018                    1/3/2018  "
      ]
     },
     "execution_count": 99,
     "metadata": {},
     "output_type": "execute_result"
    }
   ],
   "source": [
    "d_dates.head()"
   ]
  },
  {
   "cell_type": "code",
   "execution_count": 100,
   "metadata": {},
   "outputs": [
    {
     "data": {
      "text/plain": [
       "paid_date                              object\n",
       "due_date_norm                  datetime64[ns]\n",
       "clearing_date_norm             datetime64[ns]\n",
       "posting_date_norm                      object\n",
       "document_date_norm                     object\n",
       "baseline_date_norm                     object\n",
       "document_creation_date_norm            object\n",
       "dtype: object"
      ]
     },
     "execution_count": 100,
     "metadata": {},
     "output_type": "execute_result"
    }
   ],
   "source": [
    "d_dates.dtypes"
   ]
  },
  {
   "cell_type": "code",
   "execution_count": 101,
   "metadata": {},
   "outputs": [
    {
     "name": "stderr",
     "output_type": "stream",
     "text": [
      "C:\\ProgramData\\Anaconda3\\lib\\site-packages\\ipykernel_launcher.py:1: SettingWithCopyWarning: \n",
      "A value is trying to be set on a copy of a slice from a DataFrame.\n",
      "Try using .loc[row_indexer,col_indexer] = value instead\n",
      "\n",
      "See the caveats in the documentation: http://pandas.pydata.org/pandas-docs/stable/indexing.html#indexing-view-versus-copy\n",
      "  \"\"\"Entry point for launching an IPython kernel.\n",
      "C:\\ProgramData\\Anaconda3\\lib\\site-packages\\ipykernel_launcher.py:2: SettingWithCopyWarning: \n",
      "A value is trying to be set on a copy of a slice from a DataFrame.\n",
      "Try using .loc[row_indexer,col_indexer] = value instead\n",
      "\n",
      "See the caveats in the documentation: http://pandas.pydata.org/pandas-docs/stable/indexing.html#indexing-view-versus-copy\n",
      "  \n",
      "C:\\ProgramData\\Anaconda3\\lib\\site-packages\\ipykernel_launcher.py:3: SettingWithCopyWarning: \n",
      "A value is trying to be set on a copy of a slice from a DataFrame.\n",
      "Try using .loc[row_indexer,col_indexer] = value instead\n",
      "\n",
      "See the caveats in the documentation: http://pandas.pydata.org/pandas-docs/stable/indexing.html#indexing-view-versus-copy\n",
      "  This is separate from the ipykernel package so we can avoid doing imports until\n",
      "C:\\ProgramData\\Anaconda3\\lib\\site-packages\\ipykernel_launcher.py:4: SettingWithCopyWarning: \n",
      "A value is trying to be set on a copy of a slice from a DataFrame.\n",
      "Try using .loc[row_indexer,col_indexer] = value instead\n",
      "\n",
      "See the caveats in the documentation: http://pandas.pydata.org/pandas-docs/stable/indexing.html#indexing-view-versus-copy\n",
      "  after removing the cwd from sys.path.\n",
      "C:\\ProgramData\\Anaconda3\\lib\\site-packages\\ipykernel_launcher.py:5: SettingWithCopyWarning: \n",
      "A value is trying to be set on a copy of a slice from a DataFrame.\n",
      "Try using .loc[row_indexer,col_indexer] = value instead\n",
      "\n",
      "See the caveats in the documentation: http://pandas.pydata.org/pandas-docs/stable/indexing.html#indexing-view-versus-copy\n",
      "  \"\"\"\n"
     ]
    }
   ],
   "source": [
    "closed_data['paid_date']=pd.to_datetime(closed_data['paid_date'])\n",
    "closed_data['posting_date_norm']=pd.to_datetime(closed_data['posting_date_norm'])\n",
    "closed_data['document_date_norm']=pd.to_datetime(closed_data['document_date_norm'])\n",
    "closed_data['baseline_date_norm']=pd.to_datetime(closed_data['baseline_date_norm'])\n",
    "closed_data['document_creation_date_norm']=pd.to_datetime(closed_data['document_creation_date_norm'])"
   ]
  },
  {
   "cell_type": "code",
   "execution_count": 102,
   "metadata": {},
   "outputs": [],
   "source": [
    "d_dates=closed_data[['paid_date','due_date_norm','clearing_date_norm','posting_date_norm','document_date_norm','baseline_date_norm','document_creation_date_norm']]"
   ]
  },
  {
   "cell_type": "code",
   "execution_count": 103,
   "metadata": {},
   "outputs": [
    {
     "data": {
      "text/html": [
       "<div>\n",
       "<style scoped>\n",
       "    .dataframe tbody tr th:only-of-type {\n",
       "        vertical-align: middle;\n",
       "    }\n",
       "\n",
       "    .dataframe tbody tr th {\n",
       "        vertical-align: top;\n",
       "    }\n",
       "\n",
       "    .dataframe thead th {\n",
       "        text-align: right;\n",
       "    }\n",
       "</style>\n",
       "<table border=\"1\" class=\"dataframe\">\n",
       "  <thead>\n",
       "    <tr style=\"text-align: right;\">\n",
       "      <th></th>\n",
       "      <th>paid_date</th>\n",
       "      <th>due_date_norm</th>\n",
       "      <th>clearing_date_norm</th>\n",
       "      <th>posting_date_norm</th>\n",
       "      <th>document_date_norm</th>\n",
       "      <th>baseline_date_norm</th>\n",
       "      <th>document_creation_date_norm</th>\n",
       "    </tr>\n",
       "  </thead>\n",
       "  <tbody>\n",
       "    <tr>\n",
       "      <th>288050</th>\n",
       "      <td>2018-02-05</td>\n",
       "      <td>2018-01-16</td>\n",
       "      <td>2018-02-05</td>\n",
       "      <td>2018-01-01</td>\n",
       "      <td>2018-01-01</td>\n",
       "      <td>2018-01-01</td>\n",
       "      <td>2018-01-02</td>\n",
       "    </tr>\n",
       "    <tr>\n",
       "      <th>333899</th>\n",
       "      <td>2018-01-18</td>\n",
       "      <td>2018-01-18</td>\n",
       "      <td>2018-01-18</td>\n",
       "      <td>2018-01-01</td>\n",
       "      <td>2018-01-01</td>\n",
       "      <td>2018-01-03</td>\n",
       "      <td>2018-01-01</td>\n",
       "    </tr>\n",
       "    <tr>\n",
       "      <th>333900</th>\n",
       "      <td>2018-01-18</td>\n",
       "      <td>2018-01-18</td>\n",
       "      <td>2018-01-18</td>\n",
       "      <td>2018-01-01</td>\n",
       "      <td>2018-01-01</td>\n",
       "      <td>2018-01-03</td>\n",
       "      <td>2018-01-01</td>\n",
       "    </tr>\n",
       "    <tr>\n",
       "      <th>333901</th>\n",
       "      <td>2018-01-18</td>\n",
       "      <td>2018-01-18</td>\n",
       "      <td>2018-01-18</td>\n",
       "      <td>2018-01-01</td>\n",
       "      <td>2018-01-01</td>\n",
       "      <td>2018-01-03</td>\n",
       "      <td>2018-01-01</td>\n",
       "    </tr>\n",
       "    <tr>\n",
       "      <th>213051</th>\n",
       "      <td>2018-02-12</td>\n",
       "      <td>2018-01-16</td>\n",
       "      <td>2018-02-12</td>\n",
       "      <td>2018-01-01</td>\n",
       "      <td>2018-01-01</td>\n",
       "      <td>2018-01-01</td>\n",
       "      <td>2018-01-03</td>\n",
       "    </tr>\n",
       "  </tbody>\n",
       "</table>\n",
       "</div>"
      ],
      "text/plain": [
       "        paid_date due_date_norm clearing_date_norm posting_date_norm  \\\n",
       "288050 2018-02-05    2018-01-16         2018-02-05        2018-01-01   \n",
       "333899 2018-01-18    2018-01-18         2018-01-18        2018-01-01   \n",
       "333900 2018-01-18    2018-01-18         2018-01-18        2018-01-01   \n",
       "333901 2018-01-18    2018-01-18         2018-01-18        2018-01-01   \n",
       "213051 2018-02-12    2018-01-16         2018-02-12        2018-01-01   \n",
       "\n",
       "       document_date_norm baseline_date_norm document_creation_date_norm  \n",
       "288050         2018-01-01         2018-01-01                  2018-01-02  \n",
       "333899         2018-01-01         2018-01-03                  2018-01-01  \n",
       "333900         2018-01-01         2018-01-03                  2018-01-01  \n",
       "333901         2018-01-01         2018-01-03                  2018-01-01  \n",
       "213051         2018-01-01         2018-01-01                  2018-01-03  "
      ]
     },
     "execution_count": 103,
     "metadata": {},
     "output_type": "execute_result"
    }
   ],
   "source": [
    "d_dates.head()"
   ]
  },
  {
   "cell_type": "code",
   "execution_count": 104,
   "metadata": {},
   "outputs": [
    {
     "data": {
      "text/plain": [
       "paid_date                      datetime64[ns]\n",
       "due_date_norm                  datetime64[ns]\n",
       "clearing_date_norm             datetime64[ns]\n",
       "posting_date_norm              datetime64[ns]\n",
       "document_date_norm             datetime64[ns]\n",
       "baseline_date_norm             datetime64[ns]\n",
       "document_creation_date_norm    datetime64[ns]\n",
       "dtype: object"
      ]
     },
     "execution_count": 104,
     "metadata": {},
     "output_type": "execute_result"
    }
   ],
   "source": [
    "d_dates.dtypes"
   ]
  },
  {
   "cell_type": "code",
   "execution_count": 105,
   "metadata": {},
   "outputs": [
    {
     "data": {
      "text/html": [
       "<div>\n",
       "<style scoped>\n",
       "    .dataframe tbody tr th:only-of-type {\n",
       "        vertical-align: middle;\n",
       "    }\n",
       "\n",
       "    .dataframe tbody tr th {\n",
       "        vertical-align: top;\n",
       "    }\n",
       "\n",
       "    .dataframe thead th {\n",
       "        text-align: right;\n",
       "    }\n",
       "</style>\n",
       "<table border=\"1\" class=\"dataframe\">\n",
       "  <thead>\n",
       "    <tr style=\"text-align: right;\">\n",
       "      <th></th>\n",
       "    </tr>\n",
       "  </thead>\n",
       "  <tbody>\n",
       "  </tbody>\n",
       "</table>\n",
       "</div>"
      ],
      "text/plain": [
       "Empty DataFrame\n",
       "Columns: []\n",
       "Index: []"
      ]
     },
     "execution_count": 105,
     "metadata": {},
     "output_type": "execute_result"
    }
   ],
   "source": [
    "d_dates.corr()"
   ]
  },
  {
   "cell_type": "code",
   "execution_count": 106,
   "metadata": {},
   "outputs": [],
   "source": [
    "def getDuplicateColumns(df):\n",
    "\n",
    "    duplicateColumnNames = set()\n",
    "\n",
    "    for x in range(df.shape[1]):\n",
    "\n",
    "        col = df.iloc[:, x]\n",
    "# Iterate over all the columns in DataFrame from (x+1)th index till end\n",
    "        for y in range(x + 1, df.shape[1]):\n",
    "# Select column at yth index.\n",
    "            otherCol = df.iloc[:, y]\n",
    "# Check if two columns at x 7 y index are equal\n",
    "            if col.equals(otherCol):\n",
    "               print(df.columns.values[x],df.columns.values[y])\n",
    "               duplicateColumnNames.add(df.columns.values[y])\n",
    "    return list(duplicateColumnNames)"
   ]
  },
  {
   "cell_type": "code",
   "execution_count": 122,
   "metadata": {},
   "outputs": [
    {
     "data": {
      "text/plain": [
       "[]"
      ]
     },
     "execution_count": 122,
     "metadata": {},
     "output_type": "execute_result"
    }
   ],
   "source": [
    "dup=getDuplicateColumns(d_dates)\n",
    "dup"
   ]
  },
  {
   "cell_type": "code",
   "execution_count": 107,
   "metadata": {},
   "outputs": [
    {
     "name": "stderr",
     "output_type": "stream",
     "text": [
      "C:\\ProgramData\\Anaconda3\\lib\\site-packages\\ipykernel_launcher.py:1: SettingWithCopyWarning: \n",
      "A value is trying to be set on a copy of a slice from a DataFrame.\n",
      "Try using .loc[row_indexer,col_indexer] = value instead\n",
      "\n",
      "See the caveats in the documentation: http://pandas.pydata.org/pandas-docs/stable/indexing.html#indexing-view-versus-copy\n",
      "  \"\"\"Entry point for launching an IPython kernel.\n"
     ]
    }
   ],
   "source": [
    "closed_data['Expected_to_pay']=(closed_data['due_date_norm']-closed_data['baseline_date_norm']).dt.days"
   ]
  },
  {
   "cell_type": "code",
   "execution_count": 108,
   "metadata": {},
   "outputs": [
    {
     "data": {
      "text/plain": [
       "array([15, 20, 23, 60,  0, 30, 25, 45, 40, 35, 10, 90, 21, 13, 36, 31, 17],\n",
       "      dtype=int64)"
      ]
     },
     "execution_count": 108,
     "metadata": {},
     "output_type": "execute_result"
    }
   ],
   "source": [
    "closed_data['Expected_to_pay'].unique()"
   ]
  },
  {
   "cell_type": "code",
   "execution_count": 109,
   "metadata": {},
   "outputs": [
    {
     "data": {
      "image/png": "[encoded data removed]",
      "text/plain": [
       "<Figure size 1296x432 with 3 Axes>"
      ]
     },
     "metadata": {},
     "output_type": "display_data"
    }
   ],
   "source": [
    "plt.figure(figsize=(18,6))\n",
    "\n",
    "plt.subplot(1,3,1)\n",
    "sns.distplot(closed_data['Expected_to_pay'])\n",
    "\n",
    "plt.subplot(1,3,2)\n",
    "sns.boxplot(closed_data['Expected_to_pay'])\n",
    "\n",
    "plt.subplot(1,3,3)\n",
    "stats.probplot(closed_data['Expected_to_pay'],dist=\"norm\",plot=pylab)\n",
    "\n",
    "plt.show()"
   ]
  },
  {
   "cell_type": "code",
   "execution_count": 110,
   "metadata": {
    "scrolled": false
   },
   "outputs": [
    {
     "data": {
      "text/plain": [
       "<matplotlib.axes._subplots.AxesSubplot at 0x2b52d5fe2e8>"
      ]
     },
     "execution_count": 110,
     "metadata": {},
     "output_type": "execute_result"
    },
    {
     "data": {
      "image/png": "[encoded data removed]",
      "text/plain": [
       "<Figure size 720x576 with 1 Axes>"
      ]
     },
     "metadata": {},
     "output_type": "display_data"
    }
   ],
   "source": [
    "df_exp = closed_data.groupby('Expected_to_pay').agg({'delay':'mean'})\n",
    "df_exp.reset_index(inplace=True)\n",
    "df_exp.sort_values(by='delay',inplace=True)\n",
    "plt.figure(figsize=(10,8))\n",
    "sns.barplot(x='Expected_to_pay',y='delay',data=df_exp)"
   ]
  },
  {
   "cell_type": "markdown",
   "metadata": {},
   "source": [
    "# Splitting the data in (70%), Validatiion(20%) and Test(10%)"
   ]
  },
  {
   "cell_type": "markdown",
   "metadata": {},
   "source": [
    "Taking the top 70% data out of the closed data as train data."
   ]
  },
  {
   "cell_type": "code",
   "execution_count": 119,
   "metadata": {},
   "outputs": [],
   "source": [
    "closed_train = closed_data.head(int(len(closed_data)*(0.7)))"
   ]
  },
  {
   "cell_type": "code",
   "execution_count": 120,
   "metadata": {},
   "outputs": [
    {
     "data": {
      "text/html": [
       "<div>\n",
       "<style scoped>\n",
       "    .dataframe tbody tr th:only-of-type {\n",
       "        vertical-align: middle;\n",
       "    }\n",
       "\n",
       "    .dataframe tbody tr th {\n",
       "        vertical-align: top;\n",
       "    }\n",
       "\n",
       "    .dataframe thead th {\n",
       "        text-align: right;\n",
       "    }\n",
       "</style>\n",
       "<table border=\"1\" class=\"dataframe\">\n",
       "  <thead>\n",
       "    <tr style=\"text-align: right;\">\n",
       "      <th></th>\n",
       "      <th>provider_datatype_id</th>\n",
       "      <th>job_id</th>\n",
       "      <th>document_number_norm</th>\n",
       "      <th>company_code</th>\n",
       "      <th>fiscal_year</th>\n",
       "      <th>doctype</th>\n",
       "      <th>customer_number_norm</th>\n",
       "      <th>customer_name</th>\n",
       "      <th>document_date_norm</th>\n",
       "      <th>posting_date_norm</th>\n",
       "      <th>...</th>\n",
       "      <th>days_to_pay</th>\n",
       "      <th>invoice_age</th>\n",
       "      <th>latest_user_action</th>\n",
       "      <th>is_escalated</th>\n",
       "      <th>count_of_each_year</th>\n",
       "      <th>delay</th>\n",
       "      <th>amount_category</th>\n",
       "      <th>total_cash_discount</th>\n",
       "      <th>amount_cash_discount_category</th>\n",
       "      <th>Expected_to_pay</th>\n",
       "    </tr>\n",
       "  </thead>\n",
       "  <tbody>\n",
       "    <tr>\n",
       "      <th>26552</th>\n",
       "      <td>2854</td>\n",
       "      <td>101092573</td>\n",
       "      <td>8101267763</td>\n",
       "      <td>30</td>\n",
       "      <td>2019</td>\n",
       "      <td>D1</td>\n",
       "      <td>450009504</td>\n",
       "      <td>GORDON FOODSERVICE GRAND RAPID - A/</td>\n",
       "      <td>2019-06-18</td>\n",
       "      <td>2019-06-18</td>\n",
       "      <td>...</td>\n",
       "      <td>14</td>\n",
       "      <td>15</td>\n",
       "      <td>NaN</td>\n",
       "      <td>0</td>\n",
       "      <td>2019</td>\n",
       "      <td>1</td>\n",
       "      <td>25k-75k</td>\n",
       "      <td>13</td>\n",
       "      <td>Not_discounted_Customers</td>\n",
       "      <td>13</td>\n",
       "    </tr>\n",
       "    <tr>\n",
       "      <th>26553</th>\n",
       "      <td>2854</td>\n",
       "      <td>101197323</td>\n",
       "      <td>8101267778</td>\n",
       "      <td>30</td>\n",
       "      <td>2019</td>\n",
       "      <td>D1</td>\n",
       "      <td>450009504</td>\n",
       "      <td>GORDON FOODSERVICE GRAND RAPID - A/</td>\n",
       "      <td>2019-06-18</td>\n",
       "      <td>2019-06-18</td>\n",
       "      <td>...</td>\n",
       "      <td>22</td>\n",
       "      <td>23</td>\n",
       "      <td>NaN</td>\n",
       "      <td>0</td>\n",
       "      <td>2019</td>\n",
       "      <td>9</td>\n",
       "      <td>&lt;25k</td>\n",
       "      <td>13</td>\n",
       "      <td>Not_discounted_Customers</td>\n",
       "      <td>13</td>\n",
       "    </tr>\n",
       "    <tr>\n",
       "      <th>26555</th>\n",
       "      <td>2854</td>\n",
       "      <td>101092573</td>\n",
       "      <td>8101267780</td>\n",
       "      <td>30</td>\n",
       "      <td>2019</td>\n",
       "      <td>D1</td>\n",
       "      <td>450009504</td>\n",
       "      <td>GORDON FOODSERVICE GRAND RAPID - A/</td>\n",
       "      <td>2019-06-18</td>\n",
       "      <td>2019-06-18</td>\n",
       "      <td>...</td>\n",
       "      <td>14</td>\n",
       "      <td>15</td>\n",
       "      <td>NaN</td>\n",
       "      <td>0</td>\n",
       "      <td>2019</td>\n",
       "      <td>1</td>\n",
       "      <td>&lt;25k</td>\n",
       "      <td>13</td>\n",
       "      <td>Not_discounted_Customers</td>\n",
       "      <td>13</td>\n",
       "    </tr>\n",
       "    <tr>\n",
       "      <th>189442</th>\n",
       "      <td>2854</td>\n",
       "      <td>102720888</td>\n",
       "      <td>8101267641</td>\n",
       "      <td>30</td>\n",
       "      <td>2019</td>\n",
       "      <td>D1</td>\n",
       "      <td>450019870</td>\n",
       "      <td>PRICESMART  - A/P</td>\n",
       "      <td>2019-06-18</td>\n",
       "      <td>2019-06-18</td>\n",
       "      <td>...</td>\n",
       "      <td>30</td>\n",
       "      <td>35</td>\n",
       "      <td>Invoice Level Payment Commitment</td>\n",
       "      <td>0</td>\n",
       "      <td>2019</td>\n",
       "      <td>0</td>\n",
       "      <td>25k-75k</td>\n",
       "      <td>30</td>\n",
       "      <td>Not_discounted_Customers</td>\n",
       "      <td>30</td>\n",
       "    </tr>\n",
       "    <tr>\n",
       "      <th>189441</th>\n",
       "      <td>2854</td>\n",
       "      <td>102720888</td>\n",
       "      <td>8101267640</td>\n",
       "      <td>30</td>\n",
       "      <td>2019</td>\n",
       "      <td>D1</td>\n",
       "      <td>450019870</td>\n",
       "      <td>PRICESMART  - A/P</td>\n",
       "      <td>2019-06-18</td>\n",
       "      <td>2019-06-18</td>\n",
       "      <td>...</td>\n",
       "      <td>30</td>\n",
       "      <td>35</td>\n",
       "      <td>Invoice Level Payment Commitment</td>\n",
       "      <td>0</td>\n",
       "      <td>2019</td>\n",
       "      <td>0</td>\n",
       "      <td>25k-75k</td>\n",
       "      <td>30</td>\n",
       "      <td>Not_discounted_Customers</td>\n",
       "      <td>30</td>\n",
       "    </tr>\n",
       "  </tbody>\n",
       "</table>\n",
       "<p>5 rows × 60 columns</p>\n",
       "</div>"
      ],
      "text/plain": [
       "        provider_datatype_id     job_id  document_number_norm  company_code  \\\n",
       "26552                   2854  101092573            8101267763            30   \n",
       "26553                   2854  101197323            8101267778            30   \n",
       "26555                   2854  101092573            8101267780            30   \n",
       "189442                  2854  102720888            8101267641            30   \n",
       "189441                  2854  102720888            8101267640            30   \n",
       "\n",
       "        fiscal_year doctype  customer_number_norm  \\\n",
       "26552          2019      D1             450009504   \n",
       "26553          2019      D1             450009504   \n",
       "26555          2019      D1             450009504   \n",
       "189442         2019      D1             450019870   \n",
       "189441         2019      D1             450019870   \n",
       "\n",
       "                              customer_name document_date_norm  \\\n",
       "26552   GORDON FOODSERVICE GRAND RAPID - A/         2019-06-18   \n",
       "26553   GORDON FOODSERVICE GRAND RAPID - A/         2019-06-18   \n",
       "26555   GORDON FOODSERVICE GRAND RAPID - A/         2019-06-18   \n",
       "189442                    PRICESMART  - A/P         2019-06-18   \n",
       "189441                    PRICESMART  - A/P         2019-06-18   \n",
       "\n",
       "       posting_date_norm  ... days_to_pay invoice_age  \\\n",
       "26552         2019-06-18  ...          14          15   \n",
       "26553         2019-06-18  ...          22          23   \n",
       "26555         2019-06-18  ...          14          15   \n",
       "189442        2019-06-18  ...          30          35   \n",
       "189441        2019-06-18  ...          30          35   \n",
       "\n",
       "                      latest_user_action  is_escalated  count_of_each_year  \\\n",
       "26552                                NaN             0                2019   \n",
       "26553                                NaN             0                2019   \n",
       "26555                                NaN             0                2019   \n",
       "189442  Invoice Level Payment Commitment             0                2019   \n",
       "189441  Invoice Level Payment Commitment             0                2019   \n",
       "\n",
       "       delay amount_category total_cash_discount  \\\n",
       "26552      1         25k-75k                  13   \n",
       "26553      9            <25k                  13   \n",
       "26555      1            <25k                  13   \n",
       "189442     0         25k-75k                  30   \n",
       "189441     0         25k-75k                  30   \n",
       "\n",
       "        amount_cash_discount_category Expected_to_pay  \n",
       "26552        Not_discounted_Customers              13  \n",
       "26553        Not_discounted_Customers              13  \n",
       "26555        Not_discounted_Customers              13  \n",
       "189442       Not_discounted_Customers              30  \n",
       "189441       Not_discounted_Customers              30  \n",
       "\n",
       "[5 rows x 60 columns]"
      ]
     },
     "execution_count": 120,
     "metadata": {},
     "output_type": "execute_result"
    }
   ],
   "source": [
    "closed_train.tail()"
   ]
  },
  {
   "cell_type": "code",
   "execution_count": 121,
   "metadata": {},
   "outputs": [],
   "source": [
    "lowerdata = closed_data.tail(int(len(closed_data)*(0.3)))"
   ]
  },
  {
   "cell_type": "code",
   "execution_count": 122,
   "metadata": {},
   "outputs": [],
   "source": [
    "#taking 20% of the data left as our validation set..\n",
    "closed_validation = lowerdata.head(int(len(lowerdata)*(0.7))+1)"
   ]
  },
  {
   "cell_type": "code",
   "execution_count": 123,
   "metadata": {},
   "outputs": [],
   "source": [
    "#and the rest 10% as our test set\n",
    "closed_test = lowerdata.tail(int(len(lowerdata)*(0.3)))"
   ]
  },
  {
   "cell_type": "code",
   "execution_count": 124,
   "metadata": {},
   "outputs": [],
   "source": [
    " group_inv_mean = closed_train.groupby(['customer_number_norm']).agg({'invoice_amount_norm':'mean'}).reset_index()"
   ]
  },
  {
   "cell_type": "code",
   "execution_count": 126,
   "metadata": {},
   "outputs": [
    {
     "data": {
      "text/html": [
       "<div>\n",
       "<style scoped>\n",
       "    .dataframe tbody tr th:only-of-type {\n",
       "        vertical-align: middle;\n",
       "    }\n",
       "\n",
       "    .dataframe tbody tr th {\n",
       "        vertical-align: top;\n",
       "    }\n",
       "\n",
       "    .dataframe thead th {\n",
       "        text-align: right;\n",
       "    }\n",
       "</style>\n",
       "<table border=\"1\" class=\"dataframe\">\n",
       "  <thead>\n",
       "    <tr style=\"text-align: right;\">\n",
       "      <th></th>\n",
       "      <th>customer_number_norm</th>\n",
       "      <th>invoice_amount_norm</th>\n",
       "    </tr>\n",
       "  </thead>\n",
       "  <tbody>\n",
       "    <tr>\n",
       "      <th>0</th>\n",
       "      <td>450001273</td>\n",
       "      <td>1431.581290</td>\n",
       "    </tr>\n",
       "    <tr>\n",
       "      <th>1</th>\n",
       "      <td>450001350</td>\n",
       "      <td>27263.403046</td>\n",
       "    </tr>\n",
       "    <tr>\n",
       "      <th>2</th>\n",
       "      <td>450001645</td>\n",
       "      <td>49786.208134</td>\n",
       "    </tr>\n",
       "    <tr>\n",
       "      <th>3</th>\n",
       "      <td>450002047</td>\n",
       "      <td>5065.500000</td>\n",
       "    </tr>\n",
       "    <tr>\n",
       "      <th>4</th>\n",
       "      <td>450002191</td>\n",
       "      <td>735.724060</td>\n",
       "    </tr>\n",
       "  </tbody>\n",
       "</table>\n",
       "</div>"
      ],
      "text/plain": [
       "   customer_number_norm  invoice_amount_norm\n",
       "0             450001273          1431.581290\n",
       "1             450001350         27263.403046\n",
       "2             450001645         49786.208134\n",
       "3             450002047          5065.500000\n",
       "4             450002191           735.724060"
      ]
     },
     "execution_count": 126,
     "metadata": {},
     "output_type": "execute_result"
    }
   ],
   "source": [
    "group_inv_mean.head()"
   ]
  },
  {
   "cell_type": "code",
   "execution_count": 127,
   "metadata": {},
   "outputs": [],
   "source": [
    "group_inv_mean.columns = ['customer_number_norm','cust_invoice_amt_mean']\n",
    "closed_train = pd.merge(closed_train,group_inv_mean,how='left',on='customer_number_norm')"
   ]
  },
  {
   "cell_type": "code",
   "execution_count": 130,
   "metadata": {},
   "outputs": [
    {
     "data": {
      "text/plain": [
       "19"
      ]
     },
     "execution_count": 130,
     "metadata": {},
     "output_type": "execute_result"
    }
   ],
   "source": [
    "closed_validation = pd.merge(closed_validation,group_inv_mean,how='left',on='customer_number_norm')\n",
    "closed_validation['cust_invoice_amt_mean'].isnull().sum()"
   ]
  },
  {
   "cell_type": "code",
   "execution_count": 131,
   "metadata": {},
   "outputs": [],
   "source": [
    "mean_for_null = closed_train['cust_invoice_amt_mean'].mean()"
   ]
  },
  {
   "cell_type": "code",
   "execution_count": 132,
   "metadata": {},
   "outputs": [
    {
     "data": {
      "text/plain": [
       "0"
      ]
     },
     "execution_count": 132,
     "metadata": {},
     "output_type": "execute_result"
    }
   ],
   "source": [
    "closed_validation['cust_invoice_amt_mean'].fillna(mean_for_null,inplace=True)\n",
    "closed_validation['cust_invoice_amt_mean'].isnull().sum()"
   ]
  },
  {
   "cell_type": "code",
   "execution_count": 133,
   "metadata": {},
   "outputs": [
    {
     "data": {
      "text/plain": [
       "0"
      ]
     },
     "execution_count": 133,
     "metadata": {},
     "output_type": "execute_result"
    }
   ],
   "source": [
    "closed_test = pd.merge(closed_test,group_inv_mean,how='left',on='customer_number_norm')\n",
    "closed_test['cust_invoice_amt_mean'].fillna(mean_for_null,inplace=True)\n",
    "closed_test['cust_invoice_amt_mean'].isnull().sum()"
   ]
  },
  {
   "cell_type": "code",
   "execution_count": 134,
   "metadata": {},
   "outputs": [
    {
     "data": {
      "text/html": [
       "<div>\n",
       "<style scoped>\n",
       "    .dataframe tbody tr th:only-of-type {\n",
       "        vertical-align: middle;\n",
       "    }\n",
       "\n",
       "    .dataframe tbody tr th {\n",
       "        vertical-align: top;\n",
       "    }\n",
       "\n",
       "    .dataframe thead th {\n",
       "        text-align: right;\n",
       "    }\n",
       "</style>\n",
       "<table border=\"1\" class=\"dataframe\">\n",
       "  <thead>\n",
       "    <tr style=\"text-align: right;\">\n",
       "      <th></th>\n",
       "      <th>provider_datatype_id</th>\n",
       "      <th>job_id</th>\n",
       "      <th>document_number_norm</th>\n",
       "      <th>company_code</th>\n",
       "      <th>fiscal_year</th>\n",
       "      <th>doctype</th>\n",
       "      <th>customer_number_norm</th>\n",
       "      <th>customer_name</th>\n",
       "      <th>document_date_norm</th>\n",
       "      <th>posting_date_norm</th>\n",
       "      <th>...</th>\n",
       "      <th>invoice_age</th>\n",
       "      <th>latest_user_action</th>\n",
       "      <th>is_escalated</th>\n",
       "      <th>count_of_each_year</th>\n",
       "      <th>delay</th>\n",
       "      <th>amount_category</th>\n",
       "      <th>total_cash_discount</th>\n",
       "      <th>amount_cash_discount_category</th>\n",
       "      <th>Expected_to_pay</th>\n",
       "      <th>cust_invoice_amt_mean</th>\n",
       "    </tr>\n",
       "  </thead>\n",
       "  <tbody>\n",
       "    <tr>\n",
       "      <th>0</th>\n",
       "      <td>2854</td>\n",
       "      <td>94980606</td>\n",
       "      <td>8130234277</td>\n",
       "      <td>54</td>\n",
       "      <td>2018</td>\n",
       "      <td>D1</td>\n",
       "      <td>450025165</td>\n",
       "      <td>WAKEFERN FOOD CORPORATION</td>\n",
       "      <td>2018-01-01</td>\n",
       "      <td>2018-01-01</td>\n",
       "      <td>...</td>\n",
       "      <td>37</td>\n",
       "      <td>NaN</td>\n",
       "      <td>0</td>\n",
       "      <td>2018</td>\n",
       "      <td>20</td>\n",
       "      <td>25k-75k</td>\n",
       "      <td>15</td>\n",
       "      <td>Not_discounted_Customers</td>\n",
       "      <td>15</td>\n",
       "      <td>47557.140736</td>\n",
       "    </tr>\n",
       "    <tr>\n",
       "      <th>1</th>\n",
       "      <td>2854</td>\n",
       "      <td>94795561</td>\n",
       "      <td>8142554343</td>\n",
       "      <td>34</td>\n",
       "      <td>2018</td>\n",
       "      <td>D1</td>\n",
       "      <td>450016881</td>\n",
       "      <td>B- FCL WEST</td>\n",
       "      <td>2018-01-01</td>\n",
       "      <td>2018-01-01</td>\n",
       "      <td>...</td>\n",
       "      <td>21</td>\n",
       "      <td>Correspondence Bulk:Multiple Past Due Invoices</td>\n",
       "      <td>0</td>\n",
       "      <td>2018</td>\n",
       "      <td>0</td>\n",
       "      <td>&lt;25k</td>\n",
       "      <td>15</td>\n",
       "      <td>Not_discounted_Customers</td>\n",
       "      <td>15</td>\n",
       "      <td>616.265491</td>\n",
       "    </tr>\n",
       "    <tr>\n",
       "      <th>2</th>\n",
       "      <td>2854</td>\n",
       "      <td>94795561</td>\n",
       "      <td>8142554359</td>\n",
       "      <td>34</td>\n",
       "      <td>2018</td>\n",
       "      <td>D1</td>\n",
       "      <td>450016881</td>\n",
       "      <td>B- FCL WEST</td>\n",
       "      <td>2018-01-01</td>\n",
       "      <td>2018-01-01</td>\n",
       "      <td>...</td>\n",
       "      <td>21</td>\n",
       "      <td>Correspondence Bulk:Multiple Past Due Invoices</td>\n",
       "      <td>0</td>\n",
       "      <td>2018</td>\n",
       "      <td>0</td>\n",
       "      <td>&lt;25k</td>\n",
       "      <td>15</td>\n",
       "      <td>Not_discounted_Customers</td>\n",
       "      <td>15</td>\n",
       "      <td>616.265491</td>\n",
       "    </tr>\n",
       "    <tr>\n",
       "      <th>3</th>\n",
       "      <td>2854</td>\n",
       "      <td>94795561</td>\n",
       "      <td>8142554415</td>\n",
       "      <td>34</td>\n",
       "      <td>2018</td>\n",
       "      <td>D1</td>\n",
       "      <td>450016881</td>\n",
       "      <td>B- FCL WEST</td>\n",
       "      <td>2018-01-01</td>\n",
       "      <td>2018-01-01</td>\n",
       "      <td>...</td>\n",
       "      <td>21</td>\n",
       "      <td>Correspondence Bulk:Multiple Past Due Invoices</td>\n",
       "      <td>0</td>\n",
       "      <td>2018</td>\n",
       "      <td>0</td>\n",
       "      <td>&lt;25k</td>\n",
       "      <td>15</td>\n",
       "      <td>Not_discounted_Customers</td>\n",
       "      <td>15</td>\n",
       "      <td>616.265491</td>\n",
       "    </tr>\n",
       "    <tr>\n",
       "      <th>4</th>\n",
       "      <td>2854</td>\n",
       "      <td>95061283</td>\n",
       "      <td>8101060956</td>\n",
       "      <td>30</td>\n",
       "      <td>2018</td>\n",
       "      <td>D1</td>\n",
       "      <td>450029522</td>\n",
       "      <td>FOOD SERVICES OF AMERICA AP</td>\n",
       "      <td>2018-01-01</td>\n",
       "      <td>2018-01-01</td>\n",
       "      <td>...</td>\n",
       "      <td>44</td>\n",
       "      <td>Correspondence Email:Multiple Past Due Invoices</td>\n",
       "      <td>0</td>\n",
       "      <td>2018</td>\n",
       "      <td>27</td>\n",
       "      <td>&lt;25k</td>\n",
       "      <td>15</td>\n",
       "      <td>Not_discounted_Customers</td>\n",
       "      <td>15</td>\n",
       "      <td>9019.999705</td>\n",
       "    </tr>\n",
       "  </tbody>\n",
       "</table>\n",
       "<p>5 rows × 61 columns</p>\n",
       "</div>"
      ],
      "text/plain": [
       "   provider_datatype_id    job_id  document_number_norm  company_code  \\\n",
       "0                  2854  94980606            8130234277            54   \n",
       "1                  2854  94795561            8142554343            34   \n",
       "2                  2854  94795561            8142554359            34   \n",
       "3                  2854  94795561            8142554415            34   \n",
       "4                  2854  95061283            8101060956            30   \n",
       "\n",
       "   fiscal_year doctype  customer_number_norm                customer_name  \\\n",
       "0         2018      D1             450025165    WAKEFERN FOOD CORPORATION   \n",
       "1         2018      D1             450016881                  B- FCL WEST   \n",
       "2         2018      D1             450016881                  B- FCL WEST   \n",
       "3         2018      D1             450016881                  B- FCL WEST   \n",
       "4         2018      D1             450029522  FOOD SERVICES OF AMERICA AP   \n",
       "\n",
       "  document_date_norm posting_date_norm  ... invoice_age  \\\n",
       "0         2018-01-01        2018-01-01  ...          37   \n",
       "1         2018-01-01        2018-01-01  ...          21   \n",
       "2         2018-01-01        2018-01-01  ...          21   \n",
       "3         2018-01-01        2018-01-01  ...          21   \n",
       "4         2018-01-01        2018-01-01  ...          44   \n",
       "\n",
       "                                latest_user_action  is_escalated  \\\n",
       "0                                              NaN             0   \n",
       "1   Correspondence Bulk:Multiple Past Due Invoices             0   \n",
       "2   Correspondence Bulk:Multiple Past Due Invoices             0   \n",
       "3   Correspondence Bulk:Multiple Past Due Invoices             0   \n",
       "4  Correspondence Email:Multiple Past Due Invoices             0   \n",
       "\n",
       "   count_of_each_year  delay amount_category total_cash_discount  \\\n",
       "0                2018     20         25k-75k                  15   \n",
       "1                2018      0            <25k                  15   \n",
       "2                2018      0            <25k                  15   \n",
       "3                2018      0            <25k                  15   \n",
       "4                2018     27            <25k                  15   \n",
       "\n",
       "  amount_cash_discount_category  Expected_to_pay cust_invoice_amt_mean  \n",
       "0      Not_discounted_Customers               15          47557.140736  \n",
       "1      Not_discounted_Customers               15            616.265491  \n",
       "2      Not_discounted_Customers               15            616.265491  \n",
       "3      Not_discounted_Customers               15            616.265491  \n",
       "4      Not_discounted_Customers               15           9019.999705  \n",
       "\n",
       "[5 rows x 61 columns]"
      ]
     },
     "execution_count": 134,
     "metadata": {},
     "output_type": "execute_result"
    }
   ],
   "source": [
    "closed_train.head()"
   ]
  },
  {
   "cell_type": "code",
   "execution_count": null,
   "metadata": {},
   "outputs": [],
   "source": []
  }
 ],
 "metadata": {
  "kernelspec": {
   "display_name": "Python 3",
   "language": "python",
   "name": "python3"
  },
  "language_info": {
   "codemirror_mode": {
    "name": "ipython",
    "version": 3
   },
   "file_extension": ".py",
   "mimetype": "text/x-python",
   "name": "python",
   "nbconvert_exporter": "python",
   "pygments_lexer": "ipython3",
   "version": "3.7.3"
  }
 },
 "nbformat": 4,
 "nbformat_minor": 2
}
